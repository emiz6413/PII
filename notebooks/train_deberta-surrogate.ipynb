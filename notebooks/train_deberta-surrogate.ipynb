{
 "cells": [
  {
   "cell_type": "code",
   "execution_count": 1,
   "id": "8222b4f9-d909-4ed6-bcc3-e9c198c4146f",
   "metadata": {},
   "outputs": [
    {
     "name": "stdout",
     "output_type": "stream",
     "text": [
      "env: WANDB_PROJECT=PII\n"
     ]
    }
   ],
   "source": [
    "%env WANDB_PROJECT=PII"
   ]
  },
  {
   "cell_type": "code",
   "execution_count": 2,
   "id": "6dd90573-2c22-4fc9-87c9-0ff92501c6af",
   "metadata": {},
   "outputs": [
    {
     "name": "stdout",
     "output_type": "stream",
     "text": [
      "env: WANDB_RUN_GROUP=large filter+T surrogate+CE\n"
     ]
    }
   ],
   "source": [
    "%env WANDB_RUN_GROUP=large filter+T surrogate+CE"
   ]
  },
  {
   "cell_type": "code",
   "execution_count": 3,
   "id": "b8266e2f-b765-44d0-bf2b-d5b777566a0f",
   "metadata": {},
   "outputs": [
    {
     "name": "stdout",
     "output_type": "stream",
     "text": [
      "\u001b[33mWARNING: Running pip as the 'root' user can result in broken permissions and conflicting behaviour with the system package manager. It is recommended to use a virtual environment instead: https://pip.pypa.io/warnings/venv\u001b[0m\u001b[33m\n",
      "\u001b[0m"
     ]
    }
   ],
   "source": [
    "!pip install -q seqeval evaluate"
   ]
  },
  {
   "cell_type": "code",
   "execution_count": 4,
   "id": "b7acc420-c6da-4c9e-b3f7-e2cf7fd88101",
   "metadata": {
    "tags": []
   },
   "outputs": [],
   "source": [
    "import json\n",
    "import copy\n",
    "import gc\n",
    "import os\n",
    "import re\n",
    "from functools import reduce\n",
    "from collections import defaultdict, Counter\n",
    "from pathlib import Path\n",
    "\n",
    "import torch\n",
    "from torch import Tensor, nn\n",
    "import torch.nn.functional as F\n",
    "import numpy as np\n",
    "import pandas as pd\n",
    "from spacy.lang.en import English\n",
    "from transformers.tokenization_utils import PreTrainedTokenizerBase\n",
    "from transformers.models.deberta_v2 import DebertaV2ForTokenClassification, DebertaV2TokenizerFast\n",
    "from transformers.trainer import Trainer\n",
    "from transformers.training_args import TrainingArguments\n",
    "from transformers.trainer_utils import EvalPrediction, PredictionOutput\n",
    "from transformers.data.data_collator import DataCollatorForTokenClassification\n",
    "from sklearn.model_selection import KFold\n",
    "from datasets import Dataset, DatasetDict, concatenate_datasets\n",
    "from seqeval.metrics import recall_score, precision_score\n",
    "import wandb"
   ]
  },
  {
   "cell_type": "code",
   "execution_count": 5,
   "id": "0139fbda-e361-4e36-beae-819b5a23f319",
   "metadata": {},
   "outputs": [
    {
     "name": "stderr",
     "output_type": "stream",
     "text": [
      "\u001b[34m\u001b[1mwandb\u001b[0m: Currently logged in as: \u001b[33memiz6413\u001b[0m. Use \u001b[1m`wandb login --relogin`\u001b[0m to force relogin\n",
      "\u001b[34m\u001b[1mwandb\u001b[0m: \u001b[33mWARNING\u001b[0m If you're specifying your api key in code, ensure this code is not shared publicly.\n",
      "\u001b[34m\u001b[1mwandb\u001b[0m: \u001b[33mWARNING\u001b[0m Consider setting the WANDB_API_KEY environment variable, or running `wandb login` from the command line.\n",
      "\u001b[34m\u001b[1mwandb\u001b[0m: Appending key for api.wandb.ai to your netrc file: /root/.netrc\n"
     ]
    },
    {
     "data": {
      "text/plain": [
       "True"
      ]
     },
     "execution_count": 5,
     "metadata": {},
     "output_type": "execute_result"
    }
   ],
   "source": [
    "wandb.login(key=\"eff994fe72307679c21248b6e7859e26960b8db7\")"
   ]
  },
  {
   "cell_type": "markdown",
   "id": "23aa81d1-44e4-47f5-8b59-c69faa43b1e0",
   "metadata": {},
   "source": [
    "## Config & Parameters"
   ]
  },
  {
   "cell_type": "code",
   "execution_count": 6,
   "id": "b135e92b-8f18-481f-a181-8cbd3e960915",
   "metadata": {},
   "outputs": [],
   "source": [
    "DATA_DIR = Path(\"../dataset/\")\n",
    "OUTPUT_DIR = \"output\"\n",
    "Path(OUTPUT_DIR).mkdir(exist_ok=True)"
   ]
  },
  {
   "cell_type": "code",
   "execution_count": 7,
   "id": "e9088ae3-972e-456c-9c89-df6423941856",
   "metadata": {},
   "outputs": [],
   "source": [
    "# TRAINING_MODEL_PATH = \"hf-internal-testing/tiny-random-deberta-v2\" \n",
    "TRAINING_MODEL_PATH = \"microsoft/deberta-v3-small\"\n",
    "# TRAINING_MODEL_PATH = \"Gladiator/microsoft-deberta-v3-large_ner_conll2003\"\n",
    "TRAINING_MAX_LENGTH = 1024 if \"tiny-random\" not in TRAINING_MODEL_PATH else 512\n",
    "EVAL_MAX_LENGTH = 3072 if \"tiny-random\" not in TRAINING_MODEL_PATH else 512\n",
    "CONF_THRESH = 0.0\n",
    "LR = 2.5e-5  # 1.5e-5 ~ 3e-5 for base # 5e-6 ~ 1e-5 for large\n",
    "LR_SCHEDULER_TYPE = \"linear\"\n",
    "NUM_EPOCHS = 3 if \"tiny-random\" not in TRAINING_MODEL_PATH else 0.1\n",
    "BATCH_SIZE = 16\n",
    "EVAL_BATCH_SIZE = 16\n",
    "GRAD_ACCUMULATION_STEPS = 1\n",
    "WARMUP_RATIO = 0.1\n",
    "WEIGHT_DECAY = 0.01\n",
    "AMP = True\n",
    "FREEZE_EMBEDDING = False\n",
    "FREEZE_LAYERS = 0\n",
    "GAMMA = 0\n",
    "MASK_P = 0\n",
    "CE_WEIGHT = 1\n",
    "# training data\n",
    "N_SPLITS = 4\n",
    "FILTER_ORIGINAL = True\n",
    "MOTH = False\n",
    "PJMATHMATICIAN = False\n",
    "NICHOLAS = False\n",
    "MPWARE = False\n",
    "TONYAROBERTSON = True"
   ]
  },
  {
   "cell_type": "code",
   "execution_count": 8,
   "id": "2cf06306-7564-4833-8625-b9d961b1ea7b",
   "metadata": {},
   "outputs": [],
   "source": [
    "args = TrainingArguments(\n",
    "    output_dir=OUTPUT_DIR,\n",
    "    fp16=AMP,\n",
    "    learning_rate=LR,\n",
    "    num_train_epochs=NUM_EPOCHS,\n",
    "    per_device_train_batch_size=BATCH_SIZE,\n",
    "    per_device_eval_batch_size=EVAL_BATCH_SIZE,\n",
    "    gradient_accumulation_steps=GRAD_ACCUMULATION_STEPS,\n",
    "    report_to=\"wandb\",\n",
    "    evaluation_strategy=\"steps\",\n",
    "    eval_steps=50,\n",
    "    save_strategy=\"steps\",\n",
    "    save_steps=50,\n",
    "    save_total_limit=1,\n",
    "    logging_steps=10,\n",
    "    metric_for_best_model=\"f5\",\n",
    "    greater_is_better=True,\n",
    "    load_best_model_at_end=True,\n",
    "    overwrite_output_dir=True,\n",
    "    lr_scheduler_type=LR_SCHEDULER_TYPE,\n",
    "    warmup_ratio=WARMUP_RATIO,\n",
    "    weight_decay=WEIGHT_DECAY,\n",
    ")"
   ]
  },
  {
   "cell_type": "markdown",
   "id": "de2dd277-98f6-40b3-ab12-6bdc872eb140",
   "metadata": {},
   "source": [
    "## Dataset Preparation"
   ]
  },
  {
   "cell_type": "code",
   "execution_count": 9,
   "id": "069d4817-9ef6-49b4-b24b-428e1f14a7e7",
   "metadata": {},
   "outputs": [
    {
     "name": "stdout",
     "output_type": "stream",
     "text": [
      "tonyarobertson's datapoints:  1850\n",
      "len(extra_data): 1850\n"
     ]
    }
   ],
   "source": [
    "with DATA_DIR.joinpath(\"train.json\").open(\"r\") as f:\n",
    "    original_data = json.load(f)\n",
    "\n",
    "extra_data = []  #\n",
    "\n",
    "if MOTH:\n",
    "    with DATA_DIR.joinpath(\"pii_dataset_fixed.json\").open(\"r\") as f:\n",
    "        external = json.load(f)\n",
    "    print(\"Moth's datapoints: \", len(external))\n",
    "    extra_data.extend(external)\n",
    "\n",
    "if PJMATHMATICIAN:\n",
    "    with DATA_DIR.joinpath(\"moredata_dataset_fixed.json\").open(\"r\") as f:\n",
    "        external = json.load(f)\n",
    "    print(\"PJMathmatician's datapoints: \", len(external))\n",
    "    extra_data.extend(external)\n",
    "\n",
    "if NICHOLAS:\n",
    "    with DATA_DIR.joinpath(\"mixtral-8x7b-v1.json\").open(\"r\") as f:\n",
    "        external = json.load(f)\n",
    "    print(\"Nicholas' datapoints: \", len(external))\n",
    "    extra_data.extend(external)\n",
    "    \n",
    "if MPWARE:\n",
    "    with DATA_DIR.joinpath(\"mpware_mixtral8x7b_v1.1.json\").open(\"r\") as f:\n",
    "        external = json.load(f)\n",
    "    print(\"MPWARE's datapoints: \", len(external))\n",
    "    extra_data.extend(external)\n",
    "    \n",
    "if TONYAROBERTSON:\n",
    "    with DATA_DIR.joinpath(\"Fake_data_1850_218.json\").open(\"r\") as f:\n",
    "        external = json.load(f)\n",
    "    print(\"tonyarobertson's datapoints: \", len(external))\n",
    "    extra_data.extend(external)\n",
    "    \n",
    "print(f\"len(extra_data): {len(extra_data)}\")"
   ]
  },
  {
   "cell_type": "code",
   "execution_count": 10,
   "id": "44a0aa6c-023e-4746-a88f-5c25639313ef",
   "metadata": {},
   "outputs": [],
   "source": [
    "all_labels = [\n",
    "    'B-EMAIL', 'B-ID_NUM', 'B-NAME_STUDENT', 'B-PHONE_NUM', 'B-STREET_ADDRESS', 'B-URL_PERSONAL', 'B-USERNAME', 'I-ID_NUM', 'I-NAME_STUDENT', 'I-PHONE_NUM', 'I-STREET_ADDRESS', 'I-URL_PERSONAL', 'O'\n",
    "]\n",
    "id2label = {i: l for i, l in enumerate(all_labels)}\n",
    "label2id = {v: k for k, v in id2label.items()}\n",
    "target = [l for l in all_labels if l != \"O\"]"
   ]
  },
  {
   "cell_type": "markdown",
   "id": "649a957d-ad6c-4dce-b79a-6091f1829067",
   "metadata": {},
   "source": [
    "## Tokenization"
   ]
  },
  {
   "cell_type": "code",
   "execution_count": 11,
   "id": "19c78c9f-dc7d-41ec-9b0f-52b68aa657aa",
   "metadata": {
    "tags": []
   },
   "outputs": [],
   "source": [
    "class CustomTokenizer:\n",
    "    def __init__(self, tokenizer: PreTrainedTokenizerBase, label2id: dict, max_length: int) -> None:\n",
    "        self.tokenizer = tokenizer\n",
    "        self.label2id = label2id\n",
    "        self.max_length = max_length\n",
    "\n",
    "    def __call__(self, example: dict) -> dict:\n",
    "        # rebuild text from tokens\n",
    "        text, labels, token_map = [], [], []\n",
    "\n",
    "        for idx, (t, l, ws) in enumerate(\n",
    "            zip(example[\"tokens\"], example[\"provided_labels\"], example[\"trailing_whitespace\"])\n",
    "        ):\n",
    "            text.append(t)\n",
    "            labels.extend([l] * len(t))\n",
    "            token_map.extend([idx]*len(t))\n",
    "\n",
    "            if ws:\n",
    "                text.append(\" \")\n",
    "                labels.append(\"O\")\n",
    "                token_map.append(-1)\n",
    "\n",
    "        text = \"\".join(text)\n",
    "        labels = np.array(labels)\n",
    "\n",
    "        # actual tokenization\n",
    "        tokenized = self.tokenizer(\n",
    "            \"\".join(text),\n",
    "            return_offsets_mapping=True,\n",
    "            truncation=True,\n",
    "            max_length=self.max_length\n",
    "        )\n",
    "\n",
    "        token_labels = []\n",
    "\n",
    "        for start_idx, end_idx in tokenized.offset_mapping:\n",
    "            # CLS token\n",
    "            if start_idx == 0 and end_idx == 0:\n",
    "                token_labels.append(self.label2id[\"O\"])\n",
    "                continue\n",
    "\n",
    "            # case when token starts with whitespace\n",
    "            if text[start_idx].isspace():\n",
    "                start_idx += 1\n",
    "\n",
    "            token_labels.append(self.label2id[labels[start_idx]])\n",
    "\n",
    "        length = len(tokenized.input_ids)\n",
    "\n",
    "        return {**tokenized, \"labels\": token_labels, \"length\": length, \"token_map\": token_map}"
   ]
  },
  {
   "cell_type": "markdown",
   "id": "bfa96105-cceb-4c58-8d8b-798c1d979f6b",
   "metadata": {},
   "source": [
    "## Augmentation"
   ]
  },
  {
   "cell_type": "code",
   "execution_count": 12,
   "id": "e8458121-227b-461b-a695-920074d7224d",
   "metadata": {},
   "outputs": [],
   "source": [
    "class RandomCutOut:\n",
    "    def __init__(self, mask_p: float, mask_token_id: int) -> None:\n",
    "        self.mask_p = mask_p\n",
    "        self.mask_token_id = mask_token_id\n",
    "        \n",
    "    def __call__(self, batch: dict) -> dict:\n",
    "        if self.mask_p == 0:\n",
    "            return batch\n",
    "        new_input_ids_list = []\n",
    "        for input_ids in batch[\"input_ids\"]:\n",
    "            mask = np.random.binomial(1, p=self.mask_p, size=(len(input_ids),))\n",
    "            new_input_ids = np.where(mask, self.mask_token_id, input_ids)\n",
    "            new_input_ids_list.append(new_input_ids.tolist())\n",
    "        batch[\"input_ids\"] = new_input_ids_list\n",
    "        return batch"
   ]
  },
  {
   "cell_type": "markdown",
   "id": "c2f5ebe2-43d4-4a85-9cda-7210f0470aa2",
   "metadata": {},
   "source": [
    "## Instantiate the dataset"
   ]
  },
  {
   "cell_type": "code",
   "execution_count": 13,
   "id": "ec0b7a12-ed50-4c0b-8d35-e2a026fad4d5",
   "metadata": {
    "scrolled": true,
    "tags": []
   },
   "outputs": [
    {
     "name": "stderr",
     "output_type": "stream",
     "text": [
      "Special tokens have been added in the vocabulary, make sure the associated word embeddings are fine-tuned or trained.\n",
      "/usr/local/lib/python3.9/dist-packages/transformers/convert_slow_tokenizer.py:434: UserWarning: The sentencepiece tokenizer that you are converting to a fast tokenizer uses the byte fallback option which is not implemented in the fast tokenizers. In practice this means that the fast version of the tokenizer can produce unknown tokens whereas the sentencepiece version would have converted these unknown tokens into a sequence of byte tokens matching the original piece of text.\n",
      "  warnings.warn(\n",
      "Special tokens have been added in the vocabulary, make sure the associated word embeddings are fine-tuned or trained.\n"
     ]
    }
   ],
   "source": [
    "tokenizer = DebertaV2TokenizerFast.from_pretrained(TRAINING_MODEL_PATH)\n",
    "train_encoder = CustomTokenizer(tokenizer=tokenizer, label2id=label2id, max_length=TRAINING_MAX_LENGTH)\n",
    "eval_encoder = CustomTokenizer(tokenizer=tokenizer, label2id=label2id, max_length=EVAL_MAX_LENGTH)\n",
    "train_augmentation = RandomCutOut(mask_p=MASK_P, mask_token_id=tokenizer.mask_token_id)\n",
    "\n",
    "ds = DatasetDict()\n",
    "\n",
    "for key, data in zip([\"original\", \"extra\"], [original_data, extra_data]):\n",
    "    ds[key] = Dataset.from_dict({\n",
    "        \"full_text\": [x[\"full_text\"] for x in data],\n",
    "        \"document\": [str(x[\"document\"]) for x in data],\n",
    "        \"tokens\": [x[\"tokens\"] for x in data],\n",
    "        \"trailing_whitespace\": [x[\"trailing_whitespace\"] for x in data],\n",
    "        \"provided_labels\": [x[\"labels\"] for x in data],\n",
    "    })"
   ]
  },
  {
   "cell_type": "markdown",
   "id": "4218f10a-128d-49a6-a594-ef19b5435df9",
   "metadata": {},
   "source": [
    "## Metrics"
   ]
  },
  {
   "cell_type": "code",
   "execution_count": 15,
   "id": "e470ae7a-fea0-48b5-ad4f-46be0ba5cd59",
   "metadata": {
    "tags": []
   },
   "outputs": [],
   "source": [
    "def find_span(target: list[str], document: list[str]) -> list[list[int]]:\n",
    "    idx = 0\n",
    "    spans = []\n",
    "    span = []\n",
    "\n",
    "    for i, token in enumerate(document):\n",
    "        if token != target[idx]:\n",
    "            idx = 0\n",
    "            span = []\n",
    "            continue\n",
    "        span.append(i)\n",
    "        idx += 1\n",
    "        if idx == len(target):\n",
    "            spans.append(span)\n",
    "            span = []\n",
    "            idx = 0\n",
    "            continue\n",
    "    \n",
    "    return spans"
   ]
  },
  {
   "cell_type": "code",
   "execution_count": 16,
   "id": "b4fd14a5-1ca7-464b-9a6a-2274abc76761",
   "metadata": {
    "tags": []
   },
   "outputs": [],
   "source": [
    "class PRFScore:\n",
    "    \"\"\"A precision / recall / F score.\"\"\"\n",
    "\n",
    "    def __init__(\n",
    "        self,\n",
    "        *,\n",
    "        tp: int = 0,\n",
    "        fp: int = 0,\n",
    "        fn: int = 0,\n",
    "    ) -> None:\n",
    "        self.tp = tp\n",
    "        self.fp = fp\n",
    "        self.fn = fn\n",
    "\n",
    "    def __len__(self) -> int:\n",
    "        return self.tp + self.fp + self.fn\n",
    "\n",
    "    def __iadd__(self, other):  # in-place add\n",
    "        self.tp += other.tp\n",
    "        self.fp += other.fp\n",
    "        self.fn += other.fn\n",
    "        return self\n",
    "\n",
    "    def __add__(self, other):\n",
    "        return PRFScore(\n",
    "            tp=self.tp + other.tp, fp=self.fp + other.fp, fn=self.fn + other.fn\n",
    "        )\n",
    "\n",
    "    def score_set(self, cand: set, gold: set) -> None:\n",
    "        self.tp += len(cand.intersection(gold))\n",
    "        self.fp += len(cand - gold)\n",
    "        self.fn += len(gold - cand)\n",
    "\n",
    "    @property\n",
    "    def precision(self) -> float:\n",
    "        return self.tp / (self.tp + self.fp + 1e-100)\n",
    "\n",
    "    @property\n",
    "    def recall(self) -> float:\n",
    "        return self.tp / (self.tp + self.fn + 1e-100)\n",
    "\n",
    "    @property\n",
    "    def f1(self) -> float:\n",
    "        p = self.precision\n",
    "        r = self.recall\n",
    "        return 2 * ((p * r) / (p + r + 1e-100))\n",
    "\n",
    "    @property\n",
    "    def f5(self) -> float:\n",
    "        beta = 5\n",
    "        p = self.precision\n",
    "        r = self.recall\n",
    "\n",
    "        fbeta = (1+(beta**2))*p*r / ((beta**2)*p + r + 1e-100)\n",
    "        return fbeta\n",
    "\n",
    "    def to_dict(self) -> dict[str, float]:\n",
    "        return {\"p\": self.precision, \"r\": self.recall, \"f5\": self.f5}\n",
    "\n",
    "\n",
    "class MetricsComputerV2:\n",
    "    nlp = English()\n",
    "\n",
    "    def __init__(self, eval_ds: Dataset, label2id: dict, conf_thresh: float = 0.9) -> None:\n",
    "        self.ds = eval_ds.remove_columns(\"labels\").rename_columns({\"provided_labels\": \"labels\"})\n",
    "        self.gt_df = self.create_gt_df(self.ds)\n",
    "        self.label2id = label2id\n",
    "        self.confth = conf_thresh\n",
    "        self._search_gt()\n",
    "        \n",
    "    def __call__(self, eval_preds: EvalPrediction) -> dict:\n",
    "        pred_df = self.create_pred_df(eval_preds.predictions)\n",
    "        return self.compute_metrics_from_df(self.gt_df, pred_df)\n",
    "    \n",
    "    def _search_gt(self) -> None:\n",
    "        email_regex = re.compile(r'[\\w.+-]+@[\\w-]+\\.[\\w.-]+')\n",
    "        phone_num_regex = re.compile(r\"(\\(\\d{3}\\)\\d{3}\\-\\d{4}\\w*|\\d{3}\\.\\d{3}\\.\\d{4})\\s\")\n",
    "        self.emails = []\n",
    "        self.phone_nums = []\n",
    "\n",
    "        for _data in self.ds:\n",
    "            # email\n",
    "            for token_idx, token in enumerate(_data[\"tokens\"]):\n",
    "                if re.fullmatch(email_regex, token) is not None:\n",
    "                    self.emails.append(\n",
    "                        {\"document\": _data[\"document\"], \"token\": token_idx, \"label\": \"B-EMAIL\", \"token_str\": token}\n",
    "                    )\n",
    "            # phone number\n",
    "            matches = phone_num_regex.findall(_data[\"full_text\"])\n",
    "            if not matches:\n",
    "                continue\n",
    "            for match in matches:\n",
    "                target = [t.text for t in self.nlp.tokenizer(match)]\n",
    "                matched_spans = find_span(target, _data[\"tokens\"])\n",
    "            for matched_span in matched_spans:\n",
    "                for intermediate, token_idx in enumerate(matched_span):\n",
    "                    prefix = \"I\" if intermediate else \"B\"\n",
    "                    self.phone_nums.append(\n",
    "                        {\"document\": _data[\"document\"], \"token\": token_idx, \"label\": f\"{prefix}-PHONE_NUM\", \"token_str\": _data[\"tokens\"][token_idx]}\n",
    "                    )\n",
    "        \n",
    "    @staticmethod\n",
    "    def create_gt_df(ds: Dataset):\n",
    "        gt = []\n",
    "        for row in ds:\n",
    "            for token_idx, (token, label) in enumerate(zip(row[\"tokens\"], row[\"labels\"])):\n",
    "                if label == \"O\":\n",
    "                    continue\n",
    "                gt.append(\n",
    "                    {\"document\": row[\"document\"], \"token\": token_idx, \"label\": label, \"token_str\": token}\n",
    "                )\n",
    "        gt_df = pd.DataFrame(gt)\n",
    "        gt_df[\"row_id\"] = gt_df.index\n",
    "        \n",
    "        return gt_df\n",
    "    \n",
    "    def create_pred_df(self, prediction: np.ndarray) -> pd.DataFrame:\n",
    "        ### construct prediction df\n",
    "        o_index = self.label2id[\"O\"]\n",
    "        preds = prediction.argmax(-1)\n",
    "        preds_without_o = prediction[:,:,:o_index].argmax(-1)\n",
    "        o_preds = prediction[:,:,o_index]\n",
    "        preds_final = np.where(o_preds < self.confth, preds_without_o , preds)\n",
    "\n",
    "        pairs = set()\n",
    "        processed = []\n",
    "\n",
    "        # Iterate over document\n",
    "        for p_doc, token_map, offsets, tokens, doc in zip(\n",
    "            preds_final, self.ds[\"token_map\"], self.ds[\"offset_mapping\"], self.ds[\"tokens\"], self.ds[\"document\"]\n",
    "        ):\n",
    "            # Iterate over sequence\n",
    "            for p_token, (start_idx, end_idx) in zip(p_doc, offsets):\n",
    "                label_pred = id2label[p_token]\n",
    "\n",
    "                if start_idx + end_idx == 0:\n",
    "                    # [CLS] token i.e. BOS\n",
    "                    continue\n",
    "\n",
    "                if token_map[start_idx] == -1:\n",
    "                    start_idx += 1\n",
    "\n",
    "                # ignore \"\\n\\n\"\n",
    "                while start_idx < len(token_map) and tokens[token_map[start_idx]].isspace():\n",
    "                    start_idx += 1\n",
    "\n",
    "                if start_idx >= len(token_map): \n",
    "                    break\n",
    "\n",
    "                token_id = token_map[start_idx]\n",
    "                pair = (doc, token_id)\n",
    "\n",
    "                # ignore \"O\", preds, phone number and  email\n",
    "                if label_pred in (\"O\", \"B-EMAIL\", \"B-PHONE_NUM\", \"I-PHONE_NUM\") or token_id == -1:\n",
    "                    continue   \n",
    "\n",
    "                if pair in pairs:\n",
    "                    continue\n",
    "\n",
    "                processed.append(\n",
    "                    {\"document\": doc, \"token\": token_id, \"label\": label_pred, \"token_str\": tokens[token_id]}\n",
    "                )\n",
    "                pairs.add(pair)\n",
    "\n",
    "        pred_df = pd.DataFrame(processed + self.emails + self.phone_nums)\n",
    "        pred_df[\"row_id\"] = list(range(len(pred_df)))\n",
    "\n",
    "        return pred_df\n",
    "        \n",
    "    def compute_metrics_from_df(self, gt_df, pred_df):\n",
    "        \"\"\"\n",
    "        Compute the LB metric (lb) and other auxiliary metrics\n",
    "        \"\"\"\n",
    "\n",
    "        references = {(row.document, row.token, row.label) for row in gt_df.itertuples()}\n",
    "        predictions = {(row.document, row.token, row.label) for row in pred_df.itertuples()}\n",
    "\n",
    "        score_per_type = defaultdict(PRFScore)\n",
    "        references = set(references)\n",
    "\n",
    "        for ex in predictions:\n",
    "            pred_type = ex[-1] # (document, token, label)\n",
    "            if pred_type != 'O':\n",
    "                pred_type = pred_type[2:] # avoid B- and I- prefix\n",
    "\n",
    "            if pred_type not in score_per_type:\n",
    "                score_per_type[pred_type] = PRFScore()\n",
    "\n",
    "            if ex in references:\n",
    "                score_per_type[pred_type].tp += 1\n",
    "                references.remove(ex)\n",
    "            else:\n",
    "                score_per_type[pred_type].fp += 1\n",
    "\n",
    "        for doc, tok, ref_type in references:\n",
    "            if ref_type != 'O':\n",
    "                ref_type = ref_type[2:] # avoid B- and I- prefix\n",
    "\n",
    "            if ref_type not in score_per_type:\n",
    "                score_per_type[ref_type] = PRFScore()\n",
    "            score_per_type[ref_type].fn += 1\n",
    "\n",
    "        totals = PRFScore()\n",
    "\n",
    "        for prf in score_per_type.values():\n",
    "            totals += prf\n",
    "\n",
    "        return {\n",
    "            \"precision\": totals.precision,\n",
    "            \"recall\": totals.recall,\n",
    "            \"f5\": totals.f5,\n",
    "            **{\n",
    "                f\"{v_k}-{k}\": v_v \n",
    "                for k in set([l[2:] for l in self.label2id.keys() if l!= 'O'])\n",
    "                for v_k, v_v in score_per_type[k].to_dict().items()\n",
    "            },\n",
    "        }"
   ]
  },
  {
   "cell_type": "markdown",
   "id": "87a7d8dc-6579-4678-a2ba-27d22e6aac00",
   "metadata": {},
   "source": [
    "## Model"
   ]
  },
  {
   "cell_type": "code",
   "execution_count": 17,
   "id": "1700da69-ff6a-4fb6-9901-aaf93d589b29",
   "metadata": {
    "scrolled": true,
    "tags": []
   },
   "outputs": [
    {
     "name": "stderr",
     "output_type": "stream",
     "text": [
      "Some weights of the model checkpoint at microsoft/deberta-v3-small were not used when initializing DebertaV2ForTokenClassification: ['deberta.embeddings.position_embeddings.weight', 'lm_predictions.lm_head.dense.weight', 'lm_predictions.lm_head.LayerNorm.weight', 'mask_predictions.dense.bias', 'lm_predictions.lm_head.bias', 'mask_predictions.dense.weight', 'mask_predictions.classifier.bias', 'mask_predictions.LayerNorm.weight', 'mask_predictions.LayerNorm.bias', 'lm_predictions.lm_head.LayerNorm.bias', 'mask_predictions.classifier.weight', 'lm_predictions.lm_head.dense.bias']\n",
      "- This IS expected if you are initializing DebertaV2ForTokenClassification from the checkpoint of a model trained on another task or with another architecture (e.g. initializing a BertForSequenceClassification model from a BertForPreTraining model).\n",
      "- This IS NOT expected if you are initializing DebertaV2ForTokenClassification from the checkpoint of a model that you expect to be exactly identical (initializing a BertForSequenceClassification model from a BertForSequenceClassification model).\n",
      "Some weights of DebertaV2ForTokenClassification were not initialized from the model checkpoint at microsoft/deberta-v3-small and are newly initialized: ['classifier.weight', 'classifier.bias']\n",
      "You should probably TRAIN this model on a down-stream task to be able to use it for predictions and inference.\n"
     ]
    }
   ],
   "source": [
    "class ModelInit:\n",
    "    def __init__(\n",
    "        self, \n",
    "        checkpoint: str, \n",
    "        id2label: dict, \n",
    "        label2id: dict,\n",
    "        freeze_embedding: bool,\n",
    "        freeze_layers: int,\n",
    "    ) -> None:\n",
    "        self.model = DebertaV2ForTokenClassification.from_pretrained(\n",
    "            checkpoint,\n",
    "            num_labels=len(id2label),\n",
    "            id2label=id2label,\n",
    "            label2id=label2id,\n",
    "            ignore_mismatched_sizes=True\n",
    "        )\n",
    "        for param in self.model.deberta.embeddings.parameters():\n",
    "            param.requires_grad = False if freeze_embedding else True\n",
    "        for layer in self.model.deberta.encoder.layer[:freeze_layers]:\n",
    "            for param in layer.parameters():\n",
    "                param.requires_grad = False\n",
    "        self.weight = copy.deepcopy(self.model.state_dict())\n",
    "\n",
    "    def __call__(self) -> DebertaV2ForTokenClassification:\n",
    "        self.model.load_state_dict(self.weight)\n",
    "        return self.model\n",
    "\n",
    "model_init = ModelInit(\n",
    "    TRAINING_MODEL_PATH, \n",
    "    id2label=id2label, \n",
    "    label2id=label2id, \n",
    "    freeze_embedding=FREEZE_EMBEDDING, \n",
    "    freeze_layers=FREEZE_LAYERS,\n",
    ")"
   ]
  },
  {
   "cell_type": "markdown",
   "id": "b74884fb-fc4d-4684-a79c-fdfecb64198a",
   "metadata": {},
   "source": [
    "## Split"
   ]
  },
  {
   "cell_type": "code",
   "execution_count": 18,
   "id": "c7eaea9c-c63a-4a77-932f-22ff25360923",
   "metadata": {
    "tags": []
   },
   "outputs": [],
   "source": [
    "# split according to document id\n",
    "folds = [\n",
    "    (\n",
    "        np.array([i for i, d in enumerate(ds[\"original\"][\"document\"]) if int(d) % N_SPLITS != s]),\n",
    "        np.array([i for i, d in enumerate(ds[\"original\"][\"document\"]) if int(d) % N_SPLITS == s])\n",
    "    )\n",
    "    for s in range(N_SPLITS)\n",
    "]\n",
    "\n",
    "exclude_indices = []\n",
    "if FILTER_ORIGINAL:\n",
    "    negative_idxs = [i for i, labels in enumerate(ds[\"original\"][\"provided_labels\"]) if not any(np.array(labels) != \"O\")]\n",
    "    exclude_indices = negative_idxs[len(negative_idxs)//3:]"
   ]
  },
  {
   "cell_type": "markdown",
   "id": "12100606-72e2-4caa-bf10-495073e243c7",
   "metadata": {},
   "source": [
    "## Trainer with custom loss"
   ]
  },
  {
   "cell_type": "code",
   "execution_count": 19,
   "id": "0970f634-639e-4158-8a6e-5c9cb0fb7098",
   "metadata": {},
   "outputs": [],
   "source": [
    "class SurrogatedLoss(nn.Module):\n",
    "    def __init__(\n",
    "        self, \n",
    "        p: float,\n",
    "        beta: float = 5.,\n",
    "        o_index: int = 12,\n",
    "        *args,\n",
    "        **kwargs\n",
    "    ) -> None:\n",
    "        super().__init__()\n",
    "        self.negative_bias = beta**2 * (p / (1 - p))\n",
    "        self.o_index = o_index\n",
    "        self.nll = nn.NLLLoss(*args, **kwargs)\n",
    "\n",
    "    def forward(self, logits, target):\n",
    "        num_labels = logits.size(-1)\n",
    "        prob = F.softmax(logits, dim=-1)\n",
    "        negative_bias = torch.zeros_like(prob)\n",
    "        negative_bias[:, :, self.o_index] = self.negative_bias\n",
    "        prob = prob + negative_bias\n",
    "        loss = self.nll(prob.log().view(-1, num_labels), target.view(-1))\n",
    "        return loss"
   ]
  },
  {
   "cell_type": "code",
   "execution_count": 20,
   "id": "270032b6-ba91-4de3-a151-8ef32a3300e1",
   "metadata": {},
   "outputs": [
    {
     "name": "stdout",
     "output_type": "stream",
     "text": [
      "Counter({'O': 4989794, 'B-NAME_STUDENT': 1365, 'I-NAME_STUDENT': 1096, 'B-URL_PERSONAL': 110, 'B-ID_NUM': 78, 'B-EMAIL': 39, 'I-STREET_ADDRESS': 20, 'I-PHONE_NUM': 15, 'B-USERNAME': 6, 'B-PHONE_NUM': 6, 'B-STREET_ADDRESS': 2, 'I-URL_PERSONAL': 1, 'I-ID_NUM': 1})\n",
      "0.0005489204564356765\n"
     ]
    }
   ],
   "source": [
    "counts = reduce(lambda i, j: i + j, [Counter(d[\"labels\"]) for d in original_data])\n",
    "print(counts)\n",
    "p = sum([counts[k] for k in counts.keys() if k != \"O\"]) / counts[\"O\"]\n",
    "print(p)\n",
    "\n",
    "loss_fn = SurrogatedLoss(p)\n",
    "\n",
    "class CustomTrainer(Trainer):\n",
    "    def compute_loss(self, model, inputs, return_outputs=False):\n",
    "        ce_loss, outputs = super().compute_loss(model, inputs, True)\n",
    "        labels = inputs[\"labels\"]\n",
    "        surrogate_fb_loss = loss_fn(logits=outputs[\"logits\"], target=labels)\n",
    "        loss = surrogate_fb_loss + CE_WEIGHT * ce_loss\n",
    "        outputs[\"loss\"] = loss\n",
    "        return (loss, outputs) if return_outputs else loss"
   ]
  },
  {
   "cell_type": "markdown",
   "id": "21887fb3-e3b1-497c-92ad-64def1bc9511",
   "metadata": {},
   "source": [
    "## Train"
   ]
  },
  {
   "cell_type": "markdown",
   "id": "9ec8b773-e2e8-454a-b21d-b9e5cdf9eb09",
   "metadata": {},
   "source": [
    "#### CV"
   ]
  },
  {
   "cell_type": "code",
   "execution_count": 21,
   "id": "e2a3d40f-e75d-4b05-85b0-7e0d620ce36a",
   "metadata": {
    "scrolled": true,
    "tags": []
   },
   "outputs": [
    {
     "name": "stdout",
     "output_type": "stream",
     "text": [
      "         "
     ]
    },
    {
     "data": {
      "application/vnd.jupyter.widget-view+json": {
       "model_id": "2980a67275624ba5a730d6dc7bed1bca",
       "version_major": 2,
       "version_minor": 0
      },
      "text/plain": [
       "#0:   0%|          | 0/502 [00:00<?, ?ex/s]"
      ]
     },
     "metadata": {},
     "output_type": "display_data"
    },
    {
     "name": "stdout",
     "output_type": "stream",
     "text": [
      " "
     ]
    },
    {
     "data": {
      "application/vnd.jupyter.widget-view+json": {
       "model_id": "96454ca653ca4404b58b6380a47dbf6e",
       "version_major": 2,
       "version_minor": 0
      },
      "text/plain": [
       "#1:   0%|          | 0/502 [00:00<?, ?ex/s]"
      ]
     },
     "metadata": {},
     "output_type": "display_data"
    },
    {
     "name": "stdout",
     "output_type": "stream",
     "text": [
      " "
     ]
    },
    {
     "data": {
      "application/vnd.jupyter.widget-view+json": {
       "model_id": "99de63d193354fde872ab726f39c4e23",
       "version_major": 2,
       "version_minor": 0
      },
      "text/plain": [
       "#2:   0%|          | 0/502 [00:00<?, ?ex/s]"
      ]
     },
     "metadata": {},
     "output_type": "display_data"
    },
    {
     "name": "stdout",
     "output_type": "stream",
     "text": [
      " "
     ]
    },
    {
     "data": {
      "application/vnd.jupyter.widget-view+json": {
       "model_id": "8fa6f6f2aff8478393b76b200b7ef39c",
       "version_major": 2,
       "version_minor": 0
      },
      "text/plain": [
       "#3:   0%|          | 0/502 [00:00<?, ?ex/s]"
      ]
     },
     "metadata": {},
     "output_type": "display_data"
    },
    {
     "name": "stdout",
     "output_type": "stream",
     "text": [
      " "
     ]
    },
    {
     "data": {
      "application/vnd.jupyter.widget-view+json": {
       "model_id": "46e4f84ff16c4eff98bc8651c552c248",
       "version_major": 2,
       "version_minor": 0
      },
      "text/plain": [
       "#4:   0%|          | 0/502 [00:00<?, ?ex/s]"
      ]
     },
     "metadata": {},
     "output_type": "display_data"
    },
    {
     "name": "stdout",
     "output_type": "stream",
     "text": [
      " "
     ]
    },
    {
     "data": {
      "application/vnd.jupyter.widget-view+json": {
       "model_id": "b6ff81b90e34487087cd7f73b3c5cb63",
       "version_major": 2,
       "version_minor": 0
      },
      "text/plain": [
       "#5:   0%|          | 0/502 [00:00<?, ?ex/s]"
      ]
     },
     "metadata": {},
     "output_type": "display_data"
    },
    {
     "name": "stdout",
     "output_type": "stream",
     "text": [
      " "
     ]
    },
    {
     "data": {
      "application/vnd.jupyter.widget-view+json": {
       "model_id": "bf0ba852ccd2472881cd39b9ba63061a",
       "version_major": 2,
       "version_minor": 0
      },
      "text/plain": [
       "#6:   0%|          | 0/502 [00:00<?, ?ex/s]"
      ]
     },
     "metadata": {},
     "output_type": "display_data"
    },
    {
     "name": "stdout",
     "output_type": "stream",
     "text": [
      " "
     ]
    },
    {
     "data": {
      "application/vnd.jupyter.widget-view+json": {
       "model_id": "302086ec659446ffb1a16b0714ca50bb",
       "version_major": 2,
       "version_minor": 0
      },
      "text/plain": [
       "#7:   0%|          | 0/501 [00:00<?, ?ex/s]"
      ]
     },
     "metadata": {},
     "output_type": "display_data"
    },
    {
     "name": "stdout",
     "output_type": "stream",
     "text": [
      "         "
     ]
    },
    {
     "data": {
      "application/vnd.jupyter.widget-view+json": {
       "model_id": "b846b0ff0d1744a8b9e8f4f8f11e6049",
       "version_major": 2,
       "version_minor": 0
      },
      "text/plain": [
       "#0:   0%|          | 0/213 [00:00<?, ?ex/s]"
      ]
     },
     "metadata": {},
     "output_type": "display_data"
    },
    {
     "name": "stdout",
     "output_type": "stream",
     "text": [
      " "
     ]
    },
    {
     "data": {
      "application/vnd.jupyter.widget-view+json": {
       "model_id": "20a839cfdfe64bc4a7e66158f45ff5a4",
       "version_major": 2,
       "version_minor": 0
      },
      "text/plain": [
       "#1:   0%|          | 0/213 [00:00<?, ?ex/s]"
      ]
     },
     "metadata": {},
     "output_type": "display_data"
    },
    {
     "name": "stdout",
     "output_type": "stream",
     "text": [
      " "
     ]
    },
    {
     "data": {
      "application/vnd.jupyter.widget-view+json": {
       "model_id": "3feeeb6c547d4995b57f834bb86c1f03",
       "version_major": 2,
       "version_minor": 0
      },
      "text/plain": [
       "#2:   0%|          | 0/212 [00:00<?, ?ex/s]"
      ]
     },
     "metadata": {},
     "output_type": "display_data"
    },
    {
     "name": "stdout",
     "output_type": "stream",
     "text": [
      " "
     ]
    },
    {
     "data": {
      "application/vnd.jupyter.widget-view+json": {
       "model_id": "d495a6d22ca242cbafe9485679ac6661",
       "version_major": 2,
       "version_minor": 0
      },
      "text/plain": [
       "#3:   0%|          | 0/212 [00:00<?, ?ex/s]"
      ]
     },
     "metadata": {},
     "output_type": "display_data"
    },
    {
     "name": "stdout",
     "output_type": "stream",
     "text": [
      " "
     ]
    },
    {
     "data": {
      "application/vnd.jupyter.widget-view+json": {
       "model_id": "5b9a7d55d37a46b7b1bfe91a66f80634",
       "version_major": 2,
       "version_minor": 0
      },
      "text/plain": [
       "#4:   0%|          | 0/212 [00:00<?, ?ex/s]"
      ]
     },
     "metadata": {},
     "output_type": "display_data"
    },
    {
     "name": "stdout",
     "output_type": "stream",
     "text": [
      " "
     ]
    },
    {
     "data": {
      "application/vnd.jupyter.widget-view+json": {
       "model_id": "e829a4116fbe4126badca725ff933e2e",
       "version_major": 2,
       "version_minor": 0
      },
      "text/plain": [
       "#5:   0%|          | 0/212 [00:00<?, ?ex/s]"
      ]
     },
     "metadata": {},
     "output_type": "display_data"
    },
    {
     "name": "stdout",
     "output_type": "stream",
     "text": [
      " "
     ]
    },
    {
     "data": {
      "application/vnd.jupyter.widget-view+json": {
       "model_id": "a636f6f8bfc24f95b838ec2af6059173",
       "version_major": 2,
       "version_minor": 0
      },
      "text/plain": [
       "#6:   0%|          | 0/212 [00:00<?, ?ex/s]"
      ]
     },
     "metadata": {},
     "output_type": "display_data"
    },
    {
     "name": "stdout",
     "output_type": "stream",
     "text": [
      " "
     ]
    },
    {
     "data": {
      "application/vnd.jupyter.widget-view+json": {
       "model_id": "b6d95573f0ee4971a3df3e4015c30b8e",
       "version_major": 2,
       "version_minor": 0
      },
      "text/plain": [
       "#7:   0%|          | 0/212 [00:00<?, ?ex/s]"
      ]
     },
     "metadata": {},
     "output_type": "display_data"
    },
    {
     "name": "stderr",
     "output_type": "stream",
     "text": [
      "Using cuda_amp half precision backend\n",
      "The following columns in the training set don't have a corresponding argument in `DebertaV2ForTokenClassification.forward` and have been ignored: trailing_whitespace, document, full_text, token_map, length, tokens, offset_mapping, provided_labels. If trailing_whitespace, document, full_text, token_map, length, tokens, offset_mapping, provided_labels are not expected by `DebertaV2ForTokenClassification.forward`,  you can safely ignore this message.\n",
      "/usr/local/lib/python3.9/dist-packages/transformers/optimization.py:306: FutureWarning: This implementation of AdamW is deprecated and will be removed in a future version. Use the PyTorch implementation torch.optim.AdamW instead, or set `no_deprecation_warning=True` to disable this warning\n",
      "  warnings.warn(\n",
      "***** Running training *****\n",
      "  Num examples = 4015\n",
      "  Num Epochs = 3\n",
      "  Instantaneous batch size per device = 16\n",
      "  Total train batch size (w. parallel, distributed & accumulation) = 16\n",
      "  Gradient Accumulation steps = 1\n",
      "  Total optimization steps = 753\n",
      "Automatic Weights & Biases logging enabled, to disable set os.environ[\"WANDB_DISABLED\"] = \"true\"\n"
     ]
    },
    {
     "data": {
      "application/vnd.jupyter.widget-view+json": {
       "model_id": "6eb984fcec0d4ae391306bf50d928672",
       "version_major": 2,
       "version_minor": 0
      },
      "text/plain": [
       "VBox(children=(Label(value='Waiting for wandb.init()...\\r'), FloatProgress(value=0.016670041484758258, max=1.0…"
      ]
     },
     "metadata": {},
     "output_type": "display_data"
    },
    {
     "data": {
      "text/html": [
       "wandb version 0.16.3 is available!  To upgrade, please run:\n",
       " $ pip install wandb --upgrade"
      ],
      "text/plain": [
       "<IPython.core.display.HTML object>"
      ]
     },
     "metadata": {},
     "output_type": "display_data"
    },
    {
     "data": {
      "text/html": [
       "Tracking run with wandb version 0.13.4"
      ],
      "text/plain": [
       "<IPython.core.display.HTML object>"
      ]
     },
     "metadata": {},
     "output_type": "display_data"
    },
    {
     "data": {
      "text/html": [
       "Run data is saved locally in <code>/notebooks/notebooks/wandb/run-20240226_084455-3v3eb61r</code>"
      ],
      "text/plain": [
       "<IPython.core.display.HTML object>"
      ]
     },
     "metadata": {},
     "output_type": "display_data"
    },
    {
     "data": {
      "text/html": [
       "Syncing run <strong><a href=\"https://wandb.ai/emiz6413/PII/runs/3v3eb61r\" target=\"_blank\">fold-0</a></strong> to <a href=\"https://wandb.ai/emiz6413/PII\" target=\"_blank\">Weights & Biases</a> (<a href=\"https://wandb.me/run\" target=\"_blank\">docs</a>)<br/>"
      ],
      "text/plain": [
       "<IPython.core.display.HTML object>"
      ]
     },
     "metadata": {},
     "output_type": "display_data"
    },
    {
     "data": {
      "text/html": [
       "\n",
       "    <div>\n",
       "      \n",
       "      <progress value='701' max='753' style='width:300px; height:20px; vertical-align: middle;'></progress>\n",
       "      [701/753 19:13 < 01:25, 0.61 it/s, Epoch 2.79/3]\n",
       "    </div>\n",
       "    <table border=\"1\" class=\"dataframe\">\n",
       "  <thead>\n",
       " <tr style=\"text-align: left;\">\n",
       "      <th>Step</th>\n",
       "      <th>Training Loss</th>\n",
       "      <th>Validation Loss</th>\n",
       "      <th>Precision</th>\n",
       "      <th>Recall</th>\n",
       "      <th>F5</th>\n",
       "      <th>P-phone Num</th>\n",
       "      <th>R-phone Num</th>\n",
       "      <th>F5-phone Num</th>\n",
       "      <th>P-id Num</th>\n",
       "      <th>R-id Num</th>\n",
       "      <th>F5-id Num</th>\n",
       "      <th>P-name Student</th>\n",
       "      <th>R-name Student</th>\n",
       "      <th>F5-name Student</th>\n",
       "      <th>P-username</th>\n",
       "      <th>R-username</th>\n",
       "      <th>F5-username</th>\n",
       "      <th>P-url Personal</th>\n",
       "      <th>R-url Personal</th>\n",
       "      <th>F5-url Personal</th>\n",
       "      <th>P-email</th>\n",
       "      <th>R-email</th>\n",
       "      <th>F5-email</th>\n",
       "      <th>P-street Address</th>\n",
       "      <th>R-street Address</th>\n",
       "      <th>F5-street Address</th>\n",
       "    </tr>\n",
       "  </thead>\n",
       "  <tbody>\n",
       "    <tr>\n",
       "      <td>50</td>\n",
       "      <td>0.296200</td>\n",
       "      <td>0.035210</td>\n",
       "      <td>1.000000</td>\n",
       "      <td>0.012158</td>\n",
       "      <td>0.012638</td>\n",
       "      <td>0.000000</td>\n",
       "      <td>0.000000</td>\n",
       "      <td>0.000000</td>\n",
       "      <td>0.000000</td>\n",
       "      <td>0.000000</td>\n",
       "      <td>0.000000</td>\n",
       "      <td>0.000000</td>\n",
       "      <td>0.000000</td>\n",
       "      <td>0.000000</td>\n",
       "      <td>0.000000</td>\n",
       "      <td>0.000000</td>\n",
       "      <td>0.000000</td>\n",
       "      <td>0.000000</td>\n",
       "      <td>0.000000</td>\n",
       "      <td>0.000000</td>\n",
       "      <td>1.000000</td>\n",
       "      <td>1.000000</td>\n",
       "      <td>1.000000</td>\n",
       "      <td>0.000000</td>\n",
       "      <td>0.000000</td>\n",
       "      <td>0.000000</td>\n",
       "    </tr>\n",
       "    <tr>\n",
       "      <td>100</td>\n",
       "      <td>0.035900</td>\n",
       "      <td>-0.005752</td>\n",
       "      <td>0.476316</td>\n",
       "      <td>0.825228</td>\n",
       "      <td>0.802615</td>\n",
       "      <td>0.000000</td>\n",
       "      <td>0.000000</td>\n",
       "      <td>0.000000</td>\n",
       "      <td>0.947368</td>\n",
       "      <td>0.692308</td>\n",
       "      <td>0.699552</td>\n",
       "      <td>0.475962</td>\n",
       "      <td>0.827759</td>\n",
       "      <td>0.804878</td>\n",
       "      <td>0.000000</td>\n",
       "      <td>0.000000</td>\n",
       "      <td>0.000000</td>\n",
       "      <td>0.385965</td>\n",
       "      <td>0.880000</td>\n",
       "      <td>0.838710</td>\n",
       "      <td>1.000000</td>\n",
       "      <td>1.000000</td>\n",
       "      <td>1.000000</td>\n",
       "      <td>0.000000</td>\n",
       "      <td>0.000000</td>\n",
       "      <td>0.000000</td>\n",
       "    </tr>\n",
       "    <tr>\n",
       "      <td>150</td>\n",
       "      <td>0.014800</td>\n",
       "      <td>-0.008397</td>\n",
       "      <td>0.542419</td>\n",
       "      <td>0.913374</td>\n",
       "      <td>0.889965</td>\n",
       "      <td>0.000000</td>\n",
       "      <td>0.000000</td>\n",
       "      <td>0.000000</td>\n",
       "      <td>0.954545</td>\n",
       "      <td>0.807692</td>\n",
       "      <td>0.812500</td>\n",
       "      <td>0.534549</td>\n",
       "      <td>0.931438</td>\n",
       "      <td>0.905578</td>\n",
       "      <td>0.000000</td>\n",
       "      <td>0.000000</td>\n",
       "      <td>0.000000</td>\n",
       "      <td>0.555556</td>\n",
       "      <td>0.600000</td>\n",
       "      <td>0.598160</td>\n",
       "      <td>1.000000</td>\n",
       "      <td>1.000000</td>\n",
       "      <td>1.000000</td>\n",
       "      <td>0.000000</td>\n",
       "      <td>0.000000</td>\n",
       "      <td>0.000000</td>\n",
       "    </tr>\n",
       "    <tr>\n",
       "      <td>200</td>\n",
       "      <td>0.003700</td>\n",
       "      <td>-0.008780</td>\n",
       "      <td>0.542731</td>\n",
       "      <td>0.936170</td>\n",
       "      <td>0.910776</td>\n",
       "      <td>0.000000</td>\n",
       "      <td>0.000000</td>\n",
       "      <td>0.000000</td>\n",
       "      <td>0.850000</td>\n",
       "      <td>0.653846</td>\n",
       "      <td>0.659701</td>\n",
       "      <td>0.535145</td>\n",
       "      <td>0.954849</td>\n",
       "      <td>0.926890</td>\n",
       "      <td>0.250000</td>\n",
       "      <td>1.000000</td>\n",
       "      <td>0.896552</td>\n",
       "      <td>0.558824</td>\n",
       "      <td>0.760000</td>\n",
       "      <td>0.749621</td>\n",
       "      <td>1.000000</td>\n",
       "      <td>1.000000</td>\n",
       "      <td>1.000000</td>\n",
       "      <td>0.000000</td>\n",
       "      <td>0.000000</td>\n",
       "      <td>0.000000</td>\n",
       "    </tr>\n",
       "    <tr>\n",
       "      <td>250</td>\n",
       "      <td>-0.004000</td>\n",
       "      <td>-0.010302</td>\n",
       "      <td>0.773263</td>\n",
       "      <td>0.896657</td>\n",
       "      <td>0.891187</td>\n",
       "      <td>0.000000</td>\n",
       "      <td>0.000000</td>\n",
       "      <td>0.000000</td>\n",
       "      <td>0.840000</td>\n",
       "      <td>0.807692</td>\n",
       "      <td>0.808889</td>\n",
       "      <td>0.788856</td>\n",
       "      <td>0.899666</td>\n",
       "      <td>0.894831</td>\n",
       "      <td>0.333333</td>\n",
       "      <td>1.000000</td>\n",
       "      <td>0.928571</td>\n",
       "      <td>0.511628</td>\n",
       "      <td>0.880000</td>\n",
       "      <td>0.856287</td>\n",
       "      <td>1.000000</td>\n",
       "      <td>1.000000</td>\n",
       "      <td>1.000000</td>\n",
       "      <td>0.000000</td>\n",
       "      <td>0.000000</td>\n",
       "      <td>0.000000</td>\n",
       "    </tr>\n",
       "    <tr>\n",
       "      <td>300</td>\n",
       "      <td>-0.002500</td>\n",
       "      <td>-0.010529</td>\n",
       "      <td>0.721625</td>\n",
       "      <td>0.917933</td>\n",
       "      <td>0.908428</td>\n",
       "      <td>0.000000</td>\n",
       "      <td>0.000000</td>\n",
       "      <td>0.000000</td>\n",
       "      <td>0.777778</td>\n",
       "      <td>0.807692</td>\n",
       "      <td>0.806499</td>\n",
       "      <td>0.724409</td>\n",
       "      <td>0.923077</td>\n",
       "      <td>0.913442</td>\n",
       "      <td>1.000000</td>\n",
       "      <td>1.000000</td>\n",
       "      <td>1.000000</td>\n",
       "      <td>0.594595</td>\n",
       "      <td>0.880000</td>\n",
       "      <td>0.864048</td>\n",
       "      <td>1.000000</td>\n",
       "      <td>1.000000</td>\n",
       "      <td>1.000000</td>\n",
       "      <td>0.000000</td>\n",
       "      <td>0.000000</td>\n",
       "      <td>0.000000</td>\n",
       "    </tr>\n",
       "    <tr>\n",
       "      <td>350</td>\n",
       "      <td>-0.009000</td>\n",
       "      <td>-0.010138</td>\n",
       "      <td>0.699317</td>\n",
       "      <td>0.933131</td>\n",
       "      <td>0.921283</td>\n",
       "      <td>0.000000</td>\n",
       "      <td>0.000000</td>\n",
       "      <td>0.000000</td>\n",
       "      <td>0.785714</td>\n",
       "      <td>0.846154</td>\n",
       "      <td>0.843658</td>\n",
       "      <td>0.703890</td>\n",
       "      <td>0.938127</td>\n",
       "      <td>0.926272</td>\n",
       "      <td>0.500000</td>\n",
       "      <td>1.000000</td>\n",
       "      <td>0.962963</td>\n",
       "      <td>0.536585</td>\n",
       "      <td>0.880000</td>\n",
       "      <td>0.858859</td>\n",
       "      <td>1.000000</td>\n",
       "      <td>1.000000</td>\n",
       "      <td>1.000000</td>\n",
       "      <td>0.000000</td>\n",
       "      <td>0.000000</td>\n",
       "      <td>0.000000</td>\n",
       "    </tr>\n",
       "    <tr>\n",
       "      <td>400</td>\n",
       "      <td>-0.008600</td>\n",
       "      <td>-0.010008</td>\n",
       "      <td>0.719767</td>\n",
       "      <td>0.940729</td>\n",
       "      <td>0.929752</td>\n",
       "      <td>0.000000</td>\n",
       "      <td>0.000000</td>\n",
       "      <td>0.000000</td>\n",
       "      <td>0.766667</td>\n",
       "      <td>0.884615</td>\n",
       "      <td>0.879412</td>\n",
       "      <td>0.740498</td>\n",
       "      <td>0.944816</td>\n",
       "      <td>0.934895</td>\n",
       "      <td>0.333333</td>\n",
       "      <td>1.000000</td>\n",
       "      <td>0.928571</td>\n",
       "      <td>0.407407</td>\n",
       "      <td>0.880000</td>\n",
       "      <td>0.842415</td>\n",
       "      <td>1.000000</td>\n",
       "      <td>1.000000</td>\n",
       "      <td>1.000000</td>\n",
       "      <td>0.000000</td>\n",
       "      <td>0.000000</td>\n",
       "      <td>0.000000</td>\n",
       "    </tr>\n",
       "    <tr>\n",
       "      <td>450</td>\n",
       "      <td>-0.008400</td>\n",
       "      <td>-0.009932</td>\n",
       "      <td>0.639594</td>\n",
       "      <td>0.957447</td>\n",
       "      <td>0.939490</td>\n",
       "      <td>0.000000</td>\n",
       "      <td>0.000000</td>\n",
       "      <td>0.000000</td>\n",
       "      <td>0.766667</td>\n",
       "      <td>0.884615</td>\n",
       "      <td>0.879412</td>\n",
       "      <td>0.638085</td>\n",
       "      <td>0.958194</td>\n",
       "      <td>0.940056</td>\n",
       "      <td>0.333333</td>\n",
       "      <td>1.000000</td>\n",
       "      <td>0.928571</td>\n",
       "      <td>0.568182</td>\n",
       "      <td>1.000000</td>\n",
       "      <td>0.971599</td>\n",
       "      <td>1.000000</td>\n",
       "      <td>1.000000</td>\n",
       "      <td>1.000000</td>\n",
       "      <td>0.000000</td>\n",
       "      <td>0.000000</td>\n",
       "      <td>0.000000</td>\n",
       "    </tr>\n",
       "    <tr>\n",
       "      <td>500</td>\n",
       "      <td>-0.006500</td>\n",
       "      <td>-0.010766</td>\n",
       "      <td>0.739857</td>\n",
       "      <td>0.942249</td>\n",
       "      <td>0.932439</td>\n",
       "      <td>0.000000</td>\n",
       "      <td>0.000000</td>\n",
       "      <td>0.000000</td>\n",
       "      <td>0.774194</td>\n",
       "      <td>0.923077</td>\n",
       "      <td>0.916300</td>\n",
       "      <td>0.746348</td>\n",
       "      <td>0.939799</td>\n",
       "      <td>0.930523</td>\n",
       "      <td>0.333333</td>\n",
       "      <td>1.000000</td>\n",
       "      <td>0.928571</td>\n",
       "      <td>0.609756</td>\n",
       "      <td>1.000000</td>\n",
       "      <td>0.975976</td>\n",
       "      <td>1.000000</td>\n",
       "      <td>1.000000</td>\n",
       "      <td>1.000000</td>\n",
       "      <td>0.000000</td>\n",
       "      <td>0.000000</td>\n",
       "      <td>0.000000</td>\n",
       "    </tr>\n",
       "    <tr>\n",
       "      <td>550</td>\n",
       "      <td>-0.008800</td>\n",
       "      <td>-0.010526</td>\n",
       "      <td>0.718750</td>\n",
       "      <td>0.943769</td>\n",
       "      <td>0.932540</td>\n",
       "      <td>0.000000</td>\n",
       "      <td>0.000000</td>\n",
       "      <td>0.000000</td>\n",
       "      <td>0.793103</td>\n",
       "      <td>0.884615</td>\n",
       "      <td>0.880707</td>\n",
       "      <td>0.723077</td>\n",
       "      <td>0.943144</td>\n",
       "      <td>0.932231</td>\n",
       "      <td>0.333333</td>\n",
       "      <td>1.000000</td>\n",
       "      <td>0.928571</td>\n",
       "      <td>0.568182</td>\n",
       "      <td>1.000000</td>\n",
       "      <td>0.971599</td>\n",
       "      <td>1.000000</td>\n",
       "      <td>1.000000</td>\n",
       "      <td>1.000000</td>\n",
       "      <td>0.000000</td>\n",
       "      <td>0.000000</td>\n",
       "      <td>0.000000</td>\n",
       "    </tr>\n",
       "    <tr>\n",
       "      <td>600</td>\n",
       "      <td>-0.007800</td>\n",
       "      <td>-0.011154</td>\n",
       "      <td>0.763158</td>\n",
       "      <td>0.925532</td>\n",
       "      <td>0.918019</td>\n",
       "      <td>0.000000</td>\n",
       "      <td>0.000000</td>\n",
       "      <td>0.000000</td>\n",
       "      <td>0.814815</td>\n",
       "      <td>0.846154</td>\n",
       "      <td>0.844904</td>\n",
       "      <td>0.768056</td>\n",
       "      <td>0.924749</td>\n",
       "      <td>0.917549</td>\n",
       "      <td>0.500000</td>\n",
       "      <td>1.000000</td>\n",
       "      <td>0.962963</td>\n",
       "      <td>0.641026</td>\n",
       "      <td>1.000000</td>\n",
       "      <td>0.978916</td>\n",
       "      <td>1.000000</td>\n",
       "      <td>1.000000</td>\n",
       "      <td>1.000000</td>\n",
       "      <td>0.000000</td>\n",
       "      <td>0.000000</td>\n",
       "      <td>0.000000</td>\n",
       "    </tr>\n",
       "    <tr>\n",
       "      <td>650</td>\n",
       "      <td>-0.009700</td>\n",
       "      <td>-0.011131</td>\n",
       "      <td>0.756987</td>\n",
       "      <td>0.946809</td>\n",
       "      <td>0.937764</td>\n",
       "      <td>0.000000</td>\n",
       "      <td>0.000000</td>\n",
       "      <td>0.000000</td>\n",
       "      <td>0.766667</td>\n",
       "      <td>0.884615</td>\n",
       "      <td>0.879412</td>\n",
       "      <td>0.761777</td>\n",
       "      <td>0.946488</td>\n",
       "      <td>0.937743</td>\n",
       "      <td>0.500000</td>\n",
       "      <td>1.000000</td>\n",
       "      <td>0.962963</td>\n",
       "      <td>0.657895</td>\n",
       "      <td>1.000000</td>\n",
       "      <td>0.980392</td>\n",
       "      <td>1.000000</td>\n",
       "      <td>1.000000</td>\n",
       "      <td>1.000000</td>\n",
       "      <td>0.000000</td>\n",
       "      <td>0.000000</td>\n",
       "      <td>0.000000</td>\n",
       "    </tr>\n",
       "  </tbody>\n",
       "</table><p>\n",
       "    <div>\n",
       "      \n",
       "      <progress value='107' max='107' style='width:300px; height:20px; vertical-align: middle;'></progress>\n",
       "      [107/107 00:43]\n",
       "    </div>\n",
       "    "
      ],
      "text/plain": [
       "<IPython.core.display.HTML object>"
      ]
     },
     "metadata": {},
     "output_type": "display_data"
    },
    {
     "name": "stderr",
     "output_type": "stream",
     "text": [
      "The following columns in the evaluation set don't have a corresponding argument in `DebertaV2ForTokenClassification.forward` and have been ignored: trailing_whitespace, document, full_text, token_map, length, tokens, offset_mapping, provided_labels. If trailing_whitespace, document, full_text, token_map, length, tokens, offset_mapping, provided_labels are not expected by `DebertaV2ForTokenClassification.forward`,  you can safely ignore this message.\n",
      "***** Running Evaluation *****\n",
      "  Num examples = 1698\n",
      "  Batch size = 16\n",
      "Saving model checkpoint to output/fold_0/checkpoint-50\n",
      "Configuration saved in output/fold_0/checkpoint-50/config.json\n",
      "Model weights saved in output/fold_0/checkpoint-50/pytorch_model.bin\n",
      "tokenizer config file saved in output/fold_0/checkpoint-50/tokenizer_config.json\n",
      "Special tokens file saved in output/fold_0/checkpoint-50/special_tokens_map.json\n",
      "The following columns in the evaluation set don't have a corresponding argument in `DebertaV2ForTokenClassification.forward` and have been ignored: trailing_whitespace, document, full_text, token_map, length, tokens, offset_mapping, provided_labels. If trailing_whitespace, document, full_text, token_map, length, tokens, offset_mapping, provided_labels are not expected by `DebertaV2ForTokenClassification.forward`,  you can safely ignore this message.\n",
      "***** Running Evaluation *****\n",
      "  Num examples = 1698\n",
      "  Batch size = 16\n",
      "Saving model checkpoint to output/fold_0/checkpoint-100\n",
      "Configuration saved in output/fold_0/checkpoint-100/config.json\n",
      "Model weights saved in output/fold_0/checkpoint-100/pytorch_model.bin\n",
      "tokenizer config file saved in output/fold_0/checkpoint-100/tokenizer_config.json\n",
      "Special tokens file saved in output/fold_0/checkpoint-100/special_tokens_map.json\n",
      "Deleting older checkpoint [output/fold_0/checkpoint-50] due to args.save_total_limit\n",
      "The following columns in the evaluation set don't have a corresponding argument in `DebertaV2ForTokenClassification.forward` and have been ignored: trailing_whitespace, document, full_text, token_map, length, tokens, offset_mapping, provided_labels. If trailing_whitespace, document, full_text, token_map, length, tokens, offset_mapping, provided_labels are not expected by `DebertaV2ForTokenClassification.forward`,  you can safely ignore this message.\n",
      "***** Running Evaluation *****\n",
      "  Num examples = 1698\n",
      "  Batch size = 16\n",
      "Saving model checkpoint to output/fold_0/checkpoint-150\n",
      "Configuration saved in output/fold_0/checkpoint-150/config.json\n",
      "Model weights saved in output/fold_0/checkpoint-150/pytorch_model.bin\n",
      "tokenizer config file saved in output/fold_0/checkpoint-150/tokenizer_config.json\n",
      "Special tokens file saved in output/fold_0/checkpoint-150/special_tokens_map.json\n",
      "Deleting older checkpoint [output/fold_0/checkpoint-100] due to args.save_total_limit\n",
      "The following columns in the evaluation set don't have a corresponding argument in `DebertaV2ForTokenClassification.forward` and have been ignored: trailing_whitespace, document, full_text, token_map, length, tokens, offset_mapping, provided_labels. If trailing_whitespace, document, full_text, token_map, length, tokens, offset_mapping, provided_labels are not expected by `DebertaV2ForTokenClassification.forward`,  you can safely ignore this message.\n",
      "***** Running Evaluation *****\n",
      "  Num examples = 1698\n",
      "  Batch size = 16\n",
      "Saving model checkpoint to output/fold_0/checkpoint-200\n",
      "Configuration saved in output/fold_0/checkpoint-200/config.json\n",
      "Model weights saved in output/fold_0/checkpoint-200/pytorch_model.bin\n",
      "tokenizer config file saved in output/fold_0/checkpoint-200/tokenizer_config.json\n",
      "Special tokens file saved in output/fold_0/checkpoint-200/special_tokens_map.json\n",
      "Deleting older checkpoint [output/fold_0/checkpoint-150] due to args.save_total_limit\n",
      "The following columns in the evaluation set don't have a corresponding argument in `DebertaV2ForTokenClassification.forward` and have been ignored: trailing_whitespace, document, full_text, token_map, length, tokens, offset_mapping, provided_labels. If trailing_whitespace, document, full_text, token_map, length, tokens, offset_mapping, provided_labels are not expected by `DebertaV2ForTokenClassification.forward`,  you can safely ignore this message.\n",
      "***** Running Evaluation *****\n",
      "  Num examples = 1698\n",
      "  Batch size = 16\n",
      "Saving model checkpoint to output/fold_0/checkpoint-250\n",
      "Configuration saved in output/fold_0/checkpoint-250/config.json\n",
      "Model weights saved in output/fold_0/checkpoint-250/pytorch_model.bin\n",
      "tokenizer config file saved in output/fold_0/checkpoint-250/tokenizer_config.json\n",
      "Special tokens file saved in output/fold_0/checkpoint-250/special_tokens_map.json\n",
      "The following columns in the evaluation set don't have a corresponding argument in `DebertaV2ForTokenClassification.forward` and have been ignored: trailing_whitespace, document, full_text, token_map, length, tokens, offset_mapping, provided_labels. If trailing_whitespace, document, full_text, token_map, length, tokens, offset_mapping, provided_labels are not expected by `DebertaV2ForTokenClassification.forward`,  you can safely ignore this message.\n",
      "***** Running Evaluation *****\n",
      "  Num examples = 1698\n",
      "  Batch size = 16\n",
      "Saving model checkpoint to output/fold_0/checkpoint-300\n",
      "Configuration saved in output/fold_0/checkpoint-300/config.json\n",
      "Model weights saved in output/fold_0/checkpoint-300/pytorch_model.bin\n",
      "tokenizer config file saved in output/fold_0/checkpoint-300/tokenizer_config.json\n",
      "Special tokens file saved in output/fold_0/checkpoint-300/special_tokens_map.json\n",
      "Deleting older checkpoint [output/fold_0/checkpoint-250] due to args.save_total_limit\n",
      "The following columns in the evaluation set don't have a corresponding argument in `DebertaV2ForTokenClassification.forward` and have been ignored: trailing_whitespace, document, full_text, token_map, length, tokens, offset_mapping, provided_labels. If trailing_whitespace, document, full_text, token_map, length, tokens, offset_mapping, provided_labels are not expected by `DebertaV2ForTokenClassification.forward`,  you can safely ignore this message.\n",
      "***** Running Evaluation *****\n",
      "  Num examples = 1698\n",
      "  Batch size = 16\n",
      "Saving model checkpoint to output/fold_0/checkpoint-350\n",
      "Configuration saved in output/fold_0/checkpoint-350/config.json\n",
      "Model weights saved in output/fold_0/checkpoint-350/pytorch_model.bin\n",
      "tokenizer config file saved in output/fold_0/checkpoint-350/tokenizer_config.json\n",
      "Special tokens file saved in output/fold_0/checkpoint-350/special_tokens_map.json\n",
      "Deleting older checkpoint [output/fold_0/checkpoint-200] due to args.save_total_limit\n",
      "Deleting older checkpoint [output/fold_0/checkpoint-300] due to args.save_total_limit\n",
      "The following columns in the evaluation set don't have a corresponding argument in `DebertaV2ForTokenClassification.forward` and have been ignored: trailing_whitespace, document, full_text, token_map, length, tokens, offset_mapping, provided_labels. If trailing_whitespace, document, full_text, token_map, length, tokens, offset_mapping, provided_labels are not expected by `DebertaV2ForTokenClassification.forward`,  you can safely ignore this message.\n",
      "***** Running Evaluation *****\n",
      "  Num examples = 1698\n",
      "  Batch size = 16\n",
      "Saving model checkpoint to output/fold_0/checkpoint-400\n",
      "Configuration saved in output/fold_0/checkpoint-400/config.json\n",
      "Model weights saved in output/fold_0/checkpoint-400/pytorch_model.bin\n",
      "tokenizer config file saved in output/fold_0/checkpoint-400/tokenizer_config.json\n",
      "Special tokens file saved in output/fold_0/checkpoint-400/special_tokens_map.json\n",
      "Deleting older checkpoint [output/fold_0/checkpoint-350] due to args.save_total_limit\n",
      "The following columns in the evaluation set don't have a corresponding argument in `DebertaV2ForTokenClassification.forward` and have been ignored: trailing_whitespace, document, full_text, token_map, length, tokens, offset_mapping, provided_labels. If trailing_whitespace, document, full_text, token_map, length, tokens, offset_mapping, provided_labels are not expected by `DebertaV2ForTokenClassification.forward`,  you can safely ignore this message.\n",
      "***** Running Evaluation *****\n",
      "  Num examples = 1698\n",
      "  Batch size = 16\n",
      "Saving model checkpoint to output/fold_0/checkpoint-450\n",
      "Configuration saved in output/fold_0/checkpoint-450/config.json\n",
      "Model weights saved in output/fold_0/checkpoint-450/pytorch_model.bin\n",
      "tokenizer config file saved in output/fold_0/checkpoint-450/tokenizer_config.json\n",
      "Special tokens file saved in output/fold_0/checkpoint-450/special_tokens_map.json\n",
      "Deleting older checkpoint [output/fold_0/checkpoint-400] due to args.save_total_limit\n",
      "The following columns in the evaluation set don't have a corresponding argument in `DebertaV2ForTokenClassification.forward` and have been ignored: trailing_whitespace, document, full_text, token_map, length, tokens, offset_mapping, provided_labels. If trailing_whitespace, document, full_text, token_map, length, tokens, offset_mapping, provided_labels are not expected by `DebertaV2ForTokenClassification.forward`,  you can safely ignore this message.\n",
      "***** Running Evaluation *****\n",
      "  Num examples = 1698\n",
      "  Batch size = 16\n",
      "Saving model checkpoint to output/fold_0/checkpoint-500\n",
      "Configuration saved in output/fold_0/checkpoint-500/config.json\n",
      "Model weights saved in output/fold_0/checkpoint-500/pytorch_model.bin\n",
      "tokenizer config file saved in output/fold_0/checkpoint-500/tokenizer_config.json\n",
      "Special tokens file saved in output/fold_0/checkpoint-500/special_tokens_map.json\n",
      "The following columns in the evaluation set don't have a corresponding argument in `DebertaV2ForTokenClassification.forward` and have been ignored: trailing_whitespace, document, full_text, token_map, length, tokens, offset_mapping, provided_labels. If trailing_whitespace, document, full_text, token_map, length, tokens, offset_mapping, provided_labels are not expected by `DebertaV2ForTokenClassification.forward`,  you can safely ignore this message.\n",
      "***** Running Evaluation *****\n",
      "  Num examples = 1698\n",
      "  Batch size = 16\n",
      "Saving model checkpoint to output/fold_0/checkpoint-550\n",
      "Configuration saved in output/fold_0/checkpoint-550/config.json\n",
      "Model weights saved in output/fold_0/checkpoint-550/pytorch_model.bin\n",
      "tokenizer config file saved in output/fold_0/checkpoint-550/tokenizer_config.json\n",
      "Special tokens file saved in output/fold_0/checkpoint-550/special_tokens_map.json\n",
      "Deleting older checkpoint [output/fold_0/checkpoint-500] due to args.save_total_limit\n",
      "The following columns in the evaluation set don't have a corresponding argument in `DebertaV2ForTokenClassification.forward` and have been ignored: trailing_whitespace, document, full_text, token_map, length, tokens, offset_mapping, provided_labels. If trailing_whitespace, document, full_text, token_map, length, tokens, offset_mapping, provided_labels are not expected by `DebertaV2ForTokenClassification.forward`,  you can safely ignore this message.\n",
      "***** Running Evaluation *****\n",
      "  Num examples = 1698\n",
      "  Batch size = 16\n",
      "Saving model checkpoint to output/fold_0/checkpoint-600\n",
      "Configuration saved in output/fold_0/checkpoint-600/config.json\n",
      "Model weights saved in output/fold_0/checkpoint-600/pytorch_model.bin\n",
      "tokenizer config file saved in output/fold_0/checkpoint-600/tokenizer_config.json\n",
      "Special tokens file saved in output/fold_0/checkpoint-600/special_tokens_map.json\n",
      "Deleting older checkpoint [output/fold_0/checkpoint-550] due to args.save_total_limit\n",
      "The following columns in the evaluation set don't have a corresponding argument in `DebertaV2ForTokenClassification.forward` and have been ignored: trailing_whitespace, document, full_text, token_map, length, tokens, offset_mapping, provided_labels. If trailing_whitespace, document, full_text, token_map, length, tokens, offset_mapping, provided_labels are not expected by `DebertaV2ForTokenClassification.forward`,  you can safely ignore this message.\n",
      "***** Running Evaluation *****\n",
      "  Num examples = 1698\n",
      "  Batch size = 16\n",
      "Saving model checkpoint to output/fold_0/checkpoint-650\n",
      "Configuration saved in output/fold_0/checkpoint-650/config.json\n",
      "Model weights saved in output/fold_0/checkpoint-650/pytorch_model.bin\n",
      "tokenizer config file saved in output/fold_0/checkpoint-650/tokenizer_config.json\n",
      "Special tokens file saved in output/fold_0/checkpoint-650/special_tokens_map.json\n",
      "Deleting older checkpoint [output/fold_0/checkpoint-600] due to args.save_total_limit\n",
      "The following columns in the evaluation set don't have a corresponding argument in `DebertaV2ForTokenClassification.forward` and have been ignored: trailing_whitespace, document, full_text, token_map, length, tokens, offset_mapping, provided_labels. If trailing_whitespace, document, full_text, token_map, length, tokens, offset_mapping, provided_labels are not expected by `DebertaV2ForTokenClassification.forward`,  you can safely ignore this message.\n",
      "***** Running Evaluation *****\n",
      "  Num examples = 1698\n",
      "  Batch size = 16\n",
      "Using cuda_amp half precision backend\n",
      "The following columns in the training set don't have a corresponding argument in `DebertaV2ForTokenClassification.forward` and have been ignored: trailing_whitespace, document, full_text, token_map, length, tokens, offset_mapping, provided_labels. If trailing_whitespace, document, full_text, token_map, length, tokens, offset_mapping, provided_labels are not expected by `DebertaV2ForTokenClassification.forward`,  you can safely ignore this message.\n",
      "/usr/local/lib/python3.9/dist-packages/transformers/optimization.py:306: FutureWarning: This implementation of AdamW is deprecated and will be removed in a future version. Use the PyTorch implementation torch.optim.AdamW instead, or set `no_deprecation_warning=True` to disable this warning\n",
      "  warnings.warn(\n",
      "***** Running training *****\n",
      "  Num examples = 4025\n",
      "  Num Epochs = 3\n",
      "  Instantaneous batch size per device = 16\n",
      "  Total train batch size (w. parallel, distributed & accumulation) = 16\n",
      "  Gradient Accumulation steps = 1\n",
      "  Total optimization steps = 756\n",
      "Automatic Weights & Biases logging enabled, to disable set os.environ[\"WANDB_DISABLED\"] = \"true\"\n"
     ]
    },
    {
     "data": {
      "application/vnd.jupyter.widget-view+json": {
       "model_id": "e4132f3704bb4fc8b7823fb0869bf90c",
       "version_major": 2,
       "version_minor": 0
      },
      "text/plain": [
       "VBox(children=(Label(value='Waiting for wandb.init()...\\r'), FloatProgress(value=0.01666933580612143, max=1.0)…"
      ]
     },
     "metadata": {},
     "output_type": "display_data"
    },
    {
     "data": {
      "text/html": [
       "wandb version 0.16.3 is available!  To upgrade, please run:\n",
       " $ pip install wandb --upgrade"
      ],
      "text/plain": [
       "<IPython.core.display.HTML object>"
      ]
     },
     "metadata": {},
     "output_type": "display_data"
    },
    {
     "data": {
      "text/html": [
       "Tracking run with wandb version 0.13.4"
      ],
      "text/plain": [
       "<IPython.core.display.HTML object>"
      ]
     },
     "metadata": {},
     "output_type": "display_data"
    },
    {
     "data": {
      "text/html": [
       "Run data is saved locally in <code>/notebooks/notebooks/wandb/run-20240226_095529-21yynvi8</code>"
      ],
      "text/plain": [
       "<IPython.core.display.HTML object>"
      ]
     },
     "metadata": {},
     "output_type": "display_data"
    },
    {
     "data": {
      "text/html": [
       "Syncing run <strong><a href=\"https://wandb.ai/emiz6413/PII/runs/21yynvi8\" target=\"_blank\">fold-3</a></strong> to <a href=\"https://wandb.ai/emiz6413/PII\" target=\"_blank\">Weights & Biases</a> (<a href=\"https://wandb.me/run\" target=\"_blank\">docs</a>)<br/>"
      ],
      "text/plain": [
       "<IPython.core.display.HTML object>"
      ]
     },
     "metadata": {},
     "output_type": "display_data"
    },
    {
     "data": {
      "text/html": [
       "\n",
       "    <div>\n",
       "      \n",
       "      <progress value='756' max='756' style='width:300px; height:20px; vertical-align: middle;'></progress>\n",
       "      [756/756 21:30, Epoch 3/3]\n",
       "    </div>\n",
       "    <table border=\"1\" class=\"dataframe\">\n",
       "  <thead>\n",
       " <tr style=\"text-align: left;\">\n",
       "      <th>Step</th>\n",
       "      <th>Training Loss</th>\n",
       "      <th>Validation Loss</th>\n",
       "      <th>Precision</th>\n",
       "      <th>Recall</th>\n",
       "      <th>F5</th>\n",
       "      <th>P-phone Num</th>\n",
       "      <th>R-phone Num</th>\n",
       "      <th>F5-phone Num</th>\n",
       "      <th>P-id Num</th>\n",
       "      <th>R-id Num</th>\n",
       "      <th>F5-id Num</th>\n",
       "      <th>P-name Student</th>\n",
       "      <th>R-name Student</th>\n",
       "      <th>F5-name Student</th>\n",
       "      <th>P-username</th>\n",
       "      <th>R-username</th>\n",
       "      <th>F5-username</th>\n",
       "      <th>P-url Personal</th>\n",
       "      <th>R-url Personal</th>\n",
       "      <th>F5-url Personal</th>\n",
       "      <th>P-email</th>\n",
       "      <th>R-email</th>\n",
       "      <th>F5-email</th>\n",
       "      <th>P-street Address</th>\n",
       "      <th>R-street Address</th>\n",
       "      <th>F5-street Address</th>\n",
       "    </tr>\n",
       "  </thead>\n",
       "  <tbody>\n",
       "    <tr>\n",
       "      <td>50</td>\n",
       "      <td>0.279500</td>\n",
       "      <td>0.036095</td>\n",
       "      <td>1.000000</td>\n",
       "      <td>0.034146</td>\n",
       "      <td>0.035464</td>\n",
       "      <td>1.000000</td>\n",
       "      <td>1.000000</td>\n",
       "      <td>1.000000</td>\n",
       "      <td>0.000000</td>\n",
       "      <td>0.000000</td>\n",
       "      <td>0.000000</td>\n",
       "      <td>0.000000</td>\n",
       "      <td>0.000000</td>\n",
       "      <td>0.000000</td>\n",
       "      <td>0.000000</td>\n",
       "      <td>0.000000</td>\n",
       "      <td>0.000000</td>\n",
       "      <td>0.000000</td>\n",
       "      <td>0.000000</td>\n",
       "      <td>0.000000</td>\n",
       "      <td>1.000000</td>\n",
       "      <td>1.000000</td>\n",
       "      <td>1.000000</td>\n",
       "      <td>0.000000</td>\n",
       "      <td>0.000000</td>\n",
       "      <td>0.000000</td>\n",
       "    </tr>\n",
       "    <tr>\n",
       "      <td>100</td>\n",
       "      <td>0.040800</td>\n",
       "      <td>-0.002926</td>\n",
       "      <td>0.341048</td>\n",
       "      <td>0.910569</td>\n",
       "      <td>0.855615</td>\n",
       "      <td>1.000000</td>\n",
       "      <td>1.000000</td>\n",
       "      <td>1.000000</td>\n",
       "      <td>0.478261</td>\n",
       "      <td>0.916667</td>\n",
       "      <td>0.885449</td>\n",
       "      <td>0.345704</td>\n",
       "      <td>0.904676</td>\n",
       "      <td>0.851710</td>\n",
       "      <td>0.000000</td>\n",
       "      <td>0.000000</td>\n",
       "      <td>0.000000</td>\n",
       "      <td>0.187970</td>\n",
       "      <td>1.000000</td>\n",
       "      <td>0.857520</td>\n",
       "      <td>1.000000</td>\n",
       "      <td>1.000000</td>\n",
       "      <td>1.000000</td>\n",
       "      <td>0.000000</td>\n",
       "      <td>0.000000</td>\n",
       "      <td>0.000000</td>\n",
       "    </tr>\n",
       "    <tr>\n",
       "      <td>150</td>\n",
       "      <td>0.020100</td>\n",
       "      <td>-0.007263</td>\n",
       "      <td>0.493186</td>\n",
       "      <td>0.941463</td>\n",
       "      <td>0.909662</td>\n",
       "      <td>1.000000</td>\n",
       "      <td>1.000000</td>\n",
       "      <td>1.000000</td>\n",
       "      <td>0.733333</td>\n",
       "      <td>0.916667</td>\n",
       "      <td>0.907937</td>\n",
       "      <td>0.496714</td>\n",
       "      <td>0.951439</td>\n",
       "      <td>0.919078</td>\n",
       "      <td>0.200000</td>\n",
       "      <td>1.000000</td>\n",
       "      <td>0.866667</td>\n",
       "      <td>0.288136</td>\n",
       "      <td>0.680000</td>\n",
       "      <td>0.646199</td>\n",
       "      <td>1.000000</td>\n",
       "      <td>1.000000</td>\n",
       "      <td>1.000000</td>\n",
       "      <td>0.000000</td>\n",
       "      <td>0.000000</td>\n",
       "      <td>0.000000</td>\n",
       "    </tr>\n",
       "    <tr>\n",
       "      <td>200</td>\n",
       "      <td>0.005300</td>\n",
       "      <td>-0.009144</td>\n",
       "      <td>0.795389</td>\n",
       "      <td>0.897561</td>\n",
       "      <td>0.893148</td>\n",
       "      <td>1.000000</td>\n",
       "      <td>1.000000</td>\n",
       "      <td>1.000000</td>\n",
       "      <td>0.916667</td>\n",
       "      <td>0.916667</td>\n",
       "      <td>0.916667</td>\n",
       "      <td>0.847973</td>\n",
       "      <td>0.902878</td>\n",
       "      <td>0.900635</td>\n",
       "      <td>0.500000</td>\n",
       "      <td>1.000000</td>\n",
       "      <td>0.962963</td>\n",
       "      <td>0.253731</td>\n",
       "      <td>0.680000</td>\n",
       "      <td>0.638728</td>\n",
       "      <td>1.000000</td>\n",
       "      <td>1.000000</td>\n",
       "      <td>1.000000</td>\n",
       "      <td>0.000000</td>\n",
       "      <td>0.000000</td>\n",
       "      <td>0.000000</td>\n",
       "    </tr>\n",
       "    <tr>\n",
       "      <td>250</td>\n",
       "      <td>-0.002800</td>\n",
       "      <td>-0.008250</td>\n",
       "      <td>0.672494</td>\n",
       "      <td>0.938211</td>\n",
       "      <td>0.924167</td>\n",
       "      <td>1.000000</td>\n",
       "      <td>1.000000</td>\n",
       "      <td>1.000000</td>\n",
       "      <td>0.550000</td>\n",
       "      <td>0.916667</td>\n",
       "      <td>0.893750</td>\n",
       "      <td>0.718963</td>\n",
       "      <td>0.947842</td>\n",
       "      <td>0.936377</td>\n",
       "      <td>0.200000</td>\n",
       "      <td>1.000000</td>\n",
       "      <td>0.866667</td>\n",
       "      <td>0.229730</td>\n",
       "      <td>0.680000</td>\n",
       "      <td>0.632332</td>\n",
       "      <td>1.000000</td>\n",
       "      <td>1.000000</td>\n",
       "      <td>1.000000</td>\n",
       "      <td>0.000000</td>\n",
       "      <td>0.000000</td>\n",
       "      <td>0.000000</td>\n",
       "    </tr>\n",
       "    <tr>\n",
       "      <td>300</td>\n",
       "      <td>-0.006500</td>\n",
       "      <td>-0.008707</td>\n",
       "      <td>0.617131</td>\n",
       "      <td>0.972358</td>\n",
       "      <td>0.951297</td>\n",
       "      <td>1.000000</td>\n",
       "      <td>1.000000</td>\n",
       "      <td>1.000000</td>\n",
       "      <td>0.846154</td>\n",
       "      <td>0.916667</td>\n",
       "      <td>0.913738</td>\n",
       "      <td>0.622727</td>\n",
       "      <td>0.985612</td>\n",
       "      <td>0.964005</td>\n",
       "      <td>0.250000</td>\n",
       "      <td>1.000000</td>\n",
       "      <td>0.896552</td>\n",
       "      <td>0.340000</td>\n",
       "      <td>0.680000</td>\n",
       "      <td>0.654815</td>\n",
       "      <td>1.000000</td>\n",
       "      <td>1.000000</td>\n",
       "      <td>1.000000</td>\n",
       "      <td>0.000000</td>\n",
       "      <td>0.000000</td>\n",
       "      <td>0.000000</td>\n",
       "    </tr>\n",
       "    <tr>\n",
       "      <td>350</td>\n",
       "      <td>-0.003900</td>\n",
       "      <td>-0.009452</td>\n",
       "      <td>0.737500</td>\n",
       "      <td>0.959350</td>\n",
       "      <td>0.948377</td>\n",
       "      <td>1.000000</td>\n",
       "      <td>1.000000</td>\n",
       "      <td>1.000000</td>\n",
       "      <td>0.550000</td>\n",
       "      <td>0.916667</td>\n",
       "      <td>0.893750</td>\n",
       "      <td>0.758766</td>\n",
       "      <td>0.973022</td>\n",
       "      <td>0.962568</td>\n",
       "      <td>0.333333</td>\n",
       "      <td>1.000000</td>\n",
       "      <td>0.928571</td>\n",
       "      <td>0.410256</td>\n",
       "      <td>0.640000</td>\n",
       "      <td>0.626506</td>\n",
       "      <td>1.000000</td>\n",
       "      <td>1.000000</td>\n",
       "      <td>1.000000</td>\n",
       "      <td>0.000000</td>\n",
       "      <td>0.000000</td>\n",
       "      <td>0.000000</td>\n",
       "    </tr>\n",
       "    <tr>\n",
       "      <td>400</td>\n",
       "      <td>-0.005700</td>\n",
       "      <td>-0.009198</td>\n",
       "      <td>0.711885</td>\n",
       "      <td>0.964228</td>\n",
       "      <td>0.951259</td>\n",
       "      <td>1.000000</td>\n",
       "      <td>1.000000</td>\n",
       "      <td>1.000000</td>\n",
       "      <td>0.423077</td>\n",
       "      <td>0.916667</td>\n",
       "      <td>0.877301</td>\n",
       "      <td>0.738776</td>\n",
       "      <td>0.976619</td>\n",
       "      <td>0.964674</td>\n",
       "      <td>0.250000</td>\n",
       "      <td>1.000000</td>\n",
       "      <td>0.896552</td>\n",
       "      <td>0.395349</td>\n",
       "      <td>0.680000</td>\n",
       "      <td>0.661677</td>\n",
       "      <td>1.000000</td>\n",
       "      <td>1.000000</td>\n",
       "      <td>1.000000</td>\n",
       "      <td>0.000000</td>\n",
       "      <td>0.000000</td>\n",
       "      <td>0.000000</td>\n",
       "    </tr>\n",
       "    <tr>\n",
       "      <td>450</td>\n",
       "      <td>-0.005900</td>\n",
       "      <td>-0.008491</td>\n",
       "      <td>0.599401</td>\n",
       "      <td>0.975610</td>\n",
       "      <td>0.952614</td>\n",
       "      <td>1.000000</td>\n",
       "      <td>1.000000</td>\n",
       "      <td>1.000000</td>\n",
       "      <td>0.478261</td>\n",
       "      <td>0.916667</td>\n",
       "      <td>0.885449</td>\n",
       "      <td>0.601093</td>\n",
       "      <td>0.989209</td>\n",
       "      <td>0.965238</td>\n",
       "      <td>0.200000</td>\n",
       "      <td>1.000000</td>\n",
       "      <td>0.866667</td>\n",
       "      <td>0.459459</td>\n",
       "      <td>0.680000</td>\n",
       "      <td>0.667674</td>\n",
       "      <td>1.000000</td>\n",
       "      <td>1.000000</td>\n",
       "      <td>1.000000</td>\n",
       "      <td>0.000000</td>\n",
       "      <td>0.000000</td>\n",
       "      <td>0.000000</td>\n",
       "    </tr>\n",
       "    <tr>\n",
       "      <td>500</td>\n",
       "      <td>-0.004600</td>\n",
       "      <td>-0.009648</td>\n",
       "      <td>0.813110</td>\n",
       "      <td>0.947967</td>\n",
       "      <td>0.941959</td>\n",
       "      <td>1.000000</td>\n",
       "      <td>1.000000</td>\n",
       "      <td>1.000000</td>\n",
       "      <td>0.611111</td>\n",
       "      <td>0.916667</td>\n",
       "      <td>0.899371</td>\n",
       "      <td>0.822531</td>\n",
       "      <td>0.958633</td>\n",
       "      <td>0.952571</td>\n",
       "      <td>0.500000</td>\n",
       "      <td>1.000000</td>\n",
       "      <td>0.962963</td>\n",
       "      <td>0.607143</td>\n",
       "      <td>0.680000</td>\n",
       "      <td>0.676876</td>\n",
       "      <td>1.000000</td>\n",
       "      <td>1.000000</td>\n",
       "      <td>1.000000</td>\n",
       "      <td>0.000000</td>\n",
       "      <td>0.000000</td>\n",
       "      <td>0.000000</td>\n",
       "    </tr>\n",
       "    <tr>\n",
       "      <td>550</td>\n",
       "      <td>-0.006900</td>\n",
       "      <td>-0.009827</td>\n",
       "      <td>0.761658</td>\n",
       "      <td>0.956098</td>\n",
       "      <td>0.946801</td>\n",
       "      <td>1.000000</td>\n",
       "      <td>1.000000</td>\n",
       "      <td>1.000000</td>\n",
       "      <td>0.550000</td>\n",
       "      <td>0.916667</td>\n",
       "      <td>0.893750</td>\n",
       "      <td>0.766714</td>\n",
       "      <td>0.969424</td>\n",
       "      <td>0.959666</td>\n",
       "      <td>0.333333</td>\n",
       "      <td>1.000000</td>\n",
       "      <td>0.928571</td>\n",
       "      <td>0.640000</td>\n",
       "      <td>0.640000</td>\n",
       "      <td>0.640000</td>\n",
       "      <td>1.000000</td>\n",
       "      <td>1.000000</td>\n",
       "      <td>1.000000</td>\n",
       "      <td>0.000000</td>\n",
       "      <td>0.000000</td>\n",
       "      <td>0.000000</td>\n",
       "    </tr>\n",
       "    <tr>\n",
       "      <td>600</td>\n",
       "      <td>-0.011200</td>\n",
       "      <td>-0.009364</td>\n",
       "      <td>0.714458</td>\n",
       "      <td>0.964228</td>\n",
       "      <td>0.951435</td>\n",
       "      <td>1.000000</td>\n",
       "      <td>1.000000</td>\n",
       "      <td>1.000000</td>\n",
       "      <td>0.523810</td>\n",
       "      <td>0.916667</td>\n",
       "      <td>0.890966</td>\n",
       "      <td>0.734777</td>\n",
       "      <td>0.976619</td>\n",
       "      <td>0.964410</td>\n",
       "      <td>0.333333</td>\n",
       "      <td>1.000000</td>\n",
       "      <td>0.928571</td>\n",
       "      <td>0.369565</td>\n",
       "      <td>0.680000</td>\n",
       "      <td>0.658718</td>\n",
       "      <td>1.000000</td>\n",
       "      <td>1.000000</td>\n",
       "      <td>1.000000</td>\n",
       "      <td>0.000000</td>\n",
       "      <td>0.000000</td>\n",
       "      <td>0.000000</td>\n",
       "    </tr>\n",
       "    <tr>\n",
       "      <td>650</td>\n",
       "      <td>-0.011000</td>\n",
       "      <td>-0.009508</td>\n",
       "      <td>0.745247</td>\n",
       "      <td>0.956098</td>\n",
       "      <td>0.945805</td>\n",
       "      <td>1.000000</td>\n",
       "      <td>1.000000</td>\n",
       "      <td>1.000000</td>\n",
       "      <td>0.578947</td>\n",
       "      <td>0.916667</td>\n",
       "      <td>0.896552</td>\n",
       "      <td>0.763121</td>\n",
       "      <td>0.967626</td>\n",
       "      <td>0.957754</td>\n",
       "      <td>0.333333</td>\n",
       "      <td>1.000000</td>\n",
       "      <td>0.928571</td>\n",
       "      <td>0.414634</td>\n",
       "      <td>0.680000</td>\n",
       "      <td>0.663664</td>\n",
       "      <td>1.000000</td>\n",
       "      <td>1.000000</td>\n",
       "      <td>1.000000</td>\n",
       "      <td>0.000000</td>\n",
       "      <td>0.000000</td>\n",
       "      <td>0.000000</td>\n",
       "    </tr>\n",
       "    <tr>\n",
       "      <td>700</td>\n",
       "      <td>-0.010400</td>\n",
       "      <td>-0.009647</td>\n",
       "      <td>0.756098</td>\n",
       "      <td>0.957724</td>\n",
       "      <td>0.948000</td>\n",
       "      <td>1.000000</td>\n",
       "      <td>1.000000</td>\n",
       "      <td>1.000000</td>\n",
       "      <td>0.550000</td>\n",
       "      <td>0.916667</td>\n",
       "      <td>0.893750</td>\n",
       "      <td>0.775540</td>\n",
       "      <td>0.969424</td>\n",
       "      <td>0.960192</td>\n",
       "      <td>0.333333</td>\n",
       "      <td>1.000000</td>\n",
       "      <td>0.928571</td>\n",
       "      <td>0.425000</td>\n",
       "      <td>0.680000</td>\n",
       "      <td>0.664662</td>\n",
       "      <td>1.000000</td>\n",
       "      <td>1.000000</td>\n",
       "      <td>1.000000</td>\n",
       "      <td>0.000000</td>\n",
       "      <td>0.000000</td>\n",
       "      <td>0.000000</td>\n",
       "    </tr>\n",
       "    <tr>\n",
       "      <td>750</td>\n",
       "      <td>-0.009100</td>\n",
       "      <td>-0.009559</td>\n",
       "      <td>0.763943</td>\n",
       "      <td>0.957724</td>\n",
       "      <td>0.948470</td>\n",
       "      <td>1.000000</td>\n",
       "      <td>1.000000</td>\n",
       "      <td>1.000000</td>\n",
       "      <td>0.550000</td>\n",
       "      <td>0.916667</td>\n",
       "      <td>0.893750</td>\n",
       "      <td>0.780029</td>\n",
       "      <td>0.969424</td>\n",
       "      <td>0.960455</td>\n",
       "      <td>0.333333</td>\n",
       "      <td>1.000000</td>\n",
       "      <td>0.928571</td>\n",
       "      <td>0.472222</td>\n",
       "      <td>0.680000</td>\n",
       "      <td>0.668684</td>\n",
       "      <td>1.000000</td>\n",
       "      <td>1.000000</td>\n",
       "      <td>1.000000</td>\n",
       "      <td>0.000000</td>\n",
       "      <td>0.000000</td>\n",
       "      <td>0.000000</td>\n",
       "    </tr>\n",
       "  </tbody>\n",
       "</table><p>"
      ],
      "text/plain": [
       "<IPython.core.display.HTML object>"
      ]
     },
     "metadata": {},
     "output_type": "display_data"
    },
    {
     "name": "stderr",
     "output_type": "stream",
     "text": [
      "The following columns in the evaluation set don't have a corresponding argument in `DebertaV2ForTokenClassification.forward` and have been ignored: trailing_whitespace, document, full_text, token_map, length, tokens, offset_mapping, provided_labels. If trailing_whitespace, document, full_text, token_map, length, tokens, offset_mapping, provided_labels are not expected by `DebertaV2ForTokenClassification.forward`,  you can safely ignore this message.\n",
      "***** Running Evaluation *****\n",
      "  Num examples = 1706\n",
      "  Batch size = 16\n",
      "Saving model checkpoint to output/fold_3/checkpoint-50\n",
      "Configuration saved in output/fold_3/checkpoint-50/config.json\n",
      "Model weights saved in output/fold_3/checkpoint-50/pytorch_model.bin\n",
      "tokenizer config file saved in output/fold_3/checkpoint-50/tokenizer_config.json\n",
      "Special tokens file saved in output/fold_3/checkpoint-50/special_tokens_map.json\n",
      "The following columns in the evaluation set don't have a corresponding argument in `DebertaV2ForTokenClassification.forward` and have been ignored: trailing_whitespace, document, full_text, token_map, length, tokens, offset_mapping, provided_labels. If trailing_whitespace, document, full_text, token_map, length, tokens, offset_mapping, provided_labels are not expected by `DebertaV2ForTokenClassification.forward`,  you can safely ignore this message.\n",
      "***** Running Evaluation *****\n",
      "  Num examples = 1706\n",
      "  Batch size = 16\n",
      "Saving model checkpoint to output/fold_3/checkpoint-100\n",
      "Configuration saved in output/fold_3/checkpoint-100/config.json\n",
      "Model weights saved in output/fold_3/checkpoint-100/pytorch_model.bin\n",
      "tokenizer config file saved in output/fold_3/checkpoint-100/tokenizer_config.json\n",
      "Special tokens file saved in output/fold_3/checkpoint-100/special_tokens_map.json\n",
      "Deleting older checkpoint [output/fold_3/checkpoint-50] due to args.save_total_limit\n",
      "The following columns in the evaluation set don't have a corresponding argument in `DebertaV2ForTokenClassification.forward` and have been ignored: trailing_whitespace, document, full_text, token_map, length, tokens, offset_mapping, provided_labels. If trailing_whitespace, document, full_text, token_map, length, tokens, offset_mapping, provided_labels are not expected by `DebertaV2ForTokenClassification.forward`,  you can safely ignore this message.\n",
      "***** Running Evaluation *****\n",
      "  Num examples = 1706\n",
      "  Batch size = 16\n",
      "Saving model checkpoint to output/fold_3/checkpoint-150\n",
      "Configuration saved in output/fold_3/checkpoint-150/config.json\n",
      "Model weights saved in output/fold_3/checkpoint-150/pytorch_model.bin\n",
      "tokenizer config file saved in output/fold_3/checkpoint-150/tokenizer_config.json\n",
      "Special tokens file saved in output/fold_3/checkpoint-150/special_tokens_map.json\n",
      "Deleting older checkpoint [output/fold_3/checkpoint-100] due to args.save_total_limit\n",
      "The following columns in the evaluation set don't have a corresponding argument in `DebertaV2ForTokenClassification.forward` and have been ignored: trailing_whitespace, document, full_text, token_map, length, tokens, offset_mapping, provided_labels. If trailing_whitespace, document, full_text, token_map, length, tokens, offset_mapping, provided_labels are not expected by `DebertaV2ForTokenClassification.forward`,  you can safely ignore this message.\n",
      "***** Running Evaluation *****\n",
      "  Num examples = 1706\n",
      "  Batch size = 16\n",
      "Saving model checkpoint to output/fold_3/checkpoint-200\n",
      "Configuration saved in output/fold_3/checkpoint-200/config.json\n",
      "Model weights saved in output/fold_3/checkpoint-200/pytorch_model.bin\n",
      "tokenizer config file saved in output/fold_3/checkpoint-200/tokenizer_config.json\n",
      "Special tokens file saved in output/fold_3/checkpoint-200/special_tokens_map.json\n",
      "The following columns in the evaluation set don't have a corresponding argument in `DebertaV2ForTokenClassification.forward` and have been ignored: trailing_whitespace, document, full_text, token_map, length, tokens, offset_mapping, provided_labels. If trailing_whitespace, document, full_text, token_map, length, tokens, offset_mapping, provided_labels are not expected by `DebertaV2ForTokenClassification.forward`,  you can safely ignore this message.\n",
      "***** Running Evaluation *****\n",
      "  Num examples = 1706\n",
      "  Batch size = 16\n",
      "Saving model checkpoint to output/fold_3/checkpoint-250\n",
      "Configuration saved in output/fold_3/checkpoint-250/config.json\n",
      "Model weights saved in output/fold_3/checkpoint-250/pytorch_model.bin\n",
      "tokenizer config file saved in output/fold_3/checkpoint-250/tokenizer_config.json\n",
      "Special tokens file saved in output/fold_3/checkpoint-250/special_tokens_map.json\n",
      "Deleting older checkpoint [output/fold_3/checkpoint-150] due to args.save_total_limit\n",
      "Deleting older checkpoint [output/fold_3/checkpoint-200] due to args.save_total_limit\n",
      "The following columns in the evaluation set don't have a corresponding argument in `DebertaV2ForTokenClassification.forward` and have been ignored: trailing_whitespace, document, full_text, token_map, length, tokens, offset_mapping, provided_labels. If trailing_whitespace, document, full_text, token_map, length, tokens, offset_mapping, provided_labels are not expected by `DebertaV2ForTokenClassification.forward`,  you can safely ignore this message.\n",
      "***** Running Evaluation *****\n",
      "  Num examples = 1706\n",
      "  Batch size = 16\n",
      "Saving model checkpoint to output/fold_3/checkpoint-300\n",
      "Configuration saved in output/fold_3/checkpoint-300/config.json\n",
      "Model weights saved in output/fold_3/checkpoint-300/pytorch_model.bin\n",
      "tokenizer config file saved in output/fold_3/checkpoint-300/tokenizer_config.json\n",
      "Special tokens file saved in output/fold_3/checkpoint-300/special_tokens_map.json\n",
      "Deleting older checkpoint [output/fold_3/checkpoint-250] due to args.save_total_limit\n",
      "The following columns in the evaluation set don't have a corresponding argument in `DebertaV2ForTokenClassification.forward` and have been ignored: trailing_whitespace, document, full_text, token_map, length, tokens, offset_mapping, provided_labels. If trailing_whitespace, document, full_text, token_map, length, tokens, offset_mapping, provided_labels are not expected by `DebertaV2ForTokenClassification.forward`,  you can safely ignore this message.\n",
      "***** Running Evaluation *****\n",
      "  Num examples = 1706\n",
      "  Batch size = 16\n",
      "Saving model checkpoint to output/fold_3/checkpoint-350\n",
      "Configuration saved in output/fold_3/checkpoint-350/config.json\n",
      "Model weights saved in output/fold_3/checkpoint-350/pytorch_model.bin\n",
      "tokenizer config file saved in output/fold_3/checkpoint-350/tokenizer_config.json\n",
      "Special tokens file saved in output/fold_3/checkpoint-350/special_tokens_map.json\n",
      "The following columns in the evaluation set don't have a corresponding argument in `DebertaV2ForTokenClassification.forward` and have been ignored: trailing_whitespace, document, full_text, token_map, length, tokens, offset_mapping, provided_labels. If trailing_whitespace, document, full_text, token_map, length, tokens, offset_mapping, provided_labels are not expected by `DebertaV2ForTokenClassification.forward`,  you can safely ignore this message.\n",
      "***** Running Evaluation *****\n",
      "  Num examples = 1706\n",
      "  Batch size = 16\n",
      "Saving model checkpoint to output/fold_3/checkpoint-400\n",
      "Configuration saved in output/fold_3/checkpoint-400/config.json\n",
      "Model weights saved in output/fold_3/checkpoint-400/pytorch_model.bin\n",
      "tokenizer config file saved in output/fold_3/checkpoint-400/tokenizer_config.json\n",
      "Special tokens file saved in output/fold_3/checkpoint-400/special_tokens_map.json\n",
      "Deleting older checkpoint [output/fold_3/checkpoint-350] due to args.save_total_limit\n",
      "The following columns in the evaluation set don't have a corresponding argument in `DebertaV2ForTokenClassification.forward` and have been ignored: trailing_whitespace, document, full_text, token_map, length, tokens, offset_mapping, provided_labels. If trailing_whitespace, document, full_text, token_map, length, tokens, offset_mapping, provided_labels are not expected by `DebertaV2ForTokenClassification.forward`,  you can safely ignore this message.\n",
      "***** Running Evaluation *****\n",
      "  Num examples = 1706\n",
      "  Batch size = 16\n",
      "Saving model checkpoint to output/fold_3/checkpoint-450\n",
      "Configuration saved in output/fold_3/checkpoint-450/config.json\n",
      "Model weights saved in output/fold_3/checkpoint-450/pytorch_model.bin\n",
      "tokenizer config file saved in output/fold_3/checkpoint-450/tokenizer_config.json\n",
      "Special tokens file saved in output/fold_3/checkpoint-450/special_tokens_map.json\n",
      "Deleting older checkpoint [output/fold_3/checkpoint-300] due to args.save_total_limit\n",
      "Deleting older checkpoint [output/fold_3/checkpoint-400] due to args.save_total_limit\n",
      "The following columns in the evaluation set don't have a corresponding argument in `DebertaV2ForTokenClassification.forward` and have been ignored: trailing_whitespace, document, full_text, token_map, length, tokens, offset_mapping, provided_labels. If trailing_whitespace, document, full_text, token_map, length, tokens, offset_mapping, provided_labels are not expected by `DebertaV2ForTokenClassification.forward`,  you can safely ignore this message.\n",
      "***** Running Evaluation *****\n",
      "  Num examples = 1706\n",
      "  Batch size = 16\n",
      "Saving model checkpoint to output/fold_3/checkpoint-500\n",
      "Configuration saved in output/fold_3/checkpoint-500/config.json\n",
      "Model weights saved in output/fold_3/checkpoint-500/pytorch_model.bin\n",
      "tokenizer config file saved in output/fold_3/checkpoint-500/tokenizer_config.json\n",
      "Special tokens file saved in output/fold_3/checkpoint-500/special_tokens_map.json\n",
      "The following columns in the evaluation set don't have a corresponding argument in `DebertaV2ForTokenClassification.forward` and have been ignored: trailing_whitespace, document, full_text, token_map, length, tokens, offset_mapping, provided_labels. If trailing_whitespace, document, full_text, token_map, length, tokens, offset_mapping, provided_labels are not expected by `DebertaV2ForTokenClassification.forward`,  you can safely ignore this message.\n",
      "***** Running Evaluation *****\n",
      "  Num examples = 1706\n",
      "  Batch size = 16\n",
      "Saving model checkpoint to output/fold_3/checkpoint-550\n",
      "Configuration saved in output/fold_3/checkpoint-550/config.json\n",
      "Model weights saved in output/fold_3/checkpoint-550/pytorch_model.bin\n",
      "tokenizer config file saved in output/fold_3/checkpoint-550/tokenizer_config.json\n",
      "Special tokens file saved in output/fold_3/checkpoint-550/special_tokens_map.json\n",
      "Deleting older checkpoint [output/fold_3/checkpoint-500] due to args.save_total_limit\n",
      "The following columns in the evaluation set don't have a corresponding argument in `DebertaV2ForTokenClassification.forward` and have been ignored: trailing_whitespace, document, full_text, token_map, length, tokens, offset_mapping, provided_labels. If trailing_whitespace, document, full_text, token_map, length, tokens, offset_mapping, provided_labels are not expected by `DebertaV2ForTokenClassification.forward`,  you can safely ignore this message.\n",
      "***** Running Evaluation *****\n",
      "  Num examples = 1706\n",
      "  Batch size = 16\n",
      "Saving model checkpoint to output/fold_3/checkpoint-600\n",
      "Configuration saved in output/fold_3/checkpoint-600/config.json\n",
      "Model weights saved in output/fold_3/checkpoint-600/pytorch_model.bin\n",
      "tokenizer config file saved in output/fold_3/checkpoint-600/tokenizer_config.json\n",
      "Special tokens file saved in output/fold_3/checkpoint-600/special_tokens_map.json\n",
      "Deleting older checkpoint [output/fold_3/checkpoint-550] due to args.save_total_limit\n",
      "The following columns in the evaluation set don't have a corresponding argument in `DebertaV2ForTokenClassification.forward` and have been ignored: trailing_whitespace, document, full_text, token_map, length, tokens, offset_mapping, provided_labels. If trailing_whitespace, document, full_text, token_map, length, tokens, offset_mapping, provided_labels are not expected by `DebertaV2ForTokenClassification.forward`,  you can safely ignore this message.\n",
      "***** Running Evaluation *****\n",
      "  Num examples = 1706\n",
      "  Batch size = 16\n",
      "Saving model checkpoint to output/fold_3/checkpoint-650\n",
      "Configuration saved in output/fold_3/checkpoint-650/config.json\n",
      "Model weights saved in output/fold_3/checkpoint-650/pytorch_model.bin\n",
      "tokenizer config file saved in output/fold_3/checkpoint-650/tokenizer_config.json\n",
      "Special tokens file saved in output/fold_3/checkpoint-650/special_tokens_map.json\n",
      "Deleting older checkpoint [output/fold_3/checkpoint-600] due to args.save_total_limit\n",
      "The following columns in the evaluation set don't have a corresponding argument in `DebertaV2ForTokenClassification.forward` and have been ignored: trailing_whitespace, document, full_text, token_map, length, tokens, offset_mapping, provided_labels. If trailing_whitespace, document, full_text, token_map, length, tokens, offset_mapping, provided_labels are not expected by `DebertaV2ForTokenClassification.forward`,  you can safely ignore this message.\n",
      "***** Running Evaluation *****\n",
      "  Num examples = 1706\n",
      "  Batch size = 16\n",
      "Saving model checkpoint to output/fold_3/checkpoint-700\n",
      "Configuration saved in output/fold_3/checkpoint-700/config.json\n",
      "Model weights saved in output/fold_3/checkpoint-700/pytorch_model.bin\n",
      "tokenizer config file saved in output/fold_3/checkpoint-700/tokenizer_config.json\n",
      "Special tokens file saved in output/fold_3/checkpoint-700/special_tokens_map.json\n",
      "Deleting older checkpoint [output/fold_3/checkpoint-650] due to args.save_total_limit\n",
      "The following columns in the evaluation set don't have a corresponding argument in `DebertaV2ForTokenClassification.forward` and have been ignored: trailing_whitespace, document, full_text, token_map, length, tokens, offset_mapping, provided_labels. If trailing_whitespace, document, full_text, token_map, length, tokens, offset_mapping, provided_labels are not expected by `DebertaV2ForTokenClassification.forward`,  you can safely ignore this message.\n",
      "***** Running Evaluation *****\n",
      "  Num examples = 1706\n",
      "  Batch size = 16\n",
      "Saving model checkpoint to output/fold_3/checkpoint-750\n",
      "Configuration saved in output/fold_3/checkpoint-750/config.json\n",
      "Model weights saved in output/fold_3/checkpoint-750/pytorch_model.bin\n",
      "tokenizer config file saved in output/fold_3/checkpoint-750/tokenizer_config.json\n",
      "Special tokens file saved in output/fold_3/checkpoint-750/special_tokens_map.json\n",
      "Deleting older checkpoint [output/fold_3/checkpoint-700] due to args.save_total_limit\n",
      "\n",
      "\n",
      "Training completed. Do not forget to share your model on huggingface.co/models =)\n",
      "\n",
      "\n",
      "Loading best model from output/fold_3/checkpoint-450 (score: 0.9526135808500243).\n",
      "The following columns in the evaluation set don't have a corresponding argument in `DebertaV2ForTokenClassification.forward` and have been ignored: trailing_whitespace, document, full_text, token_map, length, tokens, offset_mapping, provided_labels. If trailing_whitespace, document, full_text, token_map, length, tokens, offset_mapping, provided_labels are not expected by `DebertaV2ForTokenClassification.forward`,  you can safely ignore this message.\n",
      "***** Running Evaluation *****\n",
      "  Num examples = 1706\n",
      "  Batch size = 16\n"
     ]
    },
    {
     "data": {
      "text/html": [
       "\n",
       "    <div>\n",
       "      \n",
       "      <progress value='107' max='107' style='width:300px; height:20px; vertical-align: middle;'></progress>\n",
       "      [107/107 00:43]\n",
       "    </div>\n",
       "    "
      ],
      "text/plain": [
       "<IPython.core.display.HTML object>"
      ]
     },
     "metadata": {},
     "output_type": "display_data"
    },
    {
     "data": {
      "text/html": [
       "Waiting for W&B process to finish... <strong style=\"color:green\">(success).</strong>"
      ],
      "text/plain": [
       "<IPython.core.display.HTML object>"
      ]
     },
     "metadata": {},
     "output_type": "display_data"
    },
    {
     "data": {
      "text/html": [
       "<style>\n",
       "    table.wandb td:nth-child(1) { padding: 0 10px; text-align: left ; width: auto;} td:nth-child(2) {text-align: left ; width: 100%}\n",
       "    .wandb-row { display: flex; flex-direction: row; flex-wrap: wrap; justify-content: flex-start; width: 100% }\n",
       "    .wandb-col { display: flex; flex-direction: column; flex-basis: 100%; flex: 1; padding: 10px; }\n",
       "    </style>\n",
       "<div class=\"wandb-row\"><div class=\"wandb-col\"><h3>Run history:</h3><br/><table class=\"wandb\"><tr><td>eval/f5</td><td>▁▇██████████████</td></tr><tr><td>eval/f5-EMAIL</td><td>▁▁▁▁▁▁▁▁▁▁▁▁▁▁▁▁</td></tr><tr><td>eval/f5-ID_NUM</td><td>▁███████████████</td></tr><tr><td>eval/f5-NAME_STUDENT</td><td>▁▇██████████████</td></tr><tr><td>eval/f5-PHONE_NUM</td><td>▁▁▁▁▁▁▁▁▁▁▁▁▁▁▁▁</td></tr><tr><td>eval/f5-STREET_ADDRESS</td><td>▁▁▁▁▁▁▁▁▁▁▁▁▁▁▁▁</td></tr><tr><td>eval/f5-URL_PERSONAL</td><td>▁█▆▆▆▆▆▆▆▇▆▆▆▆▆▆</td></tr><tr><td>eval/f5-USERNAME</td><td>▁▁▇█▇███▇██████▇</td></tr><tr><td>eval/loss</td><td>█▂▁▁▁▁▁▁▁▁▁▁▁▁▁▁</td></tr><tr><td>eval/p-EMAIL</td><td>▁▁▁▁▁▁▁▁▁▁▁▁▁▁▁▁</td></tr><tr><td>eval/p-ID_NUM</td><td>▁▅▇█▅▇▅▄▅▆▅▅▅▅▅▅</td></tr><tr><td>eval/p-NAME_STUDENT</td><td>▁▄▅█▇▆▇▇▆█▇▇▇▇▇▆</td></tr><tr><td>eval/p-PHONE_NUM</td><td>▁▁▁▁▁▁▁▁▁▁▁▁▁▁▁▁</td></tr><tr><td>eval/p-STREET_ADDRESS</td><td>▁▁▁▁▁▁▁▁▁▁▁▁▁▁▁▁</td></tr><tr><td>eval/p-URL_PERSONAL</td><td>▁▃▄▄▄▅▅▅▆██▅▆▆▆▆</td></tr><tr><td>eval/p-USERNAME</td><td>▁▁▄█▄▅▆▅▄█▆▆▆▆▆▄</td></tr><tr><td>eval/precision</td><td>█▁▃▆▅▄▅▅▄▆▅▅▅▅▅▄</td></tr><tr><td>eval/r-EMAIL</td><td>▁▁▁▁▁▁▁▁▁▁▁▁▁▁▁▁</td></tr><tr><td>eval/r-ID_NUM</td><td>▁███████████████</td></tr><tr><td>eval/r-NAME_STUDENT</td><td>▁▇█▇████████████</td></tr><tr><td>eval/r-PHONE_NUM</td><td>▁▁▁▁▁▁▁▁▁▁▁▁▁▁▁▁</td></tr><tr><td>eval/r-STREET_ADDRESS</td><td>▁▁▁▁▁▁▁▁▁▁▁▁▁▁▁▁</td></tr><tr><td>eval/r-URL_PERSONAL</td><td>▁█▆▆▆▆▅▆▆▆▅▆▆▆▆▆</td></tr><tr><td>eval/r-USERNAME</td><td>▁▁██████████████</td></tr><tr><td>eval/recall</td><td>▁██▇████████████</td></tr><tr><td>eval/runtime</td><td>█▁█▃█▄▄▂▂▃▄▃▅▃▄█</td></tr><tr><td>eval/samples_per_second</td><td>▁█▁▆▁▅▅▇▇▆▅▆▄▆▅▁</td></tr><tr><td>eval/steps_per_second</td><td>▁█▁▆▁▅▅▇▇▆▅▆▄▆▅▁</td></tr><tr><td>train/epoch</td><td>▁▁▁▂▂▂▂▂▂▃▃▃▃▃▄▄▄▄▄▄▅▅▅▅▅▆▆▆▆▆▇▇▇▇▇▇████</td></tr><tr><td>train/global_step</td><td>▁▁▁▂▂▂▂▂▂▃▃▃▃▃▄▄▄▄▄▄▅▅▅▅▅▆▆▆▆▆▇▇▇▇▇▇████</td></tr><tr><td>train/learning_rate</td><td>▁▂▄▆███▇▇▇▇▇▇▆▆▆▆▅▅▅▅▅▄▄▄▄▄▃▃▃▃▃▂▂▂▂▂▁▁▁</td></tr><tr><td>train/loss</td><td>██▂▁▁▁▁▁▁▁▁▁▁▁▁▁▁▁▁▁▁▁▁▁▁▁▁▁▁▁▁▁▁▁▁▁▁▁▁▁</td></tr><tr><td>train/total_flos</td><td>▁</td></tr><tr><td>train/train_loss</td><td>▁</td></tr><tr><td>train/train_runtime</td><td>▁</td></tr><tr><td>train/train_samples_per_second</td><td>▁</td></tr><tr><td>train/train_steps_per_second</td><td>▁</td></tr></table><br/></div><div class=\"wandb-col\"><h3>Run summary:</h3><br/><table class=\"wandb\"><tr><td>eval/f5</td><td>0.95261</td></tr><tr><td>eval/f5-EMAIL</td><td>1.0</td></tr><tr><td>eval/f5-ID_NUM</td><td>0.88545</td></tr><tr><td>eval/f5-NAME_STUDENT</td><td>0.96524</td></tr><tr><td>eval/f5-PHONE_NUM</td><td>1.0</td></tr><tr><td>eval/f5-STREET_ADDRESS</td><td>0.0</td></tr><tr><td>eval/f5-URL_PERSONAL</td><td>0.66767</td></tr><tr><td>eval/f5-USERNAME</td><td>0.86667</td></tr><tr><td>eval/loss</td><td>-0.00849</td></tr><tr><td>eval/p-EMAIL</td><td>1.0</td></tr><tr><td>eval/p-ID_NUM</td><td>0.47826</td></tr><tr><td>eval/p-NAME_STUDENT</td><td>0.60109</td></tr><tr><td>eval/p-PHONE_NUM</td><td>1.0</td></tr><tr><td>eval/p-STREET_ADDRESS</td><td>0.0</td></tr><tr><td>eval/p-URL_PERSONAL</td><td>0.45946</td></tr><tr><td>eval/p-USERNAME</td><td>0.2</td></tr><tr><td>eval/precision</td><td>0.5994</td></tr><tr><td>eval/r-EMAIL</td><td>1.0</td></tr><tr><td>eval/r-ID_NUM</td><td>0.91667</td></tr><tr><td>eval/r-NAME_STUDENT</td><td>0.98921</td></tr><tr><td>eval/r-PHONE_NUM</td><td>1.0</td></tr><tr><td>eval/r-STREET_ADDRESS</td><td>0.0</td></tr><tr><td>eval/r-URL_PERSONAL</td><td>0.68</td></tr><tr><td>eval/r-USERNAME</td><td>1.0</td></tr><tr><td>eval/recall</td><td>0.97561</td></tr><tr><td>eval/runtime</td><td>52.6008</td></tr><tr><td>eval/samples_per_second</td><td>32.433</td></tr><tr><td>eval/steps_per_second</td><td>2.034</td></tr><tr><td>train/epoch</td><td>3.0</td></tr><tr><td>train/global_step</td><td>756</td></tr><tr><td>train/learning_rate</td><td>0.0</td></tr><tr><td>train/loss</td><td>-0.0091</td></tr><tr><td>train/total_flos</td><td>3100681543156896.0</td></tr><tr><td>train/train_loss</td><td>0.21488</td></tr><tr><td>train/train_runtime</td><td>1296.8387</td></tr><tr><td>train/train_samples_per_second</td><td>9.311</td></tr><tr><td>train/train_steps_per_second</td><td>0.583</td></tr></table><br/></div></div>"
      ],
      "text/plain": [
       "<IPython.core.display.HTML object>"
      ]
     },
     "metadata": {},
     "output_type": "display_data"
    },
    {
     "data": {
      "text/html": [
       "Synced <strong style=\"color:#cdcd00\">fold-3</strong>: <a href=\"https://wandb.ai/emiz6413/PII/runs/21yynvi8\" target=\"_blank\">https://wandb.ai/emiz6413/PII/runs/21yynvi8</a><br/>Synced 5 W&B file(s), 0 media file(s), 0 artifact file(s) and 0 other file(s)"
      ],
      "text/plain": [
       "<IPython.core.display.HTML object>"
      ]
     },
     "metadata": {},
     "output_type": "display_data"
    },
    {
     "data": {
      "text/html": [
       "Find logs at: <code>./wandb/run-20240226_095529-21yynvi8/logs</code>"
      ],
      "text/plain": [
       "<IPython.core.display.HTML object>"
      ]
     },
     "metadata": {},
     "output_type": "display_data"
    }
   ],
   "source": [
    "for fold_idx, (train_idx, eval_idx) in enumerate(folds):\n",
    "    args.run_name = f\"fold-{fold_idx}\"\n",
    "    args.output_dir = os.path.join(OUTPUT_DIR, f\"fold_{fold_idx}\")\n",
    "    if Path(args.output_dir).joinpath(\"eval_result.json\").exists():\n",
    "        continue\n",
    "    original_ds = ds[\"original\"].select([i for i in train_idx if i not in exclude_indices])\n",
    "    train_ds = concatenate_datasets([original_ds, ds[\"extra\"]])\n",
    "    train_ds = train_ds.map(train_encoder, num_proc=os.cpu_count())\n",
    "    train_ds.set_transform(train_augmentation)\n",
    "    eval_ds = ds[\"original\"].select(eval_idx)\n",
    "    eval_ds = eval_ds.map(eval_encoder, num_proc=os.cpu_count())\n",
    "    trainer = CustomTrainer(\n",
    "        args=args,\n",
    "        model_init=model_init,\n",
    "        train_dataset=train_ds,\n",
    "        eval_dataset=eval_ds,\n",
    "        tokenizer=tokenizer,\n",
    "        compute_metrics=MetricsComputerV2(eval_ds=eval_ds, label2id=label2id),\n",
    "        data_collator=DataCollatorForTokenClassification(tokenizer, pad_to_multiple_of=16),\n",
    "    )\n",
    "    trainer.train()\n",
    "    eval_res = trainer.evaluate(eval_dataset=eval_ds)\n",
    "    with open(os.path.join(args.output_dir, \"eval_result.json\"), \"w\") as f:\n",
    "        json.dump(eval_res, f)\n",
    "    del trainer\n",
    "    gc.collect()\n",
    "    torch.cuda.empty_cache()\n",
    "    wandb.finish()"
   ]
  },
  {
   "cell_type": "markdown",
   "id": "9a63b7bc-9eb2-4757-a8f0-f1ca2eb919a9",
   "metadata": {},
   "source": [
    "#### Log CV"
   ]
  },
  {
   "cell_type": "code",
   "execution_count": 22,
   "id": "745e728f-c54b-432d-aa83-c5b96c1dd634",
   "metadata": {},
   "outputs": [
    {
     "data": {
      "text/html": [
       "wandb version 0.16.3 is available!  To upgrade, please run:\n",
       " $ pip install wandb --upgrade"
      ],
      "text/plain": [
       "<IPython.core.display.HTML object>"
      ]
     },
     "metadata": {},
     "output_type": "display_data"
    },
    {
     "data": {
      "text/html": [
       "Tracking run with wandb version 0.13.4"
      ],
      "text/plain": [
       "<IPython.core.display.HTML object>"
      ]
     },
     "metadata": {},
     "output_type": "display_data"
    },
    {
     "data": {
      "text/html": [
       "Run data is saved locally in <code>/notebooks/notebooks/wandb/run-20240226_101818-3skkalc2</code>"
      ],
      "text/plain": [
       "<IPython.core.display.HTML object>"
      ]
     },
     "metadata": {},
     "output_type": "display_data"
    },
    {
     "data": {
      "text/html": [
       "Syncing run <strong><a href=\"https://wandb.ai/emiz6413/PII/runs/3skkalc2\" target=\"_blank\">cv</a></strong> to <a href=\"https://wandb.ai/emiz6413/PII\" target=\"_blank\">Weights & Biases</a> (<a href=\"https://wandb.me/run\" target=\"_blank\">docs</a>)<br/>"
      ],
      "text/plain": [
       "<IPython.core.display.HTML object>"
      ]
     },
     "metadata": {},
     "output_type": "display_data"
    },
    {
     "data": {
      "text/html": [
       "Waiting for W&B process to finish... <strong style=\"color:green\">(success).</strong>"
      ],
      "text/plain": [
       "<IPython.core.display.HTML object>"
      ]
     },
     "metadata": {},
     "output_type": "display_data"
    },
    {
     "data": {
      "text/html": [
       "Synced <strong style=\"color:#cdcd00\">cv</strong>: <a href=\"https://wandb.ai/emiz6413/PII/runs/3skkalc2\" target=\"_blank\">https://wandb.ai/emiz6413/PII/runs/3skkalc2</a><br/>Synced 4 W&B file(s), 1 media file(s), 1 artifact file(s) and 0 other file(s)"
      ],
      "text/plain": [
       "<IPython.core.display.HTML object>"
      ]
     },
     "metadata": {},
     "output_type": "display_data"
    },
    {
     "data": {
      "text/html": [
       "Find logs at: <code>./wandb/run-20240226_101818-3skkalc2/logs</code>"
      ],
      "text/plain": [
       "<IPython.core.display.HTML object>"
      ]
     },
     "metadata": {},
     "output_type": "display_data"
    }
   ],
   "source": [
    "# log cv result\n",
    "wandb.init(name=\"cv\")\n",
    "results = dict()\n",
    "for res_json_path in Path(OUTPUT_DIR).glob(\"fold*/eval_result.json\"):\n",
    "    fold = res_json_path.parent.name.split(\"_\")[-1]\n",
    "    with open(res_json_path, \"r\") as f:\n",
    "        res = json.load(f)\n",
    "        results[fold] = {k.replace(\"eval_\", \"\"): v for k, v in res.items()}\n",
    "results[\"cv\"] = {key: np.mean([r[key] for r in results.values()]) for key in results[\"0\"].keys()}\n",
    "table = wandb.Table(columns=[\"fold\"] + list(results[\"0\"].keys()))\n",
    "for f, res in results.items():\n",
    "    table.add_data(f, *[res[c] for c in table.columns if c != \"fold\"])\n",
    "wandb.log({\"eval_result\": table})\n",
    "wandb.finish()"
   ]
  },
  {
   "cell_type": "markdown",
   "id": "3af79fbd-6091-43d8-8db6-a8c24fe94a3b",
   "metadata": {},
   "source": [
    "#### Train with full data"
   ]
  },
  {
   "cell_type": "code",
   "execution_count": 23,
   "id": "1fbd36d3-579a-4965-982b-00c2e1887c50",
   "metadata": {
    "scrolled": true,
    "tags": []
   },
   "outputs": [
    {
     "name": "stdout",
     "output_type": "stream",
     "text": [
      "         "
     ]
    },
    {
     "data": {
      "application/vnd.jupyter.widget-view+json": {
       "model_id": "38399188a48747028459b7a303d11f8c",
       "version_major": 2,
       "version_minor": 0
      },
      "text/plain": [
       "#0:   0%|          | 0/594 [00:00<?, ?ex/s]"
      ]
     },
     "metadata": {},
     "output_type": "display_data"
    },
    {
     "name": "stdout",
     "output_type": "stream",
     "text": [
      " "
     ]
    },
    {
     "data": {
      "application/vnd.jupyter.widget-view+json": {
       "model_id": "160a0632ad5349a8aab8dcdc1ffe1951",
       "version_major": 2,
       "version_minor": 0
      },
      "text/plain": [
       "#1:   0%|          | 0/594 [00:00<?, ?ex/s]"
      ]
     },
     "metadata": {},
     "output_type": "display_data"
    },
    {
     "name": "stdout",
     "output_type": "stream",
     "text": [
      " "
     ]
    },
    {
     "data": {
      "application/vnd.jupyter.widget-view+json": {
       "model_id": "c21f4990f1784b81b28d28ae41caf858",
       "version_major": 2,
       "version_minor": 0
      },
      "text/plain": [
       "#2:   0%|          | 0/594 [00:00<?, ?ex/s]"
      ]
     },
     "metadata": {},
     "output_type": "display_data"
    },
    {
     "name": "stdout",
     "output_type": "stream",
     "text": [
      " "
     ]
    },
    {
     "data": {
      "application/vnd.jupyter.widget-view+json": {
       "model_id": "f5c7e32b3cfa40fdaf7cd4669215c28a",
       "version_major": 2,
       "version_minor": 0
      },
      "text/plain": [
       "#3:   0%|          | 0/594 [00:00<?, ?ex/s]"
      ]
     },
     "metadata": {},
     "output_type": "display_data"
    },
    {
     "name": "stdout",
     "output_type": "stream",
     "text": [
      " "
     ]
    },
    {
     "data": {
      "application/vnd.jupyter.widget-view+json": {
       "model_id": "46617509f84d498281ca12d6724aad9c",
       "version_major": 2,
       "version_minor": 0
      },
      "text/plain": [
       "#4:   0%|          | 0/594 [00:00<?, ?ex/s]"
      ]
     },
     "metadata": {},
     "output_type": "display_data"
    },
    {
     "name": "stdout",
     "output_type": "stream",
     "text": [
      " "
     ]
    },
    {
     "data": {
      "application/vnd.jupyter.widget-view+json": {
       "model_id": "c5ed3441ab6a4536afbd34981b2e9a77",
       "version_major": 2,
       "version_minor": 0
      },
      "text/plain": [
       "#5:   0%|          | 0/593 [00:00<?, ?ex/s]"
      ]
     },
     "metadata": {},
     "output_type": "display_data"
    },
    {
     "name": "stdout",
     "output_type": "stream",
     "text": [
      " "
     ]
    },
    {
     "data": {
      "application/vnd.jupyter.widget-view+json": {
       "model_id": "7cf566debed34ad396eaa335ed7f8512",
       "version_major": 2,
       "version_minor": 0
      },
      "text/plain": [
       "#6:   0%|          | 0/593 [00:00<?, ?ex/s]"
      ]
     },
     "metadata": {},
     "output_type": "display_data"
    },
    {
     "name": "stdout",
     "output_type": "stream",
     "text": [
      " "
     ]
    },
    {
     "data": {
      "application/vnd.jupyter.widget-view+json": {
       "model_id": "0fb1509f1f7c464bb0ecfc6e53107e71",
       "version_major": 2,
       "version_minor": 0
      },
      "text/plain": [
       "#7:   0%|          | 0/593 [00:00<?, ?ex/s]"
      ]
     },
     "metadata": {},
     "output_type": "display_data"
    },
    {
     "ename": "NameError",
     "evalue": "name 'FocalLossTrainer' is not defined",
     "output_type": "error",
     "traceback": [
      "\u001b[0;31m---------------------------------------------------------------------------\u001b[0m",
      "\u001b[0;31mNameError\u001b[0m                                 Traceback (most recent call last)",
      "Cell \u001b[0;32mIn [23], line 8\u001b[0m\n\u001b[1;32m      6\u001b[0m args\u001b[38;5;241m.\u001b[39msave_strategy \u001b[38;5;241m=\u001b[39m \u001b[38;5;124m\"\u001b[39m\u001b[38;5;124mno\u001b[39m\u001b[38;5;124m\"\u001b[39m\n\u001b[1;32m      7\u001b[0m args\u001b[38;5;241m.\u001b[39mrun_name \u001b[38;5;241m=\u001b[39m \u001b[38;5;124mf\u001b[39m\u001b[38;5;124m\"\u001b[39m\u001b[38;5;124mall_data\u001b[39m\u001b[38;5;124m\"\u001b[39m\n\u001b[0;32m----> 8\u001b[0m trainer \u001b[38;5;241m=\u001b[39m \u001b[43mFocalLossTrainer\u001b[49m(\n\u001b[1;32m      9\u001b[0m     args\u001b[38;5;241m=\u001b[39margs,\n\u001b[1;32m     10\u001b[0m     model_init\u001b[38;5;241m=\u001b[39mmodel_init,\n\u001b[1;32m     11\u001b[0m     train_dataset\u001b[38;5;241m=\u001b[39mtrain_ds,\n\u001b[1;32m     12\u001b[0m     tokenizer\u001b[38;5;241m=\u001b[39mtokenizer,\n\u001b[1;32m     13\u001b[0m     data_collator\u001b[38;5;241m=\u001b[39mDataCollatorForTokenClassification(tokenizer, pad_to_multiple_of\u001b[38;5;241m=\u001b[39m\u001b[38;5;241m16\u001b[39m),\n\u001b[1;32m     14\u001b[0m )\n\u001b[1;32m     15\u001b[0m trainer\u001b[38;5;241m.\u001b[39mtrain()\n\u001b[1;32m     16\u001b[0m trainer\u001b[38;5;241m.\u001b[39msave_model(os\u001b[38;5;241m.\u001b[39mpath\u001b[38;5;241m.\u001b[39mjoin(OUTPUT_DIR, \u001b[38;5;124m\"\u001b[39m\u001b[38;5;124mall\u001b[39m\u001b[38;5;124m\"\u001b[39m))                 \n",
      "\u001b[0;31mNameError\u001b[0m: name 'FocalLossTrainer' is not defined"
     ]
    }
   ],
   "source": [
    "original_ds = ds[\"original\"].select([i for i in range(len(ds[\"original\"])) if i not in exclude_indices])\n",
    "train_ds = concatenate_datasets([original_ds, ds[\"extra\"]])\n",
    "train_ds = train_ds.map(train_encoder, num_proc=os.cpu_count())\n",
    "train_ds.set_transform(train_augmentation)\n",
    "args.evaluation_strategy = \"no\"\n",
    "args.save_strategy = \"no\"\n",
    "args.run_name = f\"all_data\"\n",
    "trainer = FocalLossTrainer(\n",
    "    args=args,\n",
    "    model_init=model_init,\n",
    "    train_dataset=train_ds,\n",
    "    tokenizer=tokenizer,\n",
    "    data_collator=DataCollatorForTokenClassification(tokenizer, pad_to_multiple_of=16),\n",
    ")\n",
    "trainer.train()\n",
    "trainer.save_model(os.path.join(OUTPUT_DIR, \"all\"))                 \n",
    "wandb.finish()"
   ]
  },
  {
   "cell_type": "code",
   "execution_count": null,
   "id": "0159a3d2-c25b-4d54-b017-64993c6f1c6b",
   "metadata": {},
   "outputs": [],
   "source": []
  }
 ],
 "metadata": {
  "kernelspec": {
   "display_name": "Python 3 (ipykernel)",
   "language": "python",
   "name": "python3"
  },
  "language_info": {
   "codemirror_mode": {
    "name": "ipython",
    "version": 3
   },
   "file_extension": ".py",
   "mimetype": "text/x-python",
   "name": "python",
   "nbconvert_exporter": "python",
   "pygments_lexer": "ipython3",
   "version": "3.9.16"
  }
 },
 "nbformat": 4,
 "nbformat_minor": 5
}
