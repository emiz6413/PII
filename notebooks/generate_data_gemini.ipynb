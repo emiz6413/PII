{
 "cells": [
  {
   "cell_type": "code",
   "execution_count": 1,
   "id": "fdb1ddfd-e666-4ae4-90d2-8d1250a745e0",
   "metadata": {},
   "outputs": [],
   "source": [
    "# !pip install -q google-generativeai "
   ]
  },
  {
   "cell_type": "code",
   "execution_count": 2,
   "id": "dba4501b-dc05-4027-a101-7eefad49932a",
   "metadata": {},
   "outputs": [],
   "source": [
    "import os\n",
    "from pathlib import Path\n",
    "from pprint import pp\n",
    "import random\n",
    "import sys\n",
    "import textwrap\n",
    "import time\n",
    "\n",
    "import numpy as np\n",
    "import pandas as pd\n",
    "from tqdm.auto import tqdm\n",
    "\n",
    "import google.generativeai as genai"
   ]
  },
  {
   "cell_type": "code",
   "execution_count": 3,
   "id": "d7350c21-1cbf-4f71-81d1-72119048e3e3",
   "metadata": {},
   "outputs": [
    {
     "name": "stdout",
     "output_type": "stream",
     "text": [
      "Running python 3.10.13 (main, Sep 11 2023, 08:16:02) [Clang 14.0.6 ]\n",
      "generativeai: 0.3.2\n"
     ]
    }
   ],
   "source": [
    "print(f\"Running python {sys.version}\")\n",
    "print(f\"generativeai: {genai.__version__}\")"
   ]
  },
  {
   "cell_type": "code",
   "execution_count": 4,
   "id": "d1eeb960-894e-4d90-b3aa-3d194fce5714",
   "metadata": {},
   "outputs": [],
   "source": [
    "RNG_SEED = 20240229\n",
    "random.seed(RNG_SEED)\n",
    "np.random.seed(RNG_SEED)"
   ]
  },
  {
   "cell_type": "code",
   "execution_count": 5,
   "id": "ae147765-fc2a-4b24-bedf-09318bd0d10b",
   "metadata": {},
   "outputs": [],
   "source": [
    "KAGGLE = False\n",
    "REMOTE = False\n",
    "\n",
    "if KAGGLE:\n",
    "    ...\n",
    "elif REMOTE:\n",
    "    ...\n",
    "else:\n",
    "    GOOGLE_API_KEY=os.getenv('GOOGLE_API_KEY')"
   ]
  },
  {
   "cell_type": "code",
   "execution_count": 6,
   "id": "d572e06b-ea54-46fc-b6e3-347838b6f6ea",
   "metadata": {},
   "outputs": [],
   "source": [
    "genai.configure(api_key=GOOGLE_API_KEY)"
   ]
  },
  {
   "cell_type": "code",
   "execution_count": 7,
   "id": "f2778a5b-5970-4faa-88c0-baf38d51ed25",
   "metadata": {},
   "outputs": [
    {
     "name": "stdout",
     "output_type": "stream",
     "text": [
      "Using model 'models/gemini-pro'\n",
      "Generation config:\n",
      "{'candidate_count': 1,\n",
      " 'stop_sequences': None,\n",
      " 'max_output_tokens': 4096,\n",
      " 'temperature': 0.85,\n",
      " 'top_p': 0.95,\n",
      " 'top_k': 60}\n"
     ]
    }
   ],
   "source": [
    "# See: https://ai.google.dev/api/python/google/generativeai/GenerationConfig\n",
    "\n",
    "config = {\n",
    "    \"candidate_count\": 1,   # default (>1 will raise an exception)\n",
    "    \"stop_sequences\": None,  \n",
    "    \"max_output_tokens\": 4096,  # seems largely to be ignored!\n",
    "    \"temperature\": 0.85,  # 0 <= t <= 1.0, closer to 1.0 is more random/\"creative\" output\n",
    "    \"top_p\": 0.95,  # maximum cumulative probability of tokens to consider when sampling\n",
    "    \"top_k\": 60,  # defaults to 40 (maximum number of tokens to be considered when sampling)\n",
    "}\n",
    "\n",
    "generation_config = genai.types.GenerationConfig(**config)\n",
    "model = genai.GenerativeModel('gemini-pro', generation_config=generation_config)\n",
    "print(f\"Using model {model.model_name!r}\")\n",
    "print(f\"Generation config:\")\n",
    "pp(config)"
   ]
  },
  {
   "cell_type": "code",
   "execution_count": 47,
   "id": "30f5c944-4635-45e9-89cf-0870d9169709",
   "metadata": {},
   "outputs": [],
   "source": [
    "template1 = \"\"\"Instructions\n",
    "\n",
    "You are {name}, a student in a course about Design Thinking at Berkeley College.\n",
    "You are asked to write a short essay about {topic} as design thinking tool.\n",
    "Your essay should be about 1000 to 2000 words long. \n",
    "\n",
    "The title of your essay should be \"{title}\". Include the author name (your name) after the title.\n",
    "\n",
    "At the end of the  essay or at the start you should mention your name, your email address, and other personal information,\n",
    "such as your student username (lowercased), your street address or your telephone number. For each of those entries, please make sure\n",
    "to tag the text with XML element tags, using the tags:\n",
    "- <NAME>\n",
    "- <EMAIL>\n",
    "- <USERNAME>\n",
    "- <ADDRESS>\n",
    "- <PHONE_NUM>\n",
    "For example, you could start the essay as '\"{title}\" by <NAME_STUDENT>{name}</NAME_STUDENT>\". \n",
    "\n",
    "Your earlier homeworks are available on your student website. Make sure to mention this student web url in your essay.  \n",
    "Tag the url with the XML element tags \"<URL>...</URL>\".\n",
    "\n",
    "You may use the following questions as guideline to structure your essay:\n",
    "- What was the problem or the challenge you tried to solve? Perhaps tell something about your background.\n",
    "- What is the {topic} tool and why did you select it for your challenge?\n",
    "- Which insights did you gain from applying the tool?\n",
    "- What would you do differently next time? Would you select the same tool?\n",
    "\n",
    "At the end of the essay, please also include a short list of fictional or actual literature references,\n",
    "including references to relevant online resources and to your student url.\n",
    "\"\"\""
   ]
  },
  {
   "cell_type": "code",
   "execution_count": 65,
   "id": "9ec8f90d-7944-4118-a248-36084b978d63",
   "metadata": {},
   "outputs": [],
   "source": [
    "template2 = \"\"\"Instructions\n",
    "\n",
    "You are {name}, a student in a course about Design Thinking at Berkeley College.\n",
    "You are asked to write a short essay about Design thinking.\n",
    "Your essay should be about 1000 to 2000 words long. \n",
    "\n",
    "The title of your essay should be \"Design Thinking\". Include the author name (your name) after the title\n",
    "and at the very end of the essay.\n",
    "\n",
    "At the end of the  essay (or after the title) you should mention your name and email address, and perhaps other personal information,\n",
    "such as your student username (lowercased), your street address or your telephone number. For each of those entries, please make sure\n",
    "to tag the text with XML element tags, using the tags:\n",
    "- <NAME>\n",
    "- <EMAIL>\n",
    "- <USERNAME>\n",
    "- <ADDRESS>\n",
    "- <PHONE_NUM>\n",
    "For example, you could start the essay as 'Desing Thinking by <NAME_STUDENT>{name}</NAME_STUDENT>\". \n",
    "\n",
    "Somewhere in your essay you should mention your personal student website. This should be a complete url, tagged with \n",
    "the XML element tags \"<URL>...</URL>\". If you worked together with other students, then please also include their\n",
    "names and label those names also with the \"<NAME>...</NAME>\" tags. Every time you mention your own name or one\n",
    "of their names, you should use the XML tags.\n",
    "\n",
    "You may use the following questions as guideline to structure your essay:\n",
    "- What was the problem or the challenge you tried to solve? Perhaps tell something about your background.\n",
    "- What is the {topic} tool and why did you select it for your challenge?\n",
    "- Which insights did you gain from applying the tool?\n",
    "- What would you do differently next time? Would you select the same tool?\n",
    "\n",
    "At the end of the essay, please also include a short list of fictional or actual literature references,\n",
    "including references to relevant online resources and your student url. Label your student url with the \n",
    "\"<URL>...</URL>\" XML tag, but do not label any other urls!\n",
    "\"\"\""
   ]
  },
  {
   "cell_type": "code",
   "execution_count": 73,
   "id": "6ea09fce-40a6-4282-a554-e72435f02ab4",
   "metadata": {},
   "outputs": [],
   "source": [
    "template3 = \"\"\"Instructions\n",
    "\n",
    "You are {name}, a foreign student in a course about Design Thinking at Berkeley College.\n",
    "You are asked to write a short essay about Design thinking, in particular about {topic}.\n",
    "Your essay should be about 1500 words long. \n",
    "\n",
    "The title of your essay should be \"Design Thinking\". Include the author name (your name) after the title.\n",
    "\n",
    "At the end of the  essay you should mention your name and email address, and perhaps other personal information,\n",
    "such as your student username (lowercased), your street address or your telephone number. For each of those entries, please make sure\n",
    "to tag the text with XML element tags, using the tags:\n",
    "- <NAME>\n",
    "- <EMAIL>\n",
    "- <USERNAME>\n",
    "- <ADDRESS>\n",
    "- <PHONE_NUM>\n",
    "For example, you could start the essay as 'Design Thinking by <NAME_STUDENT>{name}</NAME_STUDENT>\". \n",
    "Everytime you mention your own name, you should label it with those XML tags.\n",
    "\n",
    "You may use the following questions as guideline to structure your essay:\n",
    "- What was the problem or the challenge you tried to solve? Perhaps tell something about your background.\n",
    "- What is the {topic} tool and why did you select it for your challenge?\n",
    "- Which insights did you gain from applying the tool?\n",
    "- What would you do differently next time? Would you select the same tool?\n",
    "\n",
    "At the end of the essay, please also give credit to two of your fellow students, {name1} and {name2}.\n",
    "Make sure to label each of those names with the <NAME> XML tag. Finally, don't forget to thank your teacher, professor {prof}.\n",
    "\n",
    "At the very end of the essay, include a short list of literature references, including references to online resources\n",
    "and your student url. Label your student url with the \"<URL>...</URL>\" XML tag, but do not label any other urls!\n",
    "\"\"\""
   ]
  },
  {
   "cell_type": "code",
   "execution_count": 76,
   "id": "7b97863a-5c2e-455c-8b9f-d983b8e57cbf",
   "metadata": {},
   "outputs": [],
   "source": [
    "templates = (\n",
    "    template1,\n",
    "    template2,\n",
    "    template3\n",
    ")"
   ]
  },
  {
   "cell_type": "code",
   "execution_count": 9,
   "id": "f31fe0c9-b256-400b-8f4e-ec870ba4d144",
   "metadata": {},
   "outputs": [],
   "source": [
    "# first names - year-of-birth 2000 - sorted by frequency\n",
    "# year 2000 was selected deliberately - it should be approx the same as the birth year of most of the actual students :)\n",
    "# this may not matter, but it surely won't hurt\n",
    "\n",
    "first_names = pd.read_csv(\"../datasets/yob2000.txt\", keep_default_na=False, names=(\"name\", \"gender\", \"freq\"))\n",
    "first_names = first_names[first_names.freq >= 100]  # 3056 most frequent ones; 1299 male, 1757 female\n",
    "\n",
    "n = sum(first_names.freq)\n",
    "first_names[\"p\"] = first_names.freq / n"
   ]
  },
  {
   "cell_type": "code",
   "execution_count": 10,
   "id": "137cf2d3-a68e-45dc-9f9b-b9cddb039b8d",
   "metadata": {},
   "outputs": [],
   "source": [
    "# last names - drop last row (\"ALL OTHER NAMES\")\n",
    "surnames = pd.read_csv(\"../datasets/Names_2010Census.csv\", header=0, keep_default_na=False)[:-1]\n",
    "surnames.name = surnames.name.apply(str.title)\n",
    "surnames = surnames.iloc[:10_000]  # most frequent ones\n",
    "n = sum(surnames[\"count\"])\n",
    "surnames[\"p\"] = surnames[\"count\"] / n"
   ]
  },
  {
   "cell_type": "code",
   "execution_count": 11,
   "id": "9ffb003f-7dda-4309-bc32-b05a5c39ee87",
   "metadata": {},
   "outputs": [],
   "source": [
    "topics = (\n",
    "    \"visualization\",\n",
    "    \"brainstorming\",\n",
    "    \"storytelling\",\n",
    "    \"mind mapping\",\n",
    "    \"learning launch\",\n",
    ")"
   ]
  },
  {
   "cell_type": "code",
   "execution_count": 74,
   "id": "bc8bc590-b618-49b5-819a-2e5ded68deaf",
   "metadata": {},
   "outputs": [],
   "source": [
    "def generate(n=10, template_idx=0):\n",
    "    first = np.random.choice(first_names.name, size=3 * n, p=first_names.p)\n",
    "    last = np.random.choice(surnames.name, size=3 * n, p=surnames.p)\n",
    "    names = [f\"{a} {b}\" for (a, b) in zip(first, last)]\n",
    "    prof = [\"Jeanne Liedtka\", \"Liedtka\"]\n",
    "\n",
    "    res = []\n",
    "    template = templates[template_idx]\n",
    "    \n",
    "    for i in tqdm(range(n)):\n",
    "        name = names[i]\n",
    "        topic = topics[i % len(topics)]\n",
    "        if template_idx < 2:            \n",
    "            prompt = template.format(name=name, topic=topic, title=topic.title())\n",
    "        else:\n",
    "            prompt = template.format(\n",
    "                name=name, topic=topic, title=topic.title(),\n",
    "                name1=names[n + i + 1], name2=names[n + i + 2],\n",
    "                prof=prof[i & 1])            \n",
    "        try:\n",
    "            start = time.time()\n",
    "            resp = model.generate_content(prompt)\n",
    "            end = time.time()\n",
    "        except Exception as exc:\n",
    "            sys.stderr.write(f\"[{i}] generate_content: ignoring {exc}\\n\")\n",
    "            time.sleep(10)\n",
    "            continue\n",
    "\n",
    "        parts = resp.parts\n",
    "        if len(parts) > 0:\n",
    "            text = resp.parts[0].text\n",
    "        else:\n",
    "            try:\n",
    "                text = resp.text\n",
    "            except Exception as exc:\n",
    "                sys.stderr.write(f\"[{i}] extracting text: ignoring {exc}\\n\")\n",
    "                continue                \n",
    "        res.append((topic, name, text, end-start))\n",
    "        time.sleep(1.0/60)  # prevent rate limiting\n",
    "        \n",
    "    return res            "
   ]
  },
  {
   "cell_type": "code",
   "execution_count": null,
   "id": "e92ad8e6-ef4a-4b37-af1c-81e1ceeedbe2",
   "metadata": {},
   "outputs": [],
   "source": [
    "OUTPUT_DIR = Path(\"../gemini_data\")\n",
    "OUTPUT_DIR.mkdir(exist_ok=True)\n",
    "\n",
    "# skipping template2, since template3 seems to be a bit better\n",
    "\n",
    "def run(n=10):\n",
    "    for i in  (0, 2):\n",
    "        res = generate(n, template_idx=i)\n",
    "        df = pd.DataFrame(res, columns=(\"topic\", \"name\", \"raw_text\", \"time\"))\n",
    "        path = OUTPUT_DIR / f\"prompt{i+1}.tsv\"\n",
    "        df.to_csv(path, header=True, index=False, sep=\"\\t\")\n",
    "        print(f\"Wrote {path}\")\n"
   ]
  },
  {
   "cell_type": "code",
   "execution_count": null,
   "id": "f28bf9a2-69c7-4373-aa5b-e9c1150a5b73",
   "metadata": {},
   "outputs": [],
   "source": []
  }
 ],
 "metadata": {
  "kernelspec": {
   "display_name": "Python 3 (ipykernel)",
   "language": "python",
   "name": "python3"
  },
  "language_info": {
   "codemirror_mode": {
    "name": "ipython",
    "version": 3
   },
   "file_extension": ".py",
   "mimetype": "text/x-python",
   "name": "python",
   "nbconvert_exporter": "python",
   "pygments_lexer": "ipython3",
   "version": "3.10.13"
  }
 },
 "nbformat": 4,
 "nbformat_minor": 5
}
