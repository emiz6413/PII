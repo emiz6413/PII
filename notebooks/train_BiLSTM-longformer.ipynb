{
 "cells": [
  {
   "cell_type": "code",
   "execution_count": 1,
   "metadata": {
    "tags": []
   },
   "outputs": [
    {
     "name": "stdout",
     "output_type": "stream",
     "text": [
      "env: WANDB_PROJECT=PII\n",
      "env: WANDB_RUN_GROUP=BiLSTM-longformer-3072-filter+T-CE\n"
     ]
    }
   ],
   "source": [
    "%env WANDB_PROJECT=PII\n",
    "%env WANDB_RUN_GROUP=BiLSTM-longformer-3072-filter+T-CE"
   ]
  },
  {
   "cell_type": "code",
   "execution_count": 3,
   "metadata": {
    "_cell_guid": "b1076dfc-b9ad-4769-8c92-a6c4dae69d19",
    "_uuid": "8f2839f25d086af736a60e9eeb907d3b93b6e0e5",
    "tags": []
   },
   "outputs": [],
   "source": [
    "import json\n",
    "import copy\n",
    "import gc\n",
    "import os\n",
    "import re\n",
    "from collections import defaultdict\n",
    "from pathlib import Path\n",
    "\n",
    "import torch\n",
    "from torch import Tensor, nn\n",
    "import numpy as np\n",
    "import pandas as pd\n",
    "from spacy.lang.en import English\n",
    "from transformers.tokenization_utils import PreTrainedTokenizerBase\n",
    "from transformers.models.longformer import LongformerForTokenClassification, LongformerTokenizerFast\n",
    "from transformers.trainer import Trainer\n",
    "from transformers.training_args import TrainingArguments\n",
    "from transformers.trainer_utils import EvalPrediction\n",
    "from transformers.data.data_collator import DataCollatorForTokenClassification\n",
    "from datasets import Dataset, DatasetDict, concatenate_datasets\n",
    "import wandb"
   ]
  },
  {
   "cell_type": "code",
   "execution_count": 4,
   "metadata": {
    "tags": []
   },
   "outputs": [
    {
     "name": "stderr",
     "output_type": "stream",
     "text": [
      "\u001b[34m\u001b[1mwandb\u001b[0m: Currently logged in as: \u001b[33memiz6413\u001b[0m. Use \u001b[1m`wandb login --relogin`\u001b[0m to force relogin\n",
      "\u001b[34m\u001b[1mwandb\u001b[0m: \u001b[33mWARNING\u001b[0m If you're specifying your api key in code, ensure this code is not shared publicly.\n",
      "\u001b[34m\u001b[1mwandb\u001b[0m: \u001b[33mWARNING\u001b[0m Consider setting the WANDB_API_KEY environment variable, or running `wandb login` from the command line.\n",
      "\u001b[34m\u001b[1mwandb\u001b[0m: Appending key for api.wandb.ai to your netrc file: /root/.netrc\n"
     ]
    },
    {
     "data": {
      "text/plain": [
       "True"
      ]
     },
     "execution_count": 4,
     "metadata": {},
     "output_type": "execute_result"
    }
   ],
   "source": [
    "wandb.login(key=WANB_KEY)"
   ]
  },
  {
   "cell_type": "code",
   "execution_count": 5,
   "metadata": {
    "tags": []
   },
   "outputs": [],
   "source": [
    "DATA_DIR = Path(\"../dataset/\")\n",
    "OUTPUT_DIR = \"output\"\n",
    "Path(OUTPUT_DIR).mkdir(exist_ok=True)"
   ]
  },
  {
   "cell_type": "code",
   "execution_count": 6,
   "metadata": {
    "tags": []
   },
   "outputs": [],
   "source": [
    "TRAINING_MODEL_PATH = \"allenai/longformer-base-4096\"\n",
    "# TRAINING_MODEL_PATH = \"hf-internal-testing/tiny-random-longformer\"\n",
    "TRAINING_MAX_LENGTH = 3072 if \"tiny-random\" not in TRAINING_MODEL_PATH else 512\n",
    "EVAL_MAX_LENGTH = 3072 if \"tiny-random\" not in TRAINING_MODEL_PATH else 512\n",
    "CONF_THRESH = 0.9\n",
    "LR = 2.5e-5  # 1.5e-5 ~ 3e-5 for base # 5e-6 ~ 1e-5 for large\n",
    "LR_SCHEDULER_TYPE = \"linear\"\n",
    "NUM_EPOCHS = 3 if \"tiny-random\" not in TRAINING_MODEL_PATH else 0.1\n",
    "BATCH_SIZE = 8\n",
    "EVAL_BATCH_SIZE = 8\n",
    "GRAD_ACCUMULATION_STEPS = 16 // BATCH_SIZE\n",
    "WARMUP_RATIO = 0.1\n",
    "WEIGHT_DECAY = 0.01\n",
    "FREEZE_EMBEDDING = False\n",
    "FREEZE_LAYERS = 0\n",
    "GAMMA = 0\n",
    "MASK_P = 0\n",
    "# training data\n",
    "N_SPLITS = 4\n",
    "FILTER_ORIGINAL = True\n",
    "MOTH = False\n",
    "PJMATHMATICIAN = False\n",
    "NICHOLAS = False\n",
    "MPWARE = False\n",
    "TONYAROBERTSON = True"
   ]
  },
  {
   "cell_type": "code",
   "execution_count": 7,
   "metadata": {
    "tags": []
   },
   "outputs": [],
   "source": [
    "args = TrainingArguments(\n",
    "    output_dir=OUTPUT_DIR,\n",
    "    fp16=torch.cuda.is_available(),\n",
    "    learning_rate=LR,\n",
    "    num_train_epochs=NUM_EPOCHS,\n",
    "    per_device_train_batch_size=BATCH_SIZE,\n",
    "    per_device_eval_batch_size=EVAL_BATCH_SIZE,\n",
    "    gradient_accumulation_steps=GRAD_ACCUMULATION_STEPS,\n",
    "    report_to=\"wandb\",\n",
    "    evaluation_strategy=\"steps\",\n",
    "    eval_steps=50,\n",
    "    save_strategy=\"steps\",\n",
    "    save_steps=50,\n",
    "    save_total_limit=1,\n",
    "    logging_steps=10,\n",
    "    metric_for_best_model=\"f5\",\n",
    "    greater_is_better=True,\n",
    "    load_best_model_at_end=True,\n",
    "    overwrite_output_dir=True,\n",
    "    lr_scheduler_type=LR_SCHEDULER_TYPE,\n",
    "    warmup_ratio=WARMUP_RATIO,\n",
    "    weight_decay=WEIGHT_DECAY,\n",
    ")"
   ]
  },
  {
   "cell_type": "markdown",
   "metadata": {},
   "source": [
    "## Load dataset"
   ]
  },
  {
   "cell_type": "code",
   "execution_count": 8,
   "metadata": {
    "tags": []
   },
   "outputs": [
    {
     "name": "stdout",
     "output_type": "stream",
     "text": [
      "tonyarobertson's datapoints:  1850\n",
      "len(extra_data): 1850\n"
     ]
    }
   ],
   "source": [
    "with DATA_DIR.joinpath(\"train.json\").open(\"r\") as f:\n",
    "    original_data = json.load(f)\n",
    "\n",
    "extra_data = []  #\n",
    "\n",
    "if MOTH:\n",
    "    with DATA_DIR.joinpath(\"pii_dataset_fixed.json\").open(\"r\") as f:\n",
    "        external = json.load(f)\n",
    "    print(\"Moth's datapoints: \", len(external))\n",
    "    extra_data.extend(external)\n",
    "\n",
    "if PJMATHMATICIAN:\n",
    "    with DATA_DIR.joinpath(\"moredata_dataset_fixed.json\").open(\"r\") as f:\n",
    "        external = json.load(f)\n",
    "    print(\"PJMathmatician's datapoints: \", len(external))\n",
    "    extra_data.extend(external)\n",
    "\n",
    "if NICHOLAS:\n",
    "    with DATA_DIR.joinpath(\"mixtral-8x7b-v1.json\").open(\"r\") as f:\n",
    "        external = json.load(f)\n",
    "    print(\"Nicholas' datapoints: \", len(external))\n",
    "    extra_data.extend(external)\n",
    "\n",
    "if MPWARE:\n",
    "    with DATA_DIR.joinpath(\"mpware_mixtral8x7b_v1.1.json\").open(\"r\") as f:\n",
    "        external = json.load(f)\n",
    "    print(\"MPWARE's datapoints: \", len(external))\n",
    "    extra_data.extend(external)\n",
    "\n",
    "if TONYAROBERTSON:\n",
    "    with DATA_DIR.joinpath(\"Fake_data_1850_218.json\").open(\"r\") as f:\n",
    "        external = json.load(f)\n",
    "    print(\"tonyarobertson's datapoints: \", len(external))\n",
    "    extra_data.extend(external)\n",
    "\n",
    "print(f\"len(extra_data): {len(extra_data)}\")"
   ]
  },
  {
   "cell_type": "code",
   "execution_count": 9,
   "metadata": {
    "tags": []
   },
   "outputs": [],
   "source": [
    "all_labels = [\n",
    "    'B-EMAIL', 'B-ID_NUM', 'B-NAME_STUDENT', 'B-PHONE_NUM', 'B-STREET_ADDRESS', 'B-URL_PERSONAL', 'B-USERNAME', 'I-ID_NUM', 'I-NAME_STUDENT', 'I-PHONE_NUM', 'I-STREET_ADDRESS', 'I-URL_PERSONAL', 'O'\n",
    "]\n",
    "id2label = {i: l for i, l in enumerate(all_labels)}\n",
    "label2id = {v: k for k, v in id2label.items()}\n",
    "target = [l for l in all_labels if l != \"O\"]"
   ]
  },
  {
   "cell_type": "markdown",
   "metadata": {},
   "source": [
    "## Tokenization"
   ]
  },
  {
   "cell_type": "code",
   "execution_count": 10,
   "metadata": {
    "tags": []
   },
   "outputs": [],
   "source": [
    "class CustomTokenizer:\n",
    "    def __init__(self, tokenizer: PreTrainedTokenizerBase, label2id: dict, max_length: int) -> None:\n",
    "        self.tokenizer = tokenizer\n",
    "        self.label2id = label2id\n",
    "        self.max_length = max_length\n",
    "\n",
    "    def __call__(self, example: dict) -> dict:\n",
    "        # rebuild text from tokens\n",
    "        text, labels, token_map = [], [], []\n",
    "\n",
    "        for idx, (t, l, ws) in enumerate(\n",
    "            zip(example[\"tokens\"], example[\"provided_labels\"], example[\"trailing_whitespace\"])\n",
    "        ):\n",
    "            text.append(t)\n",
    "            labels.extend([l] * len(t))\n",
    "            token_map.extend([idx]*len(t))\n",
    "\n",
    "            if ws:\n",
    "                text.append(\" \")\n",
    "                labels.append(\"O\")\n",
    "                token_map.append(-1)\n",
    "\n",
    "        text = \"\".join(text)\n",
    "        labels = np.array(labels)\n",
    "\n",
    "        # actual tokenization\n",
    "        tokenized = self.tokenizer(\n",
    "            \"\".join(text),\n",
    "            return_offsets_mapping=True,\n",
    "            truncation=True,\n",
    "            max_length=self.max_length\n",
    "        )\n",
    "\n",
    "        token_labels = []\n",
    "\n",
    "        for start_idx, end_idx in tokenized.offset_mapping:\n",
    "            # CLS token\n",
    "            if start_idx == 0 and end_idx == 0:\n",
    "                token_labels.append(self.label2id[\"O\"])\n",
    "                continue\n",
    "\n",
    "            # case when token starts with whitespace\n",
    "            if text[start_idx].isspace():\n",
    "                start_idx += 1\n",
    "\n",
    "            try:\n",
    "                token_labels.append(self.label2id[labels[start_idx]])\n",
    "            except:\n",
    "                continue\n",
    "\n",
    "        length = len(tokenized.input_ids)\n",
    "\n",
    "        return {**tokenized, \"labels\": token_labels, \"length\": length, \"token_map\": token_map}"
   ]
  },
  {
   "cell_type": "markdown",
   "metadata": {},
   "source": [
    "## Instanciate the dataset"
   ]
  },
  {
   "cell_type": "code",
   "execution_count": 11,
   "metadata": {
    "tags": []
   },
   "outputs": [],
   "source": [
    "tokenizer = LongformerTokenizerFast.from_pretrained(TRAINING_MODEL_PATH)\n",
    "train_encoder = CustomTokenizer(tokenizer=tokenizer, label2id=label2id, max_length=TRAINING_MAX_LENGTH)\n",
    "eval_encoder = CustomTokenizer(tokenizer=tokenizer, label2id=label2id, max_length=EVAL_MAX_LENGTH)\n",
    "\n",
    "ds = DatasetDict()\n",
    "\n",
    "for key, data in zip([\"original\", \"extra\"], [original_data, extra_data]):\n",
    "    ds[key] = Dataset.from_dict({\n",
    "        \"full_text\": [x[\"full_text\"] for x in data],\n",
    "        \"document\": [str(x[\"document\"]) for x in data],\n",
    "        \"tokens\": [x[\"tokens\"] for x in data],\n",
    "        \"trailing_whitespace\": [x[\"trailing_whitespace\"] for x in data],\n",
    "        \"provided_labels\": [x[\"labels\"] for x in data],\n",
    "    })"
   ]
  },
  {
   "cell_type": "markdown",
   "metadata": {},
   "source": [
    "## Metrics"
   ]
  },
  {
   "cell_type": "code",
   "execution_count": 12,
   "metadata": {
    "tags": []
   },
   "outputs": [],
   "source": [
    "def find_span(target: list[str], document: list[str]) -> list[list[int]]:\n",
    "    idx = 0\n",
    "    spans = []\n",
    "    span = []\n",
    "\n",
    "    for i, token in enumerate(document):\n",
    "        if token != target[idx]:\n",
    "            idx = 0\n",
    "            span = []\n",
    "            continue\n",
    "        span.append(i)\n",
    "        idx += 1\n",
    "        if idx == len(target):\n",
    "            spans.append(span)\n",
    "            span = []\n",
    "            idx = 0\n",
    "            continue\n",
    "\n",
    "    return spans\n",
    "\n",
    "\n",
    "class PRFScore:\n",
    "    \"\"\"A precision / recall / F score.\"\"\"\n",
    "\n",
    "    def __init__(\n",
    "        self,\n",
    "        *,\n",
    "        tp: int = 0,\n",
    "        fp: int = 0,\n",
    "        fn: int = 0,\n",
    "    ) -> None:\n",
    "        self.tp = tp\n",
    "        self.fp = fp\n",
    "        self.fn = fn\n",
    "\n",
    "    def __len__(self) -> int:\n",
    "        return self.tp + self.fp + self.fn\n",
    "\n",
    "    def __iadd__(self, other):  # in-place add\n",
    "        self.tp += other.tp\n",
    "        self.fp += other.fp\n",
    "        self.fn += other.fn\n",
    "        return self\n",
    "\n",
    "    def __add__(self, other):\n",
    "        return PRFScore(\n",
    "            tp=self.tp + other.tp, fp=self.fp + other.fp, fn=self.fn + other.fn\n",
    "        )\n",
    "\n",
    "    def score_set(self, cand: set, gold: set) -> None:\n",
    "        self.tp += len(cand.intersection(gold))\n",
    "        self.fp += len(cand - gold)\n",
    "        self.fn += len(gold - cand)\n",
    "\n",
    "    @property\n",
    "    def precision(self) -> float:\n",
    "        return self.tp / (self.tp + self.fp + 1e-100)\n",
    "\n",
    "    @property\n",
    "    def recall(self) -> float:\n",
    "        return self.tp / (self.tp + self.fn + 1e-100)\n",
    "\n",
    "    @property\n",
    "    def f1(self) -> float:\n",
    "        p = self.precision\n",
    "        r = self.recall\n",
    "        return 2 * ((p * r) / (p + r + 1e-100))\n",
    "\n",
    "    @property\n",
    "    def f5(self) -> float:\n",
    "        beta = 5\n",
    "        p = self.precision\n",
    "        r = self.recall\n",
    "\n",
    "        fbeta = (1+(beta**2))*p*r / ((beta**2)*p + r + 1e-100)\n",
    "        return fbeta\n",
    "\n",
    "    def to_dict(self) -> dict[str, float]:\n",
    "        return {\"p\": self.precision, \"r\": self.recall, \"f5\": self.f5}\n",
    "\n",
    "\n",
    "class MetricsComputerV2:\n",
    "    nlp = English()\n",
    "\n",
    "    def __init__(self, eval_ds: Dataset, label2id: dict, conf_thresh: float = 0.9) -> None:\n",
    "        self.ds = eval_ds.remove_columns(\"labels\").rename_columns({\"provided_labels\": \"labels\"})\n",
    "        self.gt_df = self.create_gt_df(self.ds)\n",
    "        self.label2id = label2id\n",
    "        self.confth = conf_thresh\n",
    "        self._search_gt()\n",
    "\n",
    "    def __call__(self, eval_preds: EvalPrediction) -> dict:\n",
    "        pred_df = self.create_pred_df(eval_preds.predictions)\n",
    "        return self.compute_metrics_from_df(self.gt_df, pred_df)\n",
    "\n",
    "    def _search_gt(self) -> None:\n",
    "        email_regex = re.compile(r'[\\w.+-]+@[\\w-]+\\.[\\w.-]+')\n",
    "        phone_num_regex = re.compile(r\"(\\(\\d{3}\\)\\d{3}\\-\\d{4}\\w*|\\d{3}\\.\\d{3}\\.\\d{4})\\s\")\n",
    "        self.emails = []\n",
    "        self.phone_nums = []\n",
    "\n",
    "        for _data in self.ds:\n",
    "            # email\n",
    "            for token_idx, token in enumerate(_data[\"tokens\"]):\n",
    "                if re.fullmatch(email_regex, token) is not None:\n",
    "                    self.emails.append(\n",
    "                        {\"document\": _data[\"document\"], \"token\": token_idx, \"label\": \"B-EMAIL\", \"token_str\": token}\n",
    "                    )\n",
    "            # phone number\n",
    "            matches = phone_num_regex.findall(_data[\"full_text\"])\n",
    "            if not matches:\n",
    "                continue\n",
    "            for match in matches:\n",
    "                target = [t.text for t in self.nlp.tokenizer(match)]\n",
    "                matched_spans = find_span(target, _data[\"tokens\"])\n",
    "            for matched_span in matched_spans:\n",
    "                for intermediate, token_idx in enumerate(matched_span):\n",
    "                    prefix = \"I\" if intermediate else \"B\"\n",
    "                    self.phone_nums.append(\n",
    "                        {\"document\": _data[\"document\"], \"token\": token_idx, \"label\": f\"{prefix}-PHONE_NUM\", \"token_str\": _data[\"tokens\"][token_idx]}\n",
    "                    )\n",
    "\n",
    "    @staticmethod\n",
    "    def create_gt_df(ds: Dataset):\n",
    "        gt = []\n",
    "        for row in ds:\n",
    "            for token_idx, (token, label) in enumerate(zip(row[\"tokens\"], row[\"labels\"])):\n",
    "                if label == \"O\":\n",
    "                    continue\n",
    "                gt.append(\n",
    "                    {\"document\": row[\"document\"], \"token\": token_idx, \"label\": label, \"token_str\": token}\n",
    "                )\n",
    "        gt_df = pd.DataFrame(gt)\n",
    "        gt_df[\"row_id\"] = gt_df.index\n",
    "\n",
    "        return gt_df\n",
    "\n",
    "    def create_pred_df(self, prediction: np.ndarray) -> pd.DataFrame:\n",
    "        ### construct prediction df\n",
    "        o_index = self.label2id[\"O\"]\n",
    "        preds = prediction.argmax(-1)\n",
    "        preds_without_o = prediction[:,:,:o_index].argmax(-1)\n",
    "        o_preds = prediction[:,:,o_index]\n",
    "        preds_final = np.where(o_preds < self.confth, preds_without_o , preds)\n",
    "\n",
    "        pairs = set()\n",
    "        processed = []\n",
    "\n",
    "        # Iterate over document\n",
    "        for p_doc, token_map, offsets, tokens, doc in zip(\n",
    "            preds_final, self.ds[\"token_map\"], self.ds[\"offset_mapping\"], self.ds[\"tokens\"], self.ds[\"document\"]\n",
    "        ):\n",
    "            # Iterate over sequence\n",
    "            for p_token, (start_idx, end_idx) in zip(p_doc, offsets):\n",
    "                label_pred = id2label[p_token]\n",
    "\n",
    "                if start_idx + end_idx == 0:\n",
    "                    # [CLS] token i.e. BOS\n",
    "                    continue\n",
    "\n",
    "                if token_map[start_idx] == -1:\n",
    "                    start_idx += 1\n",
    "\n",
    "                # ignore \"\\n\\n\"\n",
    "                while start_idx < len(token_map) and tokens[token_map[start_idx]].isspace():\n",
    "                    start_idx += 1\n",
    "\n",
    "                if start_idx >= len(token_map):\n",
    "                    break\n",
    "\n",
    "                token_id = token_map[start_idx]\n",
    "                pair = (doc, token_id)\n",
    "\n",
    "                # ignore \"O\", preds, phone number and  email\n",
    "                if label_pred in (\"O\", \"B-EMAIL\", \"B-PHONE_NUM\", \"I-PHONE_NUM\") or token_id == -1:\n",
    "                    continue\n",
    "\n",
    "                if pair in pairs:\n",
    "                    continue\n",
    "\n",
    "                processed.append(\n",
    "                    {\"document\": doc, \"token\": token_id, \"label\": label_pred, \"token_str\": tokens[token_id]}\n",
    "                )\n",
    "                pairs.add(pair)\n",
    "\n",
    "        pred_df = pd.DataFrame(processed + self.emails + self.phone_nums)\n",
    "        pred_df[\"row_id\"] = list(range(len(pred_df)))\n",
    "\n",
    "        return pred_df\n",
    "\n",
    "    def compute_metrics_from_df(self, gt_df, pred_df):\n",
    "        \"\"\"\n",
    "        Compute the LB metric (lb) and other auxiliary metrics\n",
    "        \"\"\"\n",
    "\n",
    "        references = {(row.document, row.token, row.label) for row in gt_df.itertuples()}\n",
    "        predictions = {(row.document, row.token, row.label) for row in pred_df.itertuples()}\n",
    "\n",
    "        score_per_type = defaultdict(PRFScore)\n",
    "        references = set(references)\n",
    "\n",
    "        for ex in predictions:\n",
    "            pred_type = ex[-1] # (document, token, label)\n",
    "            if pred_type != 'O':\n",
    "                pred_type = pred_type[2:] # avoid B- and I- prefix\n",
    "\n",
    "            if pred_type not in score_per_type:\n",
    "                score_per_type[pred_type] = PRFScore()\n",
    "\n",
    "            if ex in references:\n",
    "                score_per_type[pred_type].tp += 1\n",
    "                references.remove(ex)\n",
    "            else:\n",
    "                score_per_type[pred_type].fp += 1\n",
    "\n",
    "        for doc, tok, ref_type in references:\n",
    "            if ref_type != 'O':\n",
    "                ref_type = ref_type[2:] # avoid B- and I- prefix\n",
    "\n",
    "            if ref_type not in score_per_type:\n",
    "                score_per_type[ref_type] = PRFScore()\n",
    "            score_per_type[ref_type].fn += 1\n",
    "\n",
    "        totals = PRFScore()\n",
    "\n",
    "        for prf in score_per_type.values():\n",
    "            totals += prf\n",
    "\n",
    "        return {\n",
    "            \"precision\": totals.precision,\n",
    "            \"recall\": totals.recall,\n",
    "            \"f5\": totals.f5,\n",
    "            **{\n",
    "                f\"{v_k}-{k}\": v_v\n",
    "                for k in set([l[2:] for l in self.label2id.keys() if l!= 'O'])\n",
    "                for v_k, v_v in score_per_type[k].to_dict().items()\n",
    "            },\n",
    "        }"
   ]
  },
  {
   "cell_type": "markdown",
   "metadata": {},
   "source": [
    "## Model"
   ]
  },
  {
   "cell_type": "code",
   "execution_count": 13,
   "metadata": {},
   "outputs": [],
   "source": [
    "class BiLSTMHead(nn.Module):\n",
    "    def __init__(self, in_features: int, hidden_dim: int, num_layers: int = 1, dropout: float = 0.1):\n",
    "        super().__init__()\n",
    "        self.lstm = nn.LSTM(\n",
    "            in_features,\n",
    "            hidden_dim,\n",
    "            num_layers=num_layers,\n",
    "            batch_first=True,\n",
    "            bidirectional=True,\n",
    "            dropout=dropout,\n",
    "        )\n",
    "        self.out_features = hidden_dim\n",
    "\n",
    "    def forward(self, x: Tensor):\n",
    "        self.lstm.flatten_parameters()\n",
    "        h, _ = self.lstm(x)\n",
    "        h_f, h_b = torch.split(h, h.size(-1)//2, dim=-1)  # split forward and backward\n",
    "        h = torch.stack([h_f, h_b], dim=0).mean(dim=0)\n",
    "        return h\n",
    "\n",
    "\n",
    "class BiLSTMLongFormerForTokenClassification(LongformerForTokenClassification):\n",
    "    def __init__(self, config):\n",
    "        super().__init__(config)\n",
    "        self.bi_lstm = BiLSTMHead(\n",
    "            in_features=self.config.hidden_size,\n",
    "            hidden_dim=self.config.hidden_size,\n",
    "        )\n",
    "        self.classifier = nn.Sequential(self.bi_lstm, self.classifier)"
   ]
  },
  {
   "cell_type": "code",
   "execution_count": 14,
   "metadata": {
    "tags": []
   },
   "outputs": [
    {
     "name": "stderr",
     "output_type": "stream",
     "text": [
      "/usr/local/lib/python3.9/dist-packages/torch/nn/modules/rnn.py:62: UserWarning: dropout option adds dropout after all but last recurrent layer, so non-zero dropout expects num_layers greater than 1, but got dropout=0.1 and num_layers=1\n",
      "  warnings.warn(\"dropout option adds dropout after all but last \"\n",
      "Some weights of the model checkpoint at allenai/longformer-base-4096 were not used when initializing BiLSTMLongFormerForTokenClassification: ['lm_head.dense.weight', 'lm_head.dense.bias', 'lm_head.bias', 'lm_head.layer_norm.weight', 'lm_head.decoder.weight', 'lm_head.layer_norm.bias']\n",
      "- This IS expected if you are initializing BiLSTMLongFormerForTokenClassification from the checkpoint of a model trained on another task or with another architecture (e.g. initializing a BertForSequenceClassification model from a BertForPreTraining model).\n",
      "- This IS NOT expected if you are initializing BiLSTMLongFormerForTokenClassification from the checkpoint of a model that you expect to be exactly identical (initializing a BertForSequenceClassification model from a BertForSequenceClassification model).\n",
      "Some weights of BiLSTMLongFormerForTokenClassification were not initialized from the model checkpoint at allenai/longformer-base-4096 and are newly initialized: ['classifier.0.lstm.bias_ih_l0_reverse', 'classifier.1.weight', 'bi_lstm.lstm.bias_hh_l0_reverse', 'classifier.0.lstm.weight_ih_l0_reverse', 'bi_lstm.lstm.weight_hh_l0', 'bi_lstm.lstm.weight_hh_l0_reverse', 'bi_lstm.lstm.weight_ih_l0', 'classifier.0.lstm.weight_hh_l0', 'classifier.0.lstm.bias_ih_l0', 'bi_lstm.lstm.bias_hh_l0', 'classifier.0.lstm.weight_ih_l0', 'bi_lstm.lstm.bias_ih_l0_reverse', 'bi_lstm.lstm.bias_ih_l0', 'classifier.0.lstm.bias_hh_l0_reverse', 'classifier.1.bias', 'classifier.0.lstm.weight_hh_l0_reverse', 'classifier.0.lstm.bias_hh_l0', 'bi_lstm.lstm.weight_ih_l0_reverse']\n",
      "You should probably TRAIN this model on a down-stream task to be able to use it for predictions and inference.\n"
     ]
    }
   ],
   "source": [
    "class ModelInit:\n",
    "    model_class = BiLSTMLongFormerForTokenClassification\n",
    "\n",
    "    def __init__(\n",
    "        self,\n",
    "        checkpoint: str,\n",
    "        id2label: dict,\n",
    "        label2id: dict,\n",
    "        freeze_embedding: bool,\n",
    "        freeze_layers: int,\n",
    "    ) -> None:\n",
    "        self.model = self.model_class.from_pretrained(\n",
    "            checkpoint,\n",
    "            num_labels=len(id2label),\n",
    "            id2label=id2label,\n",
    "            label2id=label2id,\n",
    "            ignore_mismatched_sizes=True\n",
    "        )\n",
    "        for param in self.model.base_model.embeddings.parameters():\n",
    "            param.requires_grad = False if freeze_embedding else True\n",
    "        for layer in self.model.base_model.encoder.layer[:freeze_layers]:\n",
    "            for param in layer.parameters():\n",
    "                param.requires_grad = False\n",
    "        self.weight = copy.deepcopy(self.model.state_dict())\n",
    "\n",
    "    def __call__(self) -> model_class:\n",
    "        self.model.load_state_dict(self.weight)\n",
    "        return self.model\n",
    "\n",
    "model_init = ModelInit(\n",
    "    TRAINING_MODEL_PATH,\n",
    "    id2label=id2label,\n",
    "    label2id=label2id,\n",
    "    freeze_embedding=FREEZE_EMBEDDING,\n",
    "    freeze_layers=FREEZE_LAYERS,\n",
    ")"
   ]
  },
  {
   "cell_type": "markdown",
   "metadata": {},
   "source": [
    "## Split"
   ]
  },
  {
   "cell_type": "code",
   "execution_count": 15,
   "metadata": {
    "tags": []
   },
   "outputs": [],
   "source": [
    "# split according to document id\n",
    "folds = [\n",
    "    (\n",
    "        np.array([i for i, d in enumerate(ds[\"original\"][\"document\"]) if int(d) % N_SPLITS != s]),\n",
    "        np.array([i for i, d in enumerate(ds[\"original\"][\"document\"]) if int(d) % N_SPLITS == s])\n",
    "    )\n",
    "    for s in range(N_SPLITS)\n",
    "]\n",
    "\n",
    "exclude_indices = []\n",
    "if FILTER_ORIGINAL:\n",
    "    negative_idxs = [i for i, labels in enumerate(ds[\"original\"][\"provided_labels\"]) if not any(np.array(labels) != \"O\")]\n",
    "    exclude_indices = negative_idxs[len(negative_idxs)//3:]"
   ]
  },
  {
   "cell_type": "markdown",
   "metadata": {},
   "source": [
    "## Train"
   ]
  },
  {
   "cell_type": "code",
   "execution_count": 16,
   "metadata": {
    "scrolled": true,
    "tags": []
   },
   "outputs": [
    {
     "name": "stdout",
     "output_type": "stream",
     "text": [
      "         "
     ]
    },
    {
     "data": {
      "application/vnd.jupyter.widget-view+json": {
       "model_id": "ef5de237f36f49b782eb5220b9010847",
       "version_major": 2,
       "version_minor": 0
      },
      "text/plain": [
       "#0:   0%|          | 0/502 [00:00<?, ?ex/s]"
      ]
     },
     "metadata": {},
     "output_type": "display_data"
    },
    {
     "name": "stdout",
     "output_type": "stream",
     "text": [
      " "
     ]
    },
    {
     "data": {
      "application/vnd.jupyter.widget-view+json": {
       "model_id": "690b33734f2749aea65cbba26224df50",
       "version_major": 2,
       "version_minor": 0
      },
      "text/plain": [
       "#1:   0%|          | 0/502 [00:00<?, ?ex/s]"
      ]
     },
     "metadata": {},
     "output_type": "display_data"
    },
    {
     "name": "stdout",
     "output_type": "stream",
     "text": [
      " "
     ]
    },
    {
     "data": {
      "application/vnd.jupyter.widget-view+json": {
       "model_id": "e67217322b62427789f3c56e6e45ed60",
       "version_major": 2,
       "version_minor": 0
      },
      "text/plain": [
       "#2:   0%|          | 0/502 [00:00<?, ?ex/s]"
      ]
     },
     "metadata": {},
     "output_type": "display_data"
    },
    {
     "name": "stdout",
     "output_type": "stream",
     "text": [
      " "
     ]
    },
    {
     "data": {
      "application/vnd.jupyter.widget-view+json": {
       "model_id": "b645061671ed47ebb19ec44e07ee0af4",
       "version_major": 2,
       "version_minor": 0
      },
      "text/plain": [
       "#3:   0%|          | 0/502 [00:00<?, ?ex/s]"
      ]
     },
     "metadata": {},
     "output_type": "display_data"
    },
    {
     "name": "stdout",
     "output_type": "stream",
     "text": [
      " "
     ]
    },
    {
     "data": {
      "application/vnd.jupyter.widget-view+json": {
       "model_id": "b9f01011203c4ac09edc27a227535ea9",
       "version_major": 2,
       "version_minor": 0
      },
      "text/plain": [
       "#4:   0%|          | 0/502 [00:00<?, ?ex/s]"
      ]
     },
     "metadata": {},
     "output_type": "display_data"
    },
    {
     "name": "stdout",
     "output_type": "stream",
     "text": [
      " "
     ]
    },
    {
     "data": {
      "application/vnd.jupyter.widget-view+json": {
       "model_id": "fc38e16ec1344d04b735fcf7521a7850",
       "version_major": 2,
       "version_minor": 0
      },
      "text/plain": [
       "#5:   0%|          | 0/502 [00:00<?, ?ex/s]"
      ]
     },
     "metadata": {},
     "output_type": "display_data"
    },
    {
     "name": "stdout",
     "output_type": "stream",
     "text": [
      " "
     ]
    },
    {
     "data": {
      "application/vnd.jupyter.widget-view+json": {
       "model_id": "0b9aa97d664842b6b567362bc94e98c6",
       "version_major": 2,
       "version_minor": 0
      },
      "text/plain": [
       "#6:   0%|          | 0/502 [00:00<?, ?ex/s]"
      ]
     },
     "metadata": {},
     "output_type": "display_data"
    },
    {
     "name": "stdout",
     "output_type": "stream",
     "text": [
      " "
     ]
    },
    {
     "data": {
      "application/vnd.jupyter.widget-view+json": {
       "model_id": "bdfe31f694464f8e819fccd4823710ef",
       "version_major": 2,
       "version_minor": 0
      },
      "text/plain": [
       "#7:   0%|          | 0/501 [00:00<?, ?ex/s]"
      ]
     },
     "metadata": {},
     "output_type": "display_data"
    },
    {
     "name": "stdout",
     "output_type": "stream",
     "text": [
      "         "
     ]
    },
    {
     "data": {
      "application/vnd.jupyter.widget-view+json": {
       "model_id": "e39d10f893774c58bd5491ebdd2b97ab",
       "version_major": 2,
       "version_minor": 0
      },
      "text/plain": [
       "#0:   0%|          | 0/213 [00:00<?, ?ex/s]"
      ]
     },
     "metadata": {},
     "output_type": "display_data"
    },
    {
     "name": "stdout",
     "output_type": "stream",
     "text": [
      " "
     ]
    },
    {
     "data": {
      "application/vnd.jupyter.widget-view+json": {
       "model_id": "eacebf10df2d46bc8c447e55f128650d",
       "version_major": 2,
       "version_minor": 0
      },
      "text/plain": [
       "#1:   0%|          | 0/213 [00:00<?, ?ex/s]"
      ]
     },
     "metadata": {},
     "output_type": "display_data"
    },
    {
     "name": "stdout",
     "output_type": "stream",
     "text": [
      " "
     ]
    },
    {
     "data": {
      "application/vnd.jupyter.widget-view+json": {
       "model_id": "874cc511fe8749d6aa572001b0253a20",
       "version_major": 2,
       "version_minor": 0
      },
      "text/plain": [
       "#2:   0%|          | 0/212 [00:00<?, ?ex/s]"
      ]
     },
     "metadata": {},
     "output_type": "display_data"
    },
    {
     "name": "stdout",
     "output_type": "stream",
     "text": [
      " "
     ]
    },
    {
     "data": {
      "application/vnd.jupyter.widget-view+json": {
       "model_id": "375daff3e65e4a11a49f9ce4af70af49",
       "version_major": 2,
       "version_minor": 0
      },
      "text/plain": [
       "#3:   0%|          | 0/212 [00:00<?, ?ex/s]"
      ]
     },
     "metadata": {},
     "output_type": "display_data"
    },
    {
     "name": "stdout",
     "output_type": "stream",
     "text": [
      " "
     ]
    },
    {
     "data": {
      "application/vnd.jupyter.widget-view+json": {
       "model_id": "596a0ce64be04c33bb0d3239828a8d81",
       "version_major": 2,
       "version_minor": 0
      },
      "text/plain": [
       "#4:   0%|          | 0/212 [00:00<?, ?ex/s]"
      ]
     },
     "metadata": {},
     "output_type": "display_data"
    },
    {
     "name": "stdout",
     "output_type": "stream",
     "text": [
      " "
     ]
    },
    {
     "data": {
      "application/vnd.jupyter.widget-view+json": {
       "model_id": "f166b90690ee49f3966d334069625a25",
       "version_major": 2,
       "version_minor": 0
      },
      "text/plain": [
       "#5:   0%|          | 0/212 [00:00<?, ?ex/s]"
      ]
     },
     "metadata": {},
     "output_type": "display_data"
    },
    {
     "name": "stdout",
     "output_type": "stream",
     "text": [
      " "
     ]
    },
    {
     "data": {
      "application/vnd.jupyter.widget-view+json": {
       "model_id": "8af724a886ed461e9101bb4f07902618",
       "version_major": 2,
       "version_minor": 0
      },
      "text/plain": [
       "#6:   0%|          | 0/212 [00:00<?, ?ex/s]"
      ]
     },
     "metadata": {},
     "output_type": "display_data"
    },
    {
     "name": "stdout",
     "output_type": "stream",
     "text": [
      " "
     ]
    },
    {
     "data": {
      "application/vnd.jupyter.widget-view+json": {
       "model_id": "339ad710c9cb4f158b14fc0822ef73cd",
       "version_major": 2,
       "version_minor": 0
      },
      "text/plain": [
       "#7:   0%|          | 0/212 [00:00<?, ?ex/s]"
      ]
     },
     "metadata": {},
     "output_type": "display_data"
    },
    {
     "name": "stderr",
     "output_type": "stream",
     "text": [
      "Using cuda_amp half precision backend\n",
      "The following columns in the training set don't have a corresponding argument in `BiLSTMLongFormerForTokenClassification.forward` and have been ignored: length, trailing_whitespace, offset_mapping, provided_labels, tokens, token_map, document, full_text. If length, trailing_whitespace, offset_mapping, provided_labels, tokens, token_map, document, full_text are not expected by `BiLSTMLongFormerForTokenClassification.forward`,  you can safely ignore this message.\n",
      "/usr/local/lib/python3.9/dist-packages/transformers/optimization.py:306: FutureWarning: This implementation of AdamW is deprecated and will be removed in a future version. Use the PyTorch implementation torch.optim.AdamW instead, or set `no_deprecation_warning=True` to disable this warning\n",
      "  warnings.warn(\n",
      "***** Running training *****\n",
      "  Num examples = 4015\n",
      "  Num Epochs = 3\n",
      "  Instantaneous batch size per device = 8\n",
      "  Total train batch size (w. parallel, distributed & accumulation) = 16\n",
      "  Gradient Accumulation steps = 2\n",
      "  Total optimization steps = 753\n",
      "Automatic Weights & Biases logging enabled, to disable set os.environ[\"WANDB_DISABLED\"] = \"true\"\n"
     ]
    },
    {
     "data": {
      "text/html": [
       "wandb version 0.16.3 is available!  To upgrade, please run:\n",
       " $ pip install wandb --upgrade"
      ],
      "text/plain": [
       "<IPython.core.display.HTML object>"
      ]
     },
     "metadata": {},
     "output_type": "display_data"
    },
    {
     "data": {
      "text/html": [
       "Tracking run with wandb version 0.13.4"
      ],
      "text/plain": [
       "<IPython.core.display.HTML object>"
      ]
     },
     "metadata": {},
     "output_type": "display_data"
    },
    {
     "data": {
      "text/html": [
       "Run data is saved locally in <code>/notebooks/notebooks/wandb/run-20240227_124339-2psisgyk</code>"
      ],
      "text/plain": [
       "<IPython.core.display.HTML object>"
      ]
     },
     "metadata": {},
     "output_type": "display_data"
    },
    {
     "data": {
      "text/html": [
       "Syncing run <strong><a href=\"https://wandb.ai/emiz6413/PII/runs/2psisgyk\" target=\"_blank\">fold-0</a></strong> to <a href=\"https://wandb.ai/emiz6413/PII\" target=\"_blank\">Weights & Biases</a> (<a href=\"https://wandb.me/run\" target=\"_blank\">docs</a>)<br/>"
      ],
      "text/plain": [
       "<IPython.core.display.HTML object>"
      ]
     },
     "metadata": {},
     "output_type": "display_data"
    },
    {
     "data": {
      "text/html": [
       "\n",
       "    <div>\n",
       "      \n",
       "      <progress value='753' max='753' style='width:300px; height:20px; vertical-align: middle;'></progress>\n",
       "      [753/753 34:26, Epoch 3/3]\n",
       "    </div>\n",
       "    <table border=\"1\" class=\"dataframe\">\n",
       "  <thead>\n",
       " <tr style=\"text-align: left;\">\n",
       "      <th>Step</th>\n",
       "      <th>Training Loss</th>\n",
       "      <th>Validation Loss</th>\n",
       "      <th>Precision</th>\n",
       "      <th>Recall</th>\n",
       "      <th>F5</th>\n",
       "      <th>P-username</th>\n",
       "      <th>R-username</th>\n",
       "      <th>F5-username</th>\n",
       "      <th>P-url Personal</th>\n",
       "      <th>R-url Personal</th>\n",
       "      <th>F5-url Personal</th>\n",
       "      <th>P-street Address</th>\n",
       "      <th>R-street Address</th>\n",
       "      <th>F5-street Address</th>\n",
       "      <th>P-email</th>\n",
       "      <th>R-email</th>\n",
       "      <th>F5-email</th>\n",
       "      <th>P-id Num</th>\n",
       "      <th>R-id Num</th>\n",
       "      <th>F5-id Num</th>\n",
       "      <th>P-name Student</th>\n",
       "      <th>R-name Student</th>\n",
       "      <th>F5-name Student</th>\n",
       "      <th>P-phone Num</th>\n",
       "      <th>R-phone Num</th>\n",
       "      <th>F5-phone Num</th>\n",
       "    </tr>\n",
       "  </thead>\n",
       "  <tbody>\n",
       "    <tr>\n",
       "      <td>50</td>\n",
       "      <td>0.651300</td>\n",
       "      <td>0.279198</td>\n",
       "      <td>1.000000</td>\n",
       "      <td>0.012158</td>\n",
       "      <td>0.012638</td>\n",
       "      <td>0.000000</td>\n",
       "      <td>0.000000</td>\n",
       "      <td>0.000000</td>\n",
       "      <td>0.000000</td>\n",
       "      <td>0.000000</td>\n",
       "      <td>0.000000</td>\n",
       "      <td>0.000000</td>\n",
       "      <td>0.000000</td>\n",
       "      <td>0.000000</td>\n",
       "      <td>1.000000</td>\n",
       "      <td>1.000000</td>\n",
       "      <td>1.000000</td>\n",
       "      <td>0.000000</td>\n",
       "      <td>0.000000</td>\n",
       "      <td>0.000000</td>\n",
       "      <td>0.000000</td>\n",
       "      <td>0.000000</td>\n",
       "      <td>0.000000</td>\n",
       "      <td>0.000000</td>\n",
       "      <td>0.000000</td>\n",
       "      <td>0.000000</td>\n",
       "    </tr>\n",
       "    <tr>\n",
       "      <td>100</td>\n",
       "      <td>0.111400</td>\n",
       "      <td>0.016955</td>\n",
       "      <td>1.000000</td>\n",
       "      <td>0.012158</td>\n",
       "      <td>0.012638</td>\n",
       "      <td>0.000000</td>\n",
       "      <td>0.000000</td>\n",
       "      <td>0.000000</td>\n",
       "      <td>0.000000</td>\n",
       "      <td>0.000000</td>\n",
       "      <td>0.000000</td>\n",
       "      <td>0.000000</td>\n",
       "      <td>0.000000</td>\n",
       "      <td>0.000000</td>\n",
       "      <td>1.000000</td>\n",
       "      <td>1.000000</td>\n",
       "      <td>1.000000</td>\n",
       "      <td>0.000000</td>\n",
       "      <td>0.000000</td>\n",
       "      <td>0.000000</td>\n",
       "      <td>0.000000</td>\n",
       "      <td>0.000000</td>\n",
       "      <td>0.000000</td>\n",
       "      <td>0.000000</td>\n",
       "      <td>0.000000</td>\n",
       "      <td>0.000000</td>\n",
       "    </tr>\n",
       "    <tr>\n",
       "      <td>150</td>\n",
       "      <td>0.058000</td>\n",
       "      <td>0.007820</td>\n",
       "      <td>0.347368</td>\n",
       "      <td>0.050152</td>\n",
       "      <td>0.051859</td>\n",
       "      <td>0.000000</td>\n",
       "      <td>0.000000</td>\n",
       "      <td>0.000000</td>\n",
       "      <td>0.000000</td>\n",
       "      <td>0.000000</td>\n",
       "      <td>0.000000</td>\n",
       "      <td>0.000000</td>\n",
       "      <td>0.000000</td>\n",
       "      <td>0.000000</td>\n",
       "      <td>1.000000</td>\n",
       "      <td>1.000000</td>\n",
       "      <td>1.000000</td>\n",
       "      <td>0.000000</td>\n",
       "      <td>0.000000</td>\n",
       "      <td>0.000000</td>\n",
       "      <td>0.312500</td>\n",
       "      <td>0.041806</td>\n",
       "      <td>0.043247</td>\n",
       "      <td>0.000000</td>\n",
       "      <td>0.000000</td>\n",
       "      <td>0.000000</td>\n",
       "    </tr>\n",
       "    <tr>\n",
       "      <td>200</td>\n",
       "      <td>0.053200</td>\n",
       "      <td>0.005712</td>\n",
       "      <td>0.541555</td>\n",
       "      <td>0.306991</td>\n",
       "      <td>0.312192</td>\n",
       "      <td>0.000000</td>\n",
       "      <td>0.000000</td>\n",
       "      <td>0.000000</td>\n",
       "      <td>0.272727</td>\n",
       "      <td>0.240000</td>\n",
       "      <td>0.241113</td>\n",
       "      <td>0.000000</td>\n",
       "      <td>0.000000</td>\n",
       "      <td>0.000000</td>\n",
       "      <td>1.000000</td>\n",
       "      <td>1.000000</td>\n",
       "      <td>1.000000</td>\n",
       "      <td>0.000000</td>\n",
       "      <td>0.000000</td>\n",
       "      <td>0.000000</td>\n",
       "      <td>0.548105</td>\n",
       "      <td>0.314381</td>\n",
       "      <td>0.319623</td>\n",
       "      <td>0.000000</td>\n",
       "      <td>0.000000</td>\n",
       "      <td>0.000000</td>\n",
       "    </tr>\n",
       "    <tr>\n",
       "      <td>250</td>\n",
       "      <td>0.032100</td>\n",
       "      <td>0.004034</td>\n",
       "      <td>0.494118</td>\n",
       "      <td>0.446809</td>\n",
       "      <td>0.448460</td>\n",
       "      <td>0.000000</td>\n",
       "      <td>0.000000</td>\n",
       "      <td>0.000000</td>\n",
       "      <td>0.617647</td>\n",
       "      <td>0.840000</td>\n",
       "      <td>0.828528</td>\n",
       "      <td>0.000000</td>\n",
       "      <td>0.000000</td>\n",
       "      <td>0.000000</td>\n",
       "      <td>1.000000</td>\n",
       "      <td>1.000000</td>\n",
       "      <td>1.000000</td>\n",
       "      <td>0.000000</td>\n",
       "      <td>0.000000</td>\n",
       "      <td>0.000000</td>\n",
       "      <td>0.483577</td>\n",
       "      <td>0.443144</td>\n",
       "      <td>0.444573</td>\n",
       "      <td>0.000000</td>\n",
       "      <td>0.000000</td>\n",
       "      <td>0.000000</td>\n",
       "    </tr>\n",
       "    <tr>\n",
       "      <td>300</td>\n",
       "      <td>0.030600</td>\n",
       "      <td>0.004104</td>\n",
       "      <td>0.367188</td>\n",
       "      <td>0.571429</td>\n",
       "      <td>0.559460</td>\n",
       "      <td>0.000000</td>\n",
       "      <td>0.000000</td>\n",
       "      <td>0.000000</td>\n",
       "      <td>0.500000</td>\n",
       "      <td>1.000000</td>\n",
       "      <td>0.962963</td>\n",
       "      <td>0.000000</td>\n",
       "      <td>0.000000</td>\n",
       "      <td>0.000000</td>\n",
       "      <td>1.000000</td>\n",
       "      <td>1.000000</td>\n",
       "      <td>1.000000</td>\n",
       "      <td>0.818182</td>\n",
       "      <td>0.346154</td>\n",
       "      <td>0.354009</td>\n",
       "      <td>0.351579</td>\n",
       "      <td>0.558528</td>\n",
       "      <td>0.546164</td>\n",
       "      <td>0.000000</td>\n",
       "      <td>0.000000</td>\n",
       "      <td>0.000000</td>\n",
       "    </tr>\n",
       "    <tr>\n",
       "      <td>350</td>\n",
       "      <td>0.023300</td>\n",
       "      <td>0.003043</td>\n",
       "      <td>0.602273</td>\n",
       "      <td>0.644377</td>\n",
       "      <td>0.642649</td>\n",
       "      <td>0.000000</td>\n",
       "      <td>0.000000</td>\n",
       "      <td>0.000000</td>\n",
       "      <td>0.423729</td>\n",
       "      <td>1.000000</td>\n",
       "      <td>0.950292</td>\n",
       "      <td>0.000000</td>\n",
       "      <td>0.000000</td>\n",
       "      <td>0.000000</td>\n",
       "      <td>1.000000</td>\n",
       "      <td>1.000000</td>\n",
       "      <td>1.000000</td>\n",
       "      <td>0.846154</td>\n",
       "      <td>0.423077</td>\n",
       "      <td>0.431373</td>\n",
       "      <td>0.620915</td>\n",
       "      <td>0.635452</td>\n",
       "      <td>0.634880</td>\n",
       "      <td>0.000000</td>\n",
       "      <td>0.000000</td>\n",
       "      <td>0.000000</td>\n",
       "    </tr>\n",
       "    <tr>\n",
       "      <td>400</td>\n",
       "      <td>0.020100</td>\n",
       "      <td>0.002582</td>\n",
       "      <td>0.730769</td>\n",
       "      <td>0.721884</td>\n",
       "      <td>0.722222</td>\n",
       "      <td>0.000000</td>\n",
       "      <td>0.000000</td>\n",
       "      <td>0.000000</td>\n",
       "      <td>0.781250</td>\n",
       "      <td>1.000000</td>\n",
       "      <td>0.989346</td>\n",
       "      <td>0.000000</td>\n",
       "      <td>0.000000</td>\n",
       "      <td>0.000000</td>\n",
       "      <td>1.000000</td>\n",
       "      <td>1.000000</td>\n",
       "      <td>1.000000</td>\n",
       "      <td>1.000000</td>\n",
       "      <td>0.153846</td>\n",
       "      <td>0.159021</td>\n",
       "      <td>0.723967</td>\n",
       "      <td>0.732441</td>\n",
       "      <td>0.732112</td>\n",
       "      <td>0.000000</td>\n",
       "      <td>0.000000</td>\n",
       "      <td>0.000000</td>\n",
       "    </tr>\n",
       "    <tr>\n",
       "      <td>450</td>\n",
       "      <td>0.020800</td>\n",
       "      <td>0.002651</td>\n",
       "      <td>0.692935</td>\n",
       "      <td>0.775076</td>\n",
       "      <td>0.771558</td>\n",
       "      <td>0.000000</td>\n",
       "      <td>0.000000</td>\n",
       "      <td>0.000000</td>\n",
       "      <td>0.568182</td>\n",
       "      <td>1.000000</td>\n",
       "      <td>0.971599</td>\n",
       "      <td>0.000000</td>\n",
       "      <td>0.000000</td>\n",
       "      <td>0.000000</td>\n",
       "      <td>1.000000</td>\n",
       "      <td>1.000000</td>\n",
       "      <td>1.000000</td>\n",
       "      <td>0.894737</td>\n",
       "      <td>0.653846</td>\n",
       "      <td>0.660688</td>\n",
       "      <td>0.691729</td>\n",
       "      <td>0.769231</td>\n",
       "      <td>0.765930</td>\n",
       "      <td>0.000000</td>\n",
       "      <td>0.000000</td>\n",
       "      <td>0.000000</td>\n",
       "    </tr>\n",
       "    <tr>\n",
       "      <td>500</td>\n",
       "      <td>0.020100</td>\n",
       "      <td>0.002649</td>\n",
       "      <td>0.725437</td>\n",
       "      <td>0.819149</td>\n",
       "      <td>0.815099</td>\n",
       "      <td>0.000000</td>\n",
       "      <td>0.000000</td>\n",
       "      <td>0.000000</td>\n",
       "      <td>0.423729</td>\n",
       "      <td>1.000000</td>\n",
       "      <td>0.950292</td>\n",
       "      <td>0.000000</td>\n",
       "      <td>0.000000</td>\n",
       "      <td>0.000000</td>\n",
       "      <td>1.000000</td>\n",
       "      <td>1.000000</td>\n",
       "      <td>1.000000</td>\n",
       "      <td>0.900000</td>\n",
       "      <td>0.692308</td>\n",
       "      <td>0.698507</td>\n",
       "      <td>0.743902</td>\n",
       "      <td>0.816054</td>\n",
       "      <td>0.813021</td>\n",
       "      <td>0.000000</td>\n",
       "      <td>0.000000</td>\n",
       "      <td>0.000000</td>\n",
       "    </tr>\n",
       "    <tr>\n",
       "      <td>550</td>\n",
       "      <td>0.017300</td>\n",
       "      <td>0.002265</td>\n",
       "      <td>0.725333</td>\n",
       "      <td>0.826748</td>\n",
       "      <td>0.822326</td>\n",
       "      <td>0.000000</td>\n",
       "      <td>0.000000</td>\n",
       "      <td>0.000000</td>\n",
       "      <td>0.757576</td>\n",
       "      <td>1.000000</td>\n",
       "      <td>0.987842</td>\n",
       "      <td>0.000000</td>\n",
       "      <td>0.000000</td>\n",
       "      <td>0.000000</td>\n",
       "      <td>1.000000</td>\n",
       "      <td>1.000000</td>\n",
       "      <td>1.000000</td>\n",
       "      <td>0.894737</td>\n",
       "      <td>0.653846</td>\n",
       "      <td>0.660688</td>\n",
       "      <td>0.715942</td>\n",
       "      <td>0.826087</td>\n",
       "      <td>0.821228</td>\n",
       "      <td>0.000000</td>\n",
       "      <td>0.000000</td>\n",
       "      <td>0.000000</td>\n",
       "    </tr>\n",
       "    <tr>\n",
       "      <td>600</td>\n",
       "      <td>0.021200</td>\n",
       "      <td>0.002222</td>\n",
       "      <td>0.751389</td>\n",
       "      <td>0.822188</td>\n",
       "      <td>0.819220</td>\n",
       "      <td>0.000000</td>\n",
       "      <td>0.000000</td>\n",
       "      <td>0.000000</td>\n",
       "      <td>0.694444</td>\n",
       "      <td>1.000000</td>\n",
       "      <td>0.983359</td>\n",
       "      <td>0.000000</td>\n",
       "      <td>0.000000</td>\n",
       "      <td>0.000000</td>\n",
       "      <td>1.000000</td>\n",
       "      <td>1.000000</td>\n",
       "      <td>1.000000</td>\n",
       "      <td>0.857143</td>\n",
       "      <td>0.461538</td>\n",
       "      <td>0.469880</td>\n",
       "      <td>0.749245</td>\n",
       "      <td>0.829431</td>\n",
       "      <td>0.826031</td>\n",
       "      <td>0.000000</td>\n",
       "      <td>0.000000</td>\n",
       "      <td>0.000000</td>\n",
       "    </tr>\n",
       "    <tr>\n",
       "      <td>650</td>\n",
       "      <td>0.013800</td>\n",
       "      <td>0.002154</td>\n",
       "      <td>0.733516</td>\n",
       "      <td>0.811550</td>\n",
       "      <td>0.808243</td>\n",
       "      <td>0.000000</td>\n",
       "      <td>0.000000</td>\n",
       "      <td>0.000000</td>\n",
       "      <td>0.657895</td>\n",
       "      <td>1.000000</td>\n",
       "      <td>0.980392</td>\n",
       "      <td>0.000000</td>\n",
       "      <td>0.000000</td>\n",
       "      <td>0.000000</td>\n",
       "      <td>1.000000</td>\n",
       "      <td>1.000000</td>\n",
       "      <td>1.000000</td>\n",
       "      <td>0.894737</td>\n",
       "      <td>0.653846</td>\n",
       "      <td>0.660688</td>\n",
       "      <td>0.730015</td>\n",
       "      <td>0.809365</td>\n",
       "      <td>0.805995</td>\n",
       "      <td>0.000000</td>\n",
       "      <td>0.000000</td>\n",
       "      <td>0.000000</td>\n",
       "    </tr>\n",
       "    <tr>\n",
       "      <td>700</td>\n",
       "      <td>0.014700</td>\n",
       "      <td>0.002071</td>\n",
       "      <td>0.747638</td>\n",
       "      <td>0.841945</td>\n",
       "      <td>0.837880</td>\n",
       "      <td>0.000000</td>\n",
       "      <td>0.000000</td>\n",
       "      <td>0.000000</td>\n",
       "      <td>0.694444</td>\n",
       "      <td>1.000000</td>\n",
       "      <td>0.983359</td>\n",
       "      <td>0.000000</td>\n",
       "      <td>0.000000</td>\n",
       "      <td>0.000000</td>\n",
       "      <td>1.000000</td>\n",
       "      <td>1.000000</td>\n",
       "      <td>1.000000</td>\n",
       "      <td>0.904762</td>\n",
       "      <td>0.730769</td>\n",
       "      <td>0.736215</td>\n",
       "      <td>0.742604</td>\n",
       "      <td>0.839465</td>\n",
       "      <td>0.835275</td>\n",
       "      <td>0.000000</td>\n",
       "      <td>0.000000</td>\n",
       "      <td>0.000000</td>\n",
       "    </tr>\n",
       "    <tr>\n",
       "      <td>750</td>\n",
       "      <td>0.015500</td>\n",
       "      <td>0.002056</td>\n",
       "      <td>0.745968</td>\n",
       "      <td>0.843465</td>\n",
       "      <td>0.839246</td>\n",
       "      <td>0.000000</td>\n",
       "      <td>0.000000</td>\n",
       "      <td>0.000000</td>\n",
       "      <td>0.694444</td>\n",
       "      <td>1.000000</td>\n",
       "      <td>0.983359</td>\n",
       "      <td>0.000000</td>\n",
       "      <td>0.000000</td>\n",
       "      <td>0.000000</td>\n",
       "      <td>1.000000</td>\n",
       "      <td>1.000000</td>\n",
       "      <td>1.000000</td>\n",
       "      <td>0.869565</td>\n",
       "      <td>0.769231</td>\n",
       "      <td>0.772660</td>\n",
       "      <td>0.741507</td>\n",
       "      <td>0.839465</td>\n",
       "      <td>0.835221</td>\n",
       "      <td>0.000000</td>\n",
       "      <td>0.000000</td>\n",
       "      <td>0.000000</td>\n",
       "    </tr>\n",
       "  </tbody>\n",
       "</table><p>"
      ],
      "text/plain": [
       "<IPython.core.display.HTML object>"
      ]
     },
     "metadata": {},
     "output_type": "display_data"
    },
    {
     "name": "stderr",
     "output_type": "stream",
     "text": [
      "The following columns in the evaluation set don't have a corresponding argument in `BiLSTMLongFormerForTokenClassification.forward` and have been ignored: length, trailing_whitespace, offset_mapping, provided_labels, tokens, token_map, document, full_text. If length, trailing_whitespace, offset_mapping, provided_labels, tokens, token_map, document, full_text are not expected by `BiLSTMLongFormerForTokenClassification.forward`,  you can safely ignore this message.\n",
      "***** Running Evaluation *****\n",
      "  Num examples = 1698\n",
      "  Batch size = 8\n",
      "Saving model checkpoint to output/fold_0/checkpoint-50\n",
      "Configuration saved in output/fold_0/checkpoint-50/config.json\n",
      "Model weights saved in output/fold_0/checkpoint-50/pytorch_model.bin\n",
      "tokenizer config file saved in output/fold_0/checkpoint-50/tokenizer_config.json\n",
      "Special tokens file saved in output/fold_0/checkpoint-50/special_tokens_map.json\n",
      "The following columns in the evaluation set don't have a corresponding argument in `BiLSTMLongFormerForTokenClassification.forward` and have been ignored: length, trailing_whitespace, offset_mapping, provided_labels, tokens, token_map, document, full_text. If length, trailing_whitespace, offset_mapping, provided_labels, tokens, token_map, document, full_text are not expected by `BiLSTMLongFormerForTokenClassification.forward`,  you can safely ignore this message.\n",
      "***** Running Evaluation *****\n",
      "  Num examples = 1698\n",
      "  Batch size = 8\n",
      "Saving model checkpoint to output/fold_0/checkpoint-100\n",
      "Configuration saved in output/fold_0/checkpoint-100/config.json\n",
      "Model weights saved in output/fold_0/checkpoint-100/pytorch_model.bin\n",
      "tokenizer config file saved in output/fold_0/checkpoint-100/tokenizer_config.json\n",
      "Special tokens file saved in output/fold_0/checkpoint-100/special_tokens_map.json\n",
      "The following columns in the evaluation set don't have a corresponding argument in `BiLSTMLongFormerForTokenClassification.forward` and have been ignored: length, trailing_whitespace, offset_mapping, provided_labels, tokens, token_map, document, full_text. If length, trailing_whitespace, offset_mapping, provided_labels, tokens, token_map, document, full_text are not expected by `BiLSTMLongFormerForTokenClassification.forward`,  you can safely ignore this message.\n",
      "***** Running Evaluation *****\n",
      "  Num examples = 1698\n",
      "  Batch size = 8\n",
      "Saving model checkpoint to output/fold_0/checkpoint-150\n",
      "Configuration saved in output/fold_0/checkpoint-150/config.json\n",
      "Model weights saved in output/fold_0/checkpoint-150/pytorch_model.bin\n",
      "tokenizer config file saved in output/fold_0/checkpoint-150/tokenizer_config.json\n",
      "Special tokens file saved in output/fold_0/checkpoint-150/special_tokens_map.json\n",
      "Deleting older checkpoint [output/fold_0/checkpoint-50] due to args.save_total_limit\n",
      "Deleting older checkpoint [output/fold_0/checkpoint-100] due to args.save_total_limit\n",
      "The following columns in the evaluation set don't have a corresponding argument in `BiLSTMLongFormerForTokenClassification.forward` and have been ignored: length, trailing_whitespace, offset_mapping, provided_labels, tokens, token_map, document, full_text. If length, trailing_whitespace, offset_mapping, provided_labels, tokens, token_map, document, full_text are not expected by `BiLSTMLongFormerForTokenClassification.forward`,  you can safely ignore this message.\n",
      "***** Running Evaluation *****\n",
      "  Num examples = 1698\n",
      "  Batch size = 8\n",
      "Saving model checkpoint to output/fold_0/checkpoint-200\n",
      "Configuration saved in output/fold_0/checkpoint-200/config.json\n",
      "Model weights saved in output/fold_0/checkpoint-200/pytorch_model.bin\n",
      "tokenizer config file saved in output/fold_0/checkpoint-200/tokenizer_config.json\n",
      "Special tokens file saved in output/fold_0/checkpoint-200/special_tokens_map.json\n",
      "Deleting older checkpoint [output/fold_0/checkpoint-150] due to args.save_total_limit\n",
      "The following columns in the evaluation set don't have a corresponding argument in `BiLSTMLongFormerForTokenClassification.forward` and have been ignored: length, trailing_whitespace, offset_mapping, provided_labels, tokens, token_map, document, full_text. If length, trailing_whitespace, offset_mapping, provided_labels, tokens, token_map, document, full_text are not expected by `BiLSTMLongFormerForTokenClassification.forward`,  you can safely ignore this message.\n",
      "***** Running Evaluation *****\n",
      "  Num examples = 1698\n",
      "  Batch size = 8\n",
      "Saving model checkpoint to output/fold_0/checkpoint-250\n",
      "Configuration saved in output/fold_0/checkpoint-250/config.json\n",
      "Model weights saved in output/fold_0/checkpoint-250/pytorch_model.bin\n",
      "tokenizer config file saved in output/fold_0/checkpoint-250/tokenizer_config.json\n",
      "Special tokens file saved in output/fold_0/checkpoint-250/special_tokens_map.json\n",
      "Deleting older checkpoint [output/fold_0/checkpoint-200] due to args.save_total_limit\n",
      "The following columns in the evaluation set don't have a corresponding argument in `BiLSTMLongFormerForTokenClassification.forward` and have been ignored: length, trailing_whitespace, offset_mapping, provided_labels, tokens, token_map, document, full_text. If length, trailing_whitespace, offset_mapping, provided_labels, tokens, token_map, document, full_text are not expected by `BiLSTMLongFormerForTokenClassification.forward`,  you can safely ignore this message.\n",
      "***** Running Evaluation *****\n",
      "  Num examples = 1698\n",
      "  Batch size = 8\n",
      "Saving model checkpoint to output/fold_0/checkpoint-300\n",
      "Configuration saved in output/fold_0/checkpoint-300/config.json\n",
      "Model weights saved in output/fold_0/checkpoint-300/pytorch_model.bin\n",
      "tokenizer config file saved in output/fold_0/checkpoint-300/tokenizer_config.json\n",
      "Special tokens file saved in output/fold_0/checkpoint-300/special_tokens_map.json\n",
      "Deleting older checkpoint [output/fold_0/checkpoint-250] due to args.save_total_limit\n",
      "The following columns in the evaluation set don't have a corresponding argument in `BiLSTMLongFormerForTokenClassification.forward` and have been ignored: length, trailing_whitespace, offset_mapping, provided_labels, tokens, token_map, document, full_text. If length, trailing_whitespace, offset_mapping, provided_labels, tokens, token_map, document, full_text are not expected by `BiLSTMLongFormerForTokenClassification.forward`,  you can safely ignore this message.\n",
      "***** Running Evaluation *****\n",
      "  Num examples = 1698\n",
      "  Batch size = 8\n",
      "Saving model checkpoint to output/fold_0/checkpoint-350\n",
      "Configuration saved in output/fold_0/checkpoint-350/config.json\n",
      "Model weights saved in output/fold_0/checkpoint-350/pytorch_model.bin\n",
      "tokenizer config file saved in output/fold_0/checkpoint-350/tokenizer_config.json\n",
      "Special tokens file saved in output/fold_0/checkpoint-350/special_tokens_map.json\n",
      "Deleting older checkpoint [output/fold_0/checkpoint-300] due to args.save_total_limit\n",
      "The following columns in the evaluation set don't have a corresponding argument in `BiLSTMLongFormerForTokenClassification.forward` and have been ignored: length, trailing_whitespace, offset_mapping, provided_labels, tokens, token_map, document, full_text. If length, trailing_whitespace, offset_mapping, provided_labels, tokens, token_map, document, full_text are not expected by `BiLSTMLongFormerForTokenClassification.forward`,  you can safely ignore this message.\n",
      "***** Running Evaluation *****\n",
      "  Num examples = 1698\n",
      "  Batch size = 8\n",
      "Saving model checkpoint to output/fold_0/checkpoint-400\n",
      "Configuration saved in output/fold_0/checkpoint-400/config.json\n",
      "Model weights saved in output/fold_0/checkpoint-400/pytorch_model.bin\n",
      "tokenizer config file saved in output/fold_0/checkpoint-400/tokenizer_config.json\n",
      "Special tokens file saved in output/fold_0/checkpoint-400/special_tokens_map.json\n",
      "Deleting older checkpoint [output/fold_0/checkpoint-350] due to args.save_total_limit\n",
      "The following columns in the evaluation set don't have a corresponding argument in `BiLSTMLongFormerForTokenClassification.forward` and have been ignored: length, trailing_whitespace, offset_mapping, provided_labels, tokens, token_map, document, full_text. If length, trailing_whitespace, offset_mapping, provided_labels, tokens, token_map, document, full_text are not expected by `BiLSTMLongFormerForTokenClassification.forward`,  you can safely ignore this message.\n",
      "***** Running Evaluation *****\n",
      "  Num examples = 1698\n",
      "  Batch size = 8\n",
      "Saving model checkpoint to output/fold_0/checkpoint-450\n",
      "Configuration saved in output/fold_0/checkpoint-450/config.json\n",
      "Model weights saved in output/fold_0/checkpoint-450/pytorch_model.bin\n",
      "tokenizer config file saved in output/fold_0/checkpoint-450/tokenizer_config.json\n",
      "Special tokens file saved in output/fold_0/checkpoint-450/special_tokens_map.json\n",
      "Deleting older checkpoint [output/fold_0/checkpoint-400] due to args.save_total_limit\n",
      "The following columns in the evaluation set don't have a corresponding argument in `BiLSTMLongFormerForTokenClassification.forward` and have been ignored: length, trailing_whitespace, offset_mapping, provided_labels, tokens, token_map, document, full_text. If length, trailing_whitespace, offset_mapping, provided_labels, tokens, token_map, document, full_text are not expected by `BiLSTMLongFormerForTokenClassification.forward`,  you can safely ignore this message.\n",
      "***** Running Evaluation *****\n",
      "  Num examples = 1698\n",
      "  Batch size = 8\n",
      "Saving model checkpoint to output/fold_0/checkpoint-500\n",
      "Configuration saved in output/fold_0/checkpoint-500/config.json\n",
      "Model weights saved in output/fold_0/checkpoint-500/pytorch_model.bin\n",
      "tokenizer config file saved in output/fold_0/checkpoint-500/tokenizer_config.json\n",
      "Special tokens file saved in output/fold_0/checkpoint-500/special_tokens_map.json\n",
      "Deleting older checkpoint [output/fold_0/checkpoint-450] due to args.save_total_limit\n",
      "The following columns in the evaluation set don't have a corresponding argument in `BiLSTMLongFormerForTokenClassification.forward` and have been ignored: length, trailing_whitespace, offset_mapping, provided_labels, tokens, token_map, document, full_text. If length, trailing_whitespace, offset_mapping, provided_labels, tokens, token_map, document, full_text are not expected by `BiLSTMLongFormerForTokenClassification.forward`,  you can safely ignore this message.\n",
      "***** Running Evaluation *****\n",
      "  Num examples = 1698\n",
      "  Batch size = 8\n",
      "Saving model checkpoint to output/fold_0/checkpoint-550\n",
      "Configuration saved in output/fold_0/checkpoint-550/config.json\n",
      "Model weights saved in output/fold_0/checkpoint-550/pytorch_model.bin\n",
      "tokenizer config file saved in output/fold_0/checkpoint-550/tokenizer_config.json\n",
      "Special tokens file saved in output/fold_0/checkpoint-550/special_tokens_map.json\n",
      "Deleting older checkpoint [output/fold_0/checkpoint-500] due to args.save_total_limit\n",
      "The following columns in the evaluation set don't have a corresponding argument in `BiLSTMLongFormerForTokenClassification.forward` and have been ignored: length, trailing_whitespace, offset_mapping, provided_labels, tokens, token_map, document, full_text. If length, trailing_whitespace, offset_mapping, provided_labels, tokens, token_map, document, full_text are not expected by `BiLSTMLongFormerForTokenClassification.forward`,  you can safely ignore this message.\n",
      "***** Running Evaluation *****\n",
      "  Num examples = 1698\n",
      "  Batch size = 8\n",
      "Saving model checkpoint to output/fold_0/checkpoint-600\n",
      "Configuration saved in output/fold_0/checkpoint-600/config.json\n",
      "Model weights saved in output/fold_0/checkpoint-600/pytorch_model.bin\n",
      "tokenizer config file saved in output/fold_0/checkpoint-600/tokenizer_config.json\n",
      "Special tokens file saved in output/fold_0/checkpoint-600/special_tokens_map.json\n",
      "The following columns in the evaluation set don't have a corresponding argument in `BiLSTMLongFormerForTokenClassification.forward` and have been ignored: length, trailing_whitespace, offset_mapping, provided_labels, tokens, token_map, document, full_text. If length, trailing_whitespace, offset_mapping, provided_labels, tokens, token_map, document, full_text are not expected by `BiLSTMLongFormerForTokenClassification.forward`,  you can safely ignore this message.\n",
      "***** Running Evaluation *****\n",
      "  Num examples = 1698\n",
      "  Batch size = 8\n",
      "Saving model checkpoint to output/fold_0/checkpoint-650\n",
      "Configuration saved in output/fold_0/checkpoint-650/config.json\n",
      "Model weights saved in output/fold_0/checkpoint-650/pytorch_model.bin\n",
      "tokenizer config file saved in output/fold_0/checkpoint-650/tokenizer_config.json\n",
      "Special tokens file saved in output/fold_0/checkpoint-650/special_tokens_map.json\n",
      "Deleting older checkpoint [output/fold_0/checkpoint-600] due to args.save_total_limit\n",
      "The following columns in the evaluation set don't have a corresponding argument in `BiLSTMLongFormerForTokenClassification.forward` and have been ignored: length, trailing_whitespace, offset_mapping, provided_labels, tokens, token_map, document, full_text. If length, trailing_whitespace, offset_mapping, provided_labels, tokens, token_map, document, full_text are not expected by `BiLSTMLongFormerForTokenClassification.forward`,  you can safely ignore this message.\n",
      "***** Running Evaluation *****\n",
      "  Num examples = 1698\n",
      "  Batch size = 8\n",
      "Saving model checkpoint to output/fold_0/checkpoint-700\n",
      "Configuration saved in output/fold_0/checkpoint-700/config.json\n",
      "Model weights saved in output/fold_0/checkpoint-700/pytorch_model.bin\n",
      "tokenizer config file saved in output/fold_0/checkpoint-700/tokenizer_config.json\n",
      "Special tokens file saved in output/fold_0/checkpoint-700/special_tokens_map.json\n",
      "Deleting older checkpoint [output/fold_0/checkpoint-550] due to args.save_total_limit\n",
      "Deleting older checkpoint [output/fold_0/checkpoint-650] due to args.save_total_limit\n",
      "The following columns in the evaluation set don't have a corresponding argument in `BiLSTMLongFormerForTokenClassification.forward` and have been ignored: length, trailing_whitespace, offset_mapping, provided_labels, tokens, token_map, document, full_text. If length, trailing_whitespace, offset_mapping, provided_labels, tokens, token_map, document, full_text are not expected by `BiLSTMLongFormerForTokenClassification.forward`,  you can safely ignore this message.\n",
      "***** Running Evaluation *****\n",
      "  Num examples = 1698\n",
      "  Batch size = 8\n",
      "Saving model checkpoint to output/fold_0/checkpoint-750\n",
      "Configuration saved in output/fold_0/checkpoint-750/config.json\n",
      "Model weights saved in output/fold_0/checkpoint-750/pytorch_model.bin\n",
      "tokenizer config file saved in output/fold_0/checkpoint-750/tokenizer_config.json\n",
      "Special tokens file saved in output/fold_0/checkpoint-750/special_tokens_map.json\n",
      "Deleting older checkpoint [output/fold_0/checkpoint-700] due to args.save_total_limit\n",
      "\n",
      "\n",
      "Training completed. Do not forget to share your model on huggingface.co/models =)\n",
      "\n",
      "\n",
      "Loading best model from output/fold_0/checkpoint-750 (score: 0.8392462486914041).\n",
      "The following columns in the evaluation set don't have a corresponding argument in `BiLSTMLongFormerForTokenClassification.forward` and have been ignored: length, trailing_whitespace, offset_mapping, provided_labels, tokens, token_map, document, full_text. If length, trailing_whitespace, offset_mapping, provided_labels, tokens, token_map, document, full_text are not expected by `BiLSTMLongFormerForTokenClassification.forward`,  you can safely ignore this message.\n",
      "***** Running Evaluation *****\n",
      "  Num examples = 1698\n",
      "  Batch size = 8\n"
     ]
    },
    {
     "data": {
      "text/html": [
       "\n",
       "    <div>\n",
       "      \n",
       "      <progress value='213' max='213' style='width:300px; height:20px; vertical-align: middle;'></progress>\n",
       "      [213/213 00:44]\n",
       "    </div>\n",
       "    "
      ],
      "text/plain": [
       "<IPython.core.display.HTML object>"
      ]
     },
     "metadata": {},
     "output_type": "display_data"
    },
    {
     "data": {
      "text/html": [
       "Waiting for W&B process to finish... <strong style=\"color:green\">(success).</strong>"
      ],
      "text/plain": [
       "<IPython.core.display.HTML object>"
      ]
     },
     "metadata": {},
     "output_type": "display_data"
    },
    {
     "data": {
      "text/html": [
       "<style>\n",
       "    table.wandb td:nth-child(1) { padding: 0 10px; text-align: left ; width: auto;} td:nth-child(2) {text-align: left ; width: 100%}\n",
       "    .wandb-row { display: flex; flex-direction: row; flex-wrap: wrap; justify-content: flex-start; width: 100% }\n",
       "    .wandb-col { display: flex; flex-direction: column; flex-basis: 100%; flex: 1; padding: 10px; }\n",
       "    </style>\n",
       "<div class=\"wandb-row\"><div class=\"wandb-col\"><h3>Run history:</h3><br/><table class=\"wandb\"><tr><td>eval/f5</td><td>▁▁▁▄▅▆▆▇▇███████</td></tr><tr><td>eval/f5-EMAIL</td><td>▁▁▁▁▁▁▁▁▁▁▁▁▁▁▁▁</td></tr><tr><td>eval/f5-ID_NUM</td><td>▁▁▁▁▁▄▅▂▇▇▇▅▇███</td></tr><tr><td>eval/f5-NAME_STUDENT</td><td>▁▁▁▄▅▆▆▇▇███████</td></tr><tr><td>eval/f5-PHONE_NUM</td><td>▁▁▁▁▁▁▁▁▁▁▁▁▁▁▁▁</td></tr><tr><td>eval/f5-STREET_ADDRESS</td><td>▁▁▁▁▁▁▁▁▁▁▁▁▁▁▁▁</td></tr><tr><td>eval/f5-URL_PERSONAL</td><td>▁▁▁▃▇███████████</td></tr><tr><td>eval/f5-USERNAME</td><td>▁▁▁▁▁▁▁▁▁▁▁▁▁▁▁▁</td></tr><tr><td>eval/loss</td><td>█▁▁▁▁▁▁▁▁▁▁▁▁▁▁▁</td></tr><tr><td>eval/p-EMAIL</td><td>▁▁▁▁▁▁▁▁▁▁▁▁▁▁▁▁</td></tr><tr><td>eval/p-ID_NUM</td><td>▁▁▁▁▁▇▇█▇▇▇▇▇▇▇▇</td></tr><tr><td>eval/p-NAME_STUDENT</td><td>▁▁▄▆▆▄▇█▇███████</td></tr><tr><td>eval/p-PHONE_NUM</td><td>▁▁▁▁▁▁▁▁▁▁▁▁▁▁▁▁</td></tr><tr><td>eval/p-STREET_ADDRESS</td><td>▁▁▁▁▁▁▁▁▁▁▁▁▁▁▁▁</td></tr><tr><td>eval/p-URL_PERSONAL</td><td>▁▁▁▃▇▅▅█▆▅█▇▇▇▇▇</td></tr><tr><td>eval/p-USERNAME</td><td>▁▁▁▁▁▁▁▁▁▁▁▁▁▁▁▁</td></tr><tr><td>eval/precision</td><td>██▁▃▃▁▄▅▅▅▅▅▅▅▅▅</td></tr><tr><td>eval/r-EMAIL</td><td>▁▁▁▁▁▁▁▁▁▁▁▁▁▁▁▁</td></tr><tr><td>eval/r-ID_NUM</td><td>▁▁▁▁▁▄▅▂▇▇▇▅▇███</td></tr><tr><td>eval/r-NAME_STUDENT</td><td>▁▁▁▄▅▆▆▇▇███████</td></tr><tr><td>eval/r-PHONE_NUM</td><td>▁▁▁▁▁▁▁▁▁▁▁▁▁▁▁▁</td></tr><tr><td>eval/r-STREET_ADDRESS</td><td>▁▁▁▁▁▁▁▁▁▁▁▁▁▁▁▁</td></tr><tr><td>eval/r-URL_PERSONAL</td><td>▁▁▁▃▇███████████</td></tr><tr><td>eval/r-USERNAME</td><td>▁▁▁▁▁▁▁▁▁▁▁▁▁▁▁▁</td></tr><tr><td>eval/recall</td><td>▁▁▁▃▅▆▆▇▇███████</td></tr><tr><td>eval/runtime</td><td>█▄█▃▂▃▂▅▁▂▃▄▅▃▃▃</td></tr><tr><td>eval/samples_per_second</td><td>▁▅▁▆▇▆▇▃█▇▆▅▄▆▆▆</td></tr><tr><td>eval/steps_per_second</td><td>▁▅▁▆▇▆▇▃█▇▆▅▄▆▆▆</td></tr><tr><td>train/epoch</td><td>▁▁▁▂▂▂▂▂▂▃▃▃▃▃▄▄▄▄▄▄▅▅▅▅▅▆▆▆▆▆▇▇▇▇▇▇████</td></tr><tr><td>train/global_step</td><td>▁▁▁▂▂▂▂▂▂▃▃▃▃▃▄▄▄▄▄▄▅▅▅▅▅▆▆▆▆▆▇▇▇▇▇▇████</td></tr><tr><td>train/learning_rate</td><td>▂▃▅▇███▇▇▇▇▇▆▆▆▆▆▅▅▅▅▅▄▄▄▄▄▃▃▃▃▃▂▂▂▂▂▁▁▁</td></tr><tr><td>train/loss</td><td>██▄▂▁▁▁▁▁▁▁▁▁▁▁▁▁▁▁▁▁▁▁▁▁▁▁▁▁▁▁▁▁▁▁▁▁▁▁▁</td></tr><tr><td>train/total_flos</td><td>▁</td></tr><tr><td>train/train_loss</td><td>▁</td></tr><tr><td>train/train_runtime</td><td>▁</td></tr><tr><td>train/train_samples_per_second</td><td>▁</td></tr><tr><td>train/train_steps_per_second</td><td>▁</td></tr></table><br/></div><div class=\"wandb-col\"><h3>Run summary:</h3><br/><table class=\"wandb\"><tr><td>eval/f5</td><td>0.83925</td></tr><tr><td>eval/f5-EMAIL</td><td>1.0</td></tr><tr><td>eval/f5-ID_NUM</td><td>0.77266</td></tr><tr><td>eval/f5-NAME_STUDENT</td><td>0.83522</td></tr><tr><td>eval/f5-PHONE_NUM</td><td>0.0</td></tr><tr><td>eval/f5-STREET_ADDRESS</td><td>0.0</td></tr><tr><td>eval/f5-URL_PERSONAL</td><td>0.98336</td></tr><tr><td>eval/f5-USERNAME</td><td>0.0</td></tr><tr><td>eval/loss</td><td>0.00206</td></tr><tr><td>eval/p-EMAIL</td><td>1.0</td></tr><tr><td>eval/p-ID_NUM</td><td>0.86957</td></tr><tr><td>eval/p-NAME_STUDENT</td><td>0.74151</td></tr><tr><td>eval/p-PHONE_NUM</td><td>0.0</td></tr><tr><td>eval/p-STREET_ADDRESS</td><td>0.0</td></tr><tr><td>eval/p-URL_PERSONAL</td><td>0.69444</td></tr><tr><td>eval/p-USERNAME</td><td>0.0</td></tr><tr><td>eval/precision</td><td>0.74597</td></tr><tr><td>eval/r-EMAIL</td><td>1.0</td></tr><tr><td>eval/r-ID_NUM</td><td>0.76923</td></tr><tr><td>eval/r-NAME_STUDENT</td><td>0.83946</td></tr><tr><td>eval/r-PHONE_NUM</td><td>0.0</td></tr><tr><td>eval/r-STREET_ADDRESS</td><td>0.0</td></tr><tr><td>eval/r-URL_PERSONAL</td><td>1.0</td></tr><tr><td>eval/r-USERNAME</td><td>0.0</td></tr><tr><td>eval/recall</td><td>0.84347</td></tr><tr><td>eval/runtime</td><td>53.8859</td></tr><tr><td>eval/samples_per_second</td><td>31.511</td></tr><tr><td>eval/steps_per_second</td><td>3.953</td></tr><tr><td>train/epoch</td><td>3.0</td></tr><tr><td>train/global_step</td><td>753</td></tr><tr><td>train/learning_rate</td><td>0.0</td></tr><tr><td>train/loss</td><td>0.0155</td></tr><tr><td>train/total_flos</td><td>1.2752058488752128e+16</td></tr><tr><td>train/train_loss</td><td>0.1567</td></tr><tr><td>train/train_runtime</td><td>2070.688</td></tr><tr><td>train/train_samples_per_second</td><td>5.817</td></tr><tr><td>train/train_steps_per_second</td><td>0.364</td></tr></table><br/></div></div>"
      ],
      "text/plain": [
       "<IPython.core.display.HTML object>"
      ]
     },
     "metadata": {},
     "output_type": "display_data"
    },
    {
     "data": {
      "text/html": [
       "Synced <strong style=\"color:#cdcd00\">fold-0</strong>: <a href=\"https://wandb.ai/emiz6413/PII/runs/2psisgyk\" target=\"_blank\">https://wandb.ai/emiz6413/PII/runs/2psisgyk</a><br/>Synced 5 W&B file(s), 0 media file(s), 0 artifact file(s) and 0 other file(s)"
      ],
      "text/plain": [
       "<IPython.core.display.HTML object>"
      ]
     },
     "metadata": {},
     "output_type": "display_data"
    },
    {
     "data": {
      "text/html": [
       "Find logs at: <code>./wandb/run-20240227_124339-2psisgyk/logs</code>"
      ],
      "text/plain": [
       "<IPython.core.display.HTML object>"
      ]
     },
     "metadata": {},
     "output_type": "display_data"
    },
    {
     "name": "stdout",
     "output_type": "stream",
     "text": [
      "         "
     ]
    },
    {
     "data": {
      "application/vnd.jupyter.widget-view+json": {
       "model_id": "1eb776b210b04bbabe0c545f68dc325b",
       "version_major": 2,
       "version_minor": 0
      },
      "text/plain": [
       "#0:   0%|          | 0/503 [00:00<?, ?ex/s]"
      ]
     },
     "metadata": {},
     "output_type": "display_data"
    },
    {
     "name": "stdout",
     "output_type": "stream",
     "text": [
      " "
     ]
    },
    {
     "data": {
      "application/vnd.jupyter.widget-view+json": {
       "model_id": "1605ed7bab0a43d294bec9b3b54455e4",
       "version_major": 2,
       "version_minor": 0
      },
      "text/plain": [
       "#1:   0%|          | 0/502 [00:00<?, ?ex/s]"
      ]
     },
     "metadata": {},
     "output_type": "display_data"
    },
    {
     "name": "stdout",
     "output_type": "stream",
     "text": [
      " "
     ]
    },
    {
     "data": {
      "application/vnd.jupyter.widget-view+json": {
       "model_id": "5acbc53639b04f2a9111620235de9419",
       "version_major": 2,
       "version_minor": 0
      },
      "text/plain": [
       "#2:   0%|          | 0/502 [00:00<?, ?ex/s]"
      ]
     },
     "metadata": {},
     "output_type": "display_data"
    },
    {
     "name": "stdout",
     "output_type": "stream",
     "text": [
      " "
     ]
    },
    {
     "data": {
      "application/vnd.jupyter.widget-view+json": {
       "model_id": "09016b57424741f09627ed8e9f3459bf",
       "version_major": 2,
       "version_minor": 0
      },
      "text/plain": [
       "#3:   0%|          | 0/502 [00:00<?, ?ex/s]"
      ]
     },
     "metadata": {},
     "output_type": "display_data"
    },
    {
     "name": "stdout",
     "output_type": "stream",
     "text": [
      " "
     ]
    },
    {
     "data": {
      "application/vnd.jupyter.widget-view+json": {
       "model_id": "bc6f661f2c3c45289caea28fd9cc4616",
       "version_major": 2,
       "version_minor": 0
      },
      "text/plain": [
       "#4:   0%|          | 0/502 [00:00<?, ?ex/s]"
      ]
     },
     "metadata": {},
     "output_type": "display_data"
    },
    {
     "name": "stdout",
     "output_type": "stream",
     "text": [
      " "
     ]
    },
    {
     "data": {
      "application/vnd.jupyter.widget-view+json": {
       "model_id": "6af5a9c0a5f34e0a93acedac0f6ed6de",
       "version_major": 2,
       "version_minor": 0
      },
      "text/plain": [
       "#5:   0%|          | 0/502 [00:00<?, ?ex/s]"
      ]
     },
     "metadata": {},
     "output_type": "display_data"
    },
    {
     "name": "stdout",
     "output_type": "stream",
     "text": [
      " "
     ]
    },
    {
     "data": {
      "application/vnd.jupyter.widget-view+json": {
       "model_id": "f54a58ceb656489eab1984b7fc763373",
       "version_major": 2,
       "version_minor": 0
      },
      "text/plain": [
       "#6:   0%|          | 0/502 [00:00<?, ?ex/s]"
      ]
     },
     "metadata": {},
     "output_type": "display_data"
    },
    {
     "name": "stdout",
     "output_type": "stream",
     "text": [
      " "
     ]
    },
    {
     "data": {
      "application/vnd.jupyter.widget-view+json": {
       "model_id": "f8d9854f6fa34ecea130fc915fc18370",
       "version_major": 2,
       "version_minor": 0
      },
      "text/plain": [
       "#7:   0%|          | 0/502 [00:00<?, ?ex/s]"
      ]
     },
     "metadata": {},
     "output_type": "display_data"
    },
    {
     "name": "stdout",
     "output_type": "stream",
     "text": [
      "         "
     ]
    },
    {
     "data": {
      "application/vnd.jupyter.widget-view+json": {
       "model_id": "16a72f6edac34bf49a4ad8aff434c4af",
       "version_major": 2,
       "version_minor": 0
      },
      "text/plain": [
       "#0:   0%|          | 0/215 [00:00<?, ?ex/s]"
      ]
     },
     "metadata": {},
     "output_type": "display_data"
    },
    {
     "name": "stdout",
     "output_type": "stream",
     "text": [
      " "
     ]
    },
    {
     "data": {
      "application/vnd.jupyter.widget-view+json": {
       "model_id": "1e3bd955b6c644e58a95e8adb051030e",
       "version_major": 2,
       "version_minor": 0
      },
      "text/plain": [
       "#1:   0%|          | 0/215 [00:00<?, ?ex/s]"
      ]
     },
     "metadata": {},
     "output_type": "display_data"
    },
    {
     "name": "stdout",
     "output_type": "stream",
     "text": [
      " "
     ]
    },
    {
     "data": {
      "application/vnd.jupyter.widget-view+json": {
       "model_id": "60f6aab984ca49cb821848db2b82c839",
       "version_major": 2,
       "version_minor": 0
      },
      "text/plain": [
       "#2:   0%|          | 0/214 [00:00<?, ?ex/s]"
      ]
     },
     "metadata": {},
     "output_type": "display_data"
    },
    {
     "name": "stdout",
     "output_type": "stream",
     "text": [
      " "
     ]
    },
    {
     "data": {
      "application/vnd.jupyter.widget-view+json": {
       "model_id": "4c0b3f3e02f34604b752e401394868f3",
       "version_major": 2,
       "version_minor": 0
      },
      "text/plain": [
       "#3:   0%|          | 0/214 [00:00<?, ?ex/s]"
      ]
     },
     "metadata": {},
     "output_type": "display_data"
    },
    {
     "name": "stdout",
     "output_type": "stream",
     "text": [
      " "
     ]
    },
    {
     "data": {
      "application/vnd.jupyter.widget-view+json": {
       "model_id": "6fd5af8623b94431bf4d11a0a847df2a",
       "version_major": 2,
       "version_minor": 0
      },
      "text/plain": [
       "#4:   0%|          | 0/214 [00:00<?, ?ex/s]"
      ]
     },
     "metadata": {},
     "output_type": "display_data"
    },
    {
     "name": "stdout",
     "output_type": "stream",
     "text": [
      " "
     ]
    },
    {
     "data": {
      "application/vnd.jupyter.widget-view+json": {
       "model_id": "da85eaf74ffe42bca6c287ec2bef3dd5",
       "version_major": 2,
       "version_minor": 0
      },
      "text/plain": [
       "#5:   0%|          | 0/214 [00:00<?, ?ex/s]"
      ]
     },
     "metadata": {},
     "output_type": "display_data"
    },
    {
     "name": "stdout",
     "output_type": "stream",
     "text": [
      " "
     ]
    },
    {
     "data": {
      "application/vnd.jupyter.widget-view+json": {
       "model_id": "6309dc13a37c46b5a0a9e745fec002fa",
       "version_major": 2,
       "version_minor": 0
      },
      "text/plain": [
       "#6:   0%|          | 0/214 [00:00<?, ?ex/s]"
      ]
     },
     "metadata": {},
     "output_type": "display_data"
    },
    {
     "name": "stdout",
     "output_type": "stream",
     "text": [
      " "
     ]
    },
    {
     "data": {
      "application/vnd.jupyter.widget-view+json": {
       "model_id": "35fb507ead344d25b301df0743049080",
       "version_major": 2,
       "version_minor": 0
      },
      "text/plain": [
       "#7:   0%|          | 0/214 [00:00<?, ?ex/s]"
      ]
     },
     "metadata": {},
     "output_type": "display_data"
    },
    {
     "name": "stderr",
     "output_type": "stream",
     "text": [
      "Using cuda_amp half precision backend\n",
      "The following columns in the training set don't have a corresponding argument in `BiLSTMLongFormerForTokenClassification.forward` and have been ignored: length, trailing_whitespace, offset_mapping, provided_labels, tokens, token_map, document, full_text. If length, trailing_whitespace, offset_mapping, provided_labels, tokens, token_map, document, full_text are not expected by `BiLSTMLongFormerForTokenClassification.forward`,  you can safely ignore this message.\n",
      "/usr/local/lib/python3.9/dist-packages/transformers/optimization.py:306: FutureWarning: This implementation of AdamW is deprecated and will be removed in a future version. Use the PyTorch implementation torch.optim.AdamW instead, or set `no_deprecation_warning=True` to disable this warning\n",
      "  warnings.warn(\n",
      "***** Running training *****\n",
      "  Num examples = 4017\n",
      "  Num Epochs = 3\n",
      "  Instantaneous batch size per device = 8\n",
      "  Total train batch size (w. parallel, distributed & accumulation) = 16\n",
      "  Gradient Accumulation steps = 2\n",
      "  Total optimization steps = 753\n",
      "Automatic Weights & Biases logging enabled, to disable set os.environ[\"WANDB_DISABLED\"] = \"true\"\n"
     ]
    },
    {
     "data": {
      "application/vnd.jupyter.widget-view+json": {
       "model_id": "dc2465f2b5f94097a59742ab7af335b7",
       "version_major": 2,
       "version_minor": 0
      },
      "text/plain": [
       "VBox(children=(Label(value='Waiting for wandb.init()...\\r'), FloatProgress(value=0.01667069723334862, max=1.0)…"
      ]
     },
     "metadata": {},
     "output_type": "display_data"
    },
    {
     "data": {
      "text/html": [
       "wandb version 0.16.3 is available!  To upgrade, please run:\n",
       " $ pip install wandb --upgrade"
      ],
      "text/plain": [
       "<IPython.core.display.HTML object>"
      ]
     },
     "metadata": {},
     "output_type": "display_data"
    },
    {
     "data": {
      "text/html": [
       "Tracking run with wandb version 0.13.4"
      ],
      "text/plain": [
       "<IPython.core.display.HTML object>"
      ]
     },
     "metadata": {},
     "output_type": "display_data"
    },
    {
     "data": {
      "text/html": [
       "Run data is saved locally in <code>/notebooks/notebooks/wandb/run-20240227_132002-lhzdafcr</code>"
      ],
      "text/plain": [
       "<IPython.core.display.HTML object>"
      ]
     },
     "metadata": {},
     "output_type": "display_data"
    },
    {
     "data": {
      "text/html": [
       "Syncing run <strong><a href=\"https://wandb.ai/emiz6413/PII/runs/lhzdafcr\" target=\"_blank\">fold-1</a></strong> to <a href=\"https://wandb.ai/emiz6413/PII\" target=\"_blank\">Weights & Biases</a> (<a href=\"https://wandb.me/run\" target=\"_blank\">docs</a>)<br/>"
      ],
      "text/plain": [
       "<IPython.core.display.HTML object>"
      ]
     },
     "metadata": {},
     "output_type": "display_data"
    },
    {
     "data": {
      "text/html": [
       "\n",
       "    <div>\n",
       "      \n",
       "      <progress value='753' max='753' style='width:300px; height:20px; vertical-align: middle;'></progress>\n",
       "      [753/753 34:30, Epoch 2/3]\n",
       "    </div>\n",
       "    <table border=\"1\" class=\"dataframe\">\n",
       "  <thead>\n",
       " <tr style=\"text-align: left;\">\n",
       "      <th>Step</th>\n",
       "      <th>Training Loss</th>\n",
       "      <th>Validation Loss</th>\n",
       "      <th>Precision</th>\n",
       "      <th>Recall</th>\n",
       "      <th>F5</th>\n",
       "      <th>P-username</th>\n",
       "      <th>R-username</th>\n",
       "      <th>F5-username</th>\n",
       "      <th>P-url Personal</th>\n",
       "      <th>R-url Personal</th>\n",
       "      <th>F5-url Personal</th>\n",
       "      <th>P-street Address</th>\n",
       "      <th>R-street Address</th>\n",
       "      <th>F5-street Address</th>\n",
       "      <th>P-email</th>\n",
       "      <th>R-email</th>\n",
       "      <th>F5-email</th>\n",
       "      <th>P-id Num</th>\n",
       "      <th>R-id Num</th>\n",
       "      <th>F5-id Num</th>\n",
       "      <th>P-name Student</th>\n",
       "      <th>R-name Student</th>\n",
       "      <th>F5-name Student</th>\n",
       "      <th>P-phone Num</th>\n",
       "      <th>R-phone Num</th>\n",
       "      <th>F5-phone Num</th>\n",
       "    </tr>\n",
       "  </thead>\n",
       "  <tbody>\n",
       "    <tr>\n",
       "      <td>50</td>\n",
       "      <td>0.644400</td>\n",
       "      <td>0.280189</td>\n",
       "      <td>1.000000</td>\n",
       "      <td>0.030220</td>\n",
       "      <td>0.031391</td>\n",
       "      <td>0.000000</td>\n",
       "      <td>0.000000</td>\n",
       "      <td>0.000000</td>\n",
       "      <td>0.000000</td>\n",
       "      <td>0.000000</td>\n",
       "      <td>0.000000</td>\n",
       "      <td>0.000000</td>\n",
       "      <td>0.000000</td>\n",
       "      <td>0.000000</td>\n",
       "      <td>1.000000</td>\n",
       "      <td>1.000000</td>\n",
       "      <td>1.000000</td>\n",
       "      <td>0.000000</td>\n",
       "      <td>0.000000</td>\n",
       "      <td>0.000000</td>\n",
       "      <td>0.000000</td>\n",
       "      <td>0.000000</td>\n",
       "      <td>0.000000</td>\n",
       "      <td>1.000000</td>\n",
       "      <td>1.000000</td>\n",
       "      <td>1.000000</td>\n",
       "    </tr>\n",
       "    <tr>\n",
       "      <td>100</td>\n",
       "      <td>0.122400</td>\n",
       "      <td>0.018270</td>\n",
       "      <td>1.000000</td>\n",
       "      <td>0.030220</td>\n",
       "      <td>0.031391</td>\n",
       "      <td>0.000000</td>\n",
       "      <td>0.000000</td>\n",
       "      <td>0.000000</td>\n",
       "      <td>0.000000</td>\n",
       "      <td>0.000000</td>\n",
       "      <td>0.000000</td>\n",
       "      <td>0.000000</td>\n",
       "      <td>0.000000</td>\n",
       "      <td>0.000000</td>\n",
       "      <td>1.000000</td>\n",
       "      <td>1.000000</td>\n",
       "      <td>1.000000</td>\n",
       "      <td>0.000000</td>\n",
       "      <td>0.000000</td>\n",
       "      <td>0.000000</td>\n",
       "      <td>0.000000</td>\n",
       "      <td>0.000000</td>\n",
       "      <td>0.000000</td>\n",
       "      <td>1.000000</td>\n",
       "      <td>1.000000</td>\n",
       "      <td>1.000000</td>\n",
       "    </tr>\n",
       "    <tr>\n",
       "      <td>150</td>\n",
       "      <td>0.066500</td>\n",
       "      <td>0.008359</td>\n",
       "      <td>0.680851</td>\n",
       "      <td>0.043956</td>\n",
       "      <td>0.045597</td>\n",
       "      <td>0.000000</td>\n",
       "      <td>0.000000</td>\n",
       "      <td>0.000000</td>\n",
       "      <td>0.000000</td>\n",
       "      <td>0.000000</td>\n",
       "      <td>0.000000</td>\n",
       "      <td>0.000000</td>\n",
       "      <td>0.000000</td>\n",
       "      <td>0.000000</td>\n",
       "      <td>1.000000</td>\n",
       "      <td>1.000000</td>\n",
       "      <td>1.000000</td>\n",
       "      <td>0.000000</td>\n",
       "      <td>0.000000</td>\n",
       "      <td>0.000000</td>\n",
       "      <td>0.454545</td>\n",
       "      <td>0.015480</td>\n",
       "      <td>0.016077</td>\n",
       "      <td>1.000000</td>\n",
       "      <td>1.000000</td>\n",
       "      <td>1.000000</td>\n",
       "    </tr>\n",
       "    <tr>\n",
       "      <td>200</td>\n",
       "      <td>0.050700</td>\n",
       "      <td>0.006145</td>\n",
       "      <td>0.411765</td>\n",
       "      <td>0.317308</td>\n",
       "      <td>0.320132</td>\n",
       "      <td>0.000000</td>\n",
       "      <td>0.000000</td>\n",
       "      <td>0.000000</td>\n",
       "      <td>0.172414</td>\n",
       "      <td>0.151515</td>\n",
       "      <td>0.152225</td>\n",
       "      <td>0.000000</td>\n",
       "      <td>0.000000</td>\n",
       "      <td>0.000000</td>\n",
       "      <td>1.000000</td>\n",
       "      <td>1.000000</td>\n",
       "      <td>1.000000</td>\n",
       "      <td>0.000000</td>\n",
       "      <td>0.000000</td>\n",
       "      <td>0.000000</td>\n",
       "      <td>0.400000</td>\n",
       "      <td>0.315789</td>\n",
       "      <td>0.318367</td>\n",
       "      <td>1.000000</td>\n",
       "      <td>1.000000</td>\n",
       "      <td>1.000000</td>\n",
       "    </tr>\n",
       "    <tr>\n",
       "      <td>250</td>\n",
       "      <td>0.041800</td>\n",
       "      <td>0.005121</td>\n",
       "      <td>0.402284</td>\n",
       "      <td>0.435440</td>\n",
       "      <td>0.434064</td>\n",
       "      <td>0.000000</td>\n",
       "      <td>0.000000</td>\n",
       "      <td>0.000000</td>\n",
       "      <td>0.421053</td>\n",
       "      <td>0.484848</td>\n",
       "      <td>0.482039</td>\n",
       "      <td>0.000000</td>\n",
       "      <td>0.000000</td>\n",
       "      <td>0.000000</td>\n",
       "      <td>1.000000</td>\n",
       "      <td>1.000000</td>\n",
       "      <td>1.000000</td>\n",
       "      <td>0.000000</td>\n",
       "      <td>0.000000</td>\n",
       "      <td>0.000000</td>\n",
       "      <td>0.385359</td>\n",
       "      <td>0.431889</td>\n",
       "      <td>0.429892</td>\n",
       "      <td>1.000000</td>\n",
       "      <td>1.000000</td>\n",
       "      <td>1.000000</td>\n",
       "    </tr>\n",
       "    <tr>\n",
       "      <td>300</td>\n",
       "      <td>0.029100</td>\n",
       "      <td>0.004006</td>\n",
       "      <td>0.534161</td>\n",
       "      <td>0.472527</td>\n",
       "      <td>0.474634</td>\n",
       "      <td>0.000000</td>\n",
       "      <td>0.000000</td>\n",
       "      <td>0.000000</td>\n",
       "      <td>0.434783</td>\n",
       "      <td>0.606061</td>\n",
       "      <td>0.597015</td>\n",
       "      <td>0.000000</td>\n",
       "      <td>0.000000</td>\n",
       "      <td>0.000000</td>\n",
       "      <td>1.000000</td>\n",
       "      <td>1.000000</td>\n",
       "      <td>1.000000</td>\n",
       "      <td>0.000000</td>\n",
       "      <td>0.000000</td>\n",
       "      <td>0.000000</td>\n",
       "      <td>0.528897</td>\n",
       "      <td>0.467492</td>\n",
       "      <td>0.469589</td>\n",
       "      <td>1.000000</td>\n",
       "      <td>1.000000</td>\n",
       "      <td>1.000000</td>\n",
       "    </tr>\n",
       "    <tr>\n",
       "      <td>350</td>\n",
       "      <td>0.028500</td>\n",
       "      <td>0.003382</td>\n",
       "      <td>0.677188</td>\n",
       "      <td>0.648352</td>\n",
       "      <td>0.649415</td>\n",
       "      <td>0.000000</td>\n",
       "      <td>0.000000</td>\n",
       "      <td>0.000000</td>\n",
       "      <td>0.571429</td>\n",
       "      <td>0.848485</td>\n",
       "      <td>0.832952</td>\n",
       "      <td>0.000000</td>\n",
       "      <td>0.000000</td>\n",
       "      <td>0.000000</td>\n",
       "      <td>1.000000</td>\n",
       "      <td>1.000000</td>\n",
       "      <td>1.000000</td>\n",
       "      <td>0.666667</td>\n",
       "      <td>0.074074</td>\n",
       "      <td>0.076696</td>\n",
       "      <td>0.676329</td>\n",
       "      <td>0.650155</td>\n",
       "      <td>0.651124</td>\n",
       "      <td>1.000000</td>\n",
       "      <td>1.000000</td>\n",
       "      <td>1.000000</td>\n",
       "    </tr>\n",
       "    <tr>\n",
       "      <td>400</td>\n",
       "      <td>0.021300</td>\n",
       "      <td>0.003192</td>\n",
       "      <td>0.634421</td>\n",
       "      <td>0.774725</td>\n",
       "      <td>0.768191</td>\n",
       "      <td>0.000000</td>\n",
       "      <td>0.000000</td>\n",
       "      <td>0.000000</td>\n",
       "      <td>0.540000</td>\n",
       "      <td>0.818182</td>\n",
       "      <td>0.802286</td>\n",
       "      <td>0.000000</td>\n",
       "      <td>0.000000</td>\n",
       "      <td>0.000000</td>\n",
       "      <td>1.000000</td>\n",
       "      <td>1.000000</td>\n",
       "      <td>1.000000</td>\n",
       "      <td>1.000000</td>\n",
       "      <td>0.518519</td>\n",
       "      <td>0.528302</td>\n",
       "      <td>0.629397</td>\n",
       "      <td>0.775542</td>\n",
       "      <td>0.768677</td>\n",
       "      <td>1.000000</td>\n",
       "      <td>1.000000</td>\n",
       "      <td>1.000000</td>\n",
       "    </tr>\n",
       "    <tr>\n",
       "      <td>450</td>\n",
       "      <td>0.017400</td>\n",
       "      <td>0.003211</td>\n",
       "      <td>0.588473</td>\n",
       "      <td>0.799451</td>\n",
       "      <td>0.788577</td>\n",
       "      <td>0.000000</td>\n",
       "      <td>0.000000</td>\n",
       "      <td>0.000000</td>\n",
       "      <td>0.568966</td>\n",
       "      <td>1.000000</td>\n",
       "      <td>0.971687</td>\n",
       "      <td>0.000000</td>\n",
       "      <td>0.000000</td>\n",
       "      <td>0.000000</td>\n",
       "      <td>1.000000</td>\n",
       "      <td>1.000000</td>\n",
       "      <td>1.000000</td>\n",
       "      <td>0.785714</td>\n",
       "      <td>0.407407</td>\n",
       "      <td>0.415094</td>\n",
       "      <td>0.584371</td>\n",
       "      <td>0.798762</td>\n",
       "      <td>0.787648</td>\n",
       "      <td>1.000000</td>\n",
       "      <td>1.000000</td>\n",
       "      <td>1.000000</td>\n",
       "    </tr>\n",
       "    <tr>\n",
       "      <td>500</td>\n",
       "      <td>0.017300</td>\n",
       "      <td>0.002561</td>\n",
       "      <td>0.701220</td>\n",
       "      <td>0.789835</td>\n",
       "      <td>0.786015</td>\n",
       "      <td>0.000000</td>\n",
       "      <td>0.000000</td>\n",
       "      <td>0.000000</td>\n",
       "      <td>0.595745</td>\n",
       "      <td>0.848485</td>\n",
       "      <td>0.834862</td>\n",
       "      <td>0.000000</td>\n",
       "      <td>0.000000</td>\n",
       "      <td>0.000000</td>\n",
       "      <td>1.000000</td>\n",
       "      <td>1.000000</td>\n",
       "      <td>1.000000</td>\n",
       "      <td>0.750000</td>\n",
       "      <td>0.666667</td>\n",
       "      <td>0.669528</td>\n",
       "      <td>0.706128</td>\n",
       "      <td>0.784830</td>\n",
       "      <td>0.781480</td>\n",
       "      <td>1.000000</td>\n",
       "      <td>1.000000</td>\n",
       "      <td>1.000000</td>\n",
       "    </tr>\n",
       "    <tr>\n",
       "      <td>550</td>\n",
       "      <td>0.017400</td>\n",
       "      <td>0.002662</td>\n",
       "      <td>0.667048</td>\n",
       "      <td>0.800824</td>\n",
       "      <td>0.794694</td>\n",
       "      <td>0.000000</td>\n",
       "      <td>0.000000</td>\n",
       "      <td>0.000000</td>\n",
       "      <td>0.545455</td>\n",
       "      <td>0.909091</td>\n",
       "      <td>0.886364</td>\n",
       "      <td>0.000000</td>\n",
       "      <td>0.000000</td>\n",
       "      <td>0.000000</td>\n",
       "      <td>1.000000</td>\n",
       "      <td>1.000000</td>\n",
       "      <td>1.000000</td>\n",
       "      <td>0.774194</td>\n",
       "      <td>0.888889</td>\n",
       "      <td>0.883853</td>\n",
       "      <td>0.671523</td>\n",
       "      <td>0.784830</td>\n",
       "      <td>0.779769</td>\n",
       "      <td>1.000000</td>\n",
       "      <td>1.000000</td>\n",
       "      <td>1.000000</td>\n",
       "    </tr>\n",
       "    <tr>\n",
       "      <td>600</td>\n",
       "      <td>0.013900</td>\n",
       "      <td>0.002493</td>\n",
       "      <td>0.686099</td>\n",
       "      <td>0.840659</td>\n",
       "      <td>0.833438</td>\n",
       "      <td>0.000000</td>\n",
       "      <td>0.000000</td>\n",
       "      <td>0.000000</td>\n",
       "      <td>0.559322</td>\n",
       "      <td>1.000000</td>\n",
       "      <td>0.970588</td>\n",
       "      <td>0.000000</td>\n",
       "      <td>0.000000</td>\n",
       "      <td>0.000000</td>\n",
       "      <td>1.000000</td>\n",
       "      <td>1.000000</td>\n",
       "      <td>1.000000</td>\n",
       "      <td>0.774194</td>\n",
       "      <td>0.888889</td>\n",
       "      <td>0.883853</td>\n",
       "      <td>0.691310</td>\n",
       "      <td>0.825077</td>\n",
       "      <td>0.818982</td>\n",
       "      <td>1.000000</td>\n",
       "      <td>1.000000</td>\n",
       "      <td>1.000000</td>\n",
       "    </tr>\n",
       "    <tr>\n",
       "      <td>650</td>\n",
       "      <td>0.016800</td>\n",
       "      <td>0.002380</td>\n",
       "      <td>0.720732</td>\n",
       "      <td>0.811813</td>\n",
       "      <td>0.807886</td>\n",
       "      <td>0.000000</td>\n",
       "      <td>0.000000</td>\n",
       "      <td>0.000000</td>\n",
       "      <td>0.581818</td>\n",
       "      <td>0.969697</td>\n",
       "      <td>0.945455</td>\n",
       "      <td>0.000000</td>\n",
       "      <td>0.000000</td>\n",
       "      <td>0.000000</td>\n",
       "      <td>1.000000</td>\n",
       "      <td>1.000000</td>\n",
       "      <td>1.000000</td>\n",
       "      <td>0.774194</td>\n",
       "      <td>0.888889</td>\n",
       "      <td>0.883853</td>\n",
       "      <td>0.728693</td>\n",
       "      <td>0.794118</td>\n",
       "      <td>0.791385</td>\n",
       "      <td>1.000000</td>\n",
       "      <td>1.000000</td>\n",
       "      <td>1.000000</td>\n",
       "    </tr>\n",
       "    <tr>\n",
       "      <td>700</td>\n",
       "      <td>0.014800</td>\n",
       "      <td>0.002350</td>\n",
       "      <td>0.686364</td>\n",
       "      <td>0.829670</td>\n",
       "      <td>0.823061</td>\n",
       "      <td>0.000000</td>\n",
       "      <td>0.000000</td>\n",
       "      <td>0.000000</td>\n",
       "      <td>0.588235</td>\n",
       "      <td>0.909091</td>\n",
       "      <td>0.890411</td>\n",
       "      <td>0.000000</td>\n",
       "      <td>0.000000</td>\n",
       "      <td>0.000000</td>\n",
       "      <td>1.000000</td>\n",
       "      <td>1.000000</td>\n",
       "      <td>1.000000</td>\n",
       "      <td>0.648649</td>\n",
       "      <td>0.888889</td>\n",
       "      <td>0.876404</td>\n",
       "      <td>0.692005</td>\n",
       "      <td>0.817337</td>\n",
       "      <td>0.811683</td>\n",
       "      <td>1.000000</td>\n",
       "      <td>1.000000</td>\n",
       "      <td>1.000000</td>\n",
       "    </tr>\n",
       "    <tr>\n",
       "      <td>750</td>\n",
       "      <td>0.014000</td>\n",
       "      <td>0.002349</td>\n",
       "      <td>0.684329</td>\n",
       "      <td>0.833791</td>\n",
       "      <td>0.826845</td>\n",
       "      <td>0.000000</td>\n",
       "      <td>0.000000</td>\n",
       "      <td>0.000000</td>\n",
       "      <td>0.600000</td>\n",
       "      <td>0.909091</td>\n",
       "      <td>0.891429</td>\n",
       "      <td>0.000000</td>\n",
       "      <td>0.000000</td>\n",
       "      <td>0.000000</td>\n",
       "      <td>1.000000</td>\n",
       "      <td>1.000000</td>\n",
       "      <td>1.000000</td>\n",
       "      <td>0.631579</td>\n",
       "      <td>0.888889</td>\n",
       "      <td>0.875175</td>\n",
       "      <td>0.690507</td>\n",
       "      <td>0.821981</td>\n",
       "      <td>0.816006</td>\n",
       "      <td>1.000000</td>\n",
       "      <td>1.000000</td>\n",
       "      <td>1.000000</td>\n",
       "    </tr>\n",
       "  </tbody>\n",
       "</table><p>"
      ],
      "text/plain": [
       "<IPython.core.display.HTML object>"
      ]
     },
     "metadata": {},
     "output_type": "display_data"
    },
    {
     "name": "stderr",
     "output_type": "stream",
     "text": [
      "The following columns in the evaluation set don't have a corresponding argument in `BiLSTMLongFormerForTokenClassification.forward` and have been ignored: length, trailing_whitespace, offset_mapping, provided_labels, tokens, token_map, document, full_text. If length, trailing_whitespace, offset_mapping, provided_labels, tokens, token_map, document, full_text are not expected by `BiLSTMLongFormerForTokenClassification.forward`,  you can safely ignore this message.\n",
      "***** Running Evaluation *****\n",
      "  Num examples = 1714\n",
      "  Batch size = 8\n",
      "Saving model checkpoint to output/fold_1/checkpoint-50\n",
      "Configuration saved in output/fold_1/checkpoint-50/config.json\n",
      "Model weights saved in output/fold_1/checkpoint-50/pytorch_model.bin\n",
      "tokenizer config file saved in output/fold_1/checkpoint-50/tokenizer_config.json\n",
      "Special tokens file saved in output/fold_1/checkpoint-50/special_tokens_map.json\n",
      "The following columns in the evaluation set don't have a corresponding argument in `BiLSTMLongFormerForTokenClassification.forward` and have been ignored: length, trailing_whitespace, offset_mapping, provided_labels, tokens, token_map, document, full_text. If length, trailing_whitespace, offset_mapping, provided_labels, tokens, token_map, document, full_text are not expected by `BiLSTMLongFormerForTokenClassification.forward`,  you can safely ignore this message.\n",
      "***** Running Evaluation *****\n",
      "  Num examples = 1714\n",
      "  Batch size = 8\n",
      "Saving model checkpoint to output/fold_1/checkpoint-100\n",
      "Configuration saved in output/fold_1/checkpoint-100/config.json\n",
      "Model weights saved in output/fold_1/checkpoint-100/pytorch_model.bin\n",
      "tokenizer config file saved in output/fold_1/checkpoint-100/tokenizer_config.json\n",
      "Special tokens file saved in output/fold_1/checkpoint-100/special_tokens_map.json\n",
      "The following columns in the evaluation set don't have a corresponding argument in `BiLSTMLongFormerForTokenClassification.forward` and have been ignored: length, trailing_whitespace, offset_mapping, provided_labels, tokens, token_map, document, full_text. If length, trailing_whitespace, offset_mapping, provided_labels, tokens, token_map, document, full_text are not expected by `BiLSTMLongFormerForTokenClassification.forward`,  you can safely ignore this message.\n",
      "***** Running Evaluation *****\n",
      "  Num examples = 1714\n",
      "  Batch size = 8\n",
      "Saving model checkpoint to output/fold_1/checkpoint-150\n",
      "Configuration saved in output/fold_1/checkpoint-150/config.json\n",
      "Model weights saved in output/fold_1/checkpoint-150/pytorch_model.bin\n",
      "tokenizer config file saved in output/fold_1/checkpoint-150/tokenizer_config.json\n",
      "Special tokens file saved in output/fold_1/checkpoint-150/special_tokens_map.json\n",
      "Deleting older checkpoint [output/fold_1/checkpoint-50] due to args.save_total_limit\n",
      "Deleting older checkpoint [output/fold_1/checkpoint-100] due to args.save_total_limit\n",
      "The following columns in the evaluation set don't have a corresponding argument in `BiLSTMLongFormerForTokenClassification.forward` and have been ignored: length, trailing_whitespace, offset_mapping, provided_labels, tokens, token_map, document, full_text. If length, trailing_whitespace, offset_mapping, provided_labels, tokens, token_map, document, full_text are not expected by `BiLSTMLongFormerForTokenClassification.forward`,  you can safely ignore this message.\n",
      "***** Running Evaluation *****\n",
      "  Num examples = 1714\n",
      "  Batch size = 8\n",
      "Saving model checkpoint to output/fold_1/checkpoint-200\n",
      "Configuration saved in output/fold_1/checkpoint-200/config.json\n",
      "Model weights saved in output/fold_1/checkpoint-200/pytorch_model.bin\n",
      "tokenizer config file saved in output/fold_1/checkpoint-200/tokenizer_config.json\n",
      "Special tokens file saved in output/fold_1/checkpoint-200/special_tokens_map.json\n",
      "Deleting older checkpoint [output/fold_1/checkpoint-150] due to args.save_total_limit\n",
      "The following columns in the evaluation set don't have a corresponding argument in `BiLSTMLongFormerForTokenClassification.forward` and have been ignored: length, trailing_whitespace, offset_mapping, provided_labels, tokens, token_map, document, full_text. If length, trailing_whitespace, offset_mapping, provided_labels, tokens, token_map, document, full_text are not expected by `BiLSTMLongFormerForTokenClassification.forward`,  you can safely ignore this message.\n",
      "***** Running Evaluation *****\n",
      "  Num examples = 1714\n",
      "  Batch size = 8\n",
      "Saving model checkpoint to output/fold_1/checkpoint-250\n",
      "Configuration saved in output/fold_1/checkpoint-250/config.json\n",
      "Model weights saved in output/fold_1/checkpoint-250/pytorch_model.bin\n",
      "tokenizer config file saved in output/fold_1/checkpoint-250/tokenizer_config.json\n",
      "Special tokens file saved in output/fold_1/checkpoint-250/special_tokens_map.json\n",
      "Deleting older checkpoint [output/fold_1/checkpoint-200] due to args.save_total_limit\n",
      "The following columns in the evaluation set don't have a corresponding argument in `BiLSTMLongFormerForTokenClassification.forward` and have been ignored: length, trailing_whitespace, offset_mapping, provided_labels, tokens, token_map, document, full_text. If length, trailing_whitespace, offset_mapping, provided_labels, tokens, token_map, document, full_text are not expected by `BiLSTMLongFormerForTokenClassification.forward`,  you can safely ignore this message.\n",
      "***** Running Evaluation *****\n",
      "  Num examples = 1714\n",
      "  Batch size = 8\n",
      "Saving model checkpoint to output/fold_1/checkpoint-300\n",
      "Configuration saved in output/fold_1/checkpoint-300/config.json\n",
      "Model weights saved in output/fold_1/checkpoint-300/pytorch_model.bin\n",
      "tokenizer config file saved in output/fold_1/checkpoint-300/tokenizer_config.json\n",
      "Special tokens file saved in output/fold_1/checkpoint-300/special_tokens_map.json\n",
      "Deleting older checkpoint [output/fold_1/checkpoint-250] due to args.save_total_limit\n",
      "The following columns in the evaluation set don't have a corresponding argument in `BiLSTMLongFormerForTokenClassification.forward` and have been ignored: length, trailing_whitespace, offset_mapping, provided_labels, tokens, token_map, document, full_text. If length, trailing_whitespace, offset_mapping, provided_labels, tokens, token_map, document, full_text are not expected by `BiLSTMLongFormerForTokenClassification.forward`,  you can safely ignore this message.\n",
      "***** Running Evaluation *****\n",
      "  Num examples = 1714\n",
      "  Batch size = 8\n",
      "Saving model checkpoint to output/fold_1/checkpoint-350\n",
      "Configuration saved in output/fold_1/checkpoint-350/config.json\n",
      "Model weights saved in output/fold_1/checkpoint-350/pytorch_model.bin\n",
      "tokenizer config file saved in output/fold_1/checkpoint-350/tokenizer_config.json\n",
      "Special tokens file saved in output/fold_1/checkpoint-350/special_tokens_map.json\n",
      "Deleting older checkpoint [output/fold_1/checkpoint-300] due to args.save_total_limit\n",
      "The following columns in the evaluation set don't have a corresponding argument in `BiLSTMLongFormerForTokenClassification.forward` and have been ignored: length, trailing_whitespace, offset_mapping, provided_labels, tokens, token_map, document, full_text. If length, trailing_whitespace, offset_mapping, provided_labels, tokens, token_map, document, full_text are not expected by `BiLSTMLongFormerForTokenClassification.forward`,  you can safely ignore this message.\n",
      "***** Running Evaluation *****\n",
      "  Num examples = 1714\n",
      "  Batch size = 8\n",
      "Saving model checkpoint to output/fold_1/checkpoint-400\n",
      "Configuration saved in output/fold_1/checkpoint-400/config.json\n",
      "Model weights saved in output/fold_1/checkpoint-400/pytorch_model.bin\n",
      "tokenizer config file saved in output/fold_1/checkpoint-400/tokenizer_config.json\n",
      "Special tokens file saved in output/fold_1/checkpoint-400/special_tokens_map.json\n",
      "Deleting older checkpoint [output/fold_1/checkpoint-350] due to args.save_total_limit\n",
      "The following columns in the evaluation set don't have a corresponding argument in `BiLSTMLongFormerForTokenClassification.forward` and have been ignored: length, trailing_whitespace, offset_mapping, provided_labels, tokens, token_map, document, full_text. If length, trailing_whitespace, offset_mapping, provided_labels, tokens, token_map, document, full_text are not expected by `BiLSTMLongFormerForTokenClassification.forward`,  you can safely ignore this message.\n",
      "***** Running Evaluation *****\n",
      "  Num examples = 1714\n",
      "  Batch size = 8\n",
      "Saving model checkpoint to output/fold_1/checkpoint-450\n",
      "Configuration saved in output/fold_1/checkpoint-450/config.json\n",
      "Model weights saved in output/fold_1/checkpoint-450/pytorch_model.bin\n",
      "tokenizer config file saved in output/fold_1/checkpoint-450/tokenizer_config.json\n",
      "Special tokens file saved in output/fold_1/checkpoint-450/special_tokens_map.json\n",
      "Deleting older checkpoint [output/fold_1/checkpoint-400] due to args.save_total_limit\n",
      "The following columns in the evaluation set don't have a corresponding argument in `BiLSTMLongFormerForTokenClassification.forward` and have been ignored: length, trailing_whitespace, offset_mapping, provided_labels, tokens, token_map, document, full_text. If length, trailing_whitespace, offset_mapping, provided_labels, tokens, token_map, document, full_text are not expected by `BiLSTMLongFormerForTokenClassification.forward`,  you can safely ignore this message.\n",
      "***** Running Evaluation *****\n",
      "  Num examples = 1714\n",
      "  Batch size = 8\n",
      "Saving model checkpoint to output/fold_1/checkpoint-500\n",
      "Configuration saved in output/fold_1/checkpoint-500/config.json\n",
      "Model weights saved in output/fold_1/checkpoint-500/pytorch_model.bin\n",
      "tokenizer config file saved in output/fold_1/checkpoint-500/tokenizer_config.json\n",
      "Special tokens file saved in output/fold_1/checkpoint-500/special_tokens_map.json\n",
      "The following columns in the evaluation set don't have a corresponding argument in `BiLSTMLongFormerForTokenClassification.forward` and have been ignored: length, trailing_whitespace, offset_mapping, provided_labels, tokens, token_map, document, full_text. If length, trailing_whitespace, offset_mapping, provided_labels, tokens, token_map, document, full_text are not expected by `BiLSTMLongFormerForTokenClassification.forward`,  you can safely ignore this message.\n",
      "***** Running Evaluation *****\n",
      "  Num examples = 1714\n",
      "  Batch size = 8\n",
      "Saving model checkpoint to output/fold_1/checkpoint-550\n",
      "Configuration saved in output/fold_1/checkpoint-550/config.json\n",
      "Model weights saved in output/fold_1/checkpoint-550/pytorch_model.bin\n",
      "tokenizer config file saved in output/fold_1/checkpoint-550/tokenizer_config.json\n",
      "Special tokens file saved in output/fold_1/checkpoint-550/special_tokens_map.json\n",
      "Deleting older checkpoint [output/fold_1/checkpoint-450] due to args.save_total_limit\n",
      "Deleting older checkpoint [output/fold_1/checkpoint-500] due to args.save_total_limit\n",
      "The following columns in the evaluation set don't have a corresponding argument in `BiLSTMLongFormerForTokenClassification.forward` and have been ignored: length, trailing_whitespace, offset_mapping, provided_labels, tokens, token_map, document, full_text. If length, trailing_whitespace, offset_mapping, provided_labels, tokens, token_map, document, full_text are not expected by `BiLSTMLongFormerForTokenClassification.forward`,  you can safely ignore this message.\n",
      "***** Running Evaluation *****\n",
      "  Num examples = 1714\n",
      "  Batch size = 8\n",
      "Saving model checkpoint to output/fold_1/checkpoint-600\n",
      "Configuration saved in output/fold_1/checkpoint-600/config.json\n",
      "Model weights saved in output/fold_1/checkpoint-600/pytorch_model.bin\n",
      "tokenizer config file saved in output/fold_1/checkpoint-600/tokenizer_config.json\n",
      "Special tokens file saved in output/fold_1/checkpoint-600/special_tokens_map.json\n",
      "Deleting older checkpoint [output/fold_1/checkpoint-550] due to args.save_total_limit\n",
      "The following columns in the evaluation set don't have a corresponding argument in `BiLSTMLongFormerForTokenClassification.forward` and have been ignored: length, trailing_whitespace, offset_mapping, provided_labels, tokens, token_map, document, full_text. If length, trailing_whitespace, offset_mapping, provided_labels, tokens, token_map, document, full_text are not expected by `BiLSTMLongFormerForTokenClassification.forward`,  you can safely ignore this message.\n",
      "***** Running Evaluation *****\n",
      "  Num examples = 1714\n",
      "  Batch size = 8\n",
      "Saving model checkpoint to output/fold_1/checkpoint-650\n",
      "Configuration saved in output/fold_1/checkpoint-650/config.json\n",
      "Model weights saved in output/fold_1/checkpoint-650/pytorch_model.bin\n",
      "tokenizer config file saved in output/fold_1/checkpoint-650/tokenizer_config.json\n",
      "Special tokens file saved in output/fold_1/checkpoint-650/special_tokens_map.json\n",
      "The following columns in the evaluation set don't have a corresponding argument in `BiLSTMLongFormerForTokenClassification.forward` and have been ignored: length, trailing_whitespace, offset_mapping, provided_labels, tokens, token_map, document, full_text. If length, trailing_whitespace, offset_mapping, provided_labels, tokens, token_map, document, full_text are not expected by `BiLSTMLongFormerForTokenClassification.forward`,  you can safely ignore this message.\n",
      "***** Running Evaluation *****\n",
      "  Num examples = 1714\n",
      "  Batch size = 8\n",
      "Saving model checkpoint to output/fold_1/checkpoint-700\n",
      "Configuration saved in output/fold_1/checkpoint-700/config.json\n",
      "Model weights saved in output/fold_1/checkpoint-700/pytorch_model.bin\n",
      "tokenizer config file saved in output/fold_1/checkpoint-700/tokenizer_config.json\n",
      "Special tokens file saved in output/fold_1/checkpoint-700/special_tokens_map.json\n",
      "Deleting older checkpoint [output/fold_1/checkpoint-650] due to args.save_total_limit\n",
      "The following columns in the evaluation set don't have a corresponding argument in `BiLSTMLongFormerForTokenClassification.forward` and have been ignored: length, trailing_whitespace, offset_mapping, provided_labels, tokens, token_map, document, full_text. If length, trailing_whitespace, offset_mapping, provided_labels, tokens, token_map, document, full_text are not expected by `BiLSTMLongFormerForTokenClassification.forward`,  you can safely ignore this message.\n",
      "***** Running Evaluation *****\n",
      "  Num examples = 1714\n",
      "  Batch size = 8\n",
      "Saving model checkpoint to output/fold_1/checkpoint-750\n",
      "Configuration saved in output/fold_1/checkpoint-750/config.json\n",
      "Model weights saved in output/fold_1/checkpoint-750/pytorch_model.bin\n",
      "tokenizer config file saved in output/fold_1/checkpoint-750/tokenizer_config.json\n",
      "Special tokens file saved in output/fold_1/checkpoint-750/special_tokens_map.json\n",
      "Deleting older checkpoint [output/fold_1/checkpoint-700] due to args.save_total_limit\n",
      "\n",
      "\n",
      "Training completed. Do not forget to share your model on huggingface.co/models =)\n",
      "\n",
      "\n",
      "Loading best model from output/fold_1/checkpoint-600 (score: 0.8334380892520429).\n",
      "The following columns in the evaluation set don't have a corresponding argument in `BiLSTMLongFormerForTokenClassification.forward` and have been ignored: length, trailing_whitespace, offset_mapping, provided_labels, tokens, token_map, document, full_text. If length, trailing_whitespace, offset_mapping, provided_labels, tokens, token_map, document, full_text are not expected by `BiLSTMLongFormerForTokenClassification.forward`,  you can safely ignore this message.\n",
      "***** Running Evaluation *****\n",
      "  Num examples = 1714\n",
      "  Batch size = 8\n"
     ]
    },
    {
     "data": {
      "text/html": [
       "\n",
       "    <div>\n",
       "      \n",
       "      <progress value='215' max='215' style='width:300px; height:20px; vertical-align: middle;'></progress>\n",
       "      [215/215 00:47]\n",
       "    </div>\n",
       "    "
      ],
      "text/plain": [
       "<IPython.core.display.HTML object>"
      ]
     },
     "metadata": {},
     "output_type": "display_data"
    },
    {
     "data": {
      "text/html": [
       "Waiting for W&B process to finish... <strong style=\"color:green\">(success).</strong>"
      ],
      "text/plain": [
       "<IPython.core.display.HTML object>"
      ]
     },
     "metadata": {},
     "output_type": "display_data"
    },
    {
     "data": {
      "application/vnd.jupyter.widget-view+json": {
       "model_id": "0ac4a04a87a942ae8d9a960e8170e4c7",
       "version_major": 2,
       "version_minor": 0
      },
      "text/plain": [
       "VBox(children=(Label(value='0.001 MB of 0.001 MB uploaded (0.000 MB deduped)\\r'), FloatProgress(value=1.0, max…"
      ]
     },
     "metadata": {},
     "output_type": "display_data"
    },
    {
     "data": {
      "text/html": [
       "<style>\n",
       "    table.wandb td:nth-child(1) { padding: 0 10px; text-align: left ; width: auto;} td:nth-child(2) {text-align: left ; width: 100%}\n",
       "    .wandb-row { display: flex; flex-direction: row; flex-wrap: wrap; justify-content: flex-start; width: 100% }\n",
       "    .wandb-col { display: flex; flex-direction: column; flex-basis: 100%; flex: 1; padding: 10px; }\n",
       "    </style>\n",
       "<div class=\"wandb-row\"><div class=\"wandb-col\"><h3>Run history:</h3><br/><table class=\"wandb\"><tr><td>eval/f5</td><td>▁▁▁▄▅▅▆▇████████</td></tr><tr><td>eval/f5-EMAIL</td><td>▁▁▁▁▁▁▁▁▁▁▁▁▁▁▁▁</td></tr><tr><td>eval/f5-ID_NUM</td><td>▁▁▁▁▁▁▂▅▄▆██████</td></tr><tr><td>eval/f5-NAME_STUDENT</td><td>▁▁▁▄▅▅▇█████████</td></tr><tr><td>eval/f5-PHONE_NUM</td><td>▁▁▁▁▁▁▁▁▁▁▁▁▁▁▁▁</td></tr><tr><td>eval/f5-STREET_ADDRESS</td><td>▁▁▁▁▁▁▁▁▁▁▁▁▁▁▁▁</td></tr><tr><td>eval/f5-URL_PERSONAL</td><td>▁▁▁▂▄▅▇▇█▇▇██▇▇█</td></tr><tr><td>eval/f5-USERNAME</td><td>▁▁▁▁▁▁▁▁▁▁▁▁▁▁▁▁</td></tr><tr><td>eval/loss</td><td>█▁▁▁▁▁▁▁▁▁▁▁▁▁▁▁</td></tr><tr><td>eval/p-EMAIL</td><td>▁▁▁▁▁▁▁▁▁▁▁▁▁▁▁▁</td></tr><tr><td>eval/p-ID_NUM</td><td>▁▁▁▁▁▁▆█▆▆▆▆▆▆▅▆</td></tr><tr><td>eval/p-NAME_STUDENT</td><td>▁▁▅▅▅▆▇▇▇█▇█████</td></tr><tr><td>eval/p-PHONE_NUM</td><td>▁▁▁▁▁▁▁▁▁▁▁▁▁▁▁▁</td></tr><tr><td>eval/p-STREET_ADDRESS</td><td>▁▁▁▁▁▁▁▁▁▁▁▁▁▁▁▁</td></tr><tr><td>eval/p-URL_PERSONAL</td><td>▁▁▁▃▆▆█▇██▇█████</td></tr><tr><td>eval/p-USERNAME</td><td>▁▁▁▁▁▁▁▁▁▁▁▁▁▁▁▁</td></tr><tr><td>eval/precision</td><td>██▄▁▁▃▄▄▃▅▄▄▅▄▄▄</td></tr><tr><td>eval/r-EMAIL</td><td>▁▁▁▁▁▁▁▁▁▁▁▁▁▁▁▁</td></tr><tr><td>eval/r-ID_NUM</td><td>▁▁▁▁▁▁▂▅▄▆██████</td></tr><tr><td>eval/r-NAME_STUDENT</td><td>▁▁▁▄▅▅▇█████████</td></tr><tr><td>eval/r-PHONE_NUM</td><td>▁▁▁▁▁▁▁▁▁▁▁▁▁▁▁▁</td></tr><tr><td>eval/r-STREET_ADDRESS</td><td>▁▁▁▁▁▁▁▁▁▁▁▁▁▁▁▁</td></tr><tr><td>eval/r-URL_PERSONAL</td><td>▁▁▁▂▄▅▇▇█▇▇██▇▇█</td></tr><tr><td>eval/r-USERNAME</td><td>▁▁▁▁▁▁▁▁▁▁▁▁▁▁▁▁</td></tr><tr><td>eval/recall</td><td>▁▁▁▃▅▅▆▇████████</td></tr><tr><td>eval/runtime</td><td>▄▂▃▁▃▄▂▂▃▂▂▃▃▁▄█</td></tr><tr><td>eval/samples_per_second</td><td>▄▇▆█▅▅▇▇▅▇▇▆▆█▅▁</td></tr><tr><td>eval/steps_per_second</td><td>▄▇▆█▅▅▇▇▅▇▇▆▆█▅▁</td></tr><tr><td>train/epoch</td><td>▁▁▁▂▂▂▂▂▂▃▃▃▃▃▄▄▄▄▄▄▅▅▅▅▅▆▆▆▆▆▇▇▇▇▇▇████</td></tr><tr><td>train/global_step</td><td>▁▁▁▂▂▂▂▂▂▃▃▃▃▃▄▄▄▄▄▄▅▅▅▅▅▆▆▆▆▆▇▇▇▇▇▇████</td></tr><tr><td>train/learning_rate</td><td>▂▃▅▇███▇▇▇▇▇▆▆▆▆▆▅▅▅▅▅▄▄▄▄▄▃▃▃▃▃▂▂▂▂▂▁▁▁</td></tr><tr><td>train/loss</td><td>██▅▂▁▁▁▁▁▁▁▁▁▁▁▁▁▁▁▁▁▁▁▁▁▁▁▁▁▁▁▁▁▁▁▁▁▁▁▁</td></tr><tr><td>train/total_flos</td><td>▁</td></tr><tr><td>train/train_loss</td><td>▁</td></tr><tr><td>train/train_runtime</td><td>▁</td></tr><tr><td>train/train_samples_per_second</td><td>▁</td></tr><tr><td>train/train_steps_per_second</td><td>▁</td></tr></table><br/></div><div class=\"wandb-col\"><h3>Run summary:</h3><br/><table class=\"wandb\"><tr><td>eval/f5</td><td>0.83344</td></tr><tr><td>eval/f5-EMAIL</td><td>1.0</td></tr><tr><td>eval/f5-ID_NUM</td><td>0.88385</td></tr><tr><td>eval/f5-NAME_STUDENT</td><td>0.81898</td></tr><tr><td>eval/f5-PHONE_NUM</td><td>1.0</td></tr><tr><td>eval/f5-STREET_ADDRESS</td><td>0.0</td></tr><tr><td>eval/f5-URL_PERSONAL</td><td>0.97059</td></tr><tr><td>eval/f5-USERNAME</td><td>0.0</td></tr><tr><td>eval/loss</td><td>0.00249</td></tr><tr><td>eval/p-EMAIL</td><td>1.0</td></tr><tr><td>eval/p-ID_NUM</td><td>0.77419</td></tr><tr><td>eval/p-NAME_STUDENT</td><td>0.69131</td></tr><tr><td>eval/p-PHONE_NUM</td><td>1.0</td></tr><tr><td>eval/p-STREET_ADDRESS</td><td>0.0</td></tr><tr><td>eval/p-URL_PERSONAL</td><td>0.55932</td></tr><tr><td>eval/p-USERNAME</td><td>0.0</td></tr><tr><td>eval/precision</td><td>0.6861</td></tr><tr><td>eval/r-EMAIL</td><td>1.0</td></tr><tr><td>eval/r-ID_NUM</td><td>0.88889</td></tr><tr><td>eval/r-NAME_STUDENT</td><td>0.82508</td></tr><tr><td>eval/r-PHONE_NUM</td><td>1.0</td></tr><tr><td>eval/r-STREET_ADDRESS</td><td>0.0</td></tr><tr><td>eval/r-URL_PERSONAL</td><td>1.0</td></tr><tr><td>eval/r-USERNAME</td><td>0.0</td></tr><tr><td>eval/recall</td><td>0.84066</td></tr><tr><td>eval/runtime</td><td>56.1219</td></tr><tr><td>eval/samples_per_second</td><td>30.541</td></tr><tr><td>eval/steps_per_second</td><td>3.831</td></tr><tr><td>train/epoch</td><td>3.0</td></tr><tr><td>train/global_step</td><td>753</td></tr><tr><td>train/learning_rate</td><td>0.0</td></tr><tr><td>train/loss</td><td>0.014</td></tr><tr><td>train/total_flos</td><td>1.2715780529086464e+16</td></tr><tr><td>train/train_loss</td><td>0.1572</td></tr><tr><td>train/train_runtime</td><td>2074.8608</td></tr><tr><td>train/train_samples_per_second</td><td>5.808</td></tr><tr><td>train/train_steps_per_second</td><td>0.363</td></tr></table><br/></div></div>"
      ],
      "text/plain": [
       "<IPython.core.display.HTML object>"
      ]
     },
     "metadata": {},
     "output_type": "display_data"
    },
    {
     "data": {
      "text/html": [
       "Synced <strong style=\"color:#cdcd00\">fold-1</strong>: <a href=\"https://wandb.ai/emiz6413/PII/runs/lhzdafcr\" target=\"_blank\">https://wandb.ai/emiz6413/PII/runs/lhzdafcr</a><br/>Synced 5 W&B file(s), 0 media file(s), 0 artifact file(s) and 0 other file(s)"
      ],
      "text/plain": [
       "<IPython.core.display.HTML object>"
      ]
     },
     "metadata": {},
     "output_type": "display_data"
    },
    {
     "data": {
      "text/html": [
       "Find logs at: <code>./wandb/run-20240227_132002-lhzdafcr/logs</code>"
      ],
      "text/plain": [
       "<IPython.core.display.HTML object>"
      ]
     },
     "metadata": {},
     "output_type": "display_data"
    },
    {
     "name": "stdout",
     "output_type": "stream",
     "text": [
      "         "
     ]
    },
    {
     "data": {
      "application/vnd.jupyter.widget-view+json": {
       "model_id": "cde3e9ca129f49548dbdc91d9444e35f",
       "version_major": 2,
       "version_minor": 0
      },
      "text/plain": [
       "#0:   0%|          | 0/505 [00:00<?, ?ex/s]"
      ]
     },
     "metadata": {},
     "output_type": "display_data"
    },
    {
     "name": "stdout",
     "output_type": "stream",
     "text": [
      " "
     ]
    },
    {
     "data": {
      "application/vnd.jupyter.widget-view+json": {
       "model_id": "b21de33fff1444c1a68dd8f03c9ddfb3",
       "version_major": 2,
       "version_minor": 0
      },
      "text/plain": [
       "#1:   0%|          | 0/505 [00:00<?, ?ex/s]"
      ]
     },
     "metadata": {},
     "output_type": "display_data"
    },
    {
     "name": "stdout",
     "output_type": "stream",
     "text": [
      " "
     ]
    },
    {
     "data": {
      "application/vnd.jupyter.widget-view+json": {
       "model_id": "2d34265dcd674913bda7924295c82980",
       "version_major": 2,
       "version_minor": 0
      },
      "text/plain": [
       "#2:   0%|          | 0/505 [00:00<?, ?ex/s]"
      ]
     },
     "metadata": {},
     "output_type": "display_data"
    },
    {
     "name": "stdout",
     "output_type": "stream",
     "text": [
      " "
     ]
    },
    {
     "data": {
      "application/vnd.jupyter.widget-view+json": {
       "model_id": "700eed7f04224eac884a7c2764020a99",
       "version_major": 2,
       "version_minor": 0
      },
      "text/plain": [
       "#3:   0%|          | 0/505 [00:00<?, ?ex/s]"
      ]
     },
     "metadata": {},
     "output_type": "display_data"
    },
    {
     "name": "stdout",
     "output_type": "stream",
     "text": [
      " "
     ]
    },
    {
     "data": {
      "application/vnd.jupyter.widget-view+json": {
       "model_id": "9ed91879c1a2431fbc8fdfeb941090b8",
       "version_major": 2,
       "version_minor": 0
      },
      "text/plain": [
       "#4:   0%|          | 0/505 [00:00<?, ?ex/s]"
      ]
     },
     "metadata": {},
     "output_type": "display_data"
    },
    {
     "name": "stdout",
     "output_type": "stream",
     "text": [
      " "
     ]
    },
    {
     "data": {
      "application/vnd.jupyter.widget-view+json": {
       "model_id": "9d0be782e87544a9a18db8a9e9da6353",
       "version_major": 2,
       "version_minor": 0
      },
      "text/plain": [
       "#5:   0%|          | 0/505 [00:00<?, ?ex/s]"
      ]
     },
     "metadata": {},
     "output_type": "display_data"
    },
    {
     "name": "stdout",
     "output_type": "stream",
     "text": [
      " "
     ]
    },
    {
     "data": {
      "application/vnd.jupyter.widget-view+json": {
       "model_id": "23b3dd24b8244ab0bbf46642eb6f4078",
       "version_major": 2,
       "version_minor": 0
      },
      "text/plain": [
       "#6:   0%|          | 0/505 [00:00<?, ?ex/s]"
      ]
     },
     "metadata": {},
     "output_type": "display_data"
    },
    {
     "name": "stdout",
     "output_type": "stream",
     "text": [
      " "
     ]
    },
    {
     "data": {
      "application/vnd.jupyter.widget-view+json": {
       "model_id": "37cafa9ff7954e03b961284540f9afa3",
       "version_major": 2,
       "version_minor": 0
      },
      "text/plain": [
       "#7:   0%|          | 0/505 [00:00<?, ?ex/s]"
      ]
     },
     "metadata": {},
     "output_type": "display_data"
    },
    {
     "name": "stdout",
     "output_type": "stream",
     "text": [
      "         "
     ]
    },
    {
     "data": {
      "application/vnd.jupyter.widget-view+json": {
       "model_id": "06d75393fd8f4bb08765c84197916591",
       "version_major": 2,
       "version_minor": 0
      },
      "text/plain": [
       "#0:   0%|          | 0/212 [00:00<?, ?ex/s]"
      ]
     },
     "metadata": {},
     "output_type": "display_data"
    },
    {
     "name": "stdout",
     "output_type": "stream",
     "text": [
      " "
     ]
    },
    {
     "data": {
      "application/vnd.jupyter.widget-view+json": {
       "model_id": "2256315badcd4c3ba0e2aedf93cf0e16",
       "version_major": 2,
       "version_minor": 0
      },
      "text/plain": [
       "#1:   0%|          | 0/211 [00:00<?, ?ex/s]"
      ]
     },
     "metadata": {},
     "output_type": "display_data"
    },
    {
     "name": "stdout",
     "output_type": "stream",
     "text": [
      " "
     ]
    },
    {
     "data": {
      "application/vnd.jupyter.widget-view+json": {
       "model_id": "3d0ae1c4b9f449b8a7707f27ae27fe5e",
       "version_major": 2,
       "version_minor": 0
      },
      "text/plain": [
       "#2:   0%|          | 0/211 [00:00<?, ?ex/s]"
      ]
     },
     "metadata": {},
     "output_type": "display_data"
    },
    {
     "name": "stdout",
     "output_type": "stream",
     "text": [
      " "
     ]
    },
    {
     "data": {
      "application/vnd.jupyter.widget-view+json": {
       "model_id": "c4f9f452ad5346a089b0e66cf5a2eb65",
       "version_major": 2,
       "version_minor": 0
      },
      "text/plain": [
       "#3:   0%|          | 0/211 [00:00<?, ?ex/s]"
      ]
     },
     "metadata": {},
     "output_type": "display_data"
    },
    {
     "name": "stdout",
     "output_type": "stream",
     "text": [
      " "
     ]
    },
    {
     "data": {
      "application/vnd.jupyter.widget-view+json": {
       "model_id": "22d8136fd17143f69291719e1f073882",
       "version_major": 2,
       "version_minor": 0
      },
      "text/plain": [
       "#4:   0%|          | 0/211 [00:00<?, ?ex/s]"
      ]
     },
     "metadata": {},
     "output_type": "display_data"
    },
    {
     "name": "stdout",
     "output_type": "stream",
     "text": [
      " "
     ]
    },
    {
     "data": {
      "application/vnd.jupyter.widget-view+json": {
       "model_id": "f6ada4377b164c0eacc78795c3e79124",
       "version_major": 2,
       "version_minor": 0
      },
      "text/plain": [
       "#5:   0%|          | 0/211 [00:00<?, ?ex/s]"
      ]
     },
     "metadata": {},
     "output_type": "display_data"
    },
    {
     "name": "stdout",
     "output_type": "stream",
     "text": [
      " "
     ]
    },
    {
     "data": {
      "application/vnd.jupyter.widget-view+json": {
       "model_id": "c3fb56f33ce04036939fbae87a5bfd04",
       "version_major": 2,
       "version_minor": 0
      },
      "text/plain": [
       "#6:   0%|          | 0/211 [00:00<?, ?ex/s]"
      ]
     },
     "metadata": {},
     "output_type": "display_data"
    },
    {
     "name": "stdout",
     "output_type": "stream",
     "text": [
      " "
     ]
    },
    {
     "data": {
      "application/vnd.jupyter.widget-view+json": {
       "model_id": "3124c3c9315d4d05a13b11585fdbcff2",
       "version_major": 2,
       "version_minor": 0
      },
      "text/plain": [
       "#7:   0%|          | 0/211 [00:00<?, ?ex/s]"
      ]
     },
     "metadata": {},
     "output_type": "display_data"
    },
    {
     "name": "stderr",
     "output_type": "stream",
     "text": [
      "Using cuda_amp half precision backend\n",
      "The following columns in the training set don't have a corresponding argument in `BiLSTMLongFormerForTokenClassification.forward` and have been ignored: length, trailing_whitespace, offset_mapping, provided_labels, tokens, token_map, document, full_text. If length, trailing_whitespace, offset_mapping, provided_labels, tokens, token_map, document, full_text are not expected by `BiLSTMLongFormerForTokenClassification.forward`,  you can safely ignore this message.\n",
      "/usr/local/lib/python3.9/dist-packages/transformers/optimization.py:306: FutureWarning: This implementation of AdamW is deprecated and will be removed in a future version. Use the PyTorch implementation torch.optim.AdamW instead, or set `no_deprecation_warning=True` to disable this warning\n",
      "  warnings.warn(\n",
      "***** Running training *****\n",
      "  Num examples = 4040\n",
      "  Num Epochs = 3\n",
      "  Instantaneous batch size per device = 8\n",
      "  Total train batch size (w. parallel, distributed & accumulation) = 16\n",
      "  Gradient Accumulation steps = 2\n",
      "  Total optimization steps = 756\n",
      "Automatic Weights & Biases logging enabled, to disable set os.environ[\"WANDB_DISABLED\"] = \"true\"\n"
     ]
    },
    {
     "data": {
      "application/vnd.jupyter.widget-view+json": {
       "model_id": "d45758c1bcd5495ba7c8099646648451",
       "version_major": 2,
       "version_minor": 0
      },
      "text/plain": [
       "VBox(children=(Label(value='Waiting for wandb.init()...\\r'), FloatProgress(value=0.01666944471677804, max=1.0)…"
      ]
     },
     "metadata": {},
     "output_type": "display_data"
    },
    {
     "data": {
      "text/html": [
       "Tracking run with wandb version 0.13.4"
      ],
      "text/plain": [
       "<IPython.core.display.HTML object>"
      ]
     },
     "metadata": {},
     "output_type": "display_data"
    },
    {
     "data": {
      "text/html": [
       "Run data is saved locally in <code>/notebooks/notebooks/wandb/run-20240227_135645-3loy8pp0</code>"
      ],
      "text/plain": [
       "<IPython.core.display.HTML object>"
      ]
     },
     "metadata": {},
     "output_type": "display_data"
    },
    {
     "data": {
      "text/html": [
       "Syncing run <strong><a href=\"https://wandb.ai/emiz6413/PII/runs/3loy8pp0\" target=\"_blank\">fold-2</a></strong> to <a href=\"https://wandb.ai/emiz6413/PII\" target=\"_blank\">Weights & Biases</a> (<a href=\"https://wandb.me/run\" target=\"_blank\">docs</a>)<br/>"
      ],
      "text/plain": [
       "<IPython.core.display.HTML object>"
      ]
     },
     "metadata": {},
     "output_type": "display_data"
    },
    {
     "data": {
      "text/html": [
       "\n",
       "    <div>\n",
       "      \n",
       "      <progress value='756' max='756' style='width:300px; height:20px; vertical-align: middle;'></progress>\n",
       "      [756/756 34:39, Epoch 2/3]\n",
       "    </div>\n",
       "    <table border=\"1\" class=\"dataframe\">\n",
       "  <thead>\n",
       " <tr style=\"text-align: left;\">\n",
       "      <th>Step</th>\n",
       "      <th>Training Loss</th>\n",
       "      <th>Validation Loss</th>\n",
       "      <th>Precision</th>\n",
       "      <th>Recall</th>\n",
       "      <th>F5</th>\n",
       "      <th>P-username</th>\n",
       "      <th>R-username</th>\n",
       "      <th>F5-username</th>\n",
       "      <th>P-url Personal</th>\n",
       "      <th>R-url Personal</th>\n",
       "      <th>F5-url Personal</th>\n",
       "      <th>P-street Address</th>\n",
       "      <th>R-street Address</th>\n",
       "      <th>F5-street Address</th>\n",
       "      <th>P-email</th>\n",
       "      <th>R-email</th>\n",
       "      <th>F5-email</th>\n",
       "      <th>P-id Num</th>\n",
       "      <th>R-id Num</th>\n",
       "      <th>F5-id Num</th>\n",
       "      <th>P-name Student</th>\n",
       "      <th>R-name Student</th>\n",
       "      <th>F5-name Student</th>\n",
       "      <th>P-phone Num</th>\n",
       "      <th>R-phone Num</th>\n",
       "      <th>F5-phone Num</th>\n",
       "    </tr>\n",
       "  </thead>\n",
       "  <tbody>\n",
       "    <tr>\n",
       "      <td>50</td>\n",
       "      <td>0.639100</td>\n",
       "      <td>0.279448</td>\n",
       "      <td>0.900000</td>\n",
       "      <td>0.012195</td>\n",
       "      <td>0.012676</td>\n",
       "      <td>0.000000</td>\n",
       "      <td>0.000000</td>\n",
       "      <td>0.000000</td>\n",
       "      <td>0.000000</td>\n",
       "      <td>0.000000</td>\n",
       "      <td>0.000000</td>\n",
       "      <td>0.000000</td>\n",
       "      <td>0.000000</td>\n",
       "      <td>0.000000</td>\n",
       "      <td>0.888889</td>\n",
       "      <td>1.000000</td>\n",
       "      <td>0.995215</td>\n",
       "      <td>0.000000</td>\n",
       "      <td>0.000000</td>\n",
       "      <td>0.000000</td>\n",
       "      <td>0.000000</td>\n",
       "      <td>0.000000</td>\n",
       "      <td>0.000000</td>\n",
       "      <td>1.000000</td>\n",
       "      <td>1.000000</td>\n",
       "      <td>1.000000</td>\n",
       "    </tr>\n",
       "    <tr>\n",
       "      <td>100</td>\n",
       "      <td>0.142900</td>\n",
       "      <td>0.029031</td>\n",
       "      <td>0.900000</td>\n",
       "      <td>0.012195</td>\n",
       "      <td>0.012676</td>\n",
       "      <td>0.000000</td>\n",
       "      <td>0.000000</td>\n",
       "      <td>0.000000</td>\n",
       "      <td>0.000000</td>\n",
       "      <td>0.000000</td>\n",
       "      <td>0.000000</td>\n",
       "      <td>0.000000</td>\n",
       "      <td>0.000000</td>\n",
       "      <td>0.000000</td>\n",
       "      <td>0.888889</td>\n",
       "      <td>1.000000</td>\n",
       "      <td>0.995215</td>\n",
       "      <td>0.000000</td>\n",
       "      <td>0.000000</td>\n",
       "      <td>0.000000</td>\n",
       "      <td>0.000000</td>\n",
       "      <td>0.000000</td>\n",
       "      <td>0.000000</td>\n",
       "      <td>1.000000</td>\n",
       "      <td>1.000000</td>\n",
       "      <td>1.000000</td>\n",
       "    </tr>\n",
       "    <tr>\n",
       "      <td>150</td>\n",
       "      <td>0.061900</td>\n",
       "      <td>0.009826</td>\n",
       "      <td>0.165919</td>\n",
       "      <td>0.050136</td>\n",
       "      <td>0.051518</td>\n",
       "      <td>0.000000</td>\n",
       "      <td>0.000000</td>\n",
       "      <td>0.000000</td>\n",
       "      <td>0.000000</td>\n",
       "      <td>0.000000</td>\n",
       "      <td>0.000000</td>\n",
       "      <td>0.000000</td>\n",
       "      <td>0.000000</td>\n",
       "      <td>0.000000</td>\n",
       "      <td>0.888889</td>\n",
       "      <td>1.000000</td>\n",
       "      <td>0.995215</td>\n",
       "      <td>0.000000</td>\n",
       "      <td>0.000000</td>\n",
       "      <td>0.000000</td>\n",
       "      <td>0.131455</td>\n",
       "      <td>0.042360</td>\n",
       "      <td>0.043494</td>\n",
       "      <td>1.000000</td>\n",
       "      <td>1.000000</td>\n",
       "      <td>1.000000</td>\n",
       "    </tr>\n",
       "    <tr>\n",
       "      <td>200</td>\n",
       "      <td>0.058100</td>\n",
       "      <td>0.008249</td>\n",
       "      <td>0.325811</td>\n",
       "      <td>0.313008</td>\n",
       "      <td>0.313482</td>\n",
       "      <td>0.000000</td>\n",
       "      <td>0.000000</td>\n",
       "      <td>0.000000</td>\n",
       "      <td>0.029851</td>\n",
       "      <td>0.071429</td>\n",
       "      <td>0.067797</td>\n",
       "      <td>0.666667</td>\n",
       "      <td>0.727273</td>\n",
       "      <td>0.724739</td>\n",
       "      <td>0.888889</td>\n",
       "      <td>1.000000</td>\n",
       "      <td>0.995215</td>\n",
       "      <td>0.000000</td>\n",
       "      <td>0.000000</td>\n",
       "      <td>0.000000</td>\n",
       "      <td>0.335526</td>\n",
       "      <td>0.308623</td>\n",
       "      <td>0.309578</td>\n",
       "      <td>1.000000</td>\n",
       "      <td>1.000000</td>\n",
       "      <td>1.000000</td>\n",
       "    </tr>\n",
       "    <tr>\n",
       "      <td>250</td>\n",
       "      <td>0.046300</td>\n",
       "      <td>0.005461</td>\n",
       "      <td>0.387240</td>\n",
       "      <td>0.353659</td>\n",
       "      <td>0.354842</td>\n",
       "      <td>0.000000</td>\n",
       "      <td>0.000000</td>\n",
       "      <td>0.000000</td>\n",
       "      <td>0.121212</td>\n",
       "      <td>0.142857</td>\n",
       "      <td>0.141883</td>\n",
       "      <td>1.000000</td>\n",
       "      <td>0.363636</td>\n",
       "      <td>0.372760</td>\n",
       "      <td>0.888889</td>\n",
       "      <td>1.000000</td>\n",
       "      <td>0.995215</td>\n",
       "      <td>0.000000</td>\n",
       "      <td>0.000000</td>\n",
       "      <td>0.000000</td>\n",
       "      <td>0.385233</td>\n",
       "      <td>0.363086</td>\n",
       "      <td>0.363891</td>\n",
       "      <td>1.000000</td>\n",
       "      <td>1.000000</td>\n",
       "      <td>1.000000</td>\n",
       "    </tr>\n",
       "    <tr>\n",
       "      <td>300</td>\n",
       "      <td>0.032100</td>\n",
       "      <td>0.004145</td>\n",
       "      <td>0.424757</td>\n",
       "      <td>0.474255</td>\n",
       "      <td>0.472139</td>\n",
       "      <td>0.000000</td>\n",
       "      <td>0.000000</td>\n",
       "      <td>0.000000</td>\n",
       "      <td>0.393939</td>\n",
       "      <td>0.928571</td>\n",
       "      <td>0.882507</td>\n",
       "      <td>0.500000</td>\n",
       "      <td>0.818182</td>\n",
       "      <td>0.798635</td>\n",
       "      <td>0.888889</td>\n",
       "      <td>1.000000</td>\n",
       "      <td>0.995215</td>\n",
       "      <td>0.000000</td>\n",
       "      <td>0.000000</td>\n",
       "      <td>0.000000</td>\n",
       "      <td>0.417135</td>\n",
       "      <td>0.449319</td>\n",
       "      <td>0.447990</td>\n",
       "      <td>1.000000</td>\n",
       "      <td>1.000000</td>\n",
       "      <td>1.000000</td>\n",
       "    </tr>\n",
       "    <tr>\n",
       "      <td>350</td>\n",
       "      <td>0.029000</td>\n",
       "      <td>0.003603</td>\n",
       "      <td>0.559201</td>\n",
       "      <td>0.531165</td>\n",
       "      <td>0.532192</td>\n",
       "      <td>0.000000</td>\n",
       "      <td>0.000000</td>\n",
       "      <td>0.000000</td>\n",
       "      <td>0.471698</td>\n",
       "      <td>0.892857</td>\n",
       "      <td>0.863214</td>\n",
       "      <td>0.818182</td>\n",
       "      <td>0.818182</td>\n",
       "      <td>0.818182</td>\n",
       "      <td>0.888889</td>\n",
       "      <td>1.000000</td>\n",
       "      <td>0.995215</td>\n",
       "      <td>0.000000</td>\n",
       "      <td>0.000000</td>\n",
       "      <td>0.000000</td>\n",
       "      <td>0.551948</td>\n",
       "      <td>0.514372</td>\n",
       "      <td>0.515723</td>\n",
       "      <td>1.000000</td>\n",
       "      <td>1.000000</td>\n",
       "      <td>1.000000</td>\n",
       "    </tr>\n",
       "    <tr>\n",
       "      <td>400</td>\n",
       "      <td>0.022200</td>\n",
       "      <td>0.003768</td>\n",
       "      <td>0.542117</td>\n",
       "      <td>0.680217</td>\n",
       "      <td>0.673617</td>\n",
       "      <td>0.000000</td>\n",
       "      <td>0.000000</td>\n",
       "      <td>0.000000</td>\n",
       "      <td>0.428571</td>\n",
       "      <td>0.964286</td>\n",
       "      <td>0.920052</td>\n",
       "      <td>0.782609</td>\n",
       "      <td>0.818182</td>\n",
       "      <td>0.816754</td>\n",
       "      <td>0.888889</td>\n",
       "      <td>1.000000</td>\n",
       "      <td>0.995215</td>\n",
       "      <td>0.000000</td>\n",
       "      <td>0.000000</td>\n",
       "      <td>0.000000</td>\n",
       "      <td>0.539759</td>\n",
       "      <td>0.677761</td>\n",
       "      <td>0.671161</td>\n",
       "      <td>1.000000</td>\n",
       "      <td>1.000000</td>\n",
       "      <td>1.000000</td>\n",
       "    </tr>\n",
       "    <tr>\n",
       "      <td>450</td>\n",
       "      <td>0.025700</td>\n",
       "      <td>0.003231</td>\n",
       "      <td>0.643457</td>\n",
       "      <td>0.726287</td>\n",
       "      <td>0.722709</td>\n",
       "      <td>0.000000</td>\n",
       "      <td>0.000000</td>\n",
       "      <td>0.000000</td>\n",
       "      <td>0.454545</td>\n",
       "      <td>0.892857</td>\n",
       "      <td>0.860927</td>\n",
       "      <td>0.857143</td>\n",
       "      <td>0.818182</td>\n",
       "      <td>0.819615</td>\n",
       "      <td>0.888889</td>\n",
       "      <td>1.000000</td>\n",
       "      <td>0.995215</td>\n",
       "      <td>1.000000</td>\n",
       "      <td>0.142857</td>\n",
       "      <td>0.147727</td>\n",
       "      <td>0.646980</td>\n",
       "      <td>0.729198</td>\n",
       "      <td>0.725651</td>\n",
       "      <td>1.000000</td>\n",
       "      <td>1.000000</td>\n",
       "      <td>1.000000</td>\n",
       "    </tr>\n",
       "    <tr>\n",
       "      <td>500</td>\n",
       "      <td>0.019200</td>\n",
       "      <td>0.003314</td>\n",
       "      <td>0.652794</td>\n",
       "      <td>0.743902</td>\n",
       "      <td>0.739931</td>\n",
       "      <td>0.000000</td>\n",
       "      <td>0.000000</td>\n",
       "      <td>0.000000</td>\n",
       "      <td>0.406250</td>\n",
       "      <td>0.928571</td>\n",
       "      <td>0.884817</td>\n",
       "      <td>0.666667</td>\n",
       "      <td>0.818182</td>\n",
       "      <td>0.811092</td>\n",
       "      <td>0.888889</td>\n",
       "      <td>1.000000</td>\n",
       "      <td>0.995215</td>\n",
       "      <td>0.769231</td>\n",
       "      <td>0.714286</td>\n",
       "      <td>0.716253</td>\n",
       "      <td>0.668501</td>\n",
       "      <td>0.735250</td>\n",
       "      <td>0.732437</td>\n",
       "      <td>1.000000</td>\n",
       "      <td>1.000000</td>\n",
       "      <td>1.000000</td>\n",
       "    </tr>\n",
       "    <tr>\n",
       "      <td>550</td>\n",
       "      <td>0.016400</td>\n",
       "      <td>0.002921</td>\n",
       "      <td>0.687500</td>\n",
       "      <td>0.760163</td>\n",
       "      <td>0.757085</td>\n",
       "      <td>0.000000</td>\n",
       "      <td>0.000000</td>\n",
       "      <td>0.000000</td>\n",
       "      <td>0.510204</td>\n",
       "      <td>0.892857</td>\n",
       "      <td>0.867824</td>\n",
       "      <td>0.900000</td>\n",
       "      <td>0.818182</td>\n",
       "      <td>0.821053</td>\n",
       "      <td>0.888889</td>\n",
       "      <td>1.000000</td>\n",
       "      <td>0.995215</td>\n",
       "      <td>1.000000</td>\n",
       "      <td>0.500000</td>\n",
       "      <td>0.509804</td>\n",
       "      <td>0.687671</td>\n",
       "      <td>0.759455</td>\n",
       "      <td>0.756418</td>\n",
       "      <td>1.000000</td>\n",
       "      <td>1.000000</td>\n",
       "      <td>1.000000</td>\n",
       "    </tr>\n",
       "    <tr>\n",
       "      <td>600</td>\n",
       "      <td>0.021600</td>\n",
       "      <td>0.002777</td>\n",
       "      <td>0.684606</td>\n",
       "      <td>0.741192</td>\n",
       "      <td>0.738844</td>\n",
       "      <td>0.000000</td>\n",
       "      <td>0.000000</td>\n",
       "      <td>0.000000</td>\n",
       "      <td>0.555556</td>\n",
       "      <td>0.892857</td>\n",
       "      <td>0.872483</td>\n",
       "      <td>0.857143</td>\n",
       "      <td>0.818182</td>\n",
       "      <td>0.819615</td>\n",
       "      <td>0.888889</td>\n",
       "      <td>1.000000</td>\n",
       "      <td>0.995215</td>\n",
       "      <td>1.000000</td>\n",
       "      <td>0.714286</td>\n",
       "      <td>0.722222</td>\n",
       "      <td>0.680224</td>\n",
       "      <td>0.733737</td>\n",
       "      <td>0.731523</td>\n",
       "      <td>1.000000</td>\n",
       "      <td>1.000000</td>\n",
       "      <td>1.000000</td>\n",
       "    </tr>\n",
       "    <tr>\n",
       "      <td>650</td>\n",
       "      <td>0.016400</td>\n",
       "      <td>0.002725</td>\n",
       "      <td>0.700767</td>\n",
       "      <td>0.742547</td>\n",
       "      <td>0.740849</td>\n",
       "      <td>0.000000</td>\n",
       "      <td>0.000000</td>\n",
       "      <td>0.000000</td>\n",
       "      <td>0.555556</td>\n",
       "      <td>0.892857</td>\n",
       "      <td>0.872483</td>\n",
       "      <td>0.900000</td>\n",
       "      <td>0.818182</td>\n",
       "      <td>0.821053</td>\n",
       "      <td>0.888889</td>\n",
       "      <td>1.000000</td>\n",
       "      <td>0.995215</td>\n",
       "      <td>1.000000</td>\n",
       "      <td>0.642857</td>\n",
       "      <td>0.651811</td>\n",
       "      <td>0.697708</td>\n",
       "      <td>0.736762</td>\n",
       "      <td>0.735180</td>\n",
       "      <td>1.000000</td>\n",
       "      <td>1.000000</td>\n",
       "      <td>1.000000</td>\n",
       "    </tr>\n",
       "    <tr>\n",
       "      <td>700</td>\n",
       "      <td>0.010900</td>\n",
       "      <td>0.002584</td>\n",
       "      <td>0.684531</td>\n",
       "      <td>0.761518</td>\n",
       "      <td>0.758238</td>\n",
       "      <td>0.000000</td>\n",
       "      <td>0.000000</td>\n",
       "      <td>0.000000</td>\n",
       "      <td>0.631579</td>\n",
       "      <td>0.857143</td>\n",
       "      <td>0.845528</td>\n",
       "      <td>0.900000</td>\n",
       "      <td>0.818182</td>\n",
       "      <td>0.821053</td>\n",
       "      <td>0.888889</td>\n",
       "      <td>1.000000</td>\n",
       "      <td>0.995215</td>\n",
       "      <td>1.000000</td>\n",
       "      <td>0.714286</td>\n",
       "      <td>0.722222</td>\n",
       "      <td>0.674293</td>\n",
       "      <td>0.757943</td>\n",
       "      <td>0.754343</td>\n",
       "      <td>1.000000</td>\n",
       "      <td>1.000000</td>\n",
       "      <td>1.000000</td>\n",
       "    </tr>\n",
       "    <tr>\n",
       "      <td>750</td>\n",
       "      <td>0.012200</td>\n",
       "      <td>0.002596</td>\n",
       "      <td>0.695122</td>\n",
       "      <td>0.772358</td>\n",
       "      <td>0.769071</td>\n",
       "      <td>0.000000</td>\n",
       "      <td>0.000000</td>\n",
       "      <td>0.000000</td>\n",
       "      <td>0.600000</td>\n",
       "      <td>0.857143</td>\n",
       "      <td>0.843243</td>\n",
       "      <td>0.900000</td>\n",
       "      <td>0.818182</td>\n",
       "      <td>0.821053</td>\n",
       "      <td>0.888889</td>\n",
       "      <td>1.000000</td>\n",
       "      <td>0.995215</td>\n",
       "      <td>1.000000</td>\n",
       "      <td>0.785714</td>\n",
       "      <td>0.792244</td>\n",
       "      <td>0.687415</td>\n",
       "      <td>0.768533</td>\n",
       "      <td>0.765060</td>\n",
       "      <td>1.000000</td>\n",
       "      <td>1.000000</td>\n",
       "      <td>1.000000</td>\n",
       "    </tr>\n",
       "  </tbody>\n",
       "</table><p>"
      ],
      "text/plain": [
       "<IPython.core.display.HTML object>"
      ]
     },
     "metadata": {},
     "output_type": "display_data"
    },
    {
     "name": "stderr",
     "output_type": "stream",
     "text": [
      "The following columns in the evaluation set don't have a corresponding argument in `BiLSTMLongFormerForTokenClassification.forward` and have been ignored: length, trailing_whitespace, offset_mapping, provided_labels, tokens, token_map, document, full_text. If length, trailing_whitespace, offset_mapping, provided_labels, tokens, token_map, document, full_text are not expected by `BiLSTMLongFormerForTokenClassification.forward`,  you can safely ignore this message.\n",
      "***** Running Evaluation *****\n",
      "  Num examples = 1689\n",
      "  Batch size = 8\n",
      "Saving model checkpoint to output/fold_2/checkpoint-50\n",
      "Configuration saved in output/fold_2/checkpoint-50/config.json\n",
      "Model weights saved in output/fold_2/checkpoint-50/pytorch_model.bin\n",
      "tokenizer config file saved in output/fold_2/checkpoint-50/tokenizer_config.json\n",
      "Special tokens file saved in output/fold_2/checkpoint-50/special_tokens_map.json\n",
      "The following columns in the evaluation set don't have a corresponding argument in `BiLSTMLongFormerForTokenClassification.forward` and have been ignored: length, trailing_whitespace, offset_mapping, provided_labels, tokens, token_map, document, full_text. If length, trailing_whitespace, offset_mapping, provided_labels, tokens, token_map, document, full_text are not expected by `BiLSTMLongFormerForTokenClassification.forward`,  you can safely ignore this message.\n",
      "***** Running Evaluation *****\n",
      "  Num examples = 1689\n",
      "  Batch size = 8\n",
      "Saving model checkpoint to output/fold_2/checkpoint-100\n",
      "Configuration saved in output/fold_2/checkpoint-100/config.json\n",
      "Model weights saved in output/fold_2/checkpoint-100/pytorch_model.bin\n",
      "tokenizer config file saved in output/fold_2/checkpoint-100/tokenizer_config.json\n",
      "Special tokens file saved in output/fold_2/checkpoint-100/special_tokens_map.json\n",
      "The following columns in the evaluation set don't have a corresponding argument in `BiLSTMLongFormerForTokenClassification.forward` and have been ignored: length, trailing_whitespace, offset_mapping, provided_labels, tokens, token_map, document, full_text. If length, trailing_whitespace, offset_mapping, provided_labels, tokens, token_map, document, full_text are not expected by `BiLSTMLongFormerForTokenClassification.forward`,  you can safely ignore this message.\n",
      "***** Running Evaluation *****\n",
      "  Num examples = 1689\n",
      "  Batch size = 8\n",
      "Saving model checkpoint to output/fold_2/checkpoint-150\n",
      "Configuration saved in output/fold_2/checkpoint-150/config.json\n",
      "Model weights saved in output/fold_2/checkpoint-150/pytorch_model.bin\n",
      "tokenizer config file saved in output/fold_2/checkpoint-150/tokenizer_config.json\n",
      "Special tokens file saved in output/fold_2/checkpoint-150/special_tokens_map.json\n",
      "Deleting older checkpoint [output/fold_2/checkpoint-50] due to args.save_total_limit\n",
      "Deleting older checkpoint [output/fold_2/checkpoint-100] due to args.save_total_limit\n",
      "The following columns in the evaluation set don't have a corresponding argument in `BiLSTMLongFormerForTokenClassification.forward` and have been ignored: length, trailing_whitespace, offset_mapping, provided_labels, tokens, token_map, document, full_text. If length, trailing_whitespace, offset_mapping, provided_labels, tokens, token_map, document, full_text are not expected by `BiLSTMLongFormerForTokenClassification.forward`,  you can safely ignore this message.\n",
      "***** Running Evaluation *****\n",
      "  Num examples = 1689\n",
      "  Batch size = 8\n",
      "Saving model checkpoint to output/fold_2/checkpoint-200\n",
      "Configuration saved in output/fold_2/checkpoint-200/config.json\n",
      "Model weights saved in output/fold_2/checkpoint-200/pytorch_model.bin\n",
      "tokenizer config file saved in output/fold_2/checkpoint-200/tokenizer_config.json\n",
      "Special tokens file saved in output/fold_2/checkpoint-200/special_tokens_map.json\n",
      "Deleting older checkpoint [output/fold_2/checkpoint-150] due to args.save_total_limit\n",
      "The following columns in the evaluation set don't have a corresponding argument in `BiLSTMLongFormerForTokenClassification.forward` and have been ignored: length, trailing_whitespace, offset_mapping, provided_labels, tokens, token_map, document, full_text. If length, trailing_whitespace, offset_mapping, provided_labels, tokens, token_map, document, full_text are not expected by `BiLSTMLongFormerForTokenClassification.forward`,  you can safely ignore this message.\n",
      "***** Running Evaluation *****\n",
      "  Num examples = 1689\n",
      "  Batch size = 8\n",
      "Saving model checkpoint to output/fold_2/checkpoint-250\n",
      "Configuration saved in output/fold_2/checkpoint-250/config.json\n",
      "Model weights saved in output/fold_2/checkpoint-250/pytorch_model.bin\n",
      "tokenizer config file saved in output/fold_2/checkpoint-250/tokenizer_config.json\n",
      "Special tokens file saved in output/fold_2/checkpoint-250/special_tokens_map.json\n",
      "Deleting older checkpoint [output/fold_2/checkpoint-200] due to args.save_total_limit\n",
      "The following columns in the evaluation set don't have a corresponding argument in `BiLSTMLongFormerForTokenClassification.forward` and have been ignored: length, trailing_whitespace, offset_mapping, provided_labels, tokens, token_map, document, full_text. If length, trailing_whitespace, offset_mapping, provided_labels, tokens, token_map, document, full_text are not expected by `BiLSTMLongFormerForTokenClassification.forward`,  you can safely ignore this message.\n",
      "***** Running Evaluation *****\n",
      "  Num examples = 1689\n",
      "  Batch size = 8\n",
      "Saving model checkpoint to output/fold_2/checkpoint-300\n",
      "Configuration saved in output/fold_2/checkpoint-300/config.json\n",
      "Model weights saved in output/fold_2/checkpoint-300/pytorch_model.bin\n",
      "tokenizer config file saved in output/fold_2/checkpoint-300/tokenizer_config.json\n",
      "Special tokens file saved in output/fold_2/checkpoint-300/special_tokens_map.json\n",
      "Deleting older checkpoint [output/fold_2/checkpoint-250] due to args.save_total_limit\n",
      "The following columns in the evaluation set don't have a corresponding argument in `BiLSTMLongFormerForTokenClassification.forward` and have been ignored: length, trailing_whitespace, offset_mapping, provided_labels, tokens, token_map, document, full_text. If length, trailing_whitespace, offset_mapping, provided_labels, tokens, token_map, document, full_text are not expected by `BiLSTMLongFormerForTokenClassification.forward`,  you can safely ignore this message.\n",
      "***** Running Evaluation *****\n",
      "  Num examples = 1689\n",
      "  Batch size = 8\n",
      "Saving model checkpoint to output/fold_2/checkpoint-350\n",
      "Configuration saved in output/fold_2/checkpoint-350/config.json\n",
      "Model weights saved in output/fold_2/checkpoint-350/pytorch_model.bin\n",
      "tokenizer config file saved in output/fold_2/checkpoint-350/tokenizer_config.json\n",
      "Special tokens file saved in output/fold_2/checkpoint-350/special_tokens_map.json\n",
      "Deleting older checkpoint [output/fold_2/checkpoint-300] due to args.save_total_limit\n",
      "The following columns in the evaluation set don't have a corresponding argument in `BiLSTMLongFormerForTokenClassification.forward` and have been ignored: length, trailing_whitespace, offset_mapping, provided_labels, tokens, token_map, document, full_text. If length, trailing_whitespace, offset_mapping, provided_labels, tokens, token_map, document, full_text are not expected by `BiLSTMLongFormerForTokenClassification.forward`,  you can safely ignore this message.\n",
      "***** Running Evaluation *****\n",
      "  Num examples = 1689\n",
      "  Batch size = 8\n",
      "Saving model checkpoint to output/fold_2/checkpoint-400\n",
      "Configuration saved in output/fold_2/checkpoint-400/config.json\n",
      "Model weights saved in output/fold_2/checkpoint-400/pytorch_model.bin\n",
      "tokenizer config file saved in output/fold_2/checkpoint-400/tokenizer_config.json\n",
      "Special tokens file saved in output/fold_2/checkpoint-400/special_tokens_map.json\n",
      "Deleting older checkpoint [output/fold_2/checkpoint-350] due to args.save_total_limit\n",
      "The following columns in the evaluation set don't have a corresponding argument in `BiLSTMLongFormerForTokenClassification.forward` and have been ignored: length, trailing_whitespace, offset_mapping, provided_labels, tokens, token_map, document, full_text. If length, trailing_whitespace, offset_mapping, provided_labels, tokens, token_map, document, full_text are not expected by `BiLSTMLongFormerForTokenClassification.forward`,  you can safely ignore this message.\n",
      "***** Running Evaluation *****\n",
      "  Num examples = 1689\n",
      "  Batch size = 8\n",
      "Saving model checkpoint to output/fold_2/checkpoint-450\n",
      "Configuration saved in output/fold_2/checkpoint-450/config.json\n",
      "Model weights saved in output/fold_2/checkpoint-450/pytorch_model.bin\n",
      "tokenizer config file saved in output/fold_2/checkpoint-450/tokenizer_config.json\n",
      "Special tokens file saved in output/fold_2/checkpoint-450/special_tokens_map.json\n",
      "Deleting older checkpoint [output/fold_2/checkpoint-400] due to args.save_total_limit\n",
      "The following columns in the evaluation set don't have a corresponding argument in `BiLSTMLongFormerForTokenClassification.forward` and have been ignored: length, trailing_whitespace, offset_mapping, provided_labels, tokens, token_map, document, full_text. If length, trailing_whitespace, offset_mapping, provided_labels, tokens, token_map, document, full_text are not expected by `BiLSTMLongFormerForTokenClassification.forward`,  you can safely ignore this message.\n",
      "***** Running Evaluation *****\n",
      "  Num examples = 1689\n",
      "  Batch size = 8\n",
      "Saving model checkpoint to output/fold_2/checkpoint-500\n",
      "Configuration saved in output/fold_2/checkpoint-500/config.json\n",
      "Model weights saved in output/fold_2/checkpoint-500/pytorch_model.bin\n",
      "tokenizer config file saved in output/fold_2/checkpoint-500/tokenizer_config.json\n",
      "Special tokens file saved in output/fold_2/checkpoint-500/special_tokens_map.json\n",
      "Deleting older checkpoint [output/fold_2/checkpoint-450] due to args.save_total_limit\n",
      "The following columns in the evaluation set don't have a corresponding argument in `BiLSTMLongFormerForTokenClassification.forward` and have been ignored: length, trailing_whitespace, offset_mapping, provided_labels, tokens, token_map, document, full_text. If length, trailing_whitespace, offset_mapping, provided_labels, tokens, token_map, document, full_text are not expected by `BiLSTMLongFormerForTokenClassification.forward`,  you can safely ignore this message.\n",
      "***** Running Evaluation *****\n",
      "  Num examples = 1689\n",
      "  Batch size = 8\n",
      "Saving model checkpoint to output/fold_2/checkpoint-550\n",
      "Configuration saved in output/fold_2/checkpoint-550/config.json\n",
      "Model weights saved in output/fold_2/checkpoint-550/pytorch_model.bin\n",
      "tokenizer config file saved in output/fold_2/checkpoint-550/tokenizer_config.json\n",
      "Special tokens file saved in output/fold_2/checkpoint-550/special_tokens_map.json\n",
      "Deleting older checkpoint [output/fold_2/checkpoint-500] due to args.save_total_limit\n",
      "The following columns in the evaluation set don't have a corresponding argument in `BiLSTMLongFormerForTokenClassification.forward` and have been ignored: length, trailing_whitespace, offset_mapping, provided_labels, tokens, token_map, document, full_text. If length, trailing_whitespace, offset_mapping, provided_labels, tokens, token_map, document, full_text are not expected by `BiLSTMLongFormerForTokenClassification.forward`,  you can safely ignore this message.\n",
      "***** Running Evaluation *****\n",
      "  Num examples = 1689\n",
      "  Batch size = 8\n",
      "Saving model checkpoint to output/fold_2/checkpoint-600\n",
      "Configuration saved in output/fold_2/checkpoint-600/config.json\n",
      "Model weights saved in output/fold_2/checkpoint-600/pytorch_model.bin\n",
      "tokenizer config file saved in output/fold_2/checkpoint-600/tokenizer_config.json\n",
      "Special tokens file saved in output/fold_2/checkpoint-600/special_tokens_map.json\n",
      "The following columns in the evaluation set don't have a corresponding argument in `BiLSTMLongFormerForTokenClassification.forward` and have been ignored: length, trailing_whitespace, offset_mapping, provided_labels, tokens, token_map, document, full_text. If length, trailing_whitespace, offset_mapping, provided_labels, tokens, token_map, document, full_text are not expected by `BiLSTMLongFormerForTokenClassification.forward`,  you can safely ignore this message.\n",
      "***** Running Evaluation *****\n",
      "  Num examples = 1689\n",
      "  Batch size = 8\n",
      "Saving model checkpoint to output/fold_2/checkpoint-650\n",
      "Configuration saved in output/fold_2/checkpoint-650/config.json\n",
      "Model weights saved in output/fold_2/checkpoint-650/pytorch_model.bin\n",
      "tokenizer config file saved in output/fold_2/checkpoint-650/tokenizer_config.json\n",
      "Special tokens file saved in output/fold_2/checkpoint-650/special_tokens_map.json\n",
      "Deleting older checkpoint [output/fold_2/checkpoint-600] due to args.save_total_limit\n",
      "The following columns in the evaluation set don't have a corresponding argument in `BiLSTMLongFormerForTokenClassification.forward` and have been ignored: length, trailing_whitespace, offset_mapping, provided_labels, tokens, token_map, document, full_text. If length, trailing_whitespace, offset_mapping, provided_labels, tokens, token_map, document, full_text are not expected by `BiLSTMLongFormerForTokenClassification.forward`,  you can safely ignore this message.\n",
      "***** Running Evaluation *****\n",
      "  Num examples = 1689\n",
      "  Batch size = 8\n",
      "Saving model checkpoint to output/fold_2/checkpoint-700\n",
      "Configuration saved in output/fold_2/checkpoint-700/config.json\n",
      "Model weights saved in output/fold_2/checkpoint-700/pytorch_model.bin\n",
      "tokenizer config file saved in output/fold_2/checkpoint-700/tokenizer_config.json\n",
      "Special tokens file saved in output/fold_2/checkpoint-700/special_tokens_map.json\n",
      "Deleting older checkpoint [output/fold_2/checkpoint-550] due to args.save_total_limit\n",
      "Deleting older checkpoint [output/fold_2/checkpoint-650] due to args.save_total_limit\n",
      "The following columns in the evaluation set don't have a corresponding argument in `BiLSTMLongFormerForTokenClassification.forward` and have been ignored: length, trailing_whitespace, offset_mapping, provided_labels, tokens, token_map, document, full_text. If length, trailing_whitespace, offset_mapping, provided_labels, tokens, token_map, document, full_text are not expected by `BiLSTMLongFormerForTokenClassification.forward`,  you can safely ignore this message.\n",
      "***** Running Evaluation *****\n",
      "  Num examples = 1689\n",
      "  Batch size = 8\n",
      "Saving model checkpoint to output/fold_2/checkpoint-750\n",
      "Configuration saved in output/fold_2/checkpoint-750/config.json\n",
      "Model weights saved in output/fold_2/checkpoint-750/pytorch_model.bin\n",
      "tokenizer config file saved in output/fold_2/checkpoint-750/tokenizer_config.json\n",
      "Special tokens file saved in output/fold_2/checkpoint-750/special_tokens_map.json\n",
      "Deleting older checkpoint [output/fold_2/checkpoint-700] due to args.save_total_limit\n",
      "\n",
      "\n",
      "Training completed. Do not forget to share your model on huggingface.co/models =)\n",
      "\n",
      "\n",
      "Loading best model from output/fold_2/checkpoint-750 (score: 0.7690710949662688).\n",
      "The following columns in the evaluation set don't have a corresponding argument in `BiLSTMLongFormerForTokenClassification.forward` and have been ignored: length, trailing_whitespace, offset_mapping, provided_labels, tokens, token_map, document, full_text. If length, trailing_whitespace, offset_mapping, provided_labels, tokens, token_map, document, full_text are not expected by `BiLSTMLongFormerForTokenClassification.forward`,  you can safely ignore this message.\n",
      "***** Running Evaluation *****\n",
      "  Num examples = 1689\n",
      "  Batch size = 8\n"
     ]
    },
    {
     "data": {
      "text/html": [
       "\n",
       "    <div>\n",
       "      \n",
       "      <progress value='212' max='212' style='width:300px; height:20px; vertical-align: middle;'></progress>\n",
       "      [212/212 00:45]\n",
       "    </div>\n",
       "    "
      ],
      "text/plain": [
       "<IPython.core.display.HTML object>"
      ]
     },
     "metadata": {},
     "output_type": "display_data"
    },
    {
     "data": {
      "text/html": [
       "Waiting for W&B process to finish... <strong style=\"color:green\">(success).</strong>"
      ],
      "text/plain": [
       "<IPython.core.display.HTML object>"
      ]
     },
     "metadata": {},
     "output_type": "display_data"
    },
    {
     "data": {
      "text/html": [
       "<style>\n",
       "    table.wandb td:nth-child(1) { padding: 0 10px; text-align: left ; width: auto;} td:nth-child(2) {text-align: left ; width: 100%}\n",
       "    .wandb-row { display: flex; flex-direction: row; flex-wrap: wrap; justify-content: flex-start; width: 100% }\n",
       "    .wandb-col { display: flex; flex-direction: column; flex-basis: 100%; flex: 1; padding: 10px; }\n",
       "    </style>\n",
       "<div class=\"wandb-row\"><div class=\"wandb-col\"><h3>Run history:</h3><br/><table class=\"wandb\"><tr><td>eval/f5</td><td>▁▁▁▄▄▅▆▇████████</td></tr><tr><td>eval/f5-EMAIL</td><td>▁▁▁▁▁▁▁▁▁▁▁▁▁▁▁▁</td></tr><tr><td>eval/f5-ID_NUM</td><td>▁▁▁▁▁▁▁▁▂▇▆▇▇▇██</td></tr><tr><td>eval/f5-NAME_STUDENT</td><td>▁▁▁▄▄▅▆▇████████</td></tr><tr><td>eval/f5-PHONE_NUM</td><td>▁▁▁▁▁▁▁▁▁▁▁▁▁▁▁▁</td></tr><tr><td>eval/f5-STREET_ADDRESS</td><td>▁▁▁▇▄███████████</td></tr><tr><td>eval/f5-URL_PERSONAL</td><td>▁▁▁▂▂████████▇▇▇</td></tr><tr><td>eval/f5-USERNAME</td><td>▁▁▁▁▁▁▁▁▁▁▁▁▁▁▁▁</td></tr><tr><td>eval/loss</td><td>█▂▁▁▁▁▁▁▁▁▁▁▁▁▁▁</td></tr><tr><td>eval/p-EMAIL</td><td>▁▁▁▁▁▁▁▁▁▁▁▁▁▁▁▁</td></tr><tr><td>eval/p-ID_NUM</td><td>▁▁▁▁▁▁▁▁█▆██████</td></tr><tr><td>eval/p-NAME_STUDENT</td><td>▁▁▂▄▅▅▇▆▇███████</td></tr><tr><td>eval/p-PHONE_NUM</td><td>▁▁▁▁▁▁▁▁▁▁▁▁▁▁▁▁</td></tr><tr><td>eval/p-STREET_ADDRESS</td><td>▁▁▁▆█▅▇▆▇▆▇▇▇▇▇▇</td></tr><tr><td>eval/p-URL_PERSONAL</td><td>▁▁▁▁▂▅▆▆▆▆▇▇▇███</td></tr><tr><td>eval/p-USERNAME</td><td>▁▁▁▁▁▁▁▁▁▁▁▁▁▁▁▁</td></tr><tr><td>eval/precision</td><td>██▁▃▃▃▅▅▆▆▆▆▆▆▆▆</td></tr><tr><td>eval/r-EMAIL</td><td>▁▁▁▁▁▁▁▁▁▁▁▁▁▁▁▁</td></tr><tr><td>eval/r-ID_NUM</td><td>▁▁▁▁▁▁▁▁▂▇▅▇▇▇██</td></tr><tr><td>eval/r-NAME_STUDENT</td><td>▁▁▁▄▄▅▆▇████████</td></tr><tr><td>eval/r-PHONE_NUM</td><td>▁▁▁▁▁▁▁▁▁▁▁▁▁▁▁▁</td></tr><tr><td>eval/r-STREET_ADDRESS</td><td>▁▁▁▇▄███████████</td></tr><tr><td>eval/r-URL_PERSONAL</td><td>▁▁▁▂▂█▇█▇█▇▇▇▇▇▇</td></tr><tr><td>eval/r-USERNAME</td><td>▁▁▁▁▁▁▁▁▁▁▁▁▁▁▁▁</td></tr><tr><td>eval/recall</td><td>▁▁▁▄▄▅▆▇████████</td></tr><tr><td>eval/runtime</td><td>▅▁▄▃▆█▇▅▃▁▅▆▃▄▆▇</td></tr><tr><td>eval/samples_per_second</td><td>▄█▅▆▃▁▂▄▆█▄▃▆▅▃▂</td></tr><tr><td>eval/steps_per_second</td><td>▄█▅▆▄▁▂▄▆█▄▃▆▅▃▂</td></tr><tr><td>train/epoch</td><td>▁▁▁▂▂▂▂▂▂▃▃▃▃▃▄▄▄▄▄▄▅▅▅▅▅▆▆▆▆▆▇▇▇▇▇▇████</td></tr><tr><td>train/global_step</td><td>▁▁▁▂▂▂▂▂▂▃▃▃▃▃▄▄▄▄▄▄▅▅▅▅▅▆▆▆▆▆▇▇▇▇▇▇████</td></tr><tr><td>train/learning_rate</td><td>▂▃▅▇███▇▇▇▇▇▆▆▆▆▆▅▅▅▅▅▄▄▄▄▄▃▃▃▃▃▂▂▂▂▂▁▁▁</td></tr><tr><td>train/loss</td><td>██▄▂▁▁▁▁▁▁▁▁▁▁▁▁▁▁▁▁▁▁▁▁▁▁▁▁▁▁▁▁▁▁▁▁▁▁▁▁</td></tr><tr><td>train/total_flos</td><td>▁</td></tr><tr><td>train/train_loss</td><td>▁</td></tr><tr><td>train/train_runtime</td><td>▁</td></tr><tr><td>train/train_samples_per_second</td><td>▁</td></tr><tr><td>train/train_steps_per_second</td><td>▁</td></tr></table><br/></div><div class=\"wandb-col\"><h3>Run summary:</h3><br/><table class=\"wandb\"><tr><td>eval/f5</td><td>0.76907</td></tr><tr><td>eval/f5-EMAIL</td><td>0.99522</td></tr><tr><td>eval/f5-ID_NUM</td><td>0.79224</td></tr><tr><td>eval/f5-NAME_STUDENT</td><td>0.76506</td></tr><tr><td>eval/f5-PHONE_NUM</td><td>1.0</td></tr><tr><td>eval/f5-STREET_ADDRESS</td><td>0.82105</td></tr><tr><td>eval/f5-URL_PERSONAL</td><td>0.84324</td></tr><tr><td>eval/f5-USERNAME</td><td>0.0</td></tr><tr><td>eval/loss</td><td>0.0026</td></tr><tr><td>eval/p-EMAIL</td><td>0.88889</td></tr><tr><td>eval/p-ID_NUM</td><td>1.0</td></tr><tr><td>eval/p-NAME_STUDENT</td><td>0.68742</td></tr><tr><td>eval/p-PHONE_NUM</td><td>1.0</td></tr><tr><td>eval/p-STREET_ADDRESS</td><td>0.9</td></tr><tr><td>eval/p-URL_PERSONAL</td><td>0.6</td></tr><tr><td>eval/p-USERNAME</td><td>0.0</td></tr><tr><td>eval/precision</td><td>0.69512</td></tr><tr><td>eval/r-EMAIL</td><td>1.0</td></tr><tr><td>eval/r-ID_NUM</td><td>0.78571</td></tr><tr><td>eval/r-NAME_STUDENT</td><td>0.76853</td></tr><tr><td>eval/r-PHONE_NUM</td><td>1.0</td></tr><tr><td>eval/r-STREET_ADDRESS</td><td>0.81818</td></tr><tr><td>eval/r-URL_PERSONAL</td><td>0.85714</td></tr><tr><td>eval/r-USERNAME</td><td>0.0</td></tr><tr><td>eval/recall</td><td>0.77236</td></tr><tr><td>eval/runtime</td><td>54.274</td></tr><tr><td>eval/samples_per_second</td><td>31.12</td></tr><tr><td>eval/steps_per_second</td><td>3.906</td></tr><tr><td>train/epoch</td><td>3.0</td></tr><tr><td>train/global_step</td><td>756</td></tr><tr><td>train/learning_rate</td><td>0.0</td></tr><tr><td>train/loss</td><td>0.0122</td></tr><tr><td>train/total_flos</td><td>1.2835284396220416e+16</td></tr><tr><td>train/train_loss</td><td>0.15882</td></tr><tr><td>train/train_runtime</td><td>2103.4436</td></tr><tr><td>train/train_samples_per_second</td><td>5.762</td></tr><tr><td>train/train_steps_per_second</td><td>0.359</td></tr></table><br/></div></div>"
      ],
      "text/plain": [
       "<IPython.core.display.HTML object>"
      ]
     },
     "metadata": {},
     "output_type": "display_data"
    },
    {
     "data": {
      "text/html": [
       "Synced <strong style=\"color:#cdcd00\">fold-2</strong>: <a href=\"https://wandb.ai/emiz6413/PII/runs/3loy8pp0\" target=\"_blank\">https://wandb.ai/emiz6413/PII/runs/3loy8pp0</a><br/>Synced 5 W&B file(s), 0 media file(s), 0 artifact file(s) and 0 other file(s)"
      ],
      "text/plain": [
       "<IPython.core.display.HTML object>"
      ]
     },
     "metadata": {},
     "output_type": "display_data"
    },
    {
     "data": {
      "text/html": [
       "Find logs at: <code>./wandb/run-20240227_135645-3loy8pp0/logs</code>"
      ],
      "text/plain": [
       "<IPython.core.display.HTML object>"
      ]
     },
     "metadata": {},
     "output_type": "display_data"
    },
    {
     "name": "stdout",
     "output_type": "stream",
     "text": [
      "         "
     ]
    },
    {
     "data": {
      "application/vnd.jupyter.widget-view+json": {
       "model_id": "15ff31f87b624f4db91116109de100d4",
       "version_major": 2,
       "version_minor": 0
      },
      "text/plain": [
       "#0:   0%|          | 0/504 [00:00<?, ?ex/s]"
      ]
     },
     "metadata": {},
     "output_type": "display_data"
    },
    {
     "name": "stdout",
     "output_type": "stream",
     "text": [
      " "
     ]
    },
    {
     "data": {
      "application/vnd.jupyter.widget-view+json": {
       "model_id": "76d325438df349edb11079e03dccc79b",
       "version_major": 2,
       "version_minor": 0
      },
      "text/plain": [
       "#1:   0%|          | 0/503 [00:00<?, ?ex/s]"
      ]
     },
     "metadata": {},
     "output_type": "display_data"
    },
    {
     "name": "stdout",
     "output_type": "stream",
     "text": [
      " "
     ]
    },
    {
     "data": {
      "application/vnd.jupyter.widget-view+json": {
       "model_id": "dc2abe8355474b5388407bafe2fcc278",
       "version_major": 2,
       "version_minor": 0
      },
      "text/plain": [
       "#2:   0%|          | 0/503 [00:00<?, ?ex/s]"
      ]
     },
     "metadata": {},
     "output_type": "display_data"
    },
    {
     "name": "stdout",
     "output_type": "stream",
     "text": [
      " "
     ]
    },
    {
     "data": {
      "application/vnd.jupyter.widget-view+json": {
       "model_id": "f553f72414ec48fcb44f38cb7f70f697",
       "version_major": 2,
       "version_minor": 0
      },
      "text/plain": [
       "#3:   0%|          | 0/503 [00:00<?, ?ex/s]"
      ]
     },
     "metadata": {},
     "output_type": "display_data"
    },
    {
     "name": "stdout",
     "output_type": "stream",
     "text": [
      " "
     ]
    },
    {
     "data": {
      "application/vnd.jupyter.widget-view+json": {
       "model_id": "a7b0d04fbb9f4ed294d793829a2e8d7a",
       "version_major": 2,
       "version_minor": 0
      },
      "text/plain": [
       "#4:   0%|          | 0/503 [00:00<?, ?ex/s]"
      ]
     },
     "metadata": {},
     "output_type": "display_data"
    },
    {
     "name": "stdout",
     "output_type": "stream",
     "text": [
      " "
     ]
    },
    {
     "data": {
      "application/vnd.jupyter.widget-view+json": {
       "model_id": "c5119fbfc96b463fa43d1b64048c2f85",
       "version_major": 2,
       "version_minor": 0
      },
      "text/plain": [
       "#5:   0%|          | 0/503 [00:00<?, ?ex/s]"
      ]
     },
     "metadata": {},
     "output_type": "display_data"
    },
    {
     "name": "stdout",
     "output_type": "stream",
     "text": [
      " "
     ]
    },
    {
     "data": {
      "application/vnd.jupyter.widget-view+json": {
       "model_id": "d806c86b30164f7d8f8996d4242e2a2d",
       "version_major": 2,
       "version_minor": 0
      },
      "text/plain": [
       "#6:   0%|          | 0/503 [00:00<?, ?ex/s]"
      ]
     },
     "metadata": {},
     "output_type": "display_data"
    },
    {
     "name": "stdout",
     "output_type": "stream",
     "text": [
      " "
     ]
    },
    {
     "data": {
      "application/vnd.jupyter.widget-view+json": {
       "model_id": "e9ad11a1a249490092804e5926dcb4ae",
       "version_major": 2,
       "version_minor": 0
      },
      "text/plain": [
       "#7:   0%|          | 0/503 [00:00<?, ?ex/s]"
      ]
     },
     "metadata": {},
     "output_type": "display_data"
    },
    {
     "name": "stdout",
     "output_type": "stream",
     "text": [
      "         "
     ]
    },
    {
     "data": {
      "application/vnd.jupyter.widget-view+json": {
       "model_id": "cc21554c36a34b1fafe56711b195315e",
       "version_major": 2,
       "version_minor": 0
      },
      "text/plain": [
       "#0:   0%|          | 0/214 [00:00<?, ?ex/s]"
      ]
     },
     "metadata": {},
     "output_type": "display_data"
    },
    {
     "name": "stdout",
     "output_type": "stream",
     "text": [
      " "
     ]
    },
    {
     "data": {
      "application/vnd.jupyter.widget-view+json": {
       "model_id": "156118739fd443afbc59e2519b731a85",
       "version_major": 2,
       "version_minor": 0
      },
      "text/plain": [
       "#1:   0%|          | 0/214 [00:00<?, ?ex/s]"
      ]
     },
     "metadata": {},
     "output_type": "display_data"
    },
    {
     "name": "stdout",
     "output_type": "stream",
     "text": [
      " "
     ]
    },
    {
     "data": {
      "application/vnd.jupyter.widget-view+json": {
       "model_id": "c5afa2fedcf8422e8d5e9a34d936fd52",
       "version_major": 2,
       "version_minor": 0
      },
      "text/plain": [
       "#2:   0%|          | 0/213 [00:00<?, ?ex/s]"
      ]
     },
     "metadata": {},
     "output_type": "display_data"
    },
    {
     "name": "stdout",
     "output_type": "stream",
     "text": [
      " "
     ]
    },
    {
     "data": {
      "application/vnd.jupyter.widget-view+json": {
       "model_id": "4778122e66264024bc4776152695b9f1",
       "version_major": 2,
       "version_minor": 0
      },
      "text/plain": [
       "#3:   0%|          | 0/213 [00:00<?, ?ex/s]"
      ]
     },
     "metadata": {},
     "output_type": "display_data"
    },
    {
     "name": "stdout",
     "output_type": "stream",
     "text": [
      " "
     ]
    },
    {
     "data": {
      "application/vnd.jupyter.widget-view+json": {
       "model_id": "6124c26e40004e1fac901b817ddd9bed",
       "version_major": 2,
       "version_minor": 0
      },
      "text/plain": [
       "#4:   0%|          | 0/213 [00:00<?, ?ex/s]"
      ]
     },
     "metadata": {},
     "output_type": "display_data"
    },
    {
     "name": "stdout",
     "output_type": "stream",
     "text": [
      " "
     ]
    },
    {
     "data": {
      "application/vnd.jupyter.widget-view+json": {
       "model_id": "2e4aa674eedc479f8da017de5febbe33",
       "version_major": 2,
       "version_minor": 0
      },
      "text/plain": [
       "#5:   0%|          | 0/213 [00:00<?, ?ex/s]"
      ]
     },
     "metadata": {},
     "output_type": "display_data"
    },
    {
     "name": "stdout",
     "output_type": "stream",
     "text": [
      " "
     ]
    },
    {
     "data": {
      "application/vnd.jupyter.widget-view+json": {
       "model_id": "854de2b55931496a93639268e086a03e",
       "version_major": 2,
       "version_minor": 0
      },
      "text/plain": [
       "#6:   0%|          | 0/213 [00:00<?, ?ex/s]"
      ]
     },
     "metadata": {},
     "output_type": "display_data"
    },
    {
     "name": "stdout",
     "output_type": "stream",
     "text": [
      " "
     ]
    },
    {
     "data": {
      "application/vnd.jupyter.widget-view+json": {
       "model_id": "bd7e660305154651abf2b9ee59035c2b",
       "version_major": 2,
       "version_minor": 0
      },
      "text/plain": [
       "#7:   0%|          | 0/213 [00:00<?, ?ex/s]"
      ]
     },
     "metadata": {},
     "output_type": "display_data"
    },
    {
     "name": "stderr",
     "output_type": "stream",
     "text": [
      "Using cuda_amp half precision backend\n",
      "The following columns in the training set don't have a corresponding argument in `BiLSTMLongFormerForTokenClassification.forward` and have been ignored: length, trailing_whitespace, offset_mapping, provided_labels, tokens, token_map, document, full_text. If length, trailing_whitespace, offset_mapping, provided_labels, tokens, token_map, document, full_text are not expected by `BiLSTMLongFormerForTokenClassification.forward`,  you can safely ignore this message.\n",
      "/usr/local/lib/python3.9/dist-packages/transformers/optimization.py:306: FutureWarning: This implementation of AdamW is deprecated and will be removed in a future version. Use the PyTorch implementation torch.optim.AdamW instead, or set `no_deprecation_warning=True` to disable this warning\n",
      "  warnings.warn(\n",
      "***** Running training *****\n",
      "  Num examples = 4025\n",
      "  Num Epochs = 3\n",
      "  Instantaneous batch size per device = 8\n",
      "  Total train batch size (w. parallel, distributed & accumulation) = 16\n",
      "  Gradient Accumulation steps = 2\n",
      "  Total optimization steps = 756\n",
      "Automatic Weights & Biases logging enabled, to disable set os.environ[\"WANDB_DISABLED\"] = \"true\"\n"
     ]
    },
    {
     "data": {
      "application/vnd.jupyter.widget-view+json": {
       "model_id": "890c052c39e24dffabeb599f75a7424c",
       "version_major": 2,
       "version_minor": 0
      },
      "text/plain": [
       "VBox(children=(Label(value='Waiting for wandb.init()...\\r'), FloatProgress(value=0.016670319850042383, max=1.0…"
      ]
     },
     "metadata": {},
     "output_type": "display_data"
    },
    {
     "data": {
      "text/html": [
       "wandb version 0.16.3 is available!  To upgrade, please run:\n",
       " $ pip install wandb --upgrade"
      ],
      "text/plain": [
       "<IPython.core.display.HTML object>"
      ]
     },
     "metadata": {},
     "output_type": "display_data"
    },
    {
     "data": {
      "text/html": [
       "Tracking run with wandb version 0.13.4"
      ],
      "text/plain": [
       "<IPython.core.display.HTML object>"
      ]
     },
     "metadata": {},
     "output_type": "display_data"
    },
    {
     "data": {
      "text/html": [
       "Run data is saved locally in <code>/notebooks/notebooks/wandb/run-20240227_143351-24bb7w4z</code>"
      ],
      "text/plain": [
       "<IPython.core.display.HTML object>"
      ]
     },
     "metadata": {},
     "output_type": "display_data"
    },
    {
     "data": {
      "text/html": [
       "Syncing run <strong><a href=\"https://wandb.ai/emiz6413/PII/runs/24bb7w4z\" target=\"_blank\">fold-3</a></strong> to <a href=\"https://wandb.ai/emiz6413/PII\" target=\"_blank\">Weights & Biases</a> (<a href=\"https://wandb.me/run\" target=\"_blank\">docs</a>)<br/>"
      ],
      "text/plain": [
       "<IPython.core.display.HTML object>"
      ]
     },
     "metadata": {},
     "output_type": "display_data"
    },
    {
     "data": {
      "text/html": [
       "\n",
       "    <div>\n",
       "      \n",
       "      <progress value='756' max='756' style='width:300px; height:20px; vertical-align: middle;'></progress>\n",
       "      [756/756 34:27, Epoch 3/3]\n",
       "    </div>\n",
       "    <table border=\"1\" class=\"dataframe\">\n",
       "  <thead>\n",
       " <tr style=\"text-align: left;\">\n",
       "      <th>Step</th>\n",
       "      <th>Training Loss</th>\n",
       "      <th>Validation Loss</th>\n",
       "      <th>Precision</th>\n",
       "      <th>Recall</th>\n",
       "      <th>F5</th>\n",
       "      <th>P-username</th>\n",
       "      <th>R-username</th>\n",
       "      <th>F5-username</th>\n",
       "      <th>P-url Personal</th>\n",
       "      <th>R-url Personal</th>\n",
       "      <th>F5-url Personal</th>\n",
       "      <th>P-street Address</th>\n",
       "      <th>R-street Address</th>\n",
       "      <th>F5-street Address</th>\n",
       "      <th>P-email</th>\n",
       "      <th>R-email</th>\n",
       "      <th>F5-email</th>\n",
       "      <th>P-id Num</th>\n",
       "      <th>R-id Num</th>\n",
       "      <th>F5-id Num</th>\n",
       "      <th>P-name Student</th>\n",
       "      <th>R-name Student</th>\n",
       "      <th>F5-name Student</th>\n",
       "      <th>P-phone Num</th>\n",
       "      <th>R-phone Num</th>\n",
       "      <th>F5-phone Num</th>\n",
       "    </tr>\n",
       "  </thead>\n",
       "  <tbody>\n",
       "    <tr>\n",
       "      <td>50</td>\n",
       "      <td>0.648300</td>\n",
       "      <td>0.279197</td>\n",
       "      <td>1.000000</td>\n",
       "      <td>0.034146</td>\n",
       "      <td>0.035464</td>\n",
       "      <td>0.000000</td>\n",
       "      <td>0.000000</td>\n",
       "      <td>0.000000</td>\n",
       "      <td>0.000000</td>\n",
       "      <td>0.000000</td>\n",
       "      <td>0.000000</td>\n",
       "      <td>0.000000</td>\n",
       "      <td>0.000000</td>\n",
       "      <td>0.000000</td>\n",
       "      <td>1.000000</td>\n",
       "      <td>1.000000</td>\n",
       "      <td>1.000000</td>\n",
       "      <td>0.000000</td>\n",
       "      <td>0.000000</td>\n",
       "      <td>0.000000</td>\n",
       "      <td>0.000000</td>\n",
       "      <td>0.000000</td>\n",
       "      <td>0.000000</td>\n",
       "      <td>1.000000</td>\n",
       "      <td>1.000000</td>\n",
       "      <td>1.000000</td>\n",
       "    </tr>\n",
       "    <tr>\n",
       "      <td>100</td>\n",
       "      <td>0.123600</td>\n",
       "      <td>0.019538</td>\n",
       "      <td>1.000000</td>\n",
       "      <td>0.034146</td>\n",
       "      <td>0.035464</td>\n",
       "      <td>0.000000</td>\n",
       "      <td>0.000000</td>\n",
       "      <td>0.000000</td>\n",
       "      <td>0.000000</td>\n",
       "      <td>0.000000</td>\n",
       "      <td>0.000000</td>\n",
       "      <td>0.000000</td>\n",
       "      <td>0.000000</td>\n",
       "      <td>0.000000</td>\n",
       "      <td>1.000000</td>\n",
       "      <td>1.000000</td>\n",
       "      <td>1.000000</td>\n",
       "      <td>0.000000</td>\n",
       "      <td>0.000000</td>\n",
       "      <td>0.000000</td>\n",
       "      <td>0.000000</td>\n",
       "      <td>0.000000</td>\n",
       "      <td>0.000000</td>\n",
       "      <td>1.000000</td>\n",
       "      <td>1.000000</td>\n",
       "      <td>1.000000</td>\n",
       "    </tr>\n",
       "    <tr>\n",
       "      <td>150</td>\n",
       "      <td>0.070800</td>\n",
       "      <td>0.007315</td>\n",
       "      <td>0.686567</td>\n",
       "      <td>0.074797</td>\n",
       "      <td>0.077451</td>\n",
       "      <td>0.000000</td>\n",
       "      <td>0.000000</td>\n",
       "      <td>0.000000</td>\n",
       "      <td>0.000000</td>\n",
       "      <td>0.000000</td>\n",
       "      <td>0.000000</td>\n",
       "      <td>0.000000</td>\n",
       "      <td>0.000000</td>\n",
       "      <td>0.000000</td>\n",
       "      <td>1.000000</td>\n",
       "      <td>1.000000</td>\n",
       "      <td>1.000000</td>\n",
       "      <td>0.000000</td>\n",
       "      <td>0.000000</td>\n",
       "      <td>0.000000</td>\n",
       "      <td>0.543478</td>\n",
       "      <td>0.044964</td>\n",
       "      <td>0.046608</td>\n",
       "      <td>1.000000</td>\n",
       "      <td>1.000000</td>\n",
       "      <td>1.000000</td>\n",
       "    </tr>\n",
       "    <tr>\n",
       "      <td>200</td>\n",
       "      <td>0.044700</td>\n",
       "      <td>0.005374</td>\n",
       "      <td>0.423671</td>\n",
       "      <td>0.401626</td>\n",
       "      <td>0.402431</td>\n",
       "      <td>0.000000</td>\n",
       "      <td>0.000000</td>\n",
       "      <td>0.000000</td>\n",
       "      <td>0.125000</td>\n",
       "      <td>0.120000</td>\n",
       "      <td>0.120185</td>\n",
       "      <td>0.000000</td>\n",
       "      <td>0.000000</td>\n",
       "      <td>0.000000</td>\n",
       "      <td>1.000000</td>\n",
       "      <td>1.000000</td>\n",
       "      <td>1.000000</td>\n",
       "      <td>0.000000</td>\n",
       "      <td>0.000000</td>\n",
       "      <td>0.000000</td>\n",
       "      <td>0.414498</td>\n",
       "      <td>0.401079</td>\n",
       "      <td>0.401579</td>\n",
       "      <td>1.000000</td>\n",
       "      <td>1.000000</td>\n",
       "      <td>1.000000</td>\n",
       "    </tr>\n",
       "    <tr>\n",
       "      <td>250</td>\n",
       "      <td>0.033200</td>\n",
       "      <td>0.004335</td>\n",
       "      <td>0.400821</td>\n",
       "      <td>0.476423</td>\n",
       "      <td>0.472991</td>\n",
       "      <td>0.000000</td>\n",
       "      <td>0.000000</td>\n",
       "      <td>0.000000</td>\n",
       "      <td>0.206522</td>\n",
       "      <td>0.760000</td>\n",
       "      <td>0.688982</td>\n",
       "      <td>0.000000</td>\n",
       "      <td>0.000000</td>\n",
       "      <td>0.000000</td>\n",
       "      <td>1.000000</td>\n",
       "      <td>1.000000</td>\n",
       "      <td>1.000000</td>\n",
       "      <td>0.000000</td>\n",
       "      <td>0.000000</td>\n",
       "      <td>0.000000</td>\n",
       "      <td>0.421667</td>\n",
       "      <td>0.455036</td>\n",
       "      <td>0.453655</td>\n",
       "      <td>1.000000</td>\n",
       "      <td>1.000000</td>\n",
       "      <td>1.000000</td>\n",
       "    </tr>\n",
       "    <tr>\n",
       "      <td>300</td>\n",
       "      <td>0.026900</td>\n",
       "      <td>0.003565</td>\n",
       "      <td>0.453804</td>\n",
       "      <td>0.543089</td>\n",
       "      <td>0.539011</td>\n",
       "      <td>0.000000</td>\n",
       "      <td>0.000000</td>\n",
       "      <td>0.000000</td>\n",
       "      <td>0.380952</td>\n",
       "      <td>0.640000</td>\n",
       "      <td>0.623688</td>\n",
       "      <td>0.000000</td>\n",
       "      <td>0.000000</td>\n",
       "      <td>0.000000</td>\n",
       "      <td>1.000000</td>\n",
       "      <td>1.000000</td>\n",
       "      <td>1.000000</td>\n",
       "      <td>0.000000</td>\n",
       "      <td>0.000000</td>\n",
       "      <td>0.000000</td>\n",
       "      <td>0.443284</td>\n",
       "      <td>0.534173</td>\n",
       "      <td>0.529993</td>\n",
       "      <td>1.000000</td>\n",
       "      <td>1.000000</td>\n",
       "      <td>1.000000</td>\n",
       "    </tr>\n",
       "    <tr>\n",
       "      <td>350</td>\n",
       "      <td>0.024900</td>\n",
       "      <td>0.003037</td>\n",
       "      <td>0.617564</td>\n",
       "      <td>0.708943</td>\n",
       "      <td>0.704931</td>\n",
       "      <td>0.000000</td>\n",
       "      <td>0.000000</td>\n",
       "      <td>0.000000</td>\n",
       "      <td>0.421053</td>\n",
       "      <td>0.640000</td>\n",
       "      <td>0.627451</td>\n",
       "      <td>0.000000</td>\n",
       "      <td>0.000000</td>\n",
       "      <td>0.000000</td>\n",
       "      <td>1.000000</td>\n",
       "      <td>1.000000</td>\n",
       "      <td>1.000000</td>\n",
       "      <td>0.777778</td>\n",
       "      <td>0.583333</td>\n",
       "      <td>0.588997</td>\n",
       "      <td>0.617323</td>\n",
       "      <td>0.705036</td>\n",
       "      <td>0.701204</td>\n",
       "      <td>1.000000</td>\n",
       "      <td>1.000000</td>\n",
       "      <td>1.000000</td>\n",
       "    </tr>\n",
       "    <tr>\n",
       "      <td>400</td>\n",
       "      <td>0.026700</td>\n",
       "      <td>0.002686</td>\n",
       "      <td>0.627877</td>\n",
       "      <td>0.798374</td>\n",
       "      <td>0.790122</td>\n",
       "      <td>0.000000</td>\n",
       "      <td>0.000000</td>\n",
       "      <td>0.000000</td>\n",
       "      <td>0.592593</td>\n",
       "      <td>0.640000</td>\n",
       "      <td>0.638037</td>\n",
       "      <td>0.000000</td>\n",
       "      <td>0.000000</td>\n",
       "      <td>0.000000</td>\n",
       "      <td>1.000000</td>\n",
       "      <td>1.000000</td>\n",
       "      <td>1.000000</td>\n",
       "      <td>1.000000</td>\n",
       "      <td>0.750000</td>\n",
       "      <td>0.757282</td>\n",
       "      <td>0.616343</td>\n",
       "      <td>0.800360</td>\n",
       "      <td>0.791273</td>\n",
       "      <td>1.000000</td>\n",
       "      <td>1.000000</td>\n",
       "      <td>1.000000</td>\n",
       "    </tr>\n",
       "    <tr>\n",
       "      <td>450</td>\n",
       "      <td>0.015700</td>\n",
       "      <td>0.002835</td>\n",
       "      <td>0.624694</td>\n",
       "      <td>0.830894</td>\n",
       "      <td>0.820478</td>\n",
       "      <td>0.000000</td>\n",
       "      <td>0.000000</td>\n",
       "      <td>0.000000</td>\n",
       "      <td>0.283951</td>\n",
       "      <td>0.920000</td>\n",
       "      <td>0.847025</td>\n",
       "      <td>0.000000</td>\n",
       "      <td>0.000000</td>\n",
       "      <td>0.000000</td>\n",
       "      <td>1.000000</td>\n",
       "      <td>1.000000</td>\n",
       "      <td>1.000000</td>\n",
       "      <td>0.733333</td>\n",
       "      <td>0.916667</td>\n",
       "      <td>0.907937</td>\n",
       "      <td>0.653295</td>\n",
       "      <td>0.820144</td>\n",
       "      <td>0.812166</td>\n",
       "      <td>1.000000</td>\n",
       "      <td>1.000000</td>\n",
       "      <td>1.000000</td>\n",
       "    </tr>\n",
       "    <tr>\n",
       "      <td>500</td>\n",
       "      <td>0.015800</td>\n",
       "      <td>0.002632</td>\n",
       "      <td>0.660274</td>\n",
       "      <td>0.783740</td>\n",
       "      <td>0.778143</td>\n",
       "      <td>0.000000</td>\n",
       "      <td>0.000000</td>\n",
       "      <td>0.000000</td>\n",
       "      <td>0.619048</td>\n",
       "      <td>0.520000</td>\n",
       "      <td>0.523220</td>\n",
       "      <td>0.000000</td>\n",
       "      <td>0.000000</td>\n",
       "      <td>0.000000</td>\n",
       "      <td>1.000000</td>\n",
       "      <td>1.000000</td>\n",
       "      <td>1.000000</td>\n",
       "      <td>1.000000</td>\n",
       "      <td>0.666667</td>\n",
       "      <td>0.675325</td>\n",
       "      <td>0.649926</td>\n",
       "      <td>0.791367</td>\n",
       "      <td>0.784798</td>\n",
       "      <td>1.000000</td>\n",
       "      <td>1.000000</td>\n",
       "      <td>1.000000</td>\n",
       "    </tr>\n",
       "    <tr>\n",
       "      <td>550</td>\n",
       "      <td>0.013700</td>\n",
       "      <td>0.002123</td>\n",
       "      <td>0.681452</td>\n",
       "      <td>0.824390</td>\n",
       "      <td>0.817793</td>\n",
       "      <td>0.000000</td>\n",
       "      <td>0.000000</td>\n",
       "      <td>0.000000</td>\n",
       "      <td>0.692308</td>\n",
       "      <td>0.720000</td>\n",
       "      <td>0.718894</td>\n",
       "      <td>0.000000</td>\n",
       "      <td>0.000000</td>\n",
       "      <td>0.000000</td>\n",
       "      <td>1.000000</td>\n",
       "      <td>1.000000</td>\n",
       "      <td>1.000000</td>\n",
       "      <td>1.000000</td>\n",
       "      <td>0.750000</td>\n",
       "      <td>0.757282</td>\n",
       "      <td>0.670073</td>\n",
       "      <td>0.825540</td>\n",
       "      <td>0.818238</td>\n",
       "      <td>1.000000</td>\n",
       "      <td>1.000000</td>\n",
       "      <td>1.000000</td>\n",
       "    </tr>\n",
       "    <tr>\n",
       "      <td>600</td>\n",
       "      <td>0.012600</td>\n",
       "      <td>0.002210</td>\n",
       "      <td>0.611429</td>\n",
       "      <td>0.869919</td>\n",
       "      <td>0.856000</td>\n",
       "      <td>0.000000</td>\n",
       "      <td>0.000000</td>\n",
       "      <td>0.000000</td>\n",
       "      <td>0.500000</td>\n",
       "      <td>0.920000</td>\n",
       "      <td>0.891207</td>\n",
       "      <td>0.000000</td>\n",
       "      <td>0.000000</td>\n",
       "      <td>0.000000</td>\n",
       "      <td>1.000000</td>\n",
       "      <td>1.000000</td>\n",
       "      <td>1.000000</td>\n",
       "      <td>0.785714</td>\n",
       "      <td>0.916667</td>\n",
       "      <td>0.910828</td>\n",
       "      <td>0.611465</td>\n",
       "      <td>0.863309</td>\n",
       "      <td>0.849847</td>\n",
       "      <td>1.000000</td>\n",
       "      <td>1.000000</td>\n",
       "      <td>1.000000</td>\n",
       "    </tr>\n",
       "    <tr>\n",
       "      <td>650</td>\n",
       "      <td>0.013100</td>\n",
       "      <td>0.001929</td>\n",
       "      <td>0.676923</td>\n",
       "      <td>0.858537</td>\n",
       "      <td>0.849768</td>\n",
       "      <td>0.000000</td>\n",
       "      <td>0.000000</td>\n",
       "      <td>0.000000</td>\n",
       "      <td>0.656250</td>\n",
       "      <td>0.840000</td>\n",
       "      <td>0.831050</td>\n",
       "      <td>0.000000</td>\n",
       "      <td>0.000000</td>\n",
       "      <td>0.000000</td>\n",
       "      <td>1.000000</td>\n",
       "      <td>1.000000</td>\n",
       "      <td>1.000000</td>\n",
       "      <td>0.785714</td>\n",
       "      <td>0.916667</td>\n",
       "      <td>0.910828</td>\n",
       "      <td>0.669014</td>\n",
       "      <td>0.854317</td>\n",
       "      <td>0.845311</td>\n",
       "      <td>1.000000</td>\n",
       "      <td>1.000000</td>\n",
       "      <td>1.000000</td>\n",
       "    </tr>\n",
       "    <tr>\n",
       "      <td>700</td>\n",
       "      <td>0.013900</td>\n",
       "      <td>0.001841</td>\n",
       "      <td>0.713896</td>\n",
       "      <td>0.852033</td>\n",
       "      <td>0.845738</td>\n",
       "      <td>0.000000</td>\n",
       "      <td>0.000000</td>\n",
       "      <td>0.000000</td>\n",
       "      <td>0.791667</td>\n",
       "      <td>0.760000</td>\n",
       "      <td>0.761171</td>\n",
       "      <td>0.000000</td>\n",
       "      <td>0.000000</td>\n",
       "      <td>0.000000</td>\n",
       "      <td>1.000000</td>\n",
       "      <td>1.000000</td>\n",
       "      <td>1.000000</td>\n",
       "      <td>0.785714</td>\n",
       "      <td>0.916667</td>\n",
       "      <td>0.910828</td>\n",
       "      <td>0.703869</td>\n",
       "      <td>0.850719</td>\n",
       "      <td>0.843947</td>\n",
       "      <td>1.000000</td>\n",
       "      <td>1.000000</td>\n",
       "      <td>1.000000</td>\n",
       "    </tr>\n",
       "    <tr>\n",
       "      <td>750</td>\n",
       "      <td>0.014300</td>\n",
       "      <td>0.001864</td>\n",
       "      <td>0.670103</td>\n",
       "      <td>0.845528</td>\n",
       "      <td>0.837100</td>\n",
       "      <td>0.000000</td>\n",
       "      <td>0.000000</td>\n",
       "      <td>0.000000</td>\n",
       "      <td>0.656250</td>\n",
       "      <td>0.840000</td>\n",
       "      <td>0.831050</td>\n",
       "      <td>0.000000</td>\n",
       "      <td>0.000000</td>\n",
       "      <td>0.000000</td>\n",
       "      <td>1.000000</td>\n",
       "      <td>1.000000</td>\n",
       "      <td>1.000000</td>\n",
       "      <td>0.785714</td>\n",
       "      <td>0.916667</td>\n",
       "      <td>0.910828</td>\n",
       "      <td>0.661473</td>\n",
       "      <td>0.839928</td>\n",
       "      <td>0.831302</td>\n",
       "      <td>1.000000</td>\n",
       "      <td>1.000000</td>\n",
       "      <td>1.000000</td>\n",
       "    </tr>\n",
       "  </tbody>\n",
       "</table><p>"
      ],
      "text/plain": [
       "<IPython.core.display.HTML object>"
      ]
     },
     "metadata": {},
     "output_type": "display_data"
    },
    {
     "name": "stderr",
     "output_type": "stream",
     "text": [
      "The following columns in the evaluation set don't have a corresponding argument in `BiLSTMLongFormerForTokenClassification.forward` and have been ignored: length, trailing_whitespace, offset_mapping, provided_labels, tokens, token_map, document, full_text. If length, trailing_whitespace, offset_mapping, provided_labels, tokens, token_map, document, full_text are not expected by `BiLSTMLongFormerForTokenClassification.forward`,  you can safely ignore this message.\n",
      "***** Running Evaluation *****\n",
      "  Num examples = 1706\n",
      "  Batch size = 8\n",
      "Saving model checkpoint to output/fold_3/checkpoint-50\n",
      "Configuration saved in output/fold_3/checkpoint-50/config.json\n",
      "Model weights saved in output/fold_3/checkpoint-50/pytorch_model.bin\n",
      "tokenizer config file saved in output/fold_3/checkpoint-50/tokenizer_config.json\n",
      "Special tokens file saved in output/fold_3/checkpoint-50/special_tokens_map.json\n",
      "The following columns in the evaluation set don't have a corresponding argument in `BiLSTMLongFormerForTokenClassification.forward` and have been ignored: length, trailing_whitespace, offset_mapping, provided_labels, tokens, token_map, document, full_text. If length, trailing_whitespace, offset_mapping, provided_labels, tokens, token_map, document, full_text are not expected by `BiLSTMLongFormerForTokenClassification.forward`,  you can safely ignore this message.\n",
      "***** Running Evaluation *****\n",
      "  Num examples = 1706\n",
      "  Batch size = 8\n",
      "Saving model checkpoint to output/fold_3/checkpoint-100\n",
      "Configuration saved in output/fold_3/checkpoint-100/config.json\n",
      "Model weights saved in output/fold_3/checkpoint-100/pytorch_model.bin\n",
      "tokenizer config file saved in output/fold_3/checkpoint-100/tokenizer_config.json\n",
      "Special tokens file saved in output/fold_3/checkpoint-100/special_tokens_map.json\n",
      "The following columns in the evaluation set don't have a corresponding argument in `BiLSTMLongFormerForTokenClassification.forward` and have been ignored: length, trailing_whitespace, offset_mapping, provided_labels, tokens, token_map, document, full_text. If length, trailing_whitespace, offset_mapping, provided_labels, tokens, token_map, document, full_text are not expected by `BiLSTMLongFormerForTokenClassification.forward`,  you can safely ignore this message.\n",
      "***** Running Evaluation *****\n",
      "  Num examples = 1706\n",
      "  Batch size = 8\n",
      "Saving model checkpoint to output/fold_3/checkpoint-150\n",
      "Configuration saved in output/fold_3/checkpoint-150/config.json\n",
      "Model weights saved in output/fold_3/checkpoint-150/pytorch_model.bin\n",
      "tokenizer config file saved in output/fold_3/checkpoint-150/tokenizer_config.json\n",
      "Special tokens file saved in output/fold_3/checkpoint-150/special_tokens_map.json\n",
      "Deleting older checkpoint [output/fold_3/checkpoint-50] due to args.save_total_limit\n",
      "Deleting older checkpoint [output/fold_3/checkpoint-100] due to args.save_total_limit\n",
      "The following columns in the evaluation set don't have a corresponding argument in `BiLSTMLongFormerForTokenClassification.forward` and have been ignored: length, trailing_whitespace, offset_mapping, provided_labels, tokens, token_map, document, full_text. If length, trailing_whitespace, offset_mapping, provided_labels, tokens, token_map, document, full_text are not expected by `BiLSTMLongFormerForTokenClassification.forward`,  you can safely ignore this message.\n",
      "***** Running Evaluation *****\n",
      "  Num examples = 1706\n",
      "  Batch size = 8\n",
      "Saving model checkpoint to output/fold_3/checkpoint-200\n",
      "Configuration saved in output/fold_3/checkpoint-200/config.json\n",
      "Model weights saved in output/fold_3/checkpoint-200/pytorch_model.bin\n",
      "tokenizer config file saved in output/fold_3/checkpoint-200/tokenizer_config.json\n",
      "Special tokens file saved in output/fold_3/checkpoint-200/special_tokens_map.json\n",
      "Deleting older checkpoint [output/fold_3/checkpoint-150] due to args.save_total_limit\n",
      "The following columns in the evaluation set don't have a corresponding argument in `BiLSTMLongFormerForTokenClassification.forward` and have been ignored: length, trailing_whitespace, offset_mapping, provided_labels, tokens, token_map, document, full_text. If length, trailing_whitespace, offset_mapping, provided_labels, tokens, token_map, document, full_text are not expected by `BiLSTMLongFormerForTokenClassification.forward`,  you can safely ignore this message.\n",
      "***** Running Evaluation *****\n",
      "  Num examples = 1706\n",
      "  Batch size = 8\n",
      "Saving model checkpoint to output/fold_3/checkpoint-250\n",
      "Configuration saved in output/fold_3/checkpoint-250/config.json\n",
      "Model weights saved in output/fold_3/checkpoint-250/pytorch_model.bin\n",
      "tokenizer config file saved in output/fold_3/checkpoint-250/tokenizer_config.json\n",
      "Special tokens file saved in output/fold_3/checkpoint-250/special_tokens_map.json\n",
      "Deleting older checkpoint [output/fold_3/checkpoint-200] due to args.save_total_limit\n",
      "The following columns in the evaluation set don't have a corresponding argument in `BiLSTMLongFormerForTokenClassification.forward` and have been ignored: length, trailing_whitespace, offset_mapping, provided_labels, tokens, token_map, document, full_text. If length, trailing_whitespace, offset_mapping, provided_labels, tokens, token_map, document, full_text are not expected by `BiLSTMLongFormerForTokenClassification.forward`,  you can safely ignore this message.\n",
      "***** Running Evaluation *****\n",
      "  Num examples = 1706\n",
      "  Batch size = 8\n",
      "Saving model checkpoint to output/fold_3/checkpoint-300\n",
      "Configuration saved in output/fold_3/checkpoint-300/config.json\n",
      "Model weights saved in output/fold_3/checkpoint-300/pytorch_model.bin\n",
      "tokenizer config file saved in output/fold_3/checkpoint-300/tokenizer_config.json\n",
      "Special tokens file saved in output/fold_3/checkpoint-300/special_tokens_map.json\n",
      "Deleting older checkpoint [output/fold_3/checkpoint-250] due to args.save_total_limit\n",
      "The following columns in the evaluation set don't have a corresponding argument in `BiLSTMLongFormerForTokenClassification.forward` and have been ignored: length, trailing_whitespace, offset_mapping, provided_labels, tokens, token_map, document, full_text. If length, trailing_whitespace, offset_mapping, provided_labels, tokens, token_map, document, full_text are not expected by `BiLSTMLongFormerForTokenClassification.forward`,  you can safely ignore this message.\n",
      "***** Running Evaluation *****\n",
      "  Num examples = 1706\n",
      "  Batch size = 8\n",
      "Saving model checkpoint to output/fold_3/checkpoint-350\n",
      "Configuration saved in output/fold_3/checkpoint-350/config.json\n",
      "Model weights saved in output/fold_3/checkpoint-350/pytorch_model.bin\n",
      "tokenizer config file saved in output/fold_3/checkpoint-350/tokenizer_config.json\n",
      "Special tokens file saved in output/fold_3/checkpoint-350/special_tokens_map.json\n",
      "Deleting older checkpoint [output/fold_3/checkpoint-300] due to args.save_total_limit\n",
      "The following columns in the evaluation set don't have a corresponding argument in `BiLSTMLongFormerForTokenClassification.forward` and have been ignored: length, trailing_whitespace, offset_mapping, provided_labels, tokens, token_map, document, full_text. If length, trailing_whitespace, offset_mapping, provided_labels, tokens, token_map, document, full_text are not expected by `BiLSTMLongFormerForTokenClassification.forward`,  you can safely ignore this message.\n",
      "***** Running Evaluation *****\n",
      "  Num examples = 1706\n",
      "  Batch size = 8\n",
      "Saving model checkpoint to output/fold_3/checkpoint-400\n",
      "Configuration saved in output/fold_3/checkpoint-400/config.json\n",
      "Model weights saved in output/fold_3/checkpoint-400/pytorch_model.bin\n",
      "tokenizer config file saved in output/fold_3/checkpoint-400/tokenizer_config.json\n",
      "Special tokens file saved in output/fold_3/checkpoint-400/special_tokens_map.json\n",
      "Deleting older checkpoint [output/fold_3/checkpoint-350] due to args.save_total_limit\n",
      "The following columns in the evaluation set don't have a corresponding argument in `BiLSTMLongFormerForTokenClassification.forward` and have been ignored: length, trailing_whitespace, offset_mapping, provided_labels, tokens, token_map, document, full_text. If length, trailing_whitespace, offset_mapping, provided_labels, tokens, token_map, document, full_text are not expected by `BiLSTMLongFormerForTokenClassification.forward`,  you can safely ignore this message.\n",
      "***** Running Evaluation *****\n",
      "  Num examples = 1706\n",
      "  Batch size = 8\n",
      "Saving model checkpoint to output/fold_3/checkpoint-450\n",
      "Configuration saved in output/fold_3/checkpoint-450/config.json\n",
      "Model weights saved in output/fold_3/checkpoint-450/pytorch_model.bin\n",
      "tokenizer config file saved in output/fold_3/checkpoint-450/tokenizer_config.json\n",
      "Special tokens file saved in output/fold_3/checkpoint-450/special_tokens_map.json\n",
      "Deleting older checkpoint [output/fold_3/checkpoint-400] due to args.save_total_limit\n",
      "The following columns in the evaluation set don't have a corresponding argument in `BiLSTMLongFormerForTokenClassification.forward` and have been ignored: length, trailing_whitespace, offset_mapping, provided_labels, tokens, token_map, document, full_text. If length, trailing_whitespace, offset_mapping, provided_labels, tokens, token_map, document, full_text are not expected by `BiLSTMLongFormerForTokenClassification.forward`,  you can safely ignore this message.\n",
      "***** Running Evaluation *****\n",
      "  Num examples = 1706\n",
      "  Batch size = 8\n",
      "Saving model checkpoint to output/fold_3/checkpoint-500\n",
      "Configuration saved in output/fold_3/checkpoint-500/config.json\n",
      "Model weights saved in output/fold_3/checkpoint-500/pytorch_model.bin\n",
      "tokenizer config file saved in output/fold_3/checkpoint-500/tokenizer_config.json\n",
      "Special tokens file saved in output/fold_3/checkpoint-500/special_tokens_map.json\n",
      "The following columns in the evaluation set don't have a corresponding argument in `BiLSTMLongFormerForTokenClassification.forward` and have been ignored: length, trailing_whitespace, offset_mapping, provided_labels, tokens, token_map, document, full_text. If length, trailing_whitespace, offset_mapping, provided_labels, tokens, token_map, document, full_text are not expected by `BiLSTMLongFormerForTokenClassification.forward`,  you can safely ignore this message.\n",
      "***** Running Evaluation *****\n",
      "  Num examples = 1706\n",
      "  Batch size = 8\n",
      "Saving model checkpoint to output/fold_3/checkpoint-550\n",
      "Configuration saved in output/fold_3/checkpoint-550/config.json\n",
      "Model weights saved in output/fold_3/checkpoint-550/pytorch_model.bin\n",
      "tokenizer config file saved in output/fold_3/checkpoint-550/tokenizer_config.json\n",
      "Special tokens file saved in output/fold_3/checkpoint-550/special_tokens_map.json\n",
      "Deleting older checkpoint [output/fold_3/checkpoint-500] due to args.save_total_limit\n",
      "The following columns in the evaluation set don't have a corresponding argument in `BiLSTMLongFormerForTokenClassification.forward` and have been ignored: length, trailing_whitespace, offset_mapping, provided_labels, tokens, token_map, document, full_text. If length, trailing_whitespace, offset_mapping, provided_labels, tokens, token_map, document, full_text are not expected by `BiLSTMLongFormerForTokenClassification.forward`,  you can safely ignore this message.\n",
      "***** Running Evaluation *****\n",
      "  Num examples = 1706\n",
      "  Batch size = 8\n",
      "Saving model checkpoint to output/fold_3/checkpoint-600\n",
      "Configuration saved in output/fold_3/checkpoint-600/config.json\n",
      "Model weights saved in output/fold_3/checkpoint-600/pytorch_model.bin\n",
      "tokenizer config file saved in output/fold_3/checkpoint-600/tokenizer_config.json\n",
      "Special tokens file saved in output/fold_3/checkpoint-600/special_tokens_map.json\n",
      "Deleting older checkpoint [output/fold_3/checkpoint-450] due to args.save_total_limit\n",
      "Deleting older checkpoint [output/fold_3/checkpoint-550] due to args.save_total_limit\n",
      "The following columns in the evaluation set don't have a corresponding argument in `BiLSTMLongFormerForTokenClassification.forward` and have been ignored: length, trailing_whitespace, offset_mapping, provided_labels, tokens, token_map, document, full_text. If length, trailing_whitespace, offset_mapping, provided_labels, tokens, token_map, document, full_text are not expected by `BiLSTMLongFormerForTokenClassification.forward`,  you can safely ignore this message.\n",
      "***** Running Evaluation *****\n",
      "  Num examples = 1706\n",
      "  Batch size = 8\n",
      "Saving model checkpoint to output/fold_3/checkpoint-650\n",
      "Configuration saved in output/fold_3/checkpoint-650/config.json\n",
      "Model weights saved in output/fold_3/checkpoint-650/pytorch_model.bin\n",
      "tokenizer config file saved in output/fold_3/checkpoint-650/tokenizer_config.json\n",
      "Special tokens file saved in output/fold_3/checkpoint-650/special_tokens_map.json\n",
      "The following columns in the evaluation set don't have a corresponding argument in `BiLSTMLongFormerForTokenClassification.forward` and have been ignored: length, trailing_whitespace, offset_mapping, provided_labels, tokens, token_map, document, full_text. If length, trailing_whitespace, offset_mapping, provided_labels, tokens, token_map, document, full_text are not expected by `BiLSTMLongFormerForTokenClassification.forward`,  you can safely ignore this message.\n",
      "***** Running Evaluation *****\n",
      "  Num examples = 1706\n",
      "  Batch size = 8\n",
      "Saving model checkpoint to output/fold_3/checkpoint-700\n",
      "Configuration saved in output/fold_3/checkpoint-700/config.json\n",
      "Model weights saved in output/fold_3/checkpoint-700/pytorch_model.bin\n",
      "tokenizer config file saved in output/fold_3/checkpoint-700/tokenizer_config.json\n",
      "Special tokens file saved in output/fold_3/checkpoint-700/special_tokens_map.json\n",
      "Deleting older checkpoint [output/fold_3/checkpoint-650] due to args.save_total_limit\n",
      "The following columns in the evaluation set don't have a corresponding argument in `BiLSTMLongFormerForTokenClassification.forward` and have been ignored: length, trailing_whitespace, offset_mapping, provided_labels, tokens, token_map, document, full_text. If length, trailing_whitespace, offset_mapping, provided_labels, tokens, token_map, document, full_text are not expected by `BiLSTMLongFormerForTokenClassification.forward`,  you can safely ignore this message.\n",
      "***** Running Evaluation *****\n",
      "  Num examples = 1706\n",
      "  Batch size = 8\n",
      "Saving model checkpoint to output/fold_3/checkpoint-750\n",
      "Configuration saved in output/fold_3/checkpoint-750/config.json\n",
      "Model weights saved in output/fold_3/checkpoint-750/pytorch_model.bin\n",
      "tokenizer config file saved in output/fold_3/checkpoint-750/tokenizer_config.json\n",
      "Special tokens file saved in output/fold_3/checkpoint-750/special_tokens_map.json\n",
      "Deleting older checkpoint [output/fold_3/checkpoint-700] due to args.save_total_limit\n",
      "\n",
      "\n",
      "Training completed. Do not forget to share your model on huggingface.co/models =)\n",
      "\n",
      "\n",
      "Loading best model from output/fold_3/checkpoint-600 (score: 0.8559999999999999).\n",
      "The following columns in the evaluation set don't have a corresponding argument in `BiLSTMLongFormerForTokenClassification.forward` and have been ignored: length, trailing_whitespace, offset_mapping, provided_labels, tokens, token_map, document, full_text. If length, trailing_whitespace, offset_mapping, provided_labels, tokens, token_map, document, full_text are not expected by `BiLSTMLongFormerForTokenClassification.forward`,  you can safely ignore this message.\n",
      "***** Running Evaluation *****\n",
      "  Num examples = 1706\n",
      "  Batch size = 8\n"
     ]
    },
    {
     "data": {
      "text/html": [
       "\n",
       "    <div>\n",
       "      \n",
       "      <progress value='214' max='214' style='width:300px; height:20px; vertical-align: middle;'></progress>\n",
       "      [214/214 00:44]\n",
       "    </div>\n",
       "    "
      ],
      "text/plain": [
       "<IPython.core.display.HTML object>"
      ]
     },
     "metadata": {},
     "output_type": "display_data"
    },
    {
     "data": {
      "text/html": [
       "Waiting for W&B process to finish... <strong style=\"color:green\">(success).</strong>"
      ],
      "text/plain": [
       "<IPython.core.display.HTML object>"
      ]
     },
     "metadata": {},
     "output_type": "display_data"
    },
    {
     "data": {
      "text/html": [
       "<style>\n",
       "    table.wandb td:nth-child(1) { padding: 0 10px; text-align: left ; width: auto;} td:nth-child(2) {text-align: left ; width: 100%}\n",
       "    .wandb-row { display: flex; flex-direction: row; flex-wrap: wrap; justify-content: flex-start; width: 100% }\n",
       "    .wandb-col { display: flex; flex-direction: column; flex-basis: 100%; flex: 1; padding: 10px; }\n",
       "    </style>\n",
       "<div class=\"wandb-row\"><div class=\"wandb-col\"><h3>Run history:</h3><br/><table class=\"wandb\"><tr><td>eval/f5</td><td>▁▁▁▄▅▅▇▇█▇██████</td></tr><tr><td>eval/f5-EMAIL</td><td>▁▁▁▁▁▁▁▁▁▁▁▁▁▁▁▁</td></tr><tr><td>eval/f5-ID_NUM</td><td>▁▁▁▁▁▁▆▇█▆▇█████</td></tr><tr><td>eval/f5-NAME_STUDENT</td><td>▁▁▁▄▅▅▇██▇██████</td></tr><tr><td>eval/f5-PHONE_NUM</td><td>▁▁▁▁▁▁▁▁▁▁▁▁▁▁▁▁</td></tr><tr><td>eval/f5-STREET_ADDRESS</td><td>▁▁▁▁▁▁▁▁▁▁▁▁▁▁▁▁</td></tr><tr><td>eval/f5-URL_PERSONAL</td><td>▁▁▁▂▆▆▆▆█▅▇██▇██</td></tr><tr><td>eval/f5-USERNAME</td><td>▁▁▁▁▁▁▁▁▁▁▁▁▁▁▁▁</td></tr><tr><td>eval/loss</td><td>█▁▁▁▁▁▁▁▁▁▁▁▁▁▁▁</td></tr><tr><td>eval/p-EMAIL</td><td>▁▁▁▁▁▁▁▁▁▁▁▁▁▁▁▁</td></tr><tr><td>eval/p-ID_NUM</td><td>▁▁▁▁▁▁▆█▆██▆▆▆▆▆</td></tr><tr><td>eval/p-NAME_STUDENT</td><td>▁▁▆▅▅▅▇▇▇▇█▇███▇</td></tr><tr><td>eval/p-PHONE_NUM</td><td>▁▁▁▁▁▁▁▁▁▁▁▁▁▁▁▁</td></tr><tr><td>eval/p-STREET_ADDRESS</td><td>▁▁▁▁▁▁▁▁▁▁▁▁▁▁▁▁</td></tr><tr><td>eval/p-URL_PERSONAL</td><td>▁▁▁▂▃▄▅▆▄▆▇▅▇█▇▅</td></tr><tr><td>eval/p-USERNAME</td><td>▁▁▁▁▁▁▁▁▁▁▁▁▁▁▁▁</td></tr><tr><td>eval/precision</td><td>██▄▁▁▂▄▄▄▄▄▃▄▅▄▃</td></tr><tr><td>eval/r-EMAIL</td><td>▁▁▁▁▁▁▁▁▁▁▁▁▁▁▁▁</td></tr><tr><td>eval/r-ID_NUM</td><td>▁▁▁▁▁▁▅▇█▆▇█████</td></tr><tr><td>eval/r-NAME_STUDENT</td><td>▁▁▁▄▅▅▇▇█▇██████</td></tr><tr><td>eval/r-PHONE_NUM</td><td>▁▁▁▁▁▁▁▁▁▁▁▁▁▁▁▁</td></tr><tr><td>eval/r-STREET_ADDRESS</td><td>▁▁▁▁▁▁▁▁▁▁▁▁▁▁▁▁</td></tr><tr><td>eval/r-URL_PERSONAL</td><td>▁▁▁▂▇▆▆▆█▅▆█▇▇▇█</td></tr><tr><td>eval/r-USERNAME</td><td>▁▁▁▁▁▁▁▁▁▁▁▁▁▁▁▁</td></tr><tr><td>eval/recall</td><td>▁▁▁▄▅▅▇▇█▇██████</td></tr><tr><td>eval/runtime</td><td>▇▃▄▂▇▁▇▂▇▁▇▃▂█▃▆</td></tr><tr><td>eval/samples_per_second</td><td>▂▆▅▇▂█▂▇▂█▂▆▇▁▆▃</td></tr><tr><td>eval/steps_per_second</td><td>▂▆▅▇▂█▂▇▂█▂▆▇▁▆▃</td></tr><tr><td>train/epoch</td><td>▁▁▁▂▂▂▂▂▂▃▃▃▃▃▄▄▄▄▄▄▅▅▅▅▅▆▆▆▆▆▇▇▇▇▇▇████</td></tr><tr><td>train/global_step</td><td>▁▁▁▂▂▂▂▂▂▃▃▃▃▃▄▄▄▄▄▄▅▅▅▅▅▆▆▆▆▆▇▇▇▇▇▇████</td></tr><tr><td>train/learning_rate</td><td>▂▃▅▇███▇▇▇▇▇▆▆▆▆▆▅▅▅▅▅▄▄▄▄▄▃▃▃▃▃▂▂▂▂▂▁▁▁</td></tr><tr><td>train/loss</td><td>██▄▂▁▁▁▁▁▁▁▁▁▁▁▁▁▁▁▁▁▁▁▁▁▁▁▁▁▁▁▁▁▁▁▁▁▁▁▁</td></tr><tr><td>train/total_flos</td><td>▁</td></tr><tr><td>train/train_loss</td><td>▁</td></tr><tr><td>train/train_runtime</td><td>▁</td></tr><tr><td>train/train_samples_per_second</td><td>▁</td></tr><tr><td>train/train_steps_per_second</td><td>▁</td></tr></table><br/></div><div class=\"wandb-col\"><h3>Run summary:</h3><br/><table class=\"wandb\"><tr><td>eval/f5</td><td>0.856</td></tr><tr><td>eval/f5-EMAIL</td><td>1.0</td></tr><tr><td>eval/f5-ID_NUM</td><td>0.91083</td></tr><tr><td>eval/f5-NAME_STUDENT</td><td>0.84985</td></tr><tr><td>eval/f5-PHONE_NUM</td><td>1.0</td></tr><tr><td>eval/f5-STREET_ADDRESS</td><td>0.0</td></tr><tr><td>eval/f5-URL_PERSONAL</td><td>0.89121</td></tr><tr><td>eval/f5-USERNAME</td><td>0.0</td></tr><tr><td>eval/loss</td><td>0.00221</td></tr><tr><td>eval/p-EMAIL</td><td>1.0</td></tr><tr><td>eval/p-ID_NUM</td><td>0.78571</td></tr><tr><td>eval/p-NAME_STUDENT</td><td>0.61146</td></tr><tr><td>eval/p-PHONE_NUM</td><td>1.0</td></tr><tr><td>eval/p-STREET_ADDRESS</td><td>0.0</td></tr><tr><td>eval/p-URL_PERSONAL</td><td>0.5</td></tr><tr><td>eval/p-USERNAME</td><td>0.0</td></tr><tr><td>eval/precision</td><td>0.61143</td></tr><tr><td>eval/r-EMAIL</td><td>1.0</td></tr><tr><td>eval/r-ID_NUM</td><td>0.91667</td></tr><tr><td>eval/r-NAME_STUDENT</td><td>0.86331</td></tr><tr><td>eval/r-PHONE_NUM</td><td>1.0</td></tr><tr><td>eval/r-STREET_ADDRESS</td><td>0.0</td></tr><tr><td>eval/r-URL_PERSONAL</td><td>0.92</td></tr><tr><td>eval/r-USERNAME</td><td>0.0</td></tr><tr><td>eval/recall</td><td>0.86992</td></tr><tr><td>eval/runtime</td><td>53.73</td></tr><tr><td>eval/samples_per_second</td><td>31.751</td></tr><tr><td>eval/steps_per_second</td><td>3.983</td></tr><tr><td>train/epoch</td><td>3.0</td></tr><tr><td>train/global_step</td><td>756</td></tr><tr><td>train/learning_rate</td><td>0.0</td></tr><tr><td>train/loss</td><td>0.0143</td></tr><tr><td>train/total_flos</td><td>1.2931669955724288e+16</td></tr><tr><td>train/train_loss</td><td>0.15524</td></tr><tr><td>train/train_runtime</td><td>2075.9294</td></tr><tr><td>train/train_samples_per_second</td><td>5.817</td></tr><tr><td>train/train_steps_per_second</td><td>0.364</td></tr></table><br/></div></div>"
      ],
      "text/plain": [
       "<IPython.core.display.HTML object>"
      ]
     },
     "metadata": {},
     "output_type": "display_data"
    },
    {
     "data": {
      "text/html": [
       "Synced <strong style=\"color:#cdcd00\">fold-3</strong>: <a href=\"https://wandb.ai/emiz6413/PII/runs/24bb7w4z\" target=\"_blank\">https://wandb.ai/emiz6413/PII/runs/24bb7w4z</a><br/>Synced 5 W&B file(s), 0 media file(s), 0 artifact file(s) and 0 other file(s)"
      ],
      "text/plain": [
       "<IPython.core.display.HTML object>"
      ]
     },
     "metadata": {},
     "output_type": "display_data"
    },
    {
     "data": {
      "text/html": [
       "Find logs at: <code>./wandb/run-20240227_143351-24bb7w4z/logs</code>"
      ],
      "text/plain": [
       "<IPython.core.display.HTML object>"
      ]
     },
     "metadata": {},
     "output_type": "display_data"
    }
   ],
   "source": [
    "for fold_idx, (train_idx, eval_idx) in enumerate(folds):\n",
    "    args.run_name = f\"fold-{fold_idx}\"\n",
    "    args.output_dir = os.path.join(OUTPUT_DIR, f\"fold_{fold_idx}\")\n",
    "    if Path(args.output_dir).joinpath(\"eval_result.json\").exists():\n",
    "        continue\n",
    "    original_ds = ds[\"original\"].select([i for i in train_idx if i not in exclude_indices])\n",
    "    train_ds = concatenate_datasets([original_ds, ds[\"extra\"]])\n",
    "    train_ds = train_ds.map(train_encoder, num_proc=os.cpu_count())\n",
    "    eval_ds = ds[\"original\"].select(eval_idx)\n",
    "    eval_ds = eval_ds.map(eval_encoder, num_proc=os.cpu_count())\n",
    "    trainer = Trainer(\n",
    "        args=args,\n",
    "        model_init=model_init,\n",
    "        train_dataset=train_ds,\n",
    "        eval_dataset=eval_ds,\n",
    "        tokenizer=tokenizer,\n",
    "        compute_metrics=MetricsComputerV2(eval_ds=eval_ds, label2id=label2id),\n",
    "        data_collator=DataCollatorForTokenClassification(tokenizer, pad_to_multiple_of=512),\n",
    "    )\n",
    "    trainer.train()\n",
    "    eval_res = trainer.evaluate(eval_dataset=eval_ds)\n",
    "    with open(os.path.join(args.output_dir, \"eval_result.json\"), \"w\") as f:\n",
    "        json.dump(eval_res, f)\n",
    "    del trainer\n",
    "    gc.collect()\n",
    "    torch.cuda.empty_cache()\n",
    "    wandb.finish()"
   ]
  },
  {
   "cell_type": "markdown",
   "metadata": {},
   "source": [
    "## Log CV"
   ]
  },
  {
   "cell_type": "code",
   "execution_count": 17,
   "metadata": {},
   "outputs": [
    {
     "data": {
      "application/vnd.jupyter.widget-view+json": {
       "model_id": "ed0a888700144d1289c53598e466cb50",
       "version_major": 2,
       "version_minor": 0
      },
      "text/plain": [
       "VBox(children=(Label(value='Waiting for wandb.init()...\\r'), FloatProgress(value=0.016670582450024084, max=1.0…"
      ]
     },
     "metadata": {},
     "output_type": "display_data"
    },
    {
     "data": {
      "text/html": [
       "wandb version 0.16.3 is available!  To upgrade, please run:\n",
       " $ pip install wandb --upgrade"
      ],
      "text/plain": [
       "<IPython.core.display.HTML object>"
      ]
     },
     "metadata": {},
     "output_type": "display_data"
    },
    {
     "data": {
      "text/html": [
       "Tracking run with wandb version 0.13.4"
      ],
      "text/plain": [
       "<IPython.core.display.HTML object>"
      ]
     },
     "metadata": {},
     "output_type": "display_data"
    },
    {
     "data": {
      "text/html": [
       "Run data is saved locally in <code>/notebooks/notebooks/wandb/run-20240227_150933-iytr27on</code>"
      ],
      "text/plain": [
       "<IPython.core.display.HTML object>"
      ]
     },
     "metadata": {},
     "output_type": "display_data"
    },
    {
     "data": {
      "text/html": [
       "Syncing run <strong><a href=\"https://wandb.ai/emiz6413/PII/runs/iytr27on\" target=\"_blank\">cv</a></strong> to <a href=\"https://wandb.ai/emiz6413/PII\" target=\"_blank\">Weights & Biases</a> (<a href=\"https://wandb.me/run\" target=\"_blank\">docs</a>)<br/>"
      ],
      "text/plain": [
       "<IPython.core.display.HTML object>"
      ]
     },
     "metadata": {},
     "output_type": "display_data"
    },
    {
     "data": {
      "text/html": [
       "Waiting for W&B process to finish... <strong style=\"color:green\">(success).</strong>"
      ],
      "text/plain": [
       "<IPython.core.display.HTML object>"
      ]
     },
     "metadata": {},
     "output_type": "display_data"
    },
    {
     "data": {
      "text/html": [
       "Synced <strong style=\"color:#cdcd00\">cv</strong>: <a href=\"https://wandb.ai/emiz6413/PII/runs/iytr27on\" target=\"_blank\">https://wandb.ai/emiz6413/PII/runs/iytr27on</a><br/>Synced 4 W&B file(s), 1 media file(s), 1 artifact file(s) and 0 other file(s)"
      ],
      "text/plain": [
       "<IPython.core.display.HTML object>"
      ]
     },
     "metadata": {},
     "output_type": "display_data"
    },
    {
     "data": {
      "text/html": [
       "Find logs at: <code>./wandb/run-20240227_150933-iytr27on/logs</code>"
      ],
      "text/plain": [
       "<IPython.core.display.HTML object>"
      ]
     },
     "metadata": {},
     "output_type": "display_data"
    }
   ],
   "source": [
    "wandb.init(name=\"cv\")\n",
    "results = dict()\n",
    "for res_json_path in Path(OUTPUT_DIR).glob(\"fold*/eval_result.json\"):\n",
    "    fold = res_json_path.parent.name.split(\"_\")[-1]\n",
    "    with open(res_json_path, \"r\") as f:\n",
    "        res = json.load(f)\n",
    "        results[fold] = {k.replace(\"eval_\", \"\"): v for k, v in res.items()}\n",
    "results[\"cv\"] = {key: np.mean([r[key] for r in results.values()]) for key in results[\"0\"].keys()}\n",
    "table = wandb.Table(columns=[\"fold\"] + list(results[\"0\"].keys()))\n",
    "for f, res in results.items():\n",
    "    table.add_data(f, *[res[c] for c in table.columns if c != \"fold\"])\n",
    "wandb.log({\"eval_result\": table})\n",
    "wandb.finish()"
   ]
  },
  {
   "cell_type": "code",
   "execution_count": null,
   "metadata": {},
   "outputs": [],
   "source": []
  }
 ],
 "metadata": {
  "kaggle": {
   "accelerator": "gpu",
   "dataSources": [
    {
     "databundleVersionId": 7500999,
     "sourceId": 66653,
     "sourceType": "competition"
    },
    {
     "datasetId": 4379849,
     "sourceId": 7518925,
     "sourceType": "datasetVersion"
    },
    {
     "datasetId": 4459964,
     "sourceId": 7659420,
     "sourceType": "datasetVersion"
    },
    {
     "datasetId": 4466980,
     "sourceId": 7661007,
     "sourceType": "datasetVersion"
    },
    {
     "sourceId": 163088908,
     "sourceType": "kernelVersion"
    }
   ],
   "dockerImageVersionId": 30648,
   "isGpuEnabled": true,
   "isInternetEnabled": true,
   "language": "python",
   "sourceType": "notebook"
  },
  "kernelspec": {
   "display_name": "Python 3 (ipykernel)",
   "language": "python",
   "name": "python3"
  },
  "language_info": {
   "codemirror_mode": {
    "name": "ipython",
    "version": 3
   },
   "file_extension": ".py",
   "mimetype": "text/x-python",
   "name": "python",
   "nbconvert_exporter": "python",
   "pygments_lexer": "ipython3",
   "version": "3.9.16"
  }
 },
 "nbformat": 4,
 "nbformat_minor": 4
}
