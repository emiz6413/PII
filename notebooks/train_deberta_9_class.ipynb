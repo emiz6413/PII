{
 "cells": [
  {
   "cell_type": "code",
   "execution_count": 1,
   "id": "8222b4f9-d909-4ed6-bcc3-e9c198c4146f",
   "metadata": {},
   "outputs": [
    {
     "name": "stdout",
     "output_type": "stream",
     "text": [
      "env: WANDB_PROJECT=PII\n",
      "env: WANDB_RUN_GROUP=large-3074-freeze=6-wo_phone_email-filter+MP-CE\n"
     ]
    }
   ],
   "source": [
    "%env WANDB_PROJECT=PII\n",
    "%env WANDB_RUN_GROUP=large-3074-freeze=6-wo_phone_email-filter+MP-CE"
   ]
  },
  {
   "cell_type": "code",
   "execution_count": 2,
   "id": "b7acc420-c6da-4c9e-b3f7-e2cf7fd88101",
   "metadata": {
    "tags": []
   },
   "outputs": [],
   "source": [
    "import json\n",
    "import copy\n",
    "import gc\n",
    "import os\n",
    "import re\n",
    "from collections import defaultdict\n",
    "from pathlib import Path\n",
    "\n",
    "import torch\n",
    "from torch import nn\n",
    "import numpy as np\n",
    "import pandas as pd\n",
    "from spacy.lang.en import English\n",
    "from transformers.tokenization_utils import PreTrainedTokenizerBase\n",
    "from transformers.models.deberta_v2 import DebertaV2ForTokenClassification, DebertaV2TokenizerFast\n",
    "from transformers.trainer import Trainer\n",
    "from transformers.training_args import TrainingArguments\n",
    "from transformers.trainer_utils import EvalPrediction\n",
    "from transformers.data.data_collator import DataCollatorForTokenClassification\n",
    "from datasets import Dataset, DatasetDict, concatenate_datasets\n",
    "import wandb"
   ]
  },
  {
   "cell_type": "code",
   "execution_count": 3,
   "id": "201c1684-de81-4b76-a1a8-832e7d488fba",
   "metadata": {},
   "outputs": [
    {
     "name": "stderr",
     "output_type": "stream",
     "text": [
      "\u001b[34m\u001b[1mwandb\u001b[0m: Currently logged in as: \u001b[33memiz6413\u001b[0m. Use \u001b[1m`wandb login --relogin`\u001b[0m to force relogin\n"
     ]
    },
    {
     "data": {
      "text/plain": [
       "True"
      ]
     },
     "execution_count": 3,
     "metadata": {},
     "output_type": "execute_result"
    }
   ],
   "source": [
    "wandb.login()"
   ]
  },
  {
   "cell_type": "markdown",
   "id": "23aa81d1-44e4-47f5-8b59-c69faa43b1e0",
   "metadata": {},
   "source": [
    "## Config & Parameters"
   ]
  },
  {
   "cell_type": "code",
   "execution_count": 4,
   "id": "b135e92b-8f18-481f-a181-8cbd3e960915",
   "metadata": {},
   "outputs": [],
   "source": [
    "DATA_DIR = Path(\"../datasets/\")\n",
    "OUTPUT_DIR = \"output\"\n",
    "Path(OUTPUT_DIR).mkdir(exist_ok=True)"
   ]
  },
  {
   "cell_type": "code",
   "execution_count": 5,
   "id": "e9088ae3-972e-456c-9c89-df6423941856",
   "metadata": {},
   "outputs": [],
   "source": [
    "# TRAINING_MODEL_PATH = \"hf-internal-testing/tiny-random-deberta-v2\"\n",
    "TRAINING_MODEL_PATH = \"microsoft/deberta-v3-large\"\n",
    "# TRAINING_MODEL_PATH = \"Gladiator/microsoft-deberta-v3-large_ner_conll2003\"\n",
    "TRAINING_MAX_LENGTH = 3072 if \"tiny-random\" not in TRAINING_MODEL_PATH else 512\n",
    "EVAL_MAX_LENGTH = 3072 if \"tiny-random\" not in TRAINING_MODEL_PATH else 512\n",
    "CONF_THRESH = 0.9\n",
    "LR = 2.5e-5  # 1.5e-5 ~ 3e-5 for base # 5e-6 ~ 1e-5 for large\n",
    "LR_SCHEDULER_TYPE = \"linear\"\n",
    "NUM_EPOCHS = 3 if \"tiny-random\" not in TRAINING_MODEL_PATH else 0.1\n",
    "BATCH_SIZE = 1\n",
    "EVAL_BATCH_SIZE = 8\n",
    "GRAD_ACCUMULATION_STEPS = 16 // BATCH_SIZE\n",
    "WARMUP_RATIO = 0.1\n",
    "WEIGHT_DECAY = 0.01\n",
    "AMP = True\n",
    "FREEZE_EMBEDDING = False\n",
    "FREEZE_LAYERS = 6\n",
    "EXCLUDE_PHONE_EMAIL = True\n",
    "# training data\n",
    "N_SPLITS = 4\n",
    "NEGATIVE_RATIO = 0.3\n",
    "MOTH = False\n",
    "PJMATHMATICIAN = False\n",
    "NICHOLAS = False\n",
    "MPWARE = True\n",
    "TONYAROBERTSON = False"
   ]
  },
  {
   "cell_type": "code",
   "execution_count": 6,
   "id": "2cf06306-7564-4833-8625-b9d961b1ea7b",
   "metadata": {},
   "outputs": [],
   "source": [
    "args = TrainingArguments(\n",
    "    output_dir=OUTPUT_DIR,\n",
    "    fp16=AMP,\n",
    "    learning_rate=LR,\n",
    "    num_train_epochs=NUM_EPOCHS,\n",
    "    per_device_train_batch_size=BATCH_SIZE,\n",
    "    per_device_eval_batch_size=EVAL_BATCH_SIZE,\n",
    "    gradient_accumulation_steps=GRAD_ACCUMULATION_STEPS,\n",
    "    report_to=\"wandb\",\n",
    "    evaluation_strategy=\"steps\",\n",
    "    eval_steps=50,\n",
    "    eval_delay=100,\n",
    "    save_strategy=\"steps\",\n",
    "    save_steps=50,\n",
    "    save_total_limit=1,\n",
    "    logging_steps=10,\n",
    "    metric_for_best_model=\"f5\",\n",
    "    greater_is_better=True,\n",
    "    load_best_model_at_end=False,\n",
    "    overwrite_output_dir=True,\n",
    "    lr_scheduler_type=LR_SCHEDULER_TYPE,\n",
    "    warmup_ratio=WARMUP_RATIO,\n",
    "    weight_decay=WEIGHT_DECAY,\n",
    ")"
   ]
  },
  {
   "cell_type": "markdown",
   "id": "de2dd277-98f6-40b3-ab12-6bdc872eb140",
   "metadata": {},
   "source": [
    "## Dataset Preparation"
   ]
  },
  {
   "cell_type": "code",
   "execution_count": 7,
   "id": "069d4817-9ef6-49b4-b24b-428e1f14a7e7",
   "metadata": {},
   "outputs": [
    {
     "name": "stdout",
     "output_type": "stream",
     "text": [
      "MPWARE's datapoints:  2692\n",
      "len(extra_data): 2692\n"
     ]
    }
   ],
   "source": [
    "with DATA_DIR.joinpath(\"train.json\").open(\"r\") as f:\n",
    "    original_data = json.load(f)\n",
    "\n",
    "extra_data = []  #\n",
    "\n",
    "if MOTH:\n",
    "    with DATA_DIR.joinpath(\"pii_dataset_fixed.json\").open(\"r\") as f:\n",
    "        external = json.load(f)\n",
    "    print(\"Moth's datapoints: \", len(external))\n",
    "    extra_data.extend(external)\n",
    "\n",
    "if PJMATHMATICIAN:\n",
    "    with DATA_DIR.joinpath(\"moredata_dataset_fixed.json\").open(\"r\") as f:\n",
    "        external = json.load(f)\n",
    "    print(\"PJMathmatician's datapoints: \", len(external))\n",
    "    extra_data.extend(external)\n",
    "\n",
    "if NICHOLAS:\n",
    "    with DATA_DIR.joinpath(\"mixtral-8x7b-v1.json\").open(\"r\") as f:\n",
    "        external = json.load(f)\n",
    "    print(\"Nicholas' datapoints: \", len(external))\n",
    "    extra_data.extend(external)\n",
    "\n",
    "if MPWARE:\n",
    "    with DATA_DIR.joinpath(\"mpware_mixtral8x7b_v1.1-no-i-username.json\").open(\"r\") as f:\n",
    "        external = json.load(f)\n",
    "    print(\"MPWARE's datapoints: \", len(external))\n",
    "    extra_data.extend(external)\n",
    "\n",
    "if TONYAROBERTSON:\n",
    "    with DATA_DIR.joinpath(\"Fake_data_1850_218.json\").open(\"r\") as f:\n",
    "        external = json.load(f)\n",
    "    print(\"tonyarobertson's datapoints: \", len(external))\n",
    "    extra_data.extend(external)\n",
    "\n",
    "print(f\"len(extra_data): {len(extra_data)}\")"
   ]
  },
  {
   "cell_type": "code",
   "execution_count": 8,
   "id": "44a0aa6c-023e-4746-a88f-5c25639313ef",
   "metadata": {},
   "outputs": [],
   "source": [
    "all_labels = [\n",
    "    'B-EMAIL', 'B-ID_NUM', 'B-NAME_STUDENT', 'B-PHONE_NUM', 'B-STREET_ADDRESS', 'B-URL_PERSONAL', 'B-USERNAME', 'I-ID_NUM', 'I-NAME_STUDENT', 'I-PHONE_NUM', 'I-STREET_ADDRESS', 'I-URL_PERSONAL', 'O'\n",
    "]\n",
    "if EXCLUDE_PHONE_EMAIL:\n",
    "    labels_to_use = [l for l in all_labels if l not in (\"B-EMAIL\", \"B-PHONE_NUM\", \"I-PHONE_NUM\")]\n",
    "else:\n",
    "    labels_to_use = all_labels\n",
    "id2label = {i: l for i, l in enumerate(labels_to_use)}\n",
    "label2id = {v: k for k, v in id2label.items()}\n",
    "target = [l for l in labels_to_use if l != \"O\"]"
   ]
  },
  {
   "cell_type": "markdown",
   "id": "649a957d-ad6c-4dce-b79a-6091f1829067",
   "metadata": {},
   "source": [
    "## Tokenization"
   ]
  },
  {
   "cell_type": "code",
   "execution_count": 9,
   "id": "19c78c9f-dc7d-41ec-9b0f-52b68aa657aa",
   "metadata": {
    "tags": []
   },
   "outputs": [],
   "source": [
    "class CustomTokenizer:\n",
    "    def __init__(\n",
    "        self, \n",
    "        tokenizer: PreTrainedTokenizerBase, \n",
    "        label2id: dict, \n",
    "        max_length: int,\n",
    "    ) -> None:\n",
    "        self.tokenizer = tokenizer\n",
    "        self.label2id = label2id\n",
    "        self.max_length = max_length\n",
    "\n",
    "    def __call__(self, example: dict) -> dict:\n",
    "        # rebuild text from tokens\n",
    "        text, labels, token_map = [], [], []\n",
    "\n",
    "        for idx, (t, l, ws) in enumerate(\n",
    "            zip(example[\"tokens\"], example[\"provided_labels\"], example[\"trailing_whitespace\"])\n",
    "        ):\n",
    "            text.append(t)\n",
    "            labels.extend([l] * len(t))\n",
    "            token_map.extend([idx]*len(t))\n",
    "\n",
    "            if ws:\n",
    "                text.append(\" \")\n",
    "                labels.append(\"O\")\n",
    "                token_map.append(-1)\n",
    "\n",
    "        text = \"\".join(text)\n",
    "        labels = np.array(labels)\n",
    "\n",
    "        # actual tokenization\n",
    "        tokenized = self.tokenizer(\n",
    "            \"\".join(text),\n",
    "            return_offsets_mapping=True,\n",
    "            truncation=True,\n",
    "            max_length=self.max_length\n",
    "        )\n",
    "\n",
    "        token_labels = []\n",
    "\n",
    "        for start_idx, end_idx in tokenized.offset_mapping:\n",
    "            # CLS token\n",
    "            if start_idx == 0 and end_idx == 0:\n",
    "                token_labels.append(self.label2id[\"O\"])\n",
    "                continue\n",
    "\n",
    "            # case when token starts with whitespace\n",
    "            if text[start_idx].isspace():\n",
    "                start_idx += 1\n",
    "\n",
    "            token_labels.append(self.label2id.get(labels[start_idx], self.label2id[\"O\"]))\n",
    "\n",
    "        length = len(tokenized.input_ids)\n",
    "\n",
    "        return {**tokenized, \"labels\": token_labels, \"length\": length, \"token_map\": token_map}"
   ]
  },
  {
   "cell_type": "markdown",
   "id": "c2f5ebe2-43d4-4a85-9cda-7210f0470aa2",
   "metadata": {},
   "source": [
    "## Instantiate the dataset"
   ]
  },
  {
   "cell_type": "code",
   "execution_count": 10,
   "id": "ec0b7a12-ed50-4c0b-8d35-e2a026fad4d5",
   "metadata": {
    "scrolled": true,
    "tags": []
   },
   "outputs": [
    {
     "name": "stderr",
     "output_type": "stream",
     "text": [
      "Special tokens have been added in the vocabulary, make sure the associated word embeddings are fine-tuned or trained.\n",
      "/usr/local/lib/python3.9/dist-packages/transformers/convert_slow_tokenizer.py:434: UserWarning: The sentencepiece tokenizer that you are converting to a fast tokenizer uses the byte fallback option which is not implemented in the fast tokenizers. In practice this means that the fast version of the tokenizer can produce unknown tokens whereas the sentencepiece version would have converted these unknown tokens into a sequence of byte tokens matching the original piece of text.\n",
      "  warnings.warn(\n",
      "Special tokens have been added in the vocabulary, make sure the associated word embeddings are fine-tuned or trained.\n"
     ]
    }
   ],
   "source": [
    "tokenizer = DebertaV2TokenizerFast.from_pretrained(TRAINING_MODEL_PATH)\n",
    "train_encoder = CustomTokenizer(tokenizer=tokenizer, label2id=label2id, max_length=TRAINING_MAX_LENGTH)\n",
    "eval_encoder = CustomTokenizer(tokenizer=tokenizer, label2id=label2id, max_length=EVAL_MAX_LENGTH)\n",
    "\n",
    "ds = DatasetDict()\n",
    "\n",
    "for key, data in zip([\"original\", \"extra\"], [original_data, extra_data]):\n",
    "    ds[key] = Dataset.from_dict({\n",
    "        \"full_text\": [x[\"full_text\"] for x in data],\n",
    "        \"document\": [str(x[\"document\"]) for x in data],\n",
    "        \"tokens\": [x[\"tokens\"] for x in data],\n",
    "        \"trailing_whitespace\": [x[\"trailing_whitespace\"] for x in data],\n",
    "        \"provided_labels\": [x[\"labels\"] for x in data],\n",
    "    })"
   ]
  },
  {
   "cell_type": "markdown",
   "id": "4218f10a-128d-49a6-a594-ef19b5435df9",
   "metadata": {},
   "source": [
    "## Metrics"
   ]
  },
  {
   "cell_type": "code",
   "execution_count": 11,
   "id": "e470ae7a-fea0-48b5-ad4f-46be0ba5cd59",
   "metadata": {
    "tags": []
   },
   "outputs": [],
   "source": [
    "def find_span(target: list[str], document: list[str]) -> list[list[int]]:\n",
    "    idx = 0\n",
    "    spans = []\n",
    "    span = []\n",
    "\n",
    "    for i, token in enumerate(document):\n",
    "        if token != target[idx]:\n",
    "            idx = 0\n",
    "            span = []\n",
    "            continue\n",
    "        span.append(i)\n",
    "        idx += 1\n",
    "        if idx == len(target):\n",
    "            spans.append(span)\n",
    "            span = []\n",
    "            idx = 0\n",
    "            continue\n",
    "\n",
    "    return spans"
   ]
  },
  {
   "cell_type": "code",
   "execution_count": 12,
   "id": "b4fd14a5-1ca7-464b-9a6a-2274abc76761",
   "metadata": {
    "tags": []
   },
   "outputs": [],
   "source": [
    "class PRFScore:\n",
    "    \"\"\"A precision / recall / F score.\"\"\"\n",
    "\n",
    "    def __init__(\n",
    "        self,\n",
    "        *,\n",
    "        tp: int = 0,\n",
    "        fp: int = 0,\n",
    "        fn: int = 0,\n",
    "    ) -> None:\n",
    "        self.tp = tp\n",
    "        self.fp = fp\n",
    "        self.fn = fn\n",
    "\n",
    "    def __len__(self) -> int:\n",
    "        return self.tp + self.fp + self.fn\n",
    "\n",
    "    def __iadd__(self, other):  # in-place add\n",
    "        self.tp += other.tp\n",
    "        self.fp += other.fp\n",
    "        self.fn += other.fn\n",
    "        return self\n",
    "\n",
    "    def __add__(self, other):\n",
    "        return PRFScore(\n",
    "            tp=self.tp + other.tp, fp=self.fp + other.fp, fn=self.fn + other.fn\n",
    "        )\n",
    "\n",
    "    def score_set(self, cand: set, gold: set) -> None:\n",
    "        self.tp += len(cand.intersection(gold))\n",
    "        self.fp += len(cand - gold)\n",
    "        self.fn += len(gold - cand)\n",
    "\n",
    "    @property\n",
    "    def precision(self) -> float:\n",
    "        return self.tp / (self.tp + self.fp + 1e-100)\n",
    "\n",
    "    @property\n",
    "    def recall(self) -> float:\n",
    "        return self.tp / (self.tp + self.fn + 1e-100)\n",
    "\n",
    "    @property\n",
    "    def f1(self) -> float:\n",
    "        p = self.precision\n",
    "        r = self.recall\n",
    "        return 2 * ((p * r) / (p + r + 1e-100))\n",
    "\n",
    "    @property\n",
    "    def f5(self) -> float:\n",
    "        beta = 5\n",
    "        p = self.precision\n",
    "        r = self.recall\n",
    "\n",
    "        fbeta = (1+(beta**2))*p*r / ((beta**2)*p + r + 1e-100)\n",
    "        return fbeta\n",
    "\n",
    "    def to_dict(self) -> dict[str, float]:\n",
    "        return {\"p\": self.precision, \"r\": self.recall, \"f5\": self.f5}\n",
    "\n",
    "\n",
    "class MetricsComputerV2:\n",
    "    nlp = English()\n",
    "\n",
    "    def __init__(self, eval_ds: Dataset, label2id: dict, conf_thresh: float = 0.9) -> None:\n",
    "        self.ds = eval_ds.remove_columns(\"labels\").rename_columns({\"provided_labels\": \"labels\"})\n",
    "        self.gt_df = self.create_gt_df(self.ds)\n",
    "        self.label2id = label2id\n",
    "        self.confth = conf_thresh\n",
    "        self._search_gt()\n",
    "\n",
    "    def __call__(self, eval_preds: EvalPrediction) -> dict:\n",
    "        pred_df = self.create_pred_df(eval_preds.predictions)\n",
    "        return self.compute_metrics_from_df(self.gt_df, pred_df)\n",
    "\n",
    "    def _search_gt(self) -> None:\n",
    "        email_regex = re.compile(r'[\\w.+-]+@[\\w-]+\\.[\\w.-]+')\n",
    "        phone_num_regex = re.compile(r\"(\\(\\d{3}\\)\\d{3}\\-\\d{4}\\w*|\\d{3}\\.\\d{3}\\.\\d{4})\\s\")\n",
    "        self.emails = []\n",
    "        self.phone_nums = []\n",
    "\n",
    "        for _data in self.ds:\n",
    "            # email\n",
    "            for token_idx, token in enumerate(_data[\"tokens\"]):\n",
    "                if re.fullmatch(email_regex, token) is not None:\n",
    "                    self.emails.append(\n",
    "                        {\"document\": _data[\"document\"], \"token\": token_idx, \"label\": \"B-EMAIL\", \"token_str\": token}\n",
    "                    )\n",
    "            # phone number\n",
    "            matches = phone_num_regex.findall(_data[\"full_text\"])\n",
    "            if not matches:\n",
    "                continue\n",
    "            for match in matches:\n",
    "                target = [t.text for t in self.nlp.tokenizer(match)]\n",
    "                matched_spans = find_span(target, _data[\"tokens\"])\n",
    "            for matched_span in matched_spans:\n",
    "                for intermediate, token_idx in enumerate(matched_span):\n",
    "                    prefix = \"I\" if intermediate else \"B\"\n",
    "                    self.phone_nums.append(\n",
    "                        {\"document\": _data[\"document\"], \"token\": token_idx, \"label\": f\"{prefix}-PHONE_NUM\", \"token_str\": _data[\"tokens\"][token_idx]}\n",
    "                    )\n",
    "\n",
    "    @staticmethod\n",
    "    def create_gt_df(ds: Dataset):\n",
    "        gt = []\n",
    "        for row in ds:\n",
    "            for token_idx, (token, label) in enumerate(zip(row[\"tokens\"], row[\"labels\"])):\n",
    "                if label == \"O\":\n",
    "                    continue\n",
    "                gt.append(\n",
    "                    {\"document\": row[\"document\"], \"token\": token_idx, \"label\": label, \"token_str\": token}\n",
    "                )\n",
    "        gt_df = pd.DataFrame(gt)\n",
    "        gt_df[\"row_id\"] = gt_df.index\n",
    "\n",
    "        return gt_df\n",
    "\n",
    "    def create_pred_df(self, prediction: np.ndarray) -> pd.DataFrame:\n",
    "        ### construct prediction df\n",
    "        o_index = self.label2id[\"O\"]\n",
    "        preds = prediction.argmax(-1)\n",
    "        preds_without_o = prediction[:,:,:o_index].argmax(-1)\n",
    "        o_preds = prediction[:,:,o_index]\n",
    "        preds_final = np.where(o_preds < self.confth, preds_without_o , preds)\n",
    "\n",
    "        pairs = set()\n",
    "        processed = []\n",
    "\n",
    "        # Iterate over document\n",
    "        for p_doc, token_map, offsets, tokens, doc in zip(\n",
    "            preds_final, self.ds[\"token_map\"], self.ds[\"offset_mapping\"], self.ds[\"tokens\"], self.ds[\"document\"]\n",
    "        ):\n",
    "            # Iterate over sequence\n",
    "            for p_token, (start_idx, end_idx) in zip(p_doc, offsets):\n",
    "                label_pred = id2label[p_token]\n",
    "\n",
    "                if start_idx + end_idx == 0:\n",
    "                    # [CLS] token i.e. BOS\n",
    "                    continue\n",
    "\n",
    "                if token_map[start_idx] == -1:\n",
    "                    start_idx += 1\n",
    "\n",
    "                # ignore \"\\n\\n\"\n",
    "                while start_idx < len(token_map) and tokens[token_map[start_idx]].isspace():\n",
    "                    start_idx += 1\n",
    "\n",
    "                if start_idx >= len(token_map):\n",
    "                    break\n",
    "\n",
    "                token_id = token_map[start_idx]\n",
    "                pair = (doc, token_id)\n",
    "\n",
    "                # ignore \"O\", preds, phone number and  email\n",
    "                if label_pred in (\"O\", \"B-EMAIL\", \"B-PHONE_NUM\", \"I-PHONE_NUM\") or token_id == -1:\n",
    "                    continue\n",
    "\n",
    "                if pair in pairs:\n",
    "                    continue\n",
    "\n",
    "                processed.append(\n",
    "                    {\"document\": doc, \"token\": token_id, \"label\": label_pred, \"token_str\": tokens[token_id]}\n",
    "                )\n",
    "                pairs.add(pair)\n",
    "\n",
    "        pred_df = pd.DataFrame(processed + self.emails + self.phone_nums)\n",
    "        pred_df[\"row_id\"] = list(range(len(pred_df)))\n",
    "\n",
    "        return pred_df\n",
    "\n",
    "    def compute_metrics_from_df(self, gt_df, pred_df):\n",
    "        \"\"\"\n",
    "        Compute the LB metric (lb) and other auxiliary metrics\n",
    "        \"\"\"\n",
    "\n",
    "        references = {(row.document, row.token, row.label) for row in gt_df.itertuples()}\n",
    "        predictions = {(row.document, row.token, row.label) for row in pred_df.itertuples()}\n",
    "\n",
    "        score_per_type = defaultdict(PRFScore)\n",
    "        references = set(references)\n",
    "\n",
    "        for ex in predictions:\n",
    "            pred_type = ex[-1] # (document, token, label)\n",
    "            if pred_type != 'O':\n",
    "                pred_type = pred_type[2:] # avoid B- and I- prefix\n",
    "\n",
    "            if pred_type not in score_per_type:\n",
    "                score_per_type[pred_type] = PRFScore()\n",
    "\n",
    "            if ex in references:\n",
    "                score_per_type[pred_type].tp += 1\n",
    "                references.remove(ex)\n",
    "            else:\n",
    "                score_per_type[pred_type].fp += 1\n",
    "\n",
    "        for doc, tok, ref_type in references:\n",
    "            if ref_type != 'O':\n",
    "                ref_type = ref_type[2:] # avoid B- and I- prefix\n",
    "\n",
    "            if ref_type not in score_per_type:\n",
    "                score_per_type[ref_type] = PRFScore()\n",
    "            score_per_type[ref_type].fn += 1\n",
    "\n",
    "        totals = PRFScore()\n",
    "\n",
    "        for prf in score_per_type.values():\n",
    "            totals += prf\n",
    "\n",
    "        return {\n",
    "            \"precision\": totals.precision,\n",
    "            \"recall\": totals.recall,\n",
    "            \"f5\": totals.f5,\n",
    "            **{\n",
    "                f\"{v_k}-{k}\": v_v\n",
    "                for k in set([l[2:] for l in all_labels if l!= 'O'])\n",
    "                for v_k, v_v in score_per_type[k].to_dict().items()\n",
    "            },\n",
    "        }"
   ]
  },
  {
   "cell_type": "markdown",
   "id": "87a7d8dc-6579-4678-a2ba-27d22e6aac00",
   "metadata": {},
   "source": [
    "## Model"
   ]
  },
  {
   "cell_type": "code",
   "execution_count": 13,
   "id": "1700da69-ff6a-4fb6-9901-aaf93d589b29",
   "metadata": {
    "scrolled": true,
    "tags": []
   },
   "outputs": [
    {
     "name": "stderr",
     "output_type": "stream",
     "text": [
      "Some weights of the model checkpoint at microsoft/deberta-v3-large were not used when initializing DebertaV2ForTokenClassification: ['mask_predictions.classifier.bias', 'mask_predictions.classifier.weight', 'lm_predictions.lm_head.bias', 'lm_predictions.lm_head.dense.weight', 'deberta.embeddings.position_embeddings.weight', 'lm_predictions.lm_head.LayerNorm.bias', 'mask_predictions.dense.bias', 'mask_predictions.dense.weight', 'mask_predictions.LayerNorm.weight', 'lm_predictions.lm_head.LayerNorm.weight', 'lm_predictions.lm_head.dense.bias', 'mask_predictions.LayerNorm.bias']\n",
      "- This IS expected if you are initializing DebertaV2ForTokenClassification from the checkpoint of a model trained on another task or with another architecture (e.g. initializing a BertForSequenceClassification model from a BertForPreTraining model).\n",
      "- This IS NOT expected if you are initializing DebertaV2ForTokenClassification from the checkpoint of a model that you expect to be exactly identical (initializing a BertForSequenceClassification model from a BertForSequenceClassification model).\n",
      "Some weights of DebertaV2ForTokenClassification were not initialized from the model checkpoint at microsoft/deberta-v3-large and are newly initialized: ['classifier.weight', 'classifier.bias']\n",
      "You should probably TRAIN this model on a down-stream task to be able to use it for predictions and inference.\n"
     ]
    }
   ],
   "source": [
    "class ModelInit:\n",
    "    def __init__(\n",
    "        self,\n",
    "        checkpoint: str,\n",
    "        id2label: dict,\n",
    "        label2id: dict,\n",
    "        freeze_embedding: bool,\n",
    "        freeze_layers: int,\n",
    "    ) -> None:\n",
    "        self.model = DebertaV2ForTokenClassification.from_pretrained(\n",
    "            checkpoint,\n",
    "            num_labels=len(id2label),\n",
    "            id2label=id2label,\n",
    "            label2id=label2id,\n",
    "            ignore_mismatched_sizes=True\n",
    "        )\n",
    "        for param in self.model.deberta.embeddings.parameters():\n",
    "            param.requires_grad = False if freeze_embedding else True\n",
    "        for layer in self.model.deberta.encoder.layer[:freeze_layers]:\n",
    "            for param in layer.parameters():\n",
    "                param.requires_grad = False\n",
    "        self.weight = copy.deepcopy(self.model.state_dict())\n",
    "\n",
    "    def __call__(self) -> DebertaV2ForTokenClassification:\n",
    "        self.model.load_state_dict(self.weight)\n",
    "        return self.model\n",
    "\n",
    "model_init = ModelInit(\n",
    "    TRAINING_MODEL_PATH,\n",
    "    id2label=id2label,\n",
    "    label2id=label2id,\n",
    "    freeze_embedding=FREEZE_EMBEDDING,\n",
    "    freeze_layers=FREEZE_LAYERS,\n",
    ")"
   ]
  },
  {
   "cell_type": "markdown",
   "id": "b74884fb-fc4d-4684-a79c-fdfecb64198a",
   "metadata": {},
   "source": [
    "## Split"
   ]
  },
  {
   "cell_type": "code",
   "execution_count": 14,
   "id": "c7eaea9c-c63a-4a77-932f-22ff25360923",
   "metadata": {
    "tags": []
   },
   "outputs": [],
   "source": [
    "# split according to document id\n",
    "folds = [\n",
    "    (\n",
    "        np.array([i for i, d in enumerate(ds[\"original\"][\"document\"]) if int(d) % N_SPLITS != s]),\n",
    "        np.array([i for i, d in enumerate(ds[\"original\"][\"document\"]) if int(d) % N_SPLITS == s])\n",
    "    )\n",
    "    for s in range(N_SPLITS)\n",
    "]\n",
    "\n",
    "negative_idxs = [i for i, labels in enumerate(ds[\"original\"][\"provided_labels\"]) if not any(np.array(labels) != \"O\")]\n",
    "exclude_indices = negative_idxs[int(len(negative_idxs) * NEGATIVE_RATIO):]"
   ]
  },
  {
   "cell_type": "markdown",
   "id": "21887fb3-e3b1-497c-92ad-64def1bc9511",
   "metadata": {},
   "source": [
    "## Train"
   ]
  },
  {
   "cell_type": "markdown",
   "id": "9ec8b773-e2e8-454a-b21d-b9e5cdf9eb09",
   "metadata": {},
   "source": [
    "#### CV"
   ]
  },
  {
   "cell_type": "code",
   "execution_count": 15,
   "id": "e2a3d40f-e75d-4b05-85b0-7e0d620ce36a",
   "metadata": {
    "scrolled": true,
    "tags": []
   },
   "outputs": [
    {
     "name": "stdout",
     "output_type": "stream",
     "text": [
      "         "
     ]
    },
    {
     "data": {
      "application/vnd.jupyter.widget-view+json": {
       "model_id": "7fb4968da04849f6824c75eb36818f39",
       "version_major": 2,
       "version_minor": 0
      },
      "text/plain": [
       "#0:   0%|          | 0/592 [00:00<?, ?ex/s]"
      ]
     },
     "metadata": {},
     "output_type": "display_data"
    },
    {
     "name": "stdout",
     "output_type": "stream",
     "text": [
      " "
     ]
    },
    {
     "data": {
      "application/vnd.jupyter.widget-view+json": {
       "model_id": "2e5f70bdd935481cae9b24bd27c7ceef",
       "version_major": 2,
       "version_minor": 0
      },
      "text/plain": [
       "#1:   0%|          | 0/592 [00:00<?, ?ex/s]"
      ]
     },
     "metadata": {},
     "output_type": "display_data"
    },
    {
     "name": "stdout",
     "output_type": "stream",
     "text": [
      " "
     ]
    },
    {
     "data": {
      "application/vnd.jupyter.widget-view+json": {
       "model_id": "98bbfdfe565e4a74be6fe7f75d3ed105",
       "version_major": 2,
       "version_minor": 0
      },
      "text/plain": [
       "#2:   0%|          | 0/592 [00:00<?, ?ex/s]"
      ]
     },
     "metadata": {},
     "output_type": "display_data"
    },
    {
     "name": "stdout",
     "output_type": "stream",
     "text": [
      " "
     ]
    },
    {
     "data": {
      "application/vnd.jupyter.widget-view+json": {
       "model_id": "f619601958344fe09f7dec82c5f8c079",
       "version_major": 2,
       "version_minor": 0
      },
      "text/plain": [
       "#3:   0%|          | 0/592 [00:00<?, ?ex/s]"
      ]
     },
     "metadata": {},
     "output_type": "display_data"
    },
    {
     "name": "stdout",
     "output_type": "stream",
     "text": [
      " "
     ]
    },
    {
     "data": {
      "application/vnd.jupyter.widget-view+json": {
       "model_id": "96d0f49911ca4aaf9ed1d9297b7e75cb",
       "version_major": 2,
       "version_minor": 0
      },
      "text/plain": [
       "#4:   0%|          | 0/592 [00:00<?, ?ex/s]"
      ]
     },
     "metadata": {},
     "output_type": "display_data"
    },
    {
     "name": "stdout",
     "output_type": "stream",
     "text": [
      " "
     ]
    },
    {
     "data": {
      "application/vnd.jupyter.widget-view+json": {
       "model_id": "d8772dcdbf654588bc0e54ae685c1f72",
       "version_major": 2,
       "version_minor": 0
      },
      "text/plain": [
       "#5:   0%|          | 0/592 [00:00<?, ?ex/s]"
      ]
     },
     "metadata": {},
     "output_type": "display_data"
    },
    {
     "name": "stdout",
     "output_type": "stream",
     "text": [
      " "
     ]
    },
    {
     "data": {
      "application/vnd.jupyter.widget-view+json": {
       "model_id": "78662c17172d4666a423dc7dc5e7a2df",
       "version_major": 2,
       "version_minor": 0
      },
      "text/plain": [
       "#6:   0%|          | 0/592 [00:00<?, ?ex/s]"
      ]
     },
     "metadata": {},
     "output_type": "display_data"
    },
    {
     "name": "stdout",
     "output_type": "stream",
     "text": [
      " "
     ]
    },
    {
     "data": {
      "application/vnd.jupyter.widget-view+json": {
       "model_id": "a03e78c1d36348d1b0f125a247419c83",
       "version_major": 2,
       "version_minor": 0
      },
      "text/plain": [
       "#7:   0%|          | 0/592 [00:00<?, ?ex/s]"
      ]
     },
     "metadata": {},
     "output_type": "display_data"
    },
    {
     "name": "stdout",
     "output_type": "stream",
     "text": [
      "         "
     ]
    },
    {
     "data": {
      "application/vnd.jupyter.widget-view+json": {
       "model_id": "2fb06ef4bc624453bf0f1051689b1bec",
       "version_major": 2,
       "version_minor": 0
      },
      "text/plain": [
       "#0:   0%|          | 0/212 [00:00<?, ?ex/s]"
      ]
     },
     "metadata": {},
     "output_type": "display_data"
    },
    {
     "name": "stdout",
     "output_type": "stream",
     "text": [
      " "
     ]
    },
    {
     "data": {
      "application/vnd.jupyter.widget-view+json": {
       "model_id": "ef002f80d01f4f43af0208cc58f99424",
       "version_major": 2,
       "version_minor": 0
      },
      "text/plain": [
       "#1:   0%|          | 0/211 [00:00<?, ?ex/s]"
      ]
     },
     "metadata": {},
     "output_type": "display_data"
    },
    {
     "name": "stdout",
     "output_type": "stream",
     "text": [
      " "
     ]
    },
    {
     "data": {
      "application/vnd.jupyter.widget-view+json": {
       "model_id": "1e7b2194fc8b4df9ade6e9b5d858d436",
       "version_major": 2,
       "version_minor": 0
      },
      "text/plain": [
       "#2:   0%|          | 0/211 [00:00<?, ?ex/s]"
      ]
     },
     "metadata": {},
     "output_type": "display_data"
    },
    {
     "name": "stdout",
     "output_type": "stream",
     "text": [
      " "
     ]
    },
    {
     "data": {
      "application/vnd.jupyter.widget-view+json": {
       "model_id": "8598b3af87634428921203deabce5095",
       "version_major": 2,
       "version_minor": 0
      },
      "text/plain": [
       "#3:   0%|          | 0/211 [00:00<?, ?ex/s]"
      ]
     },
     "metadata": {},
     "output_type": "display_data"
    },
    {
     "name": "stdout",
     "output_type": "stream",
     "text": [
      " "
     ]
    },
    {
     "data": {
      "application/vnd.jupyter.widget-view+json": {
       "model_id": "896e1e74a6dd4a8d885498aaabc6b44f",
       "version_major": 2,
       "version_minor": 0
      },
      "text/plain": [
       "#4:   0%|          | 0/211 [00:00<?, ?ex/s]"
      ]
     },
     "metadata": {},
     "output_type": "display_data"
    },
    {
     "name": "stdout",
     "output_type": "stream",
     "text": [
      " "
     ]
    },
    {
     "data": {
      "application/vnd.jupyter.widget-view+json": {
       "model_id": "110b05bc81334b51a4f34b21fc8ac6b4",
       "version_major": 2,
       "version_minor": 0
      },
      "text/plain": [
       "#5:   0%|          | 0/211 [00:00<?, ?ex/s]"
      ]
     },
     "metadata": {},
     "output_type": "display_data"
    },
    {
     "name": "stdout",
     "output_type": "stream",
     "text": [
      " "
     ]
    },
    {
     "data": {
      "application/vnd.jupyter.widget-view+json": {
       "model_id": "aab1d2a1e16e469a8351230de7094d31",
       "version_major": 2,
       "version_minor": 0
      },
      "text/plain": [
       "#6:   0%|          | 0/211 [00:00<?, ?ex/s]"
      ]
     },
     "metadata": {},
     "output_type": "display_data"
    },
    {
     "name": "stdout",
     "output_type": "stream",
     "text": [
      " "
     ]
    },
    {
     "data": {
      "application/vnd.jupyter.widget-view+json": {
       "model_id": "07e51daa41784afc80da14637bc86495",
       "version_major": 2,
       "version_minor": 0
      },
      "text/plain": [
       "#7:   0%|          | 0/211 [00:00<?, ?ex/s]"
      ]
     },
     "metadata": {},
     "output_type": "display_data"
    },
    {
     "name": "stderr",
     "output_type": "stream",
     "text": [
      "Using cuda_amp half precision backend\n",
      "The following columns in the training set don't have a corresponding argument in `DebertaV2ForTokenClassification.forward` and have been ignored: token_map, length, tokens, document, provided_labels, trailing_whitespace, offset_mapping, full_text. If token_map, length, tokens, document, provided_labels, trailing_whitespace, offset_mapping, full_text are not expected by `DebertaV2ForTokenClassification.forward`,  you can safely ignore this message.\n",
      "/usr/local/lib/python3.9/dist-packages/transformers/optimization.py:306: FutureWarning: This implementation of AdamW is deprecated and will be removed in a future version. Use the PyTorch implementation torch.optim.AdamW instead, or set `no_deprecation_warning=True` to disable this warning\n",
      "  warnings.warn(\n",
      "***** Running training *****\n",
      "  Num examples = 4736\n",
      "  Num Epochs = 3\n",
      "  Instantaneous batch size per device = 1\n",
      "  Total train batch size (w. parallel, distributed & accumulation) = 16\n",
      "  Gradient Accumulation steps = 16\n",
      "  Total optimization steps = 888\n",
      "Automatic Weights & Biases logging enabled, to disable set os.environ[\"WANDB_DISABLED\"] = \"true\"\n"
     ]
    },
    {
     "data": {
      "text/html": [
       "wandb version 0.16.4 is available!  To upgrade, please run:\n",
       " $ pip install wandb --upgrade"
      ],
      "text/plain": [
       "<IPython.core.display.HTML object>"
      ]
     },
     "metadata": {},
     "output_type": "display_data"
    },
    {
     "data": {
      "text/html": [
       "Tracking run with wandb version 0.13.4"
      ],
      "text/plain": [
       "<IPython.core.display.HTML object>"
      ]
     },
     "metadata": {},
     "output_type": "display_data"
    },
    {
     "data": {
      "text/html": [
       "Run data is saved locally in <code>/notebooks/notebooks/wandb/run-20240311_140144-32ok52po</code>"
      ],
      "text/plain": [
       "<IPython.core.display.HTML object>"
      ]
     },
     "metadata": {},
     "output_type": "display_data"
    },
    {
     "data": {
      "text/html": [
       "Syncing run <strong><a href=\"https://wandb.ai/emiz6413/PII/runs/32ok52po\" target=\"_blank\">fold-2</a></strong> to <a href=\"https://wandb.ai/emiz6413/PII\" target=\"_blank\">Weights & Biases</a> (<a href=\"https://wandb.me/run\" target=\"_blank\">docs</a>)<br/>"
      ],
      "text/plain": [
       "<IPython.core.display.HTML object>"
      ]
     },
     "metadata": {},
     "output_type": "display_data"
    },
    {
     "data": {
      "text/html": [
       "\n",
       "    <div>\n",
       "      \n",
       "      <progress value='888' max='888' style='width:300px; height:20px; vertical-align: middle;'></progress>\n",
       "      [888/888 1:35:22, Epoch 3/3]\n",
       "    </div>\n",
       "    <table border=\"1\" class=\"dataframe\">\n",
       "  <thead>\n",
       " <tr style=\"text-align: left;\">\n",
       "      <th>Step</th>\n",
       "      <th>Training Loss</th>\n",
       "      <th>Validation Loss</th>\n",
       "      <th>Precision</th>\n",
       "      <th>Recall</th>\n",
       "      <th>F5</th>\n",
       "      <th>P-phone Num</th>\n",
       "      <th>R-phone Num</th>\n",
       "      <th>F5-phone Num</th>\n",
       "      <th>P-street Address</th>\n",
       "      <th>R-street Address</th>\n",
       "      <th>F5-street Address</th>\n",
       "      <th>P-url Personal</th>\n",
       "      <th>R-url Personal</th>\n",
       "      <th>F5-url Personal</th>\n",
       "      <th>P-name Student</th>\n",
       "      <th>R-name Student</th>\n",
       "      <th>F5-name Student</th>\n",
       "      <th>P-username</th>\n",
       "      <th>R-username</th>\n",
       "      <th>F5-username</th>\n",
       "      <th>P-id Num</th>\n",
       "      <th>R-id Num</th>\n",
       "      <th>F5-id Num</th>\n",
       "      <th>P-email</th>\n",
       "      <th>R-email</th>\n",
       "      <th>F5-email</th>\n",
       "    </tr>\n",
       "  </thead>\n",
       "  <tbody>\n",
       "    <tr>\n",
       "      <td>100</td>\n",
       "      <td>0.011700</td>\n",
       "      <td>0.002303</td>\n",
       "      <td>0.727273</td>\n",
       "      <td>0.813008</td>\n",
       "      <td>0.809339</td>\n",
       "      <td>1.000000</td>\n",
       "      <td>1.000000</td>\n",
       "      <td>1.000000</td>\n",
       "      <td>0.857143</td>\n",
       "      <td>0.818182</td>\n",
       "      <td>0.819615</td>\n",
       "      <td>0.490909</td>\n",
       "      <td>0.964286</td>\n",
       "      <td>0.929801</td>\n",
       "      <td>0.733793</td>\n",
       "      <td>0.804841</td>\n",
       "      <td>0.801855</td>\n",
       "      <td>1.000000</td>\n",
       "      <td>0.250000</td>\n",
       "      <td>0.257426</td>\n",
       "      <td>1.000000</td>\n",
       "      <td>0.928571</td>\n",
       "      <td>0.931129</td>\n",
       "      <td>0.888889</td>\n",
       "      <td>1.000000</td>\n",
       "      <td>0.995215</td>\n",
       "    </tr>\n",
       "    <tr>\n",
       "      <td>150</td>\n",
       "      <td>0.003500</td>\n",
       "      <td>0.002163</td>\n",
       "      <td>0.831737</td>\n",
       "      <td>0.823848</td>\n",
       "      <td>0.824149</td>\n",
       "      <td>1.000000</td>\n",
       "      <td>1.000000</td>\n",
       "      <td>1.000000</td>\n",
       "      <td>0.863636</td>\n",
       "      <td>0.863636</td>\n",
       "      <td>0.863636</td>\n",
       "      <td>0.509434</td>\n",
       "      <td>0.964286</td>\n",
       "      <td>0.932271</td>\n",
       "      <td>0.859649</td>\n",
       "      <td>0.815431</td>\n",
       "      <td>0.817048</td>\n",
       "      <td>0.500000</td>\n",
       "      <td>0.500000</td>\n",
       "      <td>0.500000</td>\n",
       "      <td>0.800000</td>\n",
       "      <td>0.857143</td>\n",
       "      <td>0.854795</td>\n",
       "      <td>0.888889</td>\n",
       "      <td>1.000000</td>\n",
       "      <td>0.995215</td>\n",
       "    </tr>\n",
       "    <tr>\n",
       "      <td>200</td>\n",
       "      <td>0.003400</td>\n",
       "      <td>0.000982</td>\n",
       "      <td>0.897436</td>\n",
       "      <td>0.806233</td>\n",
       "      <td>0.809397</td>\n",
       "      <td>1.000000</td>\n",
       "      <td>1.000000</td>\n",
       "      <td>1.000000</td>\n",
       "      <td>0.826087</td>\n",
       "      <td>0.863636</td>\n",
       "      <td>0.862129</td>\n",
       "      <td>0.862069</td>\n",
       "      <td>0.892857</td>\n",
       "      <td>0.891632</td>\n",
       "      <td>0.902230</td>\n",
       "      <td>0.795764</td>\n",
       "      <td>0.799392</td>\n",
       "      <td>0.750000</td>\n",
       "      <td>0.750000</td>\n",
       "      <td>0.750000</td>\n",
       "      <td>0.928571</td>\n",
       "      <td>0.928571</td>\n",
       "      <td>0.928571</td>\n",
       "      <td>0.888889</td>\n",
       "      <td>1.000000</td>\n",
       "      <td>0.995215</td>\n",
       "    </tr>\n",
       "    <tr>\n",
       "      <td>250</td>\n",
       "      <td>0.002100</td>\n",
       "      <td>0.001575</td>\n",
       "      <td>0.893871</td>\n",
       "      <td>0.810298</td>\n",
       "      <td>0.813222</td>\n",
       "      <td>1.000000</td>\n",
       "      <td>1.000000</td>\n",
       "      <td>1.000000</td>\n",
       "      <td>0.869565</td>\n",
       "      <td>0.909091</td>\n",
       "      <td>0.907504</td>\n",
       "      <td>0.857143</td>\n",
       "      <td>0.642857</td>\n",
       "      <td>0.649098</td>\n",
       "      <td>0.898990</td>\n",
       "      <td>0.807867</td>\n",
       "      <td>0.811029</td>\n",
       "      <td>0.800000</td>\n",
       "      <td>1.000000</td>\n",
       "      <td>0.990476</td>\n",
       "      <td>0.812500</td>\n",
       "      <td>0.928571</td>\n",
       "      <td>0.923497</td>\n",
       "      <td>0.888889</td>\n",
       "      <td>1.000000</td>\n",
       "      <td>0.995215</td>\n",
       "    </tr>\n",
       "    <tr>\n",
       "      <td>300</td>\n",
       "      <td>0.001100</td>\n",
       "      <td>0.001208</td>\n",
       "      <td>0.818182</td>\n",
       "      <td>0.878049</td>\n",
       "      <td>0.875585</td>\n",
       "      <td>1.000000</td>\n",
       "      <td>1.000000</td>\n",
       "      <td>1.000000</td>\n",
       "      <td>0.869565</td>\n",
       "      <td>0.909091</td>\n",
       "      <td>0.907504</td>\n",
       "      <td>0.757576</td>\n",
       "      <td>0.892857</td>\n",
       "      <td>0.886767</td>\n",
       "      <td>0.817021</td>\n",
       "      <td>0.871407</td>\n",
       "      <td>0.869182</td>\n",
       "      <td>1.000000</td>\n",
       "      <td>1.000000</td>\n",
       "      <td>1.000000</td>\n",
       "      <td>0.823529</td>\n",
       "      <td>1.000000</td>\n",
       "      <td>0.991826</td>\n",
       "      <td>0.888889</td>\n",
       "      <td>1.000000</td>\n",
       "      <td>0.995215</td>\n",
       "    </tr>\n",
       "    <tr>\n",
       "      <td>350</td>\n",
       "      <td>0.001900</td>\n",
       "      <td>0.001490</td>\n",
       "      <td>0.812500</td>\n",
       "      <td>0.880759</td>\n",
       "      <td>0.877922</td>\n",
       "      <td>1.000000</td>\n",
       "      <td>1.000000</td>\n",
       "      <td>1.000000</td>\n",
       "      <td>1.000000</td>\n",
       "      <td>0.909091</td>\n",
       "      <td>0.912281</td>\n",
       "      <td>0.600000</td>\n",
       "      <td>0.964286</td>\n",
       "      <td>0.942282</td>\n",
       "      <td>0.820113</td>\n",
       "      <td>0.875946</td>\n",
       "      <td>0.873658</td>\n",
       "      <td>0.666667</td>\n",
       "      <td>0.500000</td>\n",
       "      <td>0.504854</td>\n",
       "      <td>0.812500</td>\n",
       "      <td>0.928571</td>\n",
       "      <td>0.923497</td>\n",
       "      <td>0.888889</td>\n",
       "      <td>1.000000</td>\n",
       "      <td>0.995215</td>\n",
       "    </tr>\n",
       "    <tr>\n",
       "      <td>400</td>\n",
       "      <td>0.000900</td>\n",
       "      <td>0.001275</td>\n",
       "      <td>0.916667</td>\n",
       "      <td>0.834688</td>\n",
       "      <td>0.837569</td>\n",
       "      <td>1.000000</td>\n",
       "      <td>1.000000</td>\n",
       "      <td>1.000000</td>\n",
       "      <td>1.000000</td>\n",
       "      <td>0.909091</td>\n",
       "      <td>0.912281</td>\n",
       "      <td>0.710526</td>\n",
       "      <td>0.964286</td>\n",
       "      <td>0.951220</td>\n",
       "      <td>0.929915</td>\n",
       "      <td>0.822995</td>\n",
       "      <td>0.826651</td>\n",
       "      <td>1.000000</td>\n",
       "      <td>1.000000</td>\n",
       "      <td>1.000000</td>\n",
       "      <td>0.800000</td>\n",
       "      <td>0.857143</td>\n",
       "      <td>0.854795</td>\n",
       "      <td>0.888889</td>\n",
       "      <td>1.000000</td>\n",
       "      <td>0.995215</td>\n",
       "    </tr>\n",
       "    <tr>\n",
       "      <td>450</td>\n",
       "      <td>0.000400</td>\n",
       "      <td>0.001340</td>\n",
       "      <td>0.804762</td>\n",
       "      <td>0.915989</td>\n",
       "      <td>0.911146</td>\n",
       "      <td>1.000000</td>\n",
       "      <td>1.000000</td>\n",
       "      <td>1.000000</td>\n",
       "      <td>1.000000</td>\n",
       "      <td>0.909091</td>\n",
       "      <td>0.912281</td>\n",
       "      <td>0.913043</td>\n",
       "      <td>0.750000</td>\n",
       "      <td>0.755187</td>\n",
       "      <td>0.794271</td>\n",
       "      <td>0.922844</td>\n",
       "      <td>0.917134</td>\n",
       "      <td>1.000000</td>\n",
       "      <td>0.500000</td>\n",
       "      <td>0.509804</td>\n",
       "      <td>0.823529</td>\n",
       "      <td>1.000000</td>\n",
       "      <td>0.991826</td>\n",
       "      <td>0.888889</td>\n",
       "      <td>1.000000</td>\n",
       "      <td>0.995215</td>\n",
       "    </tr>\n",
       "    <tr>\n",
       "      <td>500</td>\n",
       "      <td>0.001800</td>\n",
       "      <td>0.001223</td>\n",
       "      <td>0.850202</td>\n",
       "      <td>0.853659</td>\n",
       "      <td>0.853525</td>\n",
       "      <td>1.000000</td>\n",
       "      <td>1.000000</td>\n",
       "      <td>1.000000</td>\n",
       "      <td>1.000000</td>\n",
       "      <td>0.909091</td>\n",
       "      <td>0.912281</td>\n",
       "      <td>0.600000</td>\n",
       "      <td>0.964286</td>\n",
       "      <td>0.942282</td>\n",
       "      <td>0.862654</td>\n",
       "      <td>0.845688</td>\n",
       "      <td>0.846329</td>\n",
       "      <td>1.000000</td>\n",
       "      <td>0.750000</td>\n",
       "      <td>0.757282</td>\n",
       "      <td>0.800000</td>\n",
       "      <td>0.857143</td>\n",
       "      <td>0.854795</td>\n",
       "      <td>0.888889</td>\n",
       "      <td>1.000000</td>\n",
       "      <td>0.995215</td>\n",
       "    </tr>\n",
       "    <tr>\n",
       "      <td>550</td>\n",
       "      <td>0.000900</td>\n",
       "      <td>0.001126</td>\n",
       "      <td>0.769807</td>\n",
       "      <td>0.974255</td>\n",
       "      <td>0.964404</td>\n",
       "      <td>1.000000</td>\n",
       "      <td>1.000000</td>\n",
       "      <td>1.000000</td>\n",
       "      <td>1.000000</td>\n",
       "      <td>0.909091</td>\n",
       "      <td>0.912281</td>\n",
       "      <td>0.675000</td>\n",
       "      <td>0.964286</td>\n",
       "      <td>0.948649</td>\n",
       "      <td>0.765403</td>\n",
       "      <td>0.977307</td>\n",
       "      <td>0.967010</td>\n",
       "      <td>1.000000</td>\n",
       "      <td>0.750000</td>\n",
       "      <td>0.757282</td>\n",
       "      <td>0.823529</td>\n",
       "      <td>1.000000</td>\n",
       "      <td>0.991826</td>\n",
       "      <td>0.888889</td>\n",
       "      <td>1.000000</td>\n",
       "      <td>0.995215</td>\n",
       "    </tr>\n",
       "    <tr>\n",
       "      <td>600</td>\n",
       "      <td>0.000600</td>\n",
       "      <td>0.000969</td>\n",
       "      <td>0.818075</td>\n",
       "      <td>0.944444</td>\n",
       "      <td>0.938866</td>\n",
       "      <td>1.000000</td>\n",
       "      <td>1.000000</td>\n",
       "      <td>1.000000</td>\n",
       "      <td>1.000000</td>\n",
       "      <td>0.909091</td>\n",
       "      <td>0.912281</td>\n",
       "      <td>0.675000</td>\n",
       "      <td>0.964286</td>\n",
       "      <td>0.948649</td>\n",
       "      <td>0.818660</td>\n",
       "      <td>0.942511</td>\n",
       "      <td>0.937059</td>\n",
       "      <td>1.000000</td>\n",
       "      <td>1.000000</td>\n",
       "      <td>1.000000</td>\n",
       "      <td>0.823529</td>\n",
       "      <td>1.000000</td>\n",
       "      <td>0.991826</td>\n",
       "      <td>0.888889</td>\n",
       "      <td>1.000000</td>\n",
       "      <td>0.995215</td>\n",
       "    </tr>\n",
       "    <tr>\n",
       "      <td>650</td>\n",
       "      <td>0.000400</td>\n",
       "      <td>0.001139</td>\n",
       "      <td>0.831671</td>\n",
       "      <td>0.903794</td>\n",
       "      <td>0.900790</td>\n",
       "      <td>1.000000</td>\n",
       "      <td>1.000000</td>\n",
       "      <td>1.000000</td>\n",
       "      <td>0.952381</td>\n",
       "      <td>0.909091</td>\n",
       "      <td>0.910683</td>\n",
       "      <td>0.658537</td>\n",
       "      <td>0.964286</td>\n",
       "      <td>0.947368</td>\n",
       "      <td>0.835443</td>\n",
       "      <td>0.898638</td>\n",
       "      <td>0.896032</td>\n",
       "      <td>1.000000</td>\n",
       "      <td>1.000000</td>\n",
       "      <td>1.000000</td>\n",
       "      <td>0.866667</td>\n",
       "      <td>0.928571</td>\n",
       "      <td>0.926027</td>\n",
       "      <td>0.888889</td>\n",
       "      <td>1.000000</td>\n",
       "      <td>0.995215</td>\n",
       "    </tr>\n",
       "    <tr>\n",
       "      <td>700</td>\n",
       "      <td>0.000200</td>\n",
       "      <td>0.000969</td>\n",
       "      <td>0.868456</td>\n",
       "      <td>0.876694</td>\n",
       "      <td>0.876374</td>\n",
       "      <td>1.000000</td>\n",
       "      <td>1.000000</td>\n",
       "      <td>1.000000</td>\n",
       "      <td>1.000000</td>\n",
       "      <td>0.909091</td>\n",
       "      <td>0.912281</td>\n",
       "      <td>0.675000</td>\n",
       "      <td>0.964286</td>\n",
       "      <td>0.948649</td>\n",
       "      <td>0.873476</td>\n",
       "      <td>0.866868</td>\n",
       "      <td>0.867121</td>\n",
       "      <td>1.000000</td>\n",
       "      <td>1.000000</td>\n",
       "      <td>1.000000</td>\n",
       "      <td>0.933333</td>\n",
       "      <td>1.000000</td>\n",
       "      <td>0.997260</td>\n",
       "      <td>0.888889</td>\n",
       "      <td>1.000000</td>\n",
       "      <td>0.995215</td>\n",
       "    </tr>\n",
       "    <tr>\n",
       "      <td>750</td>\n",
       "      <td>0.000100</td>\n",
       "      <td>0.000826</td>\n",
       "      <td>0.854061</td>\n",
       "      <td>0.911924</td>\n",
       "      <td>0.909554</td>\n",
       "      <td>1.000000</td>\n",
       "      <td>1.000000</td>\n",
       "      <td>1.000000</td>\n",
       "      <td>1.000000</td>\n",
       "      <td>0.909091</td>\n",
       "      <td>0.912281</td>\n",
       "      <td>0.771429</td>\n",
       "      <td>0.964286</td>\n",
       "      <td>0.955102</td>\n",
       "      <td>0.853276</td>\n",
       "      <td>0.906203</td>\n",
       "      <td>0.904046</td>\n",
       "      <td>1.000000</td>\n",
       "      <td>1.000000</td>\n",
       "      <td>1.000000</td>\n",
       "      <td>0.823529</td>\n",
       "      <td>1.000000</td>\n",
       "      <td>0.991826</td>\n",
       "      <td>0.888889</td>\n",
       "      <td>1.000000</td>\n",
       "      <td>0.995215</td>\n",
       "    </tr>\n",
       "    <tr>\n",
       "      <td>800</td>\n",
       "      <td>0.000200</td>\n",
       "      <td>0.000871</td>\n",
       "      <td>0.825983</td>\n",
       "      <td>0.939024</td>\n",
       "      <td>0.934108</td>\n",
       "      <td>1.000000</td>\n",
       "      <td>1.000000</td>\n",
       "      <td>1.000000</td>\n",
       "      <td>1.000000</td>\n",
       "      <td>0.909091</td>\n",
       "      <td>0.912281</td>\n",
       "      <td>0.771429</td>\n",
       "      <td>0.964286</td>\n",
       "      <td>0.955102</td>\n",
       "      <td>0.822045</td>\n",
       "      <td>0.936460</td>\n",
       "      <td>0.931474</td>\n",
       "      <td>1.000000</td>\n",
       "      <td>1.000000</td>\n",
       "      <td>1.000000</td>\n",
       "      <td>0.823529</td>\n",
       "      <td>1.000000</td>\n",
       "      <td>0.991826</td>\n",
       "      <td>0.888889</td>\n",
       "      <td>1.000000</td>\n",
       "      <td>0.995215</td>\n",
       "    </tr>\n",
       "    <tr>\n",
       "      <td>850</td>\n",
       "      <td>0.000200</td>\n",
       "      <td>0.000843</td>\n",
       "      <td>0.856777</td>\n",
       "      <td>0.907859</td>\n",
       "      <td>0.905782</td>\n",
       "      <td>1.000000</td>\n",
       "      <td>1.000000</td>\n",
       "      <td>1.000000</td>\n",
       "      <td>1.000000</td>\n",
       "      <td>0.909091</td>\n",
       "      <td>0.912281</td>\n",
       "      <td>0.750000</td>\n",
       "      <td>0.964286</td>\n",
       "      <td>0.953804</td>\n",
       "      <td>0.857554</td>\n",
       "      <td>0.901664</td>\n",
       "      <td>0.899884</td>\n",
       "      <td>1.000000</td>\n",
       "      <td>1.000000</td>\n",
       "      <td>1.000000</td>\n",
       "      <td>0.823529</td>\n",
       "      <td>1.000000</td>\n",
       "      <td>0.991826</td>\n",
       "      <td>0.888889</td>\n",
       "      <td>1.000000</td>\n",
       "      <td>0.995215</td>\n",
       "    </tr>\n",
       "  </tbody>\n",
       "</table><p>"
      ],
      "text/plain": [
       "<IPython.core.display.HTML object>"
      ]
     },
     "metadata": {},
     "output_type": "display_data"
    },
    {
     "name": "stderr",
     "output_type": "stream",
     "text": [
      "Saving model checkpoint to output/fold_2/checkpoint-50\n",
      "Configuration saved in output/fold_2/checkpoint-50/config.json\n",
      "Model weights saved in output/fold_2/checkpoint-50/pytorch_model.bin\n",
      "tokenizer config file saved in output/fold_2/checkpoint-50/tokenizer_config.json\n",
      "Special tokens file saved in output/fold_2/checkpoint-50/special_tokens_map.json\n",
      "The following columns in the evaluation set don't have a corresponding argument in `DebertaV2ForTokenClassification.forward` and have been ignored: token_map, length, tokens, document, provided_labels, trailing_whitespace, offset_mapping, full_text. If token_map, length, tokens, document, provided_labels, trailing_whitespace, offset_mapping, full_text are not expected by `DebertaV2ForTokenClassification.forward`,  you can safely ignore this message.\n",
      "***** Running Evaluation *****\n",
      "  Num examples = 1689\n",
      "  Batch size = 8\n",
      "Saving model checkpoint to output/fold_2/checkpoint-100\n",
      "Configuration saved in output/fold_2/checkpoint-100/config.json\n",
      "Model weights saved in output/fold_2/checkpoint-100/pytorch_model.bin\n",
      "tokenizer config file saved in output/fold_2/checkpoint-100/tokenizer_config.json\n",
      "Special tokens file saved in output/fold_2/checkpoint-100/special_tokens_map.json\n",
      "Deleting older checkpoint [output/fold_2/checkpoint-50] due to args.save_total_limit\n",
      "Saving model checkpoint to output/fold_2/checkpoint-300\n",
      "Configuration saved in output/fold_2/checkpoint-300/config.json\n",
      "Model weights saved in output/fold_2/checkpoint-300/pytorch_model.bin\n",
      "tokenizer config file saved in output/fold_2/checkpoint-300/tokenizer_config.json\n",
      "Special tokens file saved in output/fold_2/checkpoint-300/special_tokens_map.json\n",
      "Deleting older checkpoint [output/fold_2/checkpoint-150] due to args.save_total_limit\n",
      "Deleting older checkpoint [output/fold_2/checkpoint-250] due to args.save_total_limit\n",
      "The following columns in the evaluation set don't have a corresponding argument in `DebertaV2ForTokenClassification.forward` and have been ignored: token_map, length, tokens, document, provided_labels, trailing_whitespace, offset_mapping, full_text. If token_map, length, tokens, document, provided_labels, trailing_whitespace, offset_mapping, full_text are not expected by `DebertaV2ForTokenClassification.forward`,  you can safely ignore this message.\n",
      "***** Running Evaluation *****\n",
      "  Num examples = 1689\n",
      "  Batch size = 8\n",
      "Saving model checkpoint to output/fold_2/checkpoint-500\n",
      "Configuration saved in output/fold_2/checkpoint-500/config.json\n",
      "Model weights saved in output/fold_2/checkpoint-500/pytorch_model.bin\n",
      "tokenizer config file saved in output/fold_2/checkpoint-500/tokenizer_config.json\n",
      "Special tokens file saved in output/fold_2/checkpoint-500/special_tokens_map.json\n",
      "The following columns in the evaluation set don't have a corresponding argument in `DebertaV2ForTokenClassification.forward` and have been ignored: token_map, length, tokens, document, provided_labels, trailing_whitespace, offset_mapping, full_text. If token_map, length, tokens, document, provided_labels, trailing_whitespace, offset_mapping, full_text are not expected by `DebertaV2ForTokenClassification.forward`,  you can safely ignore this message.\n",
      "***** Running Evaluation *****\n",
      "  Num examples = 1689\n",
      "  Batch size = 8\n",
      "Saving model checkpoint to output/fold_2/checkpoint-550\n",
      "Configuration saved in output/fold_2/checkpoint-550/config.json\n",
      "Model weights saved in output/fold_2/checkpoint-550/pytorch_model.bin\n",
      "tokenizer config file saved in output/fold_2/checkpoint-550/tokenizer_config.json\n",
      "Special tokens file saved in output/fold_2/checkpoint-550/special_tokens_map.json\n",
      "Deleting older checkpoint [output/fold_2/checkpoint-450] due to args.save_total_limit\n",
      "Deleting older checkpoint [output/fold_2/checkpoint-500] due to args.save_total_limit\n",
      "The following columns in the evaluation set don't have a corresponding argument in `DebertaV2ForTokenClassification.forward` and have been ignored: token_map, length, tokens, document, provided_labels, trailing_whitespace, offset_mapping, full_text. If token_map, length, tokens, document, provided_labels, trailing_whitespace, offset_mapping, full_text are not expected by `DebertaV2ForTokenClassification.forward`,  you can safely ignore this message.\n",
      "***** Running Evaluation *****\n",
      "  Num examples = 1689\n",
      "  Batch size = 8\n",
      "Saving model checkpoint to output/fold_2/checkpoint-600\n",
      "Configuration saved in output/fold_2/checkpoint-600/config.json\n",
      "Model weights saved in output/fold_2/checkpoint-600/pytorch_model.bin\n",
      "tokenizer config file saved in output/fold_2/checkpoint-600/tokenizer_config.json\n",
      "Special tokens file saved in output/fold_2/checkpoint-600/special_tokens_map.json\n",
      "The following columns in the evaluation set don't have a corresponding argument in `DebertaV2ForTokenClassification.forward` and have been ignored: token_map, length, tokens, document, provided_labels, trailing_whitespace, offset_mapping, full_text. If token_map, length, tokens, document, provided_labels, trailing_whitespace, offset_mapping, full_text are not expected by `DebertaV2ForTokenClassification.forward`,  you can safely ignore this message.\n",
      "***** Running Evaluation *****\n",
      "  Num examples = 1689\n",
      "  Batch size = 8\n",
      "Saving model checkpoint to output/fold_2/checkpoint-650\n",
      "Configuration saved in output/fold_2/checkpoint-650/config.json\n",
      "Model weights saved in output/fold_2/checkpoint-650/pytorch_model.bin\n",
      "tokenizer config file saved in output/fold_2/checkpoint-650/tokenizer_config.json\n",
      "Special tokens file saved in output/fold_2/checkpoint-650/special_tokens_map.json\n",
      "Deleting older checkpoint [output/fold_2/checkpoint-600] due to args.save_total_limit\n",
      "The following columns in the evaluation set don't have a corresponding argument in `DebertaV2ForTokenClassification.forward` and have been ignored: token_map, length, tokens, document, provided_labels, trailing_whitespace, offset_mapping, full_text. If token_map, length, tokens, document, provided_labels, trailing_whitespace, offset_mapping, full_text are not expected by `DebertaV2ForTokenClassification.forward`,  you can safely ignore this message.\n",
      "***** Running Evaluation *****\n",
      "  Num examples = 1689\n",
      "  Batch size = 8\n",
      "Saving model checkpoint to output/fold_2/checkpoint-700\n",
      "Configuration saved in output/fold_2/checkpoint-700/config.json\n",
      "Model weights saved in output/fold_2/checkpoint-700/pytorch_model.bin\n",
      "tokenizer config file saved in output/fold_2/checkpoint-700/tokenizer_config.json\n",
      "Special tokens file saved in output/fold_2/checkpoint-700/special_tokens_map.json\n",
      "Deleting older checkpoint [output/fold_2/checkpoint-650] due to args.save_total_limit\n",
      "The following columns in the evaluation set don't have a corresponding argument in `DebertaV2ForTokenClassification.forward` and have been ignored: token_map, length, tokens, document, provided_labels, trailing_whitespace, offset_mapping, full_text. If token_map, length, tokens, document, provided_labels, trailing_whitespace, offset_mapping, full_text are not expected by `DebertaV2ForTokenClassification.forward`,  you can safely ignore this message.\n",
      "***** Running Evaluation *****\n",
      "  Num examples = 1689\n",
      "  Batch size = 8\n",
      "Saving model checkpoint to output/fold_2/checkpoint-750\n",
      "Configuration saved in output/fold_2/checkpoint-750/config.json\n",
      "Model weights saved in output/fold_2/checkpoint-750/pytorch_model.bin\n",
      "tokenizer config file saved in output/fold_2/checkpoint-750/tokenizer_config.json\n",
      "Special tokens file saved in output/fold_2/checkpoint-750/special_tokens_map.json\n",
      "Deleting older checkpoint [output/fold_2/checkpoint-700] due to args.save_total_limit\n",
      "The following columns in the evaluation set don't have a corresponding argument in `DebertaV2ForTokenClassification.forward` and have been ignored: token_map, length, tokens, document, provided_labels, trailing_whitespace, offset_mapping, full_text. If token_map, length, tokens, document, provided_labels, trailing_whitespace, offset_mapping, full_text are not expected by `DebertaV2ForTokenClassification.forward`,  you can safely ignore this message.\n",
      "***** Running Evaluation *****\n",
      "  Num examples = 1689\n",
      "  Batch size = 8\n",
      "Saving model checkpoint to output/fold_2/checkpoint-800\n",
      "Configuration saved in output/fold_2/checkpoint-800/config.json\n",
      "Model weights saved in output/fold_2/checkpoint-800/pytorch_model.bin\n",
      "tokenizer config file saved in output/fold_2/checkpoint-800/tokenizer_config.json\n",
      "Special tokens file saved in output/fold_2/checkpoint-800/special_tokens_map.json\n",
      "Deleting older checkpoint [output/fold_2/checkpoint-750] due to args.save_total_limit\n",
      "The following columns in the evaluation set don't have a corresponding argument in `DebertaV2ForTokenClassification.forward` and have been ignored: token_map, length, tokens, document, provided_labels, trailing_whitespace, offset_mapping, full_text. If token_map, length, tokens, document, provided_labels, trailing_whitespace, offset_mapping, full_text are not expected by `DebertaV2ForTokenClassification.forward`,  you can safely ignore this message.\n",
      "***** Running Evaluation *****\n",
      "  Num examples = 1689\n",
      "  Batch size = 8\n",
      "Saving model checkpoint to output/fold_2/checkpoint-850\n",
      "Configuration saved in output/fold_2/checkpoint-850/config.json\n",
      "Model weights saved in output/fold_2/checkpoint-850/pytorch_model.bin\n",
      "tokenizer config file saved in output/fold_2/checkpoint-850/tokenizer_config.json\n",
      "Special tokens file saved in output/fold_2/checkpoint-850/special_tokens_map.json\n",
      "Deleting older checkpoint [output/fold_2/checkpoint-800] due to args.save_total_limit\n",
      "\n",
      "\n",
      "Training completed. Do not forget to share your model on huggingface.co/models =)\n",
      "\n",
      "\n",
      "The following columns in the evaluation set don't have a corresponding argument in `DebertaV2ForTokenClassification.forward` and have been ignored: token_map, length, tokens, document, provided_labels, trailing_whitespace, offset_mapping, full_text. If token_map, length, tokens, document, provided_labels, trailing_whitespace, offset_mapping, full_text are not expected by `DebertaV2ForTokenClassification.forward`,  you can safely ignore this message.\n",
      "***** Running Evaluation *****\n",
      "  Num examples = 1689\n",
      "  Batch size = 8\n"
     ]
    },
    {
     "data": {
      "text/html": [
       "\n",
       "    <div>\n",
       "      \n",
       "      <progress value='212' max='212' style='width:300px; height:20px; vertical-align: middle;'></progress>\n",
       "      [212/212 02:38]\n",
       "    </div>\n",
       "    "
      ],
      "text/plain": [
       "<IPython.core.display.HTML object>"
      ]
     },
     "metadata": {},
     "output_type": "display_data"
    },
    {
     "data": {
      "text/html": [
       "Waiting for W&B process to finish... <strong style=\"color:green\">(success).</strong>"
      ],
      "text/plain": [
       "<IPython.core.display.HTML object>"
      ]
     },
     "metadata": {},
     "output_type": "display_data"
    },
    {
     "data": {
      "application/vnd.jupyter.widget-view+json": {
       "model_id": "e69212c94fbb4b238bb841c136a12574",
       "version_major": 2,
       "version_minor": 0
      },
      "text/plain": [
       "VBox(children=(Label(value='0.001 MB of 0.001 MB uploaded (0.000 MB deduped)\\r'), FloatProgress(value=1.0, max…"
      ]
     },
     "metadata": {},
     "output_type": "display_data"
    },
    {
     "data": {
      "text/html": [
       "<style>\n",
       "    table.wandb td:nth-child(1) { padding: 0 10px; text-align: left ; width: auto;} td:nth-child(2) {text-align: left ; width: 100%}\n",
       "    .wandb-row { display: flex; flex-direction: row; flex-wrap: wrap; justify-content: flex-start; width: 100% }\n",
       "    .wandb-col { display: flex; flex-direction: column; flex-basis: 100%; flex: 1; padding: 10px; }\n",
       "    </style>\n",
       "<div class=\"wandb-row\"><div class=\"wandb-col\"><h3>Run history:</h3><br/><table class=\"wandb\"><tr><td>eval/f5</td><td>▁▂▁▁▄▄▂▆▃█▇▅▄▆▇▅▅</td></tr><tr><td>eval/f5-EMAIL</td><td>▁▁▁▁▁▁▁▁▁▁▁▁▁▁▁▁▁</td></tr><tr><td>eval/f5-ID_NUM</td><td>▅▁▅▄█▄▁█▁██▅█████</td></tr><tr><td>eval/f5-NAME_STUDENT</td><td>▁▂▁▁▄▄▂▆▃█▇▅▄▅▇▅▄</td></tr><tr><td>eval/f5-PHONE_NUM</td><td>▁▁▁▁▁▁▁▁▁▁▁▁▁▁▁▁▁</td></tr><tr><td>eval/f5-STREET_ADDRESS</td><td>▁▄▄██████████████</td></tr><tr><td>eval/f5-URL_PERSONAL</td><td>▇▇▇▁▆██▃█████████</td></tr><tr><td>eval/f5-USERNAME</td><td>▁▃▆██▃█▃▆▆███████</td></tr><tr><td>eval/loss</td><td>█▇▂▅▃▄▃▃▃▂▂▂▂▁▁▁▁</td></tr><tr><td>eval/p-EMAIL</td><td>▁▁▁▁▁▁▁▁▁▁▁▁▁▁▁▁▁</td></tr><tr><td>eval/p-ID_NUM</td><td>█▁▅▁▂▁▁▂▁▂▂▃▆▂▂▂▂</td></tr><tr><td>eval/p-NAME_STUDENT</td><td>▁▅▇▇▄▄█▃▆▂▄▅▆▅▄▅▆</td></tr><tr><td>eval/p-PHONE_NUM</td><td>▁▁▁▁▁▁▁▁▁▁▁▁▁▁▁▁▁</td></tr><tr><td>eval/p-STREET_ADDRESS</td><td>▂▃▁▃▃██████▆█████</td></tr><tr><td>eval/p-URL_PERSONAL</td><td>▁▁▇▇▅▃▅█▃▄▄▄▄▆▆▅▅</td></tr><tr><td>eval/p-USERNAME</td><td>█▁▅▅█▃███████████</td></tr><tr><td>eval/precision</td><td>▁▅▇▇▄▄█▄▆▃▄▅▆▆▅▆▆</td></tr><tr><td>eval/r-EMAIL</td><td>▁▁▁▁▁▁▁▁▁▁▁▁▁▁▁▁▁</td></tr><tr><td>eval/r-ID_NUM</td><td>▄▁▄▄█▄▁█▁██▄█████</td></tr><tr><td>eval/r-NAME_STUDENT</td><td>▁▂▁▁▄▄▂▆▃█▇▅▄▅▆▅▄</td></tr><tr><td>eval/r-PHONE_NUM</td><td>▁▁▁▁▁▁▁▁▁▁▁▁▁▁▁▁▁</td></tr><tr><td>eval/r-STREET_ADDRESS</td><td>▁▅▅██████████████</td></tr><tr><td>eval/r-URL_PERSONAL</td><td>██▆▁▆██▃█████████</td></tr><tr><td>eval/r-USERNAME</td><td>▁▃▆██▃█▃▆▆███████</td></tr><tr><td>eval/recall</td><td>▁▂▁▁▄▄▂▆▃█▇▅▄▅▇▅▅</td></tr><tr><td>eval/runtime</td><td>█▃▃▃▁▄▄▂▃▃▄▃▂▃▄▃▂</td></tr><tr><td>eval/samples_per_second</td><td>▁▆▆▆█▅▅▇▆▆▅▆▇▆▅▆▇</td></tr><tr><td>eval/steps_per_second</td><td>▁▆▆▆█▅▅▇▆▆▅▆▆▆▅▆▇</td></tr><tr><td>train/epoch</td><td>▁▁▁▂▂▂▂▂▃▃▃▃▃▃▄▄▄▄▄▅▅▅▅▅▅▆▆▆▆▆▆▇▇▇▇▇▇███</td></tr><tr><td>train/global_step</td><td>▁▁▁▂▂▂▂▂▃▃▃▃▃▃▄▄▄▄▄▅▅▅▅▅▅▆▆▆▆▆▆▇▇▇▇▇▇███</td></tr><tr><td>train/learning_rate</td><td>▂▃▅▆███▇▇▇▇▇▆▆▆▆▆▅▅▅▅▅▄▄▄▄▄▃▃▃▃▃▂▂▂▂▂▁▁▁</td></tr><tr><td>train/loss</td><td>█▂▁▁▁▁▁▁▁▁▁▁▁▁▁▁▁▁▁▁▁▁▁▁▁▁▁▁▁▁▁▁▁▁▁▁▁▁▁▁</td></tr><tr><td>train/total_flos</td><td>▁</td></tr><tr><td>train/train_loss</td><td>▁</td></tr><tr><td>train/train_runtime</td><td>▁</td></tr><tr><td>train/train_samples_per_second</td><td>▁</td></tr><tr><td>train/train_steps_per_second</td><td>▁</td></tr></table><br/></div><div class=\"wandb-col\"><h3>Run summary:</h3><br/><table class=\"wandb\"><tr><td>eval/f5</td><td>0.88922</td></tr><tr><td>eval/f5-EMAIL</td><td>0.99522</td></tr><tr><td>eval/f5-ID_NUM</td><td>0.99183</td></tr><tr><td>eval/f5-NAME_STUDENT</td><td>0.88138</td></tr><tr><td>eval/f5-PHONE_NUM</td><td>1.0</td></tr><tr><td>eval/f5-STREET_ADDRESS</td><td>0.91228</td></tr><tr><td>eval/f5-URL_PERSONAL</td><td>0.9538</td></tr><tr><td>eval/f5-USERNAME</td><td>1.0</td></tr><tr><td>eval/loss</td><td>0.00084</td></tr><tr><td>eval/p-EMAIL</td><td>0.88889</td></tr><tr><td>eval/p-ID_NUM</td><td>0.82353</td></tr><tr><td>eval/p-NAME_STUDENT</td><td>0.86627</td></tr><tr><td>eval/p-PHONE_NUM</td><td>1.0</td></tr><tr><td>eval/p-STREET_ADDRESS</td><td>1.0</td></tr><tr><td>eval/p-URL_PERSONAL</td><td>0.75</td></tr><tr><td>eval/p-USERNAME</td><td>1.0</td></tr><tr><td>eval/precision</td><td>0.86447</td></tr><tr><td>eval/r-EMAIL</td><td>1.0</td></tr><tr><td>eval/r-ID_NUM</td><td>1.0</td></tr><tr><td>eval/r-NAME_STUDENT</td><td>0.882</td></tr><tr><td>eval/r-PHONE_NUM</td><td>1.0</td></tr><tr><td>eval/r-STREET_ADDRESS</td><td>0.90909</td></tr><tr><td>eval/r-URL_PERSONAL</td><td>0.96429</td></tr><tr><td>eval/r-USERNAME</td><td>1.0</td></tr><tr><td>eval/recall</td><td>0.89024</td></tr><tr><td>eval/runtime</td><td>167.6805</td></tr><tr><td>eval/samples_per_second</td><td>10.073</td></tr><tr><td>eval/steps_per_second</td><td>1.264</td></tr><tr><td>train/epoch</td><td>3.0</td></tr><tr><td>train/global_step</td><td>888</td></tr><tr><td>train/learning_rate</td><td>0.0</td></tr><tr><td>train/loss</td><td>0.0008</td></tr><tr><td>train/total_flos</td><td>2.039440033483315e+16</td></tr><tr><td>train/train_loss</td><td>0.05554</td></tr><tr><td>train/train_runtime</td><td>5728.2895</td></tr><tr><td>train/train_samples_per_second</td><td>2.48</td></tr><tr><td>train/train_steps_per_second</td><td>0.155</td></tr></table><br/></div></div>"
      ],
      "text/plain": [
       "<IPython.core.display.HTML object>"
      ]
     },
     "metadata": {},
     "output_type": "display_data"
    },
    {
     "data": {
      "text/html": [
       "Synced <strong style=\"color:#cdcd00\">fold-2</strong>: <a href=\"https://wandb.ai/emiz6413/PII/runs/32ok52po\" target=\"_blank\">https://wandb.ai/emiz6413/PII/runs/32ok52po</a><br/>Synced 5 W&B file(s), 0 media file(s), 0 artifact file(s) and 0 other file(s)"
      ],
      "text/plain": [
       "<IPython.core.display.HTML object>"
      ]
     },
     "metadata": {},
     "output_type": "display_data"
    },
    {
     "data": {
      "text/html": [
       "Find logs at: <code>./wandb/run-20240311_140144-32ok52po/logs</code>"
      ],
      "text/plain": [
       "<IPython.core.display.HTML object>"
      ]
     },
     "metadata": {},
     "output_type": "display_data"
    }
   ],
   "source": [
    "for fold_idx, (train_idx, eval_idx) in enumerate(folds):\n",
    "    args.run_name = f\"fold-{fold_idx}\"\n",
    "    args.output_dir = os.path.join(OUTPUT_DIR, f\"fold_{fold_idx}\")\n",
    "    if Path(args.output_dir).joinpath(\"eval_result.json\").exists():\n",
    "        continue\n",
    "    original_ds = ds[\"original\"].select([i for i in train_idx if i not in exclude_indices])\n",
    "    train_ds = concatenate_datasets([original_ds, ds[\"extra\"]])\n",
    "    train_ds = train_ds.map(train_encoder, num_proc=os.cpu_count())\n",
    "    eval_ds = ds[\"original\"].select(eval_idx)\n",
    "    eval_ds = eval_ds.map(eval_encoder, num_proc=os.cpu_count())\n",
    "    trainer = Trainer(\n",
    "        args=args,\n",
    "        model_init=model_init,\n",
    "        train_dataset=train_ds,\n",
    "        eval_dataset=eval_ds,\n",
    "        tokenizer=tokenizer,\n",
    "        compute_metrics=MetricsComputerV2(eval_ds=eval_ds, label2id=label2id),\n",
    "        data_collator=DataCollatorForTokenClassification(tokenizer, pad_to_multiple_of=16),\n",
    "    )\n",
    "    trainer.train()\n",
    "    eval_res = trainer.evaluate(eval_dataset=eval_ds)\n",
    "    with open(os.path.join(args.output_dir, \"eval_result.json\"), \"w\") as f:\n",
    "        json.dump(eval_res, f)\n",
    "    del trainer\n",
    "    gc.collect()\n",
    "    torch.cuda.empty_cache()\n",
    "    wandb.alert(title=\"Run finished\", text=f\"{wandb.run.group} {args.run_name} f5={eval_res['eval_f5']:.3f}\")\n",
    "    wandb.finish()"
   ]
  },
  {
   "cell_type": "markdown",
   "id": "6373c548-f263-4271-a4eb-47c16bc42a1b",
   "metadata": {},
   "source": [
    "### log CV"
   ]
  },
  {
   "cell_type": "code",
   "execution_count": 16,
   "id": "e784702c-9436-4a7a-8478-e3b41889d2b1",
   "metadata": {},
   "outputs": [
    {
     "data": {
      "application/vnd.jupyter.widget-view+json": {
       "model_id": "dec5e943604f45b09e262b27b0dd7762",
       "version_major": 2,
       "version_minor": 0
      },
      "text/plain": [
       "VBox(children=(Label(value='Waiting for wandb.init()...\\r'), FloatProgress(value=0.01666928008198738, max=1.0)…"
      ]
     },
     "metadata": {},
     "output_type": "display_data"
    },
    {
     "data": {
      "text/html": [
       "wandb version 0.16.4 is available!  To upgrade, please run:\n",
       " $ pip install wandb --upgrade"
      ],
      "text/plain": [
       "<IPython.core.display.HTML object>"
      ]
     },
     "metadata": {},
     "output_type": "display_data"
    },
    {
     "data": {
      "text/html": [
       "Tracking run with wandb version 0.13.4"
      ],
      "text/plain": [
       "<IPython.core.display.HTML object>"
      ]
     },
     "metadata": {},
     "output_type": "display_data"
    },
    {
     "data": {
      "text/html": [
       "Run data is saved locally in <code>/notebooks/notebooks/wandb/run-20240311_154008-162a2lhv</code>"
      ],
      "text/plain": [
       "<IPython.core.display.HTML object>"
      ]
     },
     "metadata": {},
     "output_type": "display_data"
    },
    {
     "data": {
      "text/html": [
       "Syncing run <strong><a href=\"https://wandb.ai/emiz6413/PII/runs/162a2lhv\" target=\"_blank\">cv</a></strong> to <a href=\"https://wandb.ai/emiz6413/PII\" target=\"_blank\">Weights & Biases</a> (<a href=\"https://wandb.me/run\" target=\"_blank\">docs</a>)<br/>"
      ],
      "text/plain": [
       "<IPython.core.display.HTML object>"
      ]
     },
     "metadata": {},
     "output_type": "display_data"
    },
    {
     "data": {
      "text/html": [
       "Waiting for W&B process to finish... <strong style=\"color:green\">(success).</strong>"
      ],
      "text/plain": [
       "<IPython.core.display.HTML object>"
      ]
     },
     "metadata": {},
     "output_type": "display_data"
    },
    {
     "data": {
      "application/vnd.jupyter.widget-view+json": {
       "model_id": "f1a420f5ba9b4e73b22920b82f7e5365",
       "version_major": 2,
       "version_minor": 0
      },
      "text/plain": [
       "VBox(children=(Label(value='0.006 MB of 0.008 MB uploaded (0.000 MB deduped)\\r'), FloatProgress(value=0.737501…"
      ]
     },
     "metadata": {},
     "output_type": "display_data"
    },
    {
     "data": {
      "text/html": [
       "Synced <strong style=\"color:#cdcd00\">cv</strong>: <a href=\"https://wandb.ai/emiz6413/PII/runs/162a2lhv\" target=\"_blank\">https://wandb.ai/emiz6413/PII/runs/162a2lhv</a><br/>Synced 4 W&B file(s), 1 media file(s), 1 artifact file(s) and 0 other file(s)"
      ],
      "text/plain": [
       "<IPython.core.display.HTML object>"
      ]
     },
     "metadata": {},
     "output_type": "display_data"
    },
    {
     "data": {
      "text/html": [
       "Find logs at: <code>./wandb/run-20240311_154008-162a2lhv/logs</code>"
      ],
      "text/plain": [
       "<IPython.core.display.HTML object>"
      ]
     },
     "metadata": {},
     "output_type": "display_data"
    }
   ],
   "source": [
    "wandb.init(name=\"cv\")\n",
    "results = dict()\n",
    "for res_json_path in Path(OUTPUT_DIR).glob(\"fold*/eval_result.json\"):\n",
    "    fold = res_json_path.parent.name.split(\"_\")[-1]\n",
    "    with open(res_json_path, \"r\") as f:\n",
    "        res = json.load(f)\n",
    "        results[fold] = {k.replace(\"eval_\", \"\"): v for k, v in res.items()}\n",
    "results[\"cv\"] = {key: np.mean([r[key] for r in results.values()]) for key in results[\"0\"].keys()}\n",
    "table = wandb.Table(columns=[\"fold\"] + list(results[\"0\"].keys()))\n",
    "for f, res in results.items():\n",
    "    table.add_data(f, *[res[c] for c in table.columns if c != \"fold\"])\n",
    "wandb.log({\"eval_result\": table})\n",
    "wandb.finish()"
   ]
  },
  {
   "cell_type": "markdown",
   "id": "3af79fbd-6091-43d8-8db6-a8c24fe94a3b",
   "metadata": {},
   "source": [
    "#### Train with full data"
   ]
  },
  {
   "cell_type": "code",
   "execution_count": null,
   "id": "1fbd36d3-579a-4965-982b-00c2e1887c50",
   "metadata": {
    "scrolled": true,
    "tags": []
   },
   "outputs": [
    {
     "name": "stdout",
     "output_type": "stream",
     "text": [
      "        "
     ]
    },
    {
     "name": "stderr",
     "output_type": "stream",
     "text": [
      "Process ForkPoolWorker-18:\n",
      "Process ForkPoolWorker-19:\n",
      "Process ForkPoolWorker-23:\n",
      "Process ForkPoolWorker-20:\n",
      "Process ForkPoolWorker-21:\n",
      "Process ForkPoolWorker-24:\n",
      "Process ForkPoolWorker-17:\n",
      "Process ForkPoolWorker-22:\n",
      "Traceback (most recent call last):\n",
      "Traceback (most recent call last):\n",
      "Traceback (most recent call last):\n",
      "Traceback (most recent call last):\n",
      "  File \"/usr/local/lib/python3.9/dist-packages/multiprocess/process.py\", line 315, in _bootstrap\n",
      "    self.run()\n",
      "  File \"/usr/local/lib/python3.9/dist-packages/multiprocess/process.py\", line 315, in _bootstrap\n",
      "    self.run()\n",
      "  File \"/usr/local/lib/python3.9/dist-packages/multiprocess/process.py\", line 315, in _bootstrap\n",
      "    self.run()\n",
      "  File \"/usr/local/lib/python3.9/dist-packages/multiprocess/process.py\", line 315, in _bootstrap\n",
      "    self.run()\n",
      "  File \"/usr/local/lib/python3.9/dist-packages/multiprocess/process.py\", line 108, in run\n",
      "    self._target(*self._args, **self._kwargs)\n",
      "Traceback (most recent call last):\n",
      "  File \"/usr/local/lib/python3.9/dist-packages/multiprocess/process.py\", line 108, in run\n",
      "    self._target(*self._args, **self._kwargs)\n",
      "  File \"/usr/local/lib/python3.9/dist-packages/multiprocess/process.py\", line 108, in run\n",
      "    self._target(*self._args, **self._kwargs)\n",
      "  File \"/usr/local/lib/python3.9/dist-packages/multiprocess/pool.py\", line 114, in worker\n",
      "    task = get()\n",
      "  File \"/usr/local/lib/python3.9/dist-packages/multiprocess/pool.py\", line 114, in worker\n",
      "    task = get()\n",
      "  File \"/usr/local/lib/python3.9/dist-packages/multiprocess/queues.py\", line 367, in get\n",
      "    with self._rlock:\n",
      "  File \"/usr/local/lib/python3.9/dist-packages/multiprocess/pool.py\", line 114, in worker\n",
      "    task = get()\n",
      "  File \"/usr/local/lib/python3.9/dist-packages/multiprocess/process.py\", line 315, in _bootstrap\n",
      "    self.run()\n",
      "  File \"/usr/local/lib/python3.9/dist-packages/multiprocess/queues.py\", line 367, in get\n",
      "    with self._rlock:\n",
      "  File \"/usr/local/lib/python3.9/dist-packages/multiprocess/queues.py\", line 367, in get\n",
      "    with self._rlock:\n",
      "  File \"/usr/local/lib/python3.9/dist-packages/multiprocess/process.py\", line 108, in run\n",
      "    self._target(*self._args, **self._kwargs)\n",
      "  File \"/usr/local/lib/python3.9/dist-packages/multiprocess/synchronize.py\", line 101, in __enter__\n",
      "    return self._semlock.__enter__()\n",
      "Traceback (most recent call last):\n",
      "  File \"/usr/local/lib/python3.9/dist-packages/multiprocess/synchronize.py\", line 101, in __enter__\n",
      "    return self._semlock.__enter__()\n",
      "Traceback (most recent call last):\n",
      "  File \"/usr/local/lib/python3.9/dist-packages/multiprocess/pool.py\", line 114, in worker\n",
      "    task = get()\n",
      "  File \"/usr/local/lib/python3.9/dist-packages/multiprocess/synchronize.py\", line 101, in __enter__\n",
      "    return self._semlock.__enter__()\n",
      "KeyboardInterrupt\n",
      "  File \"/usr/local/lib/python3.9/dist-packages/multiprocess/process.py\", line 315, in _bootstrap\n",
      "    self.run()\n",
      "KeyboardInterrupt\n",
      "  File \"/usr/local/lib/python3.9/dist-packages/multiprocess/process.py\", line 108, in run\n",
      "    self._target(*self._args, **self._kwargs)\n",
      "  File \"/usr/local/lib/python3.9/dist-packages/multiprocess/process.py\", line 108, in run\n",
      "    self._target(*self._args, **self._kwargs)\n",
      "  File \"/usr/local/lib/python3.9/dist-packages/multiprocess/pool.py\", line 114, in worker\n",
      "    task = get()\n",
      "  File \"/usr/local/lib/python3.9/dist-packages/multiprocess/queues.py\", line 367, in get\n",
      "    with self._rlock:\n",
      "  File \"/usr/local/lib/python3.9/dist-packages/multiprocess/synchronize.py\", line 101, in __enter__\n",
      "    return self._semlock.__enter__()\n",
      "KeyboardInterrupt\n",
      "  File \"/usr/local/lib/python3.9/dist-packages/multiprocess/queues.py\", line 367, in get\n",
      "    with self._rlock:\n",
      "  File \"/usr/local/lib/python3.9/dist-packages/multiprocess/synchronize.py\", line 101, in __enter__\n",
      "    return self._semlock.__enter__()\n",
      "  File \"/usr/local/lib/python3.9/dist-packages/multiprocess/pool.py\", line 114, in worker\n",
      "    task = get()\n",
      "KeyboardInterrupt\n",
      "KeyboardInterrupt\n",
      "  File \"/usr/local/lib/python3.9/dist-packages/multiprocess/synchronize.py\", line 101, in __enter__\n",
      "    return self._semlock.__enter__()\n",
      "Traceback (most recent call last):\n",
      "  File \"/usr/local/lib/python3.9/dist-packages/multiprocess/queues.py\", line 367, in get\n",
      "    with self._rlock:\n",
      "KeyboardInterrupt\n",
      "  File \"/usr/local/lib/python3.9/dist-packages/multiprocess/process.py\", line 315, in _bootstrap\n",
      "    self.run()\n",
      "  File \"/usr/local/lib/python3.9/dist-packages/multiprocess/process.py\", line 108, in run\n",
      "    self._target(*self._args, **self._kwargs)\n",
      "  File \"/usr/local/lib/python3.9/dist-packages/multiprocess/pool.py\", line 114, in worker\n",
      "    task = get()\n",
      "  File \"/usr/local/lib/python3.9/dist-packages/multiprocess/process.py\", line 315, in _bootstrap\n",
      "    self.run()\n",
      "  File \"/usr/local/lib/python3.9/dist-packages/multiprocess/queues.py\", line 368, in get\n",
      "    res = self._reader.recv_bytes()\n",
      "  File \"/usr/local/lib/python3.9/dist-packages/multiprocess/process.py\", line 108, in run\n",
      "    self._target(*self._args, **self._kwargs)\n",
      "  File \"/usr/local/lib/python3.9/dist-packages/multiprocess/connection.py\", line 224, in recv_bytes\n",
      "    buf = self._recv_bytes(maxlength)\n",
      "  File \"/usr/local/lib/python3.9/dist-packages/multiprocess/pool.py\", line 114, in worker\n",
      "    task = get()\n",
      "  File \"/usr/local/lib/python3.9/dist-packages/multiprocess/connection.py\", line 429, in _recv_bytes\n",
      "    return self._recv(size)\n",
      "  File \"/usr/local/lib/python3.9/dist-packages/multiprocess/queues.py\", line 367, in get\n",
      "    with self._rlock:\n",
      "  File \"/usr/local/lib/python3.9/dist-packages/multiprocess/synchronize.py\", line 101, in __enter__\n",
      "    return self._semlock.__enter__()\n",
      "  File \"/usr/local/lib/python3.9/dist-packages/multiprocess/connection.py\", line 387, in _recv\n",
      "    chunk = read(handle, remaining)\n",
      "KeyboardInterrupt\n",
      "KeyboardInterrupt\n"
     ]
    }
   ],
   "source": [
    "original_ds = ds[\"original\"].select([i for i in range(len(ds[\"original\"])) if i not in exclude_indices])\n",
    "train_ds = concatenate_datasets([original_ds, ds[\"extra\"]])\n",
    "train_ds = train_ds.map(train_encoder, num_proc=os.cpu_count())\n",
    "args.evaluation_strategy = \"no\"\n",
    "args.save_strategy = \"no\"\n",
    "args.run_name = f\"all_data\"\n",
    "trainer = Trainer(\n",
    "    args=args,\n",
    "    model_init=model_init,\n",
    "    train_dataset=train_ds,\n",
    "    tokenizer=tokenizer,\n",
    "    data_collator=DataCollatorForTokenClassification(tokenizer, pad_to_multiple_of=16),\n",
    ")\n",
    "trainer.train()\n",
    "trainer.save_model(os.path.join(OUTPUT_DIR, \"all\"))\n",
    "wandb.finish()"
   ]
  },
  {
   "cell_type": "code",
   "execution_count": null,
   "id": "0159a3d2-c25b-4d54-b017-64993c6f1c6b",
   "metadata": {},
   "outputs": [],
   "source": []
  }
 ],
 "metadata": {
  "kernelspec": {
   "display_name": "Python 3 (ipykernel)",
   "language": "python",
   "name": "python3"
  },
  "language_info": {
   "codemirror_mode": {
    "name": "ipython",
    "version": 3
   },
   "file_extension": ".py",
   "mimetype": "text/x-python",
   "name": "python",
   "nbconvert_exporter": "python",
   "pygments_lexer": "ipython3",
   "version": "3.9.16"
  }
 },
 "nbformat": 4,
 "nbformat_minor": 5
}
