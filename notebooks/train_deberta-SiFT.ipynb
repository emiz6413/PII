{
 "cells": [
  {
   "cell_type": "code",
   "execution_count": 1,
   "id": "8222b4f9-d909-4ed6-bcc3-e9c198c4146f",
   "metadata": {},
   "outputs": [
    {
     "name": "stdout",
     "output_type": "stream",
     "text": [
      "env: WANDB_PROJECT=PII\n",
      "env: WANDB_RUN_GROUP=large-2048-freeze=6-filter+MP-SiFT\n"
     ]
    }
   ],
   "source": [
    "%env WANDB_PROJECT=PII\n",
    "%env WANDB_RUN_GROUP=large-2048-freeze=6-filter+MP-SiFT"
   ]
  },
  {
   "cell_type": "code",
   "execution_count": 2,
   "id": "b7acc420-c6da-4c9e-b3f7-e2cf7fd88101",
   "metadata": {
    "tags": []
   },
   "outputs": [],
   "source": [
    "import json\n",
    "import copy\n",
    "import gc\n",
    "import os\n",
    "import re\n",
    "from functools import reduce\n",
    "from collections import defaultdict, Counter\n",
    "from pathlib import Path\n",
    "\n",
    "import torch\n",
    "from torch import nn\n",
    "import torch.nn.functional as F\n",
    "import numpy as np\n",
    "import pandas as pd\n",
    "from spacy.lang.en import English\n",
    "from transformers.tokenization_utils import PreTrainedTokenizerBase\n",
    "from transformers.models.deberta_v2 import DebertaV2ForTokenClassification, DebertaV2TokenizerFast\n",
    "from transformers.trainer import Trainer\n",
    "from transformers.training_args import TrainingArguments\n",
    "from transformers.trainer_utils import EvalPrediction\n",
    "from transformers.data.data_collator import DataCollatorForTokenClassification\n",
    "from datasets import Dataset, DatasetDict, concatenate_datasets\n",
    "import wandb"
   ]
  },
  {
   "cell_type": "code",
   "execution_count": 3,
   "id": "0139fbda-e361-4e36-beae-819b5a23f319",
   "metadata": {},
   "outputs": [
    {
     "name": "stderr",
     "output_type": "stream",
     "text": [
      "\u001b[34m\u001b[1mwandb\u001b[0m: Logging into wandb.ai. (Learn how to deploy a W&B server locally: https://wandb.me/wandb-server)\n",
      "\u001b[34m\u001b[1mwandb\u001b[0m: You can find your API key in your browser here: https://wandb.ai/authorize\n",
      "\u001b[34m\u001b[1mwandb\u001b[0m: Paste an API key from your profile and hit enter, or press ctrl+c to quit:"
     ]
    },
    {
     "name": "stdin",
     "output_type": "stream",
     "text": [
      "  ········\n"
     ]
    },
    {
     "name": "stderr",
     "output_type": "stream",
     "text": [
      "\u001b[34m\u001b[1mwandb\u001b[0m: Appending key for api.wandb.ai to your netrc file: /root/.netrc\n"
     ]
    },
    {
     "data": {
      "text/plain": [
       "True"
      ]
     },
     "execution_count": 3,
     "metadata": {},
     "output_type": "execute_result"
    }
   ],
   "source": [
    "wandb.login()"
   ]
  },
  {
   "cell_type": "markdown",
   "id": "23aa81d1-44e4-47f5-8b59-c69faa43b1e0",
   "metadata": {},
   "source": [
    "## Config & Parameters"
   ]
  },
  {
   "cell_type": "code",
   "execution_count": 4,
   "id": "b135e92b-8f18-481f-a181-8cbd3e960915",
   "metadata": {},
   "outputs": [],
   "source": [
    "DATA_DIR = Path(\"../datasets/\")\n",
    "OUTPUT_DIR = \"output\"\n",
    "Path(OUTPUT_DIR).mkdir(exist_ok=True)"
   ]
  },
  {
   "cell_type": "code",
   "execution_count": 5,
   "id": "e9088ae3-972e-456c-9c89-df6423941856",
   "metadata": {},
   "outputs": [],
   "source": [
    "# TRAINING_MODEL_PATH = \"hf-internal-testing/tiny-random-deberta-v2\"\n",
    "TRAINING_MODEL_PATH = \"microsoft/deberta-v3-large\"\n",
    "# TRAINING_MODEL_PATH = \"Gladiator/microsoft-deberta-v3-large_ner_conll2003\"\n",
    "TRAINING_MAX_LENGTH = 2048 if \"tiny-random\" not in TRAINING_MODEL_PATH else 512\n",
    "EVAL_MAX_LENGTH = 3072 if \"tiny-random\" not in TRAINING_MODEL_PATH else 512\n",
    "CONF_THRESH = 9.0\n",
    "LR = 2.5e-5  # 1.5e-5 ~ 3e-5 for base # 5e-6 ~ 1e-5 for large\n",
    "LR_SCHEDULER_TYPE = \"linear\"\n",
    "NUM_EPOCHS = 3 if \"tiny-random\" not in TRAINING_MODEL_PATH else 0.1\n",
    "BATCH_SIZE = 1\n",
    "EVAL_BATCH_SIZE = 8\n",
    "GRAD_ACCUMULATION_STEPS = 16 // BATCH_SIZE\n",
    "WARMUP_RATIO = 0.1\n",
    "WEIGHT_DECAY = 0.01\n",
    "AMP = True\n",
    "FREEZE_EMBEDDING = False\n",
    "FREEZE_LAYERS = 6\n",
    "# training data\n",
    "N_SPLITS = 4\n",
    "NEGATIVE_RATIO = 0.3\n",
    "MOTH = False\n",
    "PJMATHMATICIAN = False\n",
    "NICHOLAS = False\n",
    "MPWARE = True\n",
    "TONYAROBERTSON = False"
   ]
  },
  {
   "cell_type": "code",
   "execution_count": 6,
   "id": "2cf06306-7564-4833-8625-b9d961b1ea7b",
   "metadata": {},
   "outputs": [],
   "source": [
    "args = TrainingArguments(\n",
    "    output_dir=OUTPUT_DIR,\n",
    "    fp16=AMP,\n",
    "    learning_rate=LR,\n",
    "    num_train_epochs=NUM_EPOCHS,\n",
    "    per_device_train_batch_size=BATCH_SIZE,\n",
    "    per_device_eval_batch_size=EVAL_BATCH_SIZE,\n",
    "    gradient_accumulation_steps=GRAD_ACCUMULATION_STEPS,\n",
    "    report_to=\"wandb\",\n",
    "    evaluation_strategy=\"steps\",\n",
    "    eval_steps=50,\n",
    "    eval_delay=100,\n",
    "    save_strategy=\"steps\",\n",
    "    save_steps=50,\n",
    "    save_total_limit=1,\n",
    "    logging_steps=10,\n",
    "    metric_for_best_model=\"f5\",\n",
    "    greater_is_better=True,\n",
    "    load_best_model_at_end=True,\n",
    "    overwrite_output_dir=True,\n",
    "    lr_scheduler_type=LR_SCHEDULER_TYPE,\n",
    "    warmup_ratio=WARMUP_RATIO,\n",
    "    weight_decay=WEIGHT_DECAY,\n",
    ")"
   ]
  },
  {
   "cell_type": "markdown",
   "id": "de2dd277-98f6-40b3-ab12-6bdc872eb140",
   "metadata": {},
   "source": [
    "## Dataset Preparation"
   ]
  },
  {
   "cell_type": "code",
   "execution_count": 7,
   "id": "069d4817-9ef6-49b4-b24b-428e1f14a7e7",
   "metadata": {},
   "outputs": [
    {
     "name": "stdout",
     "output_type": "stream",
     "text": [
      "MPWARE's datapoints:  2692\n",
      "len(extra_data): 2692\n"
     ]
    }
   ],
   "source": [
    "with DATA_DIR.joinpath(\"train.json\").open(\"r\") as f:\n",
    "    original_data = json.load(f)\n",
    "\n",
    "extra_data = []  #\n",
    "\n",
    "if MOTH:\n",
    "    with DATA_DIR.joinpath(\"pii_dataset_fixed.json\").open(\"r\") as f:\n",
    "        external = json.load(f)\n",
    "    print(\"Moth's datapoints: \", len(external))\n",
    "    extra_data.extend(external)\n",
    "\n",
    "if PJMATHMATICIAN:\n",
    "    with DATA_DIR.joinpath(\"moredata_dataset_fixed.json\").open(\"r\") as f:\n",
    "        external = json.load(f)\n",
    "    print(\"PJMathmatician's datapoints: \", len(external))\n",
    "    extra_data.extend(external)\n",
    "\n",
    "if NICHOLAS:\n",
    "    with DATA_DIR.joinpath(\"mixtral-8x7b-v1.json\").open(\"r\") as f:\n",
    "        external = json.load(f)\n",
    "    print(\"Nicholas' datapoints: \", len(external))\n",
    "    extra_data.extend(external)\n",
    "\n",
    "if MPWARE:\n",
    "    with DATA_DIR.joinpath(\"mpware_mixtral8x7b_v1.1-no-i-username.json\").open(\"r\") as f:\n",
    "        external = json.load(f)\n",
    "    print(\"MPWARE's datapoints: \", len(external))\n",
    "    extra_data.extend(external)\n",
    "\n",
    "if TONYAROBERTSON:\n",
    "    with DATA_DIR.joinpath(\"Fake_data_1850_218.json\").open(\"r\") as f:\n",
    "        external = json.load(f)\n",
    "    print(\"tonyarobertson's datapoints: \", len(external))\n",
    "    extra_data.extend(external)\n",
    "\n",
    "print(f\"len(extra_data): {len(extra_data)}\")"
   ]
  },
  {
   "cell_type": "code",
   "execution_count": 8,
   "id": "44a0aa6c-023e-4746-a88f-5c25639313ef",
   "metadata": {},
   "outputs": [],
   "source": [
    "all_labels = [\n",
    "    'B-EMAIL', 'B-ID_NUM', 'B-NAME_STUDENT', 'B-PHONE_NUM', 'B-STREET_ADDRESS', 'B-URL_PERSONAL', 'B-USERNAME', 'I-ID_NUM', 'I-NAME_STUDENT', 'I-PHONE_NUM', 'I-STREET_ADDRESS', 'I-URL_PERSONAL', 'O'\n",
    "]\n",
    "id2label = {i: l for i, l in enumerate(all_labels)}\n",
    "label2id = {v: k for k, v in id2label.items()}\n",
    "target = [l for l in all_labels if l != \"O\"]"
   ]
  },
  {
   "cell_type": "markdown",
   "id": "649a957d-ad6c-4dce-b79a-6091f1829067",
   "metadata": {},
   "source": [
    "## Tokenization"
   ]
  },
  {
   "cell_type": "code",
   "execution_count": 9,
   "id": "19c78c9f-dc7d-41ec-9b0f-52b68aa657aa",
   "metadata": {
    "tags": []
   },
   "outputs": [],
   "source": [
    "class CustomTokenizer:\n",
    "    def __init__(self, tokenizer: PreTrainedTokenizerBase, label2id: dict, max_length: int) -> None:\n",
    "        self.tokenizer = tokenizer\n",
    "        self.label2id = label2id\n",
    "        self.max_length = max_length\n",
    "\n",
    "    def __call__(self, example: dict) -> dict:\n",
    "        # rebuild text from tokens\n",
    "        text, labels, token_map = [], [], []\n",
    "\n",
    "        for idx, (t, l, ws) in enumerate(\n",
    "            zip(example[\"tokens\"], example[\"provided_labels\"], example[\"trailing_whitespace\"])\n",
    "        ):\n",
    "            text.append(t)\n",
    "            labels.extend([l] * len(t))\n",
    "            token_map.extend([idx]*len(t))\n",
    "\n",
    "            if ws:\n",
    "                text.append(\" \")\n",
    "                labels.append(\"O\")\n",
    "                token_map.append(-1)\n",
    "\n",
    "        text = \"\".join(text)\n",
    "        labels = np.array(labels)\n",
    "\n",
    "        # actual tokenization\n",
    "        tokenized = self.tokenizer(\n",
    "            \"\".join(text),\n",
    "            return_offsets_mapping=True,\n",
    "            truncation=True,\n",
    "            max_length=self.max_length\n",
    "        )\n",
    "\n",
    "        token_labels = []\n",
    "\n",
    "        for start_idx, end_idx in tokenized.offset_mapping:\n",
    "            # CLS token\n",
    "            if start_idx == 0 and end_idx == 0:\n",
    "                token_labels.append(self.label2id[\"O\"])\n",
    "                continue\n",
    "\n",
    "            # case when token starts with whitespace\n",
    "            if text[start_idx].isspace():\n",
    "                start_idx += 1\n",
    "\n",
    "            token_labels.append(self.label2id[labels[start_idx]])\n",
    "\n",
    "        length = len(tokenized.input_ids)\n",
    "\n",
    "        return {**tokenized, \"labels\": token_labels, \"length\": length, \"token_map\": token_map}"
   ]
  },
  {
   "cell_type": "markdown",
   "id": "c2f5ebe2-43d4-4a85-9cda-7210f0470aa2",
   "metadata": {},
   "source": [
    "## Instantiate the dataset"
   ]
  },
  {
   "cell_type": "code",
   "execution_count": 10,
   "id": "ec0b7a12-ed50-4c0b-8d35-e2a026fad4d5",
   "metadata": {
    "scrolled": true,
    "tags": []
   },
   "outputs": [
    {
     "data": {
      "application/vnd.jupyter.widget-view+json": {
       "model_id": "07eec7b458cc4fd9a5a7eaad1756c6b9",
       "version_major": 2,
       "version_minor": 0
      },
      "text/plain": [
       "Downloading tokenizer_config.json:   0%|          | 0.00/52.0 [00:00<?, ?B/s]"
      ]
     },
     "metadata": {},
     "output_type": "display_data"
    },
    {
     "data": {
      "application/vnd.jupyter.widget-view+json": {
       "model_id": "ee73ad369e08422080c1a8f500082c7a",
       "version_major": 2,
       "version_minor": 0
      },
      "text/plain": [
       "Downloading spm.model:   0%|          | 0.00/2.35M [00:00<?, ?B/s]"
      ]
     },
     "metadata": {},
     "output_type": "display_data"
    },
    {
     "data": {
      "application/vnd.jupyter.widget-view+json": {
       "model_id": "7a7880e0ed6146dfb1a1f72d0a7d5d22",
       "version_major": 2,
       "version_minor": 0
      },
      "text/plain": [
       "Downloading config.json:   0%|          | 0.00/580 [00:00<?, ?B/s]"
      ]
     },
     "metadata": {},
     "output_type": "display_data"
    },
    {
     "name": "stderr",
     "output_type": "stream",
     "text": [
      "Special tokens have been added in the vocabulary, make sure the associated word embeddings are fine-tuned or trained.\n",
      "/usr/local/lib/python3.9/dist-packages/transformers/convert_slow_tokenizer.py:434: UserWarning: The sentencepiece tokenizer that you are converting to a fast tokenizer uses the byte fallback option which is not implemented in the fast tokenizers. In practice this means that the fast version of the tokenizer can produce unknown tokens whereas the sentencepiece version would have converted these unknown tokens into a sequence of byte tokens matching the original piece of text.\n",
      "  warnings.warn(\n",
      "Special tokens have been added in the vocabulary, make sure the associated word embeddings are fine-tuned or trained.\n"
     ]
    }
   ],
   "source": [
    "tokenizer = DebertaV2TokenizerFast.from_pretrained(TRAINING_MODEL_PATH)\n",
    "train_encoder = CustomTokenizer(tokenizer=tokenizer, label2id=label2id, max_length=TRAINING_MAX_LENGTH)\n",
    "eval_encoder = CustomTokenizer(tokenizer=tokenizer, label2id=label2id, max_length=EVAL_MAX_LENGTH)\n",
    "\n",
    "ds = DatasetDict()\n",
    "\n",
    "for key, data in zip([\"original\", \"extra\"], [original_data, extra_data]):\n",
    "    ds[key] = Dataset.from_dict({\n",
    "        \"full_text\": [x[\"full_text\"] for x in data],\n",
    "        \"document\": [str(x[\"document\"]) for x in data],\n",
    "        \"tokens\": [x[\"tokens\"] for x in data],\n",
    "        \"trailing_whitespace\": [x[\"trailing_whitespace\"] for x in data],\n",
    "        \"provided_labels\": [x[\"labels\"] for x in data],\n",
    "    })"
   ]
  },
  {
   "cell_type": "markdown",
   "id": "4218f10a-128d-49a6-a594-ef19b5435df9",
   "metadata": {},
   "source": [
    "## Metrics"
   ]
  },
  {
   "cell_type": "code",
   "execution_count": 11,
   "id": "e470ae7a-fea0-48b5-ad4f-46be0ba5cd59",
   "metadata": {
    "tags": []
   },
   "outputs": [],
   "source": [
    "def find_span(target: list[str], document: list[str]) -> list[list[int]]:\n",
    "    idx = 0\n",
    "    spans = []\n",
    "    span = []\n",
    "\n",
    "    for i, token in enumerate(document):\n",
    "        if token != target[idx]:\n",
    "            idx = 0\n",
    "            span = []\n",
    "            continue\n",
    "        span.append(i)\n",
    "        idx += 1\n",
    "        if idx == len(target):\n",
    "            spans.append(span)\n",
    "            span = []\n",
    "            idx = 0\n",
    "            continue\n",
    "\n",
    "    return spans"
   ]
  },
  {
   "cell_type": "code",
   "execution_count": 12,
   "id": "b4fd14a5-1ca7-464b-9a6a-2274abc76761",
   "metadata": {
    "tags": []
   },
   "outputs": [],
   "source": [
    "class PRFScore:\n",
    "    \"\"\"A precision / recall / F score.\"\"\"\n",
    "\n",
    "    def __init__(\n",
    "        self,\n",
    "        *,\n",
    "        tp: int = 0,\n",
    "        fp: int = 0,\n",
    "        fn: int = 0,\n",
    "    ) -> None:\n",
    "        self.tp = tp\n",
    "        self.fp = fp\n",
    "        self.fn = fn\n",
    "\n",
    "    def __len__(self) -> int:\n",
    "        return self.tp + self.fp + self.fn\n",
    "\n",
    "    def __iadd__(self, other):  # in-place add\n",
    "        self.tp += other.tp\n",
    "        self.fp += other.fp\n",
    "        self.fn += other.fn\n",
    "        return self\n",
    "\n",
    "    def __add__(self, other):\n",
    "        return PRFScore(\n",
    "            tp=self.tp + other.tp, fp=self.fp + other.fp, fn=self.fn + other.fn\n",
    "        )\n",
    "\n",
    "    def score_set(self, cand: set, gold: set) -> None:\n",
    "        self.tp += len(cand.intersection(gold))\n",
    "        self.fp += len(cand - gold)\n",
    "        self.fn += len(gold - cand)\n",
    "\n",
    "    @property\n",
    "    def precision(self) -> float:\n",
    "        return self.tp / (self.tp + self.fp + 1e-100)\n",
    "\n",
    "    @property\n",
    "    def recall(self) -> float:\n",
    "        return self.tp / (self.tp + self.fn + 1e-100)\n",
    "\n",
    "    @property\n",
    "    def f1(self) -> float:\n",
    "        p = self.precision\n",
    "        r = self.recall\n",
    "        return 2 * ((p * r) / (p + r + 1e-100))\n",
    "\n",
    "    @property\n",
    "    def f5(self) -> float:\n",
    "        beta = 5\n",
    "        p = self.precision\n",
    "        r = self.recall\n",
    "\n",
    "        fbeta = (1+(beta**2))*p*r / ((beta**2)*p + r + 1e-100)\n",
    "        return fbeta\n",
    "\n",
    "    def to_dict(self) -> dict[str, float]:\n",
    "        return {\"p\": self.precision, \"r\": self.recall, \"f5\": self.f5}\n",
    "\n",
    "\n",
    "class MetricsComputerV2:\n",
    "    nlp = English()\n",
    "\n",
    "    def __init__(self, eval_ds: Dataset, label2id: dict, conf_thresh: float = 0.9) -> None:\n",
    "        self.ds = eval_ds.remove_columns(\"labels\").rename_columns({\"provided_labels\": \"labels\"})\n",
    "        self.gt_df = self.create_gt_df(self.ds)\n",
    "        self.label2id = label2id\n",
    "        self.confth = conf_thresh\n",
    "        self._search_gt()\n",
    "\n",
    "    def __call__(self, eval_preds: EvalPrediction) -> dict:\n",
    "        pred_df = self.create_pred_df(eval_preds.predictions)\n",
    "        return self.compute_metrics_from_df(self.gt_df, pred_df)\n",
    "\n",
    "    def _search_gt(self) -> None:\n",
    "        email_regex = re.compile(r'[\\w.+-]+@[\\w-]+\\.[\\w.-]+')\n",
    "        phone_num_regex = re.compile(r\"(\\(\\d{3}\\)\\d{3}\\-\\d{4}\\w*|\\d{3}\\.\\d{3}\\.\\d{4})\\s\")\n",
    "        self.emails = []\n",
    "        self.phone_nums = []\n",
    "\n",
    "        for _data in self.ds:\n",
    "            # email\n",
    "            for token_idx, token in enumerate(_data[\"tokens\"]):\n",
    "                if re.fullmatch(email_regex, token) is not None:\n",
    "                    self.emails.append(\n",
    "                        {\"document\": _data[\"document\"], \"token\": token_idx, \"label\": \"B-EMAIL\", \"token_str\": token}\n",
    "                    )\n",
    "            # phone number\n",
    "            matches = phone_num_regex.findall(_data[\"full_text\"])\n",
    "            if not matches:\n",
    "                continue\n",
    "            for match in matches:\n",
    "                target = [t.text for t in self.nlp.tokenizer(match)]\n",
    "                matched_spans = find_span(target, _data[\"tokens\"])\n",
    "            for matched_span in matched_spans:\n",
    "                for intermediate, token_idx in enumerate(matched_span):\n",
    "                    prefix = \"I\" if intermediate else \"B\"\n",
    "                    self.phone_nums.append(\n",
    "                        {\"document\": _data[\"document\"], \"token\": token_idx, \"label\": f\"{prefix}-PHONE_NUM\", \"token_str\": _data[\"tokens\"][token_idx]}\n",
    "                    )\n",
    "\n",
    "    @staticmethod\n",
    "    def create_gt_df(ds: Dataset):\n",
    "        gt = []\n",
    "        for row in ds:\n",
    "            for token_idx, (token, label) in enumerate(zip(row[\"tokens\"], row[\"labels\"])):\n",
    "                if label == \"O\":\n",
    "                    continue\n",
    "                gt.append(\n",
    "                    {\"document\": row[\"document\"], \"token\": token_idx, \"label\": label, \"token_str\": token}\n",
    "                )\n",
    "        gt_df = pd.DataFrame(gt)\n",
    "        gt_df[\"row_id\"] = gt_df.index\n",
    "\n",
    "        return gt_df\n",
    "\n",
    "    def create_pred_df(self, prediction: np.ndarray) -> pd.DataFrame:\n",
    "        ### construct prediction df\n",
    "        o_index = self.label2id[\"O\"]\n",
    "        preds = prediction.argmax(-1)\n",
    "        preds_without_o = prediction[:,:,:o_index].argmax(-1)\n",
    "        o_preds = prediction[:,:,o_index]\n",
    "        preds_final = np.where(o_preds < self.confth, preds_without_o , preds)\n",
    "\n",
    "        pairs = set()\n",
    "        processed = []\n",
    "\n",
    "        # Iterate over document\n",
    "        for p_doc, token_map, offsets, tokens, doc in zip(\n",
    "            preds_final, self.ds[\"token_map\"], self.ds[\"offset_mapping\"], self.ds[\"tokens\"], self.ds[\"document\"]\n",
    "        ):\n",
    "            # Iterate over sequence\n",
    "            for p_token, (start_idx, end_idx) in zip(p_doc, offsets):\n",
    "                label_pred = id2label[p_token]\n",
    "\n",
    "                if start_idx + end_idx == 0:\n",
    "                    # [CLS] token i.e. BOS\n",
    "                    continue\n",
    "\n",
    "                if token_map[start_idx] == -1:\n",
    "                    start_idx += 1\n",
    "\n",
    "                # ignore \"\\n\\n\"\n",
    "                while start_idx < len(token_map) and tokens[token_map[start_idx]].isspace():\n",
    "                    start_idx += 1\n",
    "\n",
    "                if start_idx >= len(token_map):\n",
    "                    break\n",
    "\n",
    "                token_id = token_map[start_idx]\n",
    "                pair = (doc, token_id)\n",
    "\n",
    "                # ignore \"O\", preds, phone number and  email\n",
    "                if label_pred in (\"O\", \"B-EMAIL\", \"B-PHONE_NUM\", \"I-PHONE_NUM\") or token_id == -1:\n",
    "                    continue\n",
    "\n",
    "                if pair in pairs:\n",
    "                    continue\n",
    "\n",
    "                processed.append(\n",
    "                    {\"document\": doc, \"token\": token_id, \"label\": label_pred, \"token_str\": tokens[token_id]}\n",
    "                )\n",
    "                pairs.add(pair)\n",
    "\n",
    "        pred_df = pd.DataFrame(processed + self.emails + self.phone_nums)\n",
    "        pred_df[\"row_id\"] = list(range(len(pred_df)))\n",
    "\n",
    "        return pred_df\n",
    "\n",
    "    def compute_metrics_from_df(self, gt_df, pred_df):\n",
    "        \"\"\"\n",
    "        Compute the LB metric (lb) and other auxiliary metrics\n",
    "        \"\"\"\n",
    "\n",
    "        references = {(row.document, row.token, row.label) for row in gt_df.itertuples()}\n",
    "        predictions = {(row.document, row.token, row.label) for row in pred_df.itertuples()}\n",
    "\n",
    "        score_per_type = defaultdict(PRFScore)\n",
    "        references = set(references)\n",
    "\n",
    "        for ex in predictions:\n",
    "            pred_type = ex[-1] # (document, token, label)\n",
    "            if pred_type != 'O':\n",
    "                pred_type = pred_type[2:] # avoid B- and I- prefix\n",
    "\n",
    "            if pred_type not in score_per_type:\n",
    "                score_per_type[pred_type] = PRFScore()\n",
    "\n",
    "            if ex in references:\n",
    "                score_per_type[pred_type].tp += 1\n",
    "                references.remove(ex)\n",
    "            else:\n",
    "                score_per_type[pred_type].fp += 1\n",
    "\n",
    "        for doc, tok, ref_type in references:\n",
    "            if ref_type != 'O':\n",
    "                ref_type = ref_type[2:] # avoid B- and I- prefix\n",
    "\n",
    "            if ref_type not in score_per_type:\n",
    "                score_per_type[ref_type] = PRFScore()\n",
    "            score_per_type[ref_type].fn += 1\n",
    "\n",
    "        totals = PRFScore()\n",
    "\n",
    "        for prf in score_per_type.values():\n",
    "            totals += prf\n",
    "\n",
    "        return {\n",
    "            \"precision\": totals.precision,\n",
    "            \"recall\": totals.recall,\n",
    "            \"f5\": totals.f5,\n",
    "            **{\n",
    "                f\"{v_k}-{k}\": v_v\n",
    "                for k in set([l[2:] for l in self.label2id.keys() if l!= 'O'])\n",
    "                for v_k, v_v in score_per_type[k].to_dict().items()\n",
    "            },\n",
    "        }"
   ]
  },
  {
   "cell_type": "markdown",
   "id": "87a7d8dc-6579-4678-a2ba-27d22e6aac00",
   "metadata": {},
   "source": [
    "## Model"
   ]
  },
  {
   "cell_type": "code",
   "execution_count": 13,
   "id": "1700da69-ff6a-4fb6-9901-aaf93d589b29",
   "metadata": {
    "scrolled": true,
    "tags": []
   },
   "outputs": [
    {
     "data": {
      "application/vnd.jupyter.widget-view+json": {
       "model_id": "c1d4158bf82e49a2b065c359a91cf2f0",
       "version_major": 2,
       "version_minor": 0
      },
      "text/plain": [
       "Downloading pytorch_model.bin:   0%|          | 0.00/833M [00:00<?, ?B/s]"
      ]
     },
     "metadata": {},
     "output_type": "display_data"
    },
    {
     "name": "stderr",
     "output_type": "stream",
     "text": [
      "Some weights of the model checkpoint at microsoft/deberta-v3-large were not used when initializing DebertaV2ForTokenClassification: ['lm_predictions.lm_head.dense.bias', 'lm_predictions.lm_head.bias', 'mask_predictions.dense.bias', 'lm_predictions.lm_head.LayerNorm.bias', 'mask_predictions.classifier.bias', 'lm_predictions.lm_head.dense.weight', 'mask_predictions.dense.weight', 'mask_predictions.classifier.weight', 'deberta.embeddings.position_embeddings.weight', 'mask_predictions.LayerNorm.weight', 'lm_predictions.lm_head.LayerNorm.weight', 'mask_predictions.LayerNorm.bias']\n",
      "- This IS expected if you are initializing DebertaV2ForTokenClassification from the checkpoint of a model trained on another task or with another architecture (e.g. initializing a BertForSequenceClassification model from a BertForPreTraining model).\n",
      "- This IS NOT expected if you are initializing DebertaV2ForTokenClassification from the checkpoint of a model that you expect to be exactly identical (initializing a BertForSequenceClassification model from a BertForSequenceClassification model).\n",
      "Some weights of DebertaV2ForTokenClassification were not initialized from the model checkpoint at microsoft/deberta-v3-large and are newly initialized: ['classifier.weight', 'classifier.bias']\n",
      "You should probably TRAIN this model on a down-stream task to be able to use it for predictions and inference.\n"
     ]
    }
   ],
   "source": [
    "class ModelInit:\n",
    "    def __init__(\n",
    "        self,\n",
    "        checkpoint: str,\n",
    "        id2label: dict,\n",
    "        label2id: dict,\n",
    "        freeze_embedding: bool,\n",
    "        freeze_layers: int,\n",
    "    ) -> None:\n",
    "        self.model = DebertaV2ForTokenClassification.from_pretrained(\n",
    "            checkpoint,\n",
    "            num_labels=len(id2label),\n",
    "            id2label=id2label,\n",
    "            label2id=label2id,\n",
    "            ignore_mismatched_sizes=True\n",
    "        )\n",
    "        for param in self.model.deberta.embeddings.parameters():\n",
    "            param.requires_grad = False if freeze_embedding else True\n",
    "        for layer in self.model.deberta.encoder.layer[:freeze_layers]:\n",
    "            for param in layer.parameters():\n",
    "                param.requires_grad = False\n",
    "        self.weight = copy.deepcopy(self.model.state_dict())\n",
    "\n",
    "    def __call__(self) -> DebertaV2ForTokenClassification:\n",
    "        self.model.load_state_dict(self.weight)\n",
    "        return self.model\n",
    "\n",
    "model_init = ModelInit(\n",
    "    TRAINING_MODEL_PATH,\n",
    "    id2label=id2label,\n",
    "    label2id=label2id,\n",
    "    freeze_embedding=FREEZE_EMBEDDING,\n",
    "    freeze_layers=FREEZE_LAYERS,\n",
    ")"
   ]
  },
  {
   "cell_type": "markdown",
   "id": "b74884fb-fc4d-4684-a79c-fdfecb64198a",
   "metadata": {},
   "source": [
    "## Split"
   ]
  },
  {
   "cell_type": "code",
   "execution_count": 14,
   "id": "c7eaea9c-c63a-4a77-932f-22ff25360923",
   "metadata": {
    "tags": []
   },
   "outputs": [],
   "source": [
    "# split according to document id\n",
    "folds = [\n",
    "    (\n",
    "        np.array([i for i, d in enumerate(ds[\"original\"][\"document\"]) if int(d) % N_SPLITS != s]),\n",
    "        np.array([i for i, d in enumerate(ds[\"original\"][\"document\"]) if int(d) % N_SPLITS == s])\n",
    "    )\n",
    "    for s in range(N_SPLITS)\n",
    "]\n",
    "\n",
    "negative_idxs = [i for i, labels in enumerate(ds[\"original\"][\"provided_labels\"]) if not any(np.array(labels) != \"O\")]\n",
    "exclude_indices = negative_idxs[int(len(negative_idxs) * NEGATIVE_RATIO):]"
   ]
  },
  {
   "cell_type": "markdown",
   "id": "12100606-72e2-4caa-bf10-495073e243c7",
   "metadata": {},
   "source": [
    "## SiFT"
   ]
  },
  {
   "cell_type": "code",
   "execution_count": 15,
   "id": "91280463-6107-427f-9fa6-9939de774c71",
   "metadata": {
    "tags": []
   },
   "outputs": [],
   "source": [
    "class PerturbationLayer(torch.nn.Module):\n",
    "    def __init__(self, hidden_size, learning_rate=1e-4, init_perturbation=1e-2):\n",
    "        super().__init__()\n",
    "        self.learning_rate = learning_rate\n",
    "        self.init_perturbation = init_perturbation\n",
    "        self.delta = None\n",
    "        self.LayerNorm = torch.nn.LayerNorm(hidden_size, 1e-7, elementwise_affine=False)\n",
    "        self.adversarial_mode = False\n",
    "\n",
    "    def adversarial_(self, adversarial=True):\n",
    "        self.adversarial_mode = adversarial\n",
    "        if not adversarial:\n",
    "            self.delta = None\n",
    "\n",
    "    def forward(self, input):\n",
    "        if not self.adversarial_mode:\n",
    "            self.input = self.LayerNorm(input)\n",
    "            return self.input\n",
    "        else:\n",
    "            if self.delta is None:\n",
    "                self.update_delta(requires_grad=True)\n",
    "            return self.perturbated_input\n",
    "\n",
    "    def update_delta(self, requires_grad=False):\n",
    "        if not self.adversarial_mode:\n",
    "            return True\n",
    "        if self.delta is None:\n",
    "            delta = torch.clamp(\n",
    "                self.input.new(self.input.size()).normal_(0, self.init_perturbation).float(),\n",
    "                -2 * self.init_perturbation,\n",
    "                2 * self.init_perturbation,\n",
    "            )\n",
    "        else:\n",
    "            grad = self.delta.grad\n",
    "            self.delta.grad = None\n",
    "            delta = self.delta\n",
    "            norm = grad.norm()\n",
    "            if torch.isnan(norm) or torch.isinf(norm):\n",
    "                return False\n",
    "            eps = self.learning_rate\n",
    "            with torch.no_grad():\n",
    "                delta = delta + eps * grad / (1e-6 + grad.abs().max(-1, keepdim=True)[0])\n",
    "        self.delta = delta.float().detach().requires_grad_(requires_grad)\n",
    "        self.perturbated_input = (self.input.to(delta).detach() + self.delta).to(self.input)\n",
    "        return True\n",
    "\n",
    "\n",
    "def hook_sift_layer(\n",
    "    model, hidden_size, learning_rate=1e-4, init_perturbation=1e-2, target_module=\"embeddings.LayerNorm\"\n",
    "):\n",
    "    \"\"\"\n",
    "    Hook the sift perturbation layer to and existing model. With this method, you can apply adversarial training\n",
    "    without changing the existing model implementation.\n",
    "\n",
    "    Params:\n",
    "      `model`: The model instance to apply adversarial training\n",
    "      `hidden_size`: The dimmension size of the perturbated embedding\n",
    "      `learning_rate`: The learning rate to update the perturbation\n",
    "      `init_perturbation`: The initial range of perturbation\n",
    "      `target_module`: The module to apply perturbation. It can be the name of the sub-module of the model or the sub-module instance.\n",
    "      The perturbation layer will be inserted before the sub-module.\n",
    "\n",
    "    Outputs:\n",
    "      The perturbation layers.\n",
    "\n",
    "    \"\"\"\n",
    "\n",
    "    if isinstance(target_module, str):\n",
    "        _modules = [k for n, k in model.named_modules() if target_module in n]\n",
    "    else:\n",
    "        assert isinstance(\n",
    "            target_module, torch.nn.Module\n",
    "        ), f\"{type(target_module)} is not an instance of torch.nn.Module\"\n",
    "        _modules = [target_module]\n",
    "    adv_modules = []\n",
    "    for m in _modules:\n",
    "        adv = PerturbationLayer(hidden_size, learning_rate, init_perturbation)\n",
    "\n",
    "        def adv_hook(module, inputs):\n",
    "            return adv(inputs[0])\n",
    "\n",
    "        for h in list(m._forward_pre_hooks.keys()):\n",
    "            if m._forward_pre_hooks[h].__name__ == \"adv_hook\":\n",
    "                del m._forward_pre_hooks[h]\n",
    "        m.register_forward_pre_hook(adv_hook)\n",
    "        adv_modules.append(adv)\n",
    "    return adv_modules\n",
    "\n",
    "\n",
    "class AdversarialLearner:\n",
    "    \"\"\"Adversarial Learner\n",
    "    This class is the helper class for adversarial training.\n",
    "\n",
    "    Params:\n",
    "      `model`: The model instance to apply adversarial training\n",
    "      `perturbation_modules`: The sub modules in the model that will generate perturbations. If it's `None`,\n",
    "      the constructor will detect sub-modules of type `PerturbationLayer` in the model.\n",
    "\n",
    "    Example usage:\n",
    "    ```python\n",
    "    # Create DeBERTa model\n",
    "    adv_modules = hook_sift_layer(model, hidden_size=768)\n",
    "    adv = AdversarialLearner(model, adv_modules)\n",
    "    def logits_fn(model, *wargs, **kwargs):\n",
    "      logits,_ = model(*wargs, **kwargs)\n",
    "      return logits\n",
    "    logits,loss = model(**data)\n",
    "\n",
    "    loss = loss + adv.loss(logits, logits_fn, **data)\n",
    "    # Other steps is the same as general training.\n",
    "\n",
    "    ```\n",
    "\n",
    "    \"\"\"\n",
    "\n",
    "    def __init__(self, model, adv_modules=None):\n",
    "        if adv_modules is None:\n",
    "            self.adv_modules = [m for m in model.modules() if isinstance(m, PerturbationLayer)]\n",
    "        else:\n",
    "            self.adv_modules = adv_modules\n",
    "        self.parameters = [p for p in model.parameters()]\n",
    "        self.model = model\n",
    "\n",
    "    def loss(self, target, logits_fn, loss_fn=\"symmetric-kl\", *wargs, **kwargs):\n",
    "        \"\"\"\n",
    "        Calculate the adversarial loss based on the given logits fucntion and loss function.\n",
    "        Inputs:\n",
    "        `target`: the logits from original inputs.\n",
    "        `logits_fn`: the function that produces logits based on perturbated inputs. E.g.,\n",
    "        ```python\n",
    "        def logits_fn(model, *wargs, **kwargs):\n",
    "          logits = model(*wargs, **kwargs)\n",
    "          return logits\n",
    "        ```\n",
    "        `loss_fn`: the function that caclulate the loss from perturbated logits and target logits.\n",
    "          - If it's a string, it can be pre-built loss functions, i.e. kl, symmetric_kl, mse.\n",
    "          - If it's a function, it will be called to calculate the loss, the signature of the function will be,\n",
    "          ```python\n",
    "          def loss_fn(source_logits, target_logits):\n",
    "            # Calculate the loss\n",
    "            return loss\n",
    "          ```\n",
    "        `*wargs`: the positional arguments that will be passed to the model\n",
    "        `**kwargs`: the key-word arguments that will be passed to the model\n",
    "        Outputs:\n",
    "          The loss based on pertubated inputs.\n",
    "        \"\"\"\n",
    "        self.prepare()\n",
    "        if isinstance(loss_fn, str):\n",
    "            loss_fn = perturbation_loss_fns[loss_fn]\n",
    "        pert_logits = logits_fn(self.model, *wargs, **kwargs)\n",
    "        pert_loss = loss_fn(pert_logits, target.detach()).sum()\n",
    "        \n",
    "        if self.model.training:\n",
    "            pert_loss.backward()\n",
    "            for m in self.adv_modules:\n",
    "                ok = m.update_delta(True)\n",
    "\n",
    "        for r, p in zip(self.prev, self.parameters):\n",
    "            p.requires_grad_(r)\n",
    "        pert_logits = logits_fn(self.model, *wargs, **kwargs)\n",
    "        pert_loss = symmetric_kl(pert_logits, target)\n",
    "\n",
    "        self.cleanup()\n",
    "        return pert_loss.mean()\n",
    "\n",
    "    def prepare(self):\n",
    "        self.prev = [p.requires_grad for p in self.parameters]\n",
    "        for p in self.parameters:\n",
    "            p.requires_grad_(False)\n",
    "        for m in self.adv_modules:\n",
    "            m.adversarial_(True)\n",
    "\n",
    "    def cleanup(self):\n",
    "        for r, p in zip(self.prev, self.parameters):\n",
    "            p.requires_grad_(r)\n",
    "\n",
    "        for m in self.adv_modules:\n",
    "            m.adversarial_(False)\n",
    "\n",
    "\n",
    "def symmetric_kl(logits, target):\n",
    "    logit_stu = logits.view(-1, logits.size(-1)).float()\n",
    "    logit_tea = target.view(-1, target.size(-1)).float()\n",
    "    logprob_stu = F.log_softmax(logit_stu, -1)\n",
    "    logprob_tea = F.log_softmax(logit_tea, -1)\n",
    "    prob_tea = logprob_tea.exp().detach()\n",
    "    prob_stu = logprob_stu.exp().detach()\n",
    "    floss = (prob_tea * (-logprob_stu)).sum(-1)  # Cross Entropy\n",
    "    bloss = (prob_stu * (-logprob_tea)).sum(-1)  # Cross Entropy\n",
    "    loss = floss + bloss\n",
    "    return loss\n",
    "\n",
    "\n",
    "def kl(logits, target):\n",
    "    logit_stu = logits.view(-1, logits.size(-1)).float()\n",
    "    logit_tea = target.view(-1, target.size(-1)).float()\n",
    "    logprob_stu = F.log_softmax(logit_stu, -1)\n",
    "    logprob_tea = F.log_softmax(logit_tea.detach(), -1)\n",
    "    prob_tea = logprob_tea.exp()\n",
    "    loss = (prob_tea * (-logprob_stu)).sum(-1)  # Cross Entropy\n",
    "    return loss\n",
    "\n",
    "\n",
    "def mse(logits, target):\n",
    "    logit_stu = logits.view(-1, logits.size(-1)).float()\n",
    "    logit_tea = target.view(-1, target.size(-1)).float()\n",
    "    return F.mse_loss(logit_stu.view(-1), logit_tea.view(-1))\n",
    "\n",
    "\n",
    "perturbation_loss_fns = {\"symmetric-kl\": symmetric_kl, \"kl\": kl, \"mse\": mse}"
   ]
  },
  {
   "cell_type": "code",
   "execution_count": 16,
   "id": "270032b6-ba91-4de3-a151-8ef32a3300e1",
   "metadata": {},
   "outputs": [],
   "source": [
    "class CustomTrainer(Trainer):\n",
    "    def compute_loss(self, model, inputs, return_outputs=False):\n",
    "        if model.training:\n",
    "            adv_modules = hook_sift_layer(model, hidden_size=model.config.hidden_size)\n",
    "            adv = AdversarialLearner(model, adv_modules)\n",
    "            loss, outputs = super().compute_loss(model, inputs, True)\n",
    "            def logits_fn(model, *args, **kwargs):\n",
    "                out = model(*args, **kwargs)\n",
    "                return out.logits\n",
    "            loss = loss + adv.loss(outputs.logits, logits_fn, **inputs)\n",
    "            outputs[\"loss\"] = loss\n",
    "            return (loss, outputs) if return_outputs else loss\n",
    "        else:\n",
    "            return super().compute_loss(model, inputs, return_outputs)"
   ]
  },
  {
   "cell_type": "markdown",
   "id": "21887fb3-e3b1-497c-92ad-64def1bc9511",
   "metadata": {},
   "source": [
    "## Train"
   ]
  },
  {
   "cell_type": "markdown",
   "id": "9ec8b773-e2e8-454a-b21d-b9e5cdf9eb09",
   "metadata": {},
   "source": [
    "#### CV"
   ]
  },
  {
   "cell_type": "code",
   "execution_count": null,
   "id": "e2a3d40f-e75d-4b05-85b0-7e0d620ce36a",
   "metadata": {
    "scrolled": true,
    "tags": []
   },
   "outputs": [
    {
     "name": "stdout",
     "output_type": "stream",
     "text": [
      "         "
     ]
    },
    {
     "data": {
      "application/vnd.jupyter.widget-view+json": {
       "model_id": "3725e7cefa7948439c23bcfdfa39ba16",
       "version_major": 2,
       "version_minor": 0
      },
      "text/plain": [
       "#0:   0%|          | 0/590 [00:00<?, ?ex/s]"
      ]
     },
     "metadata": {},
     "output_type": "display_data"
    },
    {
     "name": "stdout",
     "output_type": "stream",
     "text": [
      " "
     ]
    },
    {
     "data": {
      "application/vnd.jupyter.widget-view+json": {
       "model_id": "01c7fcbcfa0d42798ad779390167f9af",
       "version_major": 2,
       "version_minor": 0
      },
      "text/plain": [
       "#1:   0%|          | 0/590 [00:00<?, ?ex/s]"
      ]
     },
     "metadata": {},
     "output_type": "display_data"
    },
    {
     "name": "stdout",
     "output_type": "stream",
     "text": [
      " "
     ]
    },
    {
     "data": {
      "application/vnd.jupyter.widget-view+json": {
       "model_id": "75419ff4d6114f24b38195f5c74de161",
       "version_major": 2,
       "version_minor": 0
      },
      "text/plain": [
       "#2:   0%|          | 0/589 [00:00<?, ?ex/s]"
      ]
     },
     "metadata": {},
     "output_type": "display_data"
    },
    {
     "name": "stdout",
     "output_type": "stream",
     "text": [
      " "
     ]
    },
    {
     "data": {
      "application/vnd.jupyter.widget-view+json": {
       "model_id": "467128de759747848b8d434918b718bb",
       "version_major": 2,
       "version_minor": 0
      },
      "text/plain": [
       "#3:   0%|          | 0/589 [00:00<?, ?ex/s]"
      ]
     },
     "metadata": {},
     "output_type": "display_data"
    },
    {
     "name": "stdout",
     "output_type": "stream",
     "text": [
      " "
     ]
    },
    {
     "data": {
      "application/vnd.jupyter.widget-view+json": {
       "model_id": "e78de0b90f904da3939f4863ba07753f",
       "version_major": 2,
       "version_minor": 0
      },
      "text/plain": [
       "#4:   0%|          | 0/589 [00:00<?, ?ex/s]"
      ]
     },
     "metadata": {},
     "output_type": "display_data"
    },
    {
     "name": "stdout",
     "output_type": "stream",
     "text": [
      " "
     ]
    },
    {
     "data": {
      "application/vnd.jupyter.widget-view+json": {
       "model_id": "bff7feebc42047398fd5e6ee7a55e20b",
       "version_major": 2,
       "version_minor": 0
      },
      "text/plain": [
       "#5:   0%|          | 0/589 [00:00<?, ?ex/s]"
      ]
     },
     "metadata": {},
     "output_type": "display_data"
    },
    {
     "name": "stdout",
     "output_type": "stream",
     "text": [
      " "
     ]
    },
    {
     "data": {
      "application/vnd.jupyter.widget-view+json": {
       "model_id": "99927e423b7746c48fd88234adb19675",
       "version_major": 2,
       "version_minor": 0
      },
      "text/plain": [
       "#6:   0%|          | 0/589 [00:00<?, ?ex/s]"
      ]
     },
     "metadata": {},
     "output_type": "display_data"
    },
    {
     "name": "stdout",
     "output_type": "stream",
     "text": [
      " "
     ]
    },
    {
     "data": {
      "application/vnd.jupyter.widget-view+json": {
       "model_id": "f63a092cb33d40a6abf49d4b5507c366",
       "version_major": 2,
       "version_minor": 0
      },
      "text/plain": [
       "#7:   0%|          | 0/589 [00:00<?, ?ex/s]"
      ]
     },
     "metadata": {},
     "output_type": "display_data"
    },
    {
     "name": "stdout",
     "output_type": "stream",
     "text": [
      "         "
     ]
    },
    {
     "data": {
      "application/vnd.jupyter.widget-view+json": {
       "model_id": "3a05eb37d08e4c4dadf4235b6241af90",
       "version_major": 2,
       "version_minor": 0
      },
      "text/plain": [
       "#0:   0%|          | 0/215 [00:00<?, ?ex/s]"
      ]
     },
     "metadata": {},
     "output_type": "display_data"
    },
    {
     "name": "stdout",
     "output_type": "stream",
     "text": [
      " "
     ]
    },
    {
     "data": {
      "application/vnd.jupyter.widget-view+json": {
       "model_id": "d49c0e7ad57e45e88913556089ee3766",
       "version_major": 2,
       "version_minor": 0
      },
      "text/plain": [
       "#1:   0%|          | 0/215 [00:00<?, ?ex/s]"
      ]
     },
     "metadata": {},
     "output_type": "display_data"
    },
    {
     "name": "stdout",
     "output_type": "stream",
     "text": [
      " "
     ]
    },
    {
     "data": {
      "application/vnd.jupyter.widget-view+json": {
       "model_id": "6bbe7127e073407ebb880d8bff8bfabe",
       "version_major": 2,
       "version_minor": 0
      },
      "text/plain": [
       "#2:   0%|          | 0/214 [00:00<?, ?ex/s]"
      ]
     },
     "metadata": {},
     "output_type": "display_data"
    },
    {
     "name": "stdout",
     "output_type": "stream",
     "text": [
      " "
     ]
    },
    {
     "data": {
      "application/vnd.jupyter.widget-view+json": {
       "model_id": "444ee3cb22464d279b01f44b3a1a1946",
       "version_major": 2,
       "version_minor": 0
      },
      "text/plain": [
       "#3:   0%|          | 0/214 [00:00<?, ?ex/s]"
      ]
     },
     "metadata": {},
     "output_type": "display_data"
    },
    {
     "name": "stdout",
     "output_type": "stream",
     "text": [
      " "
     ]
    },
    {
     "data": {
      "application/vnd.jupyter.widget-view+json": {
       "model_id": "0af8171f660643758cb9170a10a2b9c2",
       "version_major": 2,
       "version_minor": 0
      },
      "text/plain": [
       "#4:   0%|          | 0/214 [00:00<?, ?ex/s]"
      ]
     },
     "metadata": {},
     "output_type": "display_data"
    },
    {
     "name": "stdout",
     "output_type": "stream",
     "text": [
      " "
     ]
    },
    {
     "data": {
      "application/vnd.jupyter.widget-view+json": {
       "model_id": "00f4d6f8d2a2488595911716d02de596",
       "version_major": 2,
       "version_minor": 0
      },
      "text/plain": [
       "#5:   0%|          | 0/214 [00:00<?, ?ex/s]"
      ]
     },
     "metadata": {},
     "output_type": "display_data"
    },
    {
     "name": "stdout",
     "output_type": "stream",
     "text": [
      " "
     ]
    },
    {
     "data": {
      "application/vnd.jupyter.widget-view+json": {
       "model_id": "eb0dc730ef5f4ae48372ce614b5cff7d",
       "version_major": 2,
       "version_minor": 0
      },
      "text/plain": [
       "#6:   0%|          | 0/214 [00:00<?, ?ex/s]"
      ]
     },
     "metadata": {},
     "output_type": "display_data"
    },
    {
     "name": "stdout",
     "output_type": "stream",
     "text": [
      " "
     ]
    },
    {
     "data": {
      "application/vnd.jupyter.widget-view+json": {
       "model_id": "8debdb404218484196927de481b222b6",
       "version_major": 2,
       "version_minor": 0
      },
      "text/plain": [
       "#7:   0%|          | 0/214 [00:00<?, ?ex/s]"
      ]
     },
     "metadata": {},
     "output_type": "display_data"
    },
    {
     "name": "stderr",
     "output_type": "stream",
     "text": [
      "Using cuda_amp half precision backend\n",
      "The following columns in the training set don't have a corresponding argument in `DebertaV2ForTokenClassification.forward` and have been ignored: full_text, trailing_whitespace, token_map, document, provided_labels, tokens, length, offset_mapping. If full_text, trailing_whitespace, token_map, document, provided_labels, tokens, length, offset_mapping are not expected by `DebertaV2ForTokenClassification.forward`,  you can safely ignore this message.\n",
      "/usr/local/lib/python3.9/dist-packages/transformers/optimization.py:306: FutureWarning: This implementation of AdamW is deprecated and will be removed in a future version. Use the PyTorch implementation torch.optim.AdamW instead, or set `no_deprecation_warning=True` to disable this warning\n",
      "  warnings.warn(\n",
      "***** Running training *****\n",
      "  Num examples = 4714\n",
      "  Num Epochs = 3\n",
      "  Instantaneous batch size per device = 1\n",
      "  Total train batch size (w. parallel, distributed & accumulation) = 16\n",
      "  Gradient Accumulation steps = 16\n",
      "  Total optimization steps = 882\n",
      "Automatic Weights & Biases logging enabled, to disable set os.environ[\"WANDB_DISABLED\"] = \"true\"\n",
      "\u001b[34m\u001b[1mwandb\u001b[0m: Currently logged in as: \u001b[33memiz6413\u001b[0m. Use \u001b[1m`wandb login --relogin`\u001b[0m to force relogin\n"
     ]
    },
    {
     "data": {
      "text/html": [
       "wandb version 0.16.4 is available!  To upgrade, please run:\n",
       " $ pip install wandb --upgrade"
      ],
      "text/plain": [
       "<IPython.core.display.HTML object>"
      ]
     },
     "metadata": {},
     "output_type": "display_data"
    },
    {
     "data": {
      "text/html": [
       "Tracking run with wandb version 0.13.4"
      ],
      "text/plain": [
       "<IPython.core.display.HTML object>"
      ]
     },
     "metadata": {},
     "output_type": "display_data"
    },
    {
     "data": {
      "text/html": [
       "Run data is saved locally in <code>/notebooks/notebooks/wandb/run-20240318_060627-1c0zinne</code>"
      ],
      "text/plain": [
       "<IPython.core.display.HTML object>"
      ]
     },
     "metadata": {},
     "output_type": "display_data"
    },
    {
     "data": {
      "text/html": [
       "Syncing run <strong><a href=\"https://wandb.ai/emiz6413/PII/runs/1c0zinne\" target=\"_blank\">fold-1</a></strong> to <a href=\"https://wandb.ai/emiz6413/PII\" target=\"_blank\">Weights & Biases</a> (<a href=\"https://wandb.me/run\" target=\"_blank\">docs</a>)<br/>"
      ],
      "text/plain": [
       "<IPython.core.display.HTML object>"
      ]
     },
     "metadata": {},
     "output_type": "display_data"
    },
    {
     "data": {
      "text/html": [
       "\n",
       "    <div>\n",
       "      \n",
       "      <progress value='882' max='882' style='width:300px; height:20px; vertical-align: middle;'></progress>\n",
       "      [882/882 3:01:07, Epoch 2/3]\n",
       "    </div>\n",
       "    <table border=\"1\" class=\"dataframe\">\n",
       "  <thead>\n",
       " <tr style=\"text-align: left;\">\n",
       "      <th>Step</th>\n",
       "      <th>Training Loss</th>\n",
       "      <th>Validation Loss</th>\n",
       "      <th>Precision</th>\n",
       "      <th>Recall</th>\n",
       "      <th>F5</th>\n",
       "      <th>P-url Personal</th>\n",
       "      <th>R-url Personal</th>\n",
       "      <th>F5-url Personal</th>\n",
       "      <th>P-email</th>\n",
       "      <th>R-email</th>\n",
       "      <th>F5-email</th>\n",
       "      <th>P-name Student</th>\n",
       "      <th>R-name Student</th>\n",
       "      <th>F5-name Student</th>\n",
       "      <th>P-street Address</th>\n",
       "      <th>R-street Address</th>\n",
       "      <th>F5-street Address</th>\n",
       "      <th>P-id Num</th>\n",
       "      <th>R-id Num</th>\n",
       "      <th>F5-id Num</th>\n",
       "      <th>P-phone Num</th>\n",
       "      <th>R-phone Num</th>\n",
       "      <th>F5-phone Num</th>\n",
       "      <th>P-username</th>\n",
       "      <th>R-username</th>\n",
       "      <th>F5-username</th>\n",
       "    </tr>\n",
       "  </thead>\n",
       "  <tbody>\n",
       "    <tr>\n",
       "      <td>100</td>\n",
       "      <td>0.126100</td>\n",
       "      <td>0.003792</td>\n",
       "      <td>0.535742</td>\n",
       "      <td>0.957418</td>\n",
       "      <td>0.929286</td>\n",
       "      <td>0.452055</td>\n",
       "      <td>1.000000</td>\n",
       "      <td>0.955457</td>\n",
       "      <td>1.000000</td>\n",
       "      <td>1.000000</td>\n",
       "      <td>1.000000</td>\n",
       "      <td>0.540210</td>\n",
       "      <td>0.956656</td>\n",
       "      <td>0.929108</td>\n",
       "      <td>0.000000</td>\n",
       "      <td>0.000000</td>\n",
       "      <td>0.000000</td>\n",
       "      <td>0.545455</td>\n",
       "      <td>0.888889</td>\n",
       "      <td>0.867872</td>\n",
       "      <td>1.000000</td>\n",
       "      <td>1.000000</td>\n",
       "      <td>1.000000</td>\n",
       "      <td>0.000000</td>\n",
       "      <td>0.000000</td>\n",
       "      <td>0.000000</td>\n",
       "    </tr>\n",
       "    <tr>\n",
       "      <td>150</td>\n",
       "      <td>0.080400</td>\n",
       "      <td>0.001691</td>\n",
       "      <td>0.802938</td>\n",
       "      <td>0.901099</td>\n",
       "      <td>0.896882</td>\n",
       "      <td>0.634615</td>\n",
       "      <td>1.000000</td>\n",
       "      <td>0.978335</td>\n",
       "      <td>1.000000</td>\n",
       "      <td>1.000000</td>\n",
       "      <td>1.000000</td>\n",
       "      <td>0.841570</td>\n",
       "      <td>0.896285</td>\n",
       "      <td>0.894049</td>\n",
       "      <td>0.000000</td>\n",
       "      <td>0.000000</td>\n",
       "      <td>0.000000</td>\n",
       "      <td>0.666667</td>\n",
       "      <td>0.814815</td>\n",
       "      <td>0.807910</td>\n",
       "      <td>1.000000</td>\n",
       "      <td>1.000000</td>\n",
       "      <td>1.000000</td>\n",
       "      <td>0.000000</td>\n",
       "      <td>0.000000</td>\n",
       "      <td>0.000000</td>\n",
       "    </tr>\n",
       "    <tr>\n",
       "      <td>200</td>\n",
       "      <td>0.069800</td>\n",
       "      <td>0.001688</td>\n",
       "      <td>0.768018</td>\n",
       "      <td>0.936813</td>\n",
       "      <td>0.928961</td>\n",
       "      <td>0.848485</td>\n",
       "      <td>0.848485</td>\n",
       "      <td>0.848485</td>\n",
       "      <td>1.000000</td>\n",
       "      <td>1.000000</td>\n",
       "      <td>1.000000</td>\n",
       "      <td>0.768262</td>\n",
       "      <td>0.944272</td>\n",
       "      <td>0.936025</td>\n",
       "      <td>0.000000</td>\n",
       "      <td>0.000000</td>\n",
       "      <td>0.000000</td>\n",
       "      <td>0.611111</td>\n",
       "      <td>0.814815</td>\n",
       "      <td>0.804501</td>\n",
       "      <td>1.000000</td>\n",
       "      <td>1.000000</td>\n",
       "      <td>1.000000</td>\n",
       "      <td>0.000000</td>\n",
       "      <td>0.000000</td>\n",
       "      <td>0.000000</td>\n",
       "    </tr>\n",
       "    <tr>\n",
       "      <td>250</td>\n",
       "      <td>0.058300</td>\n",
       "      <td>0.001239</td>\n",
       "      <td>0.913169</td>\n",
       "      <td>0.866758</td>\n",
       "      <td>0.868456</td>\n",
       "      <td>0.750000</td>\n",
       "      <td>0.909091</td>\n",
       "      <td>0.901734</td>\n",
       "      <td>1.000000</td>\n",
       "      <td>1.000000</td>\n",
       "      <td>1.000000</td>\n",
       "      <td>0.929766</td>\n",
       "      <td>0.860681</td>\n",
       "      <td>0.863148</td>\n",
       "      <td>0.000000</td>\n",
       "      <td>0.000000</td>\n",
       "      <td>0.000000</td>\n",
       "      <td>0.766667</td>\n",
       "      <td>0.851852</td>\n",
       "      <td>0.848227</td>\n",
       "      <td>1.000000</td>\n",
       "      <td>1.000000</td>\n",
       "      <td>1.000000</td>\n",
       "      <td>0.000000</td>\n",
       "      <td>0.000000</td>\n",
       "      <td>0.000000</td>\n",
       "    </tr>\n",
       "    <tr>\n",
       "      <td>300</td>\n",
       "      <td>0.067100</td>\n",
       "      <td>0.001185</td>\n",
       "      <td>0.875171</td>\n",
       "      <td>0.876374</td>\n",
       "      <td>0.876327</td>\n",
       "      <td>0.673469</td>\n",
       "      <td>1.000000</td>\n",
       "      <td>0.981693</td>\n",
       "      <td>1.000000</td>\n",
       "      <td>1.000000</td>\n",
       "      <td>1.000000</td>\n",
       "      <td>0.903226</td>\n",
       "      <td>0.866873</td>\n",
       "      <td>0.868217</td>\n",
       "      <td>0.000000</td>\n",
       "      <td>0.000000</td>\n",
       "      <td>0.000000</td>\n",
       "      <td>0.621622</td>\n",
       "      <td>0.851852</td>\n",
       "      <td>0.839888</td>\n",
       "      <td>1.000000</td>\n",
       "      <td>1.000000</td>\n",
       "      <td>1.000000</td>\n",
       "      <td>0.000000</td>\n",
       "      <td>0.000000</td>\n",
       "      <td>0.000000</td>\n",
       "    </tr>\n",
       "    <tr>\n",
       "      <td>350</td>\n",
       "      <td>0.062300</td>\n",
       "      <td>0.001890</td>\n",
       "      <td>0.851621</td>\n",
       "      <td>0.938187</td>\n",
       "      <td>0.934533</td>\n",
       "      <td>0.589286</td>\n",
       "      <td>1.000000</td>\n",
       "      <td>0.973893</td>\n",
       "      <td>1.000000</td>\n",
       "      <td>1.000000</td>\n",
       "      <td>1.000000</td>\n",
       "      <td>0.881924</td>\n",
       "      <td>0.936533</td>\n",
       "      <td>0.934307</td>\n",
       "      <td>0.000000</td>\n",
       "      <td>0.000000</td>\n",
       "      <td>0.000000</td>\n",
       "      <td>0.657143</td>\n",
       "      <td>0.851852</td>\n",
       "      <td>0.842254</td>\n",
       "      <td>1.000000</td>\n",
       "      <td>1.000000</td>\n",
       "      <td>1.000000</td>\n",
       "      <td>0.000000</td>\n",
       "      <td>0.000000</td>\n",
       "      <td>0.000000</td>\n",
       "    </tr>\n",
       "    <tr>\n",
       "      <td>400</td>\n",
       "      <td>0.061900</td>\n",
       "      <td>0.001289</td>\n",
       "      <td>0.796552</td>\n",
       "      <td>0.951923</td>\n",
       "      <td>0.944835</td>\n",
       "      <td>0.702128</td>\n",
       "      <td>1.000000</td>\n",
       "      <td>0.983945</td>\n",
       "      <td>1.000000</td>\n",
       "      <td>1.000000</td>\n",
       "      <td>1.000000</td>\n",
       "      <td>0.803129</td>\n",
       "      <td>0.953560</td>\n",
       "      <td>0.946740</td>\n",
       "      <td>0.000000</td>\n",
       "      <td>0.000000</td>\n",
       "      <td>0.000000</td>\n",
       "      <td>0.687500</td>\n",
       "      <td>0.814815</td>\n",
       "      <td>0.809052</td>\n",
       "      <td>1.000000</td>\n",
       "      <td>1.000000</td>\n",
       "      <td>1.000000</td>\n",
       "      <td>0.000000</td>\n",
       "      <td>0.000000</td>\n",
       "      <td>0.000000</td>\n",
       "    </tr>\n",
       "    <tr>\n",
       "      <td>450</td>\n",
       "      <td>0.061100</td>\n",
       "      <td>0.001316</td>\n",
       "      <td>0.818182</td>\n",
       "      <td>0.914835</td>\n",
       "      <td>0.910697</td>\n",
       "      <td>0.687500</td>\n",
       "      <td>1.000000</td>\n",
       "      <td>0.982818</td>\n",
       "      <td>1.000000</td>\n",
       "      <td>1.000000</td>\n",
       "      <td>1.000000</td>\n",
       "      <td>0.830056</td>\n",
       "      <td>0.914861</td>\n",
       "      <td>0.911280</td>\n",
       "      <td>0.000000</td>\n",
       "      <td>0.000000</td>\n",
       "      <td>0.000000</td>\n",
       "      <td>0.714286</td>\n",
       "      <td>0.740741</td>\n",
       "      <td>0.739687</td>\n",
       "      <td>1.000000</td>\n",
       "      <td>1.000000</td>\n",
       "      <td>1.000000</td>\n",
       "      <td>0.000000</td>\n",
       "      <td>0.000000</td>\n",
       "      <td>0.000000</td>\n",
       "    </tr>\n",
       "    <tr>\n",
       "      <td>500</td>\n",
       "      <td>0.058200</td>\n",
       "      <td>0.000992</td>\n",
       "      <td>0.854246</td>\n",
       "      <td>0.925824</td>\n",
       "      <td>0.922850</td>\n",
       "      <td>0.761905</td>\n",
       "      <td>0.969697</td>\n",
       "      <td>0.959631</td>\n",
       "      <td>1.000000</td>\n",
       "      <td>1.000000</td>\n",
       "      <td>1.000000</td>\n",
       "      <td>0.862717</td>\n",
       "      <td>0.924149</td>\n",
       "      <td>0.921625</td>\n",
       "      <td>0.000000</td>\n",
       "      <td>0.000000</td>\n",
       "      <td>0.000000</td>\n",
       "      <td>0.766667</td>\n",
       "      <td>0.851852</td>\n",
       "      <td>0.848227</td>\n",
       "      <td>1.000000</td>\n",
       "      <td>1.000000</td>\n",
       "      <td>1.000000</td>\n",
       "      <td>0.000000</td>\n",
       "      <td>0.000000</td>\n",
       "      <td>0.000000</td>\n",
       "    </tr>\n",
       "    <tr>\n",
       "      <td>550</td>\n",
       "      <td>0.055500</td>\n",
       "      <td>0.000997</td>\n",
       "      <td>0.771930</td>\n",
       "      <td>0.967033</td>\n",
       "      <td>0.957723</td>\n",
       "      <td>0.878788</td>\n",
       "      <td>0.878788</td>\n",
       "      <td>0.878788</td>\n",
       "      <td>1.000000</td>\n",
       "      <td>1.000000</td>\n",
       "      <td>1.000000</td>\n",
       "      <td>0.772059</td>\n",
       "      <td>0.975232</td>\n",
       "      <td>0.965460</td>\n",
       "      <td>0.000000</td>\n",
       "      <td>0.000000</td>\n",
       "      <td>0.000000</td>\n",
       "      <td>0.589744</td>\n",
       "      <td>0.851852</td>\n",
       "      <td>0.837535</td>\n",
       "      <td>1.000000</td>\n",
       "      <td>1.000000</td>\n",
       "      <td>1.000000</td>\n",
       "      <td>0.000000</td>\n",
       "      <td>0.000000</td>\n",
       "      <td>0.000000</td>\n",
       "    </tr>\n",
       "    <tr>\n",
       "      <td>600</td>\n",
       "      <td>0.055400</td>\n",
       "      <td>0.000935</td>\n",
       "      <td>0.862155</td>\n",
       "      <td>0.945055</td>\n",
       "      <td>0.941573</td>\n",
       "      <td>0.733333</td>\n",
       "      <td>1.000000</td>\n",
       "      <td>0.986207</td>\n",
       "      <td>1.000000</td>\n",
       "      <td>1.000000</td>\n",
       "      <td>1.000000</td>\n",
       "      <td>0.878788</td>\n",
       "      <td>0.942724</td>\n",
       "      <td>0.940094</td>\n",
       "      <td>0.000000</td>\n",
       "      <td>0.000000</td>\n",
       "      <td>0.000000</td>\n",
       "      <td>0.648649</td>\n",
       "      <td>0.888889</td>\n",
       "      <td>0.876404</td>\n",
       "      <td>1.000000</td>\n",
       "      <td>1.000000</td>\n",
       "      <td>1.000000</td>\n",
       "      <td>0.000000</td>\n",
       "      <td>0.000000</td>\n",
       "      <td>0.000000</td>\n",
       "    </tr>\n",
       "    <tr>\n",
       "      <td>650</td>\n",
       "      <td>0.060100</td>\n",
       "      <td>0.001096</td>\n",
       "      <td>0.848039</td>\n",
       "      <td>0.950549</td>\n",
       "      <td>0.946151</td>\n",
       "      <td>0.702128</td>\n",
       "      <td>1.000000</td>\n",
       "      <td>0.983945</td>\n",
       "      <td>1.000000</td>\n",
       "      <td>1.000000</td>\n",
       "      <td>1.000000</td>\n",
       "      <td>0.858939</td>\n",
       "      <td>0.952012</td>\n",
       "      <td>0.948061</td>\n",
       "      <td>0.000000</td>\n",
       "      <td>0.000000</td>\n",
       "      <td>0.000000</td>\n",
       "      <td>0.758621</td>\n",
       "      <td>0.814815</td>\n",
       "      <td>0.812500</td>\n",
       "      <td>1.000000</td>\n",
       "      <td>1.000000</td>\n",
       "      <td>1.000000</td>\n",
       "      <td>0.000000</td>\n",
       "      <td>0.000000</td>\n",
       "      <td>0.000000</td>\n",
       "    </tr>\n",
       "    <tr>\n",
       "      <td>700</td>\n",
       "      <td>0.054900</td>\n",
       "      <td>0.001182</td>\n",
       "      <td>0.781215</td>\n",
       "      <td>0.971154</td>\n",
       "      <td>0.962157</td>\n",
       "      <td>0.767442</td>\n",
       "      <td>1.000000</td>\n",
       "      <td>0.988479</td>\n",
       "      <td>1.000000</td>\n",
       "      <td>1.000000</td>\n",
       "      <td>1.000000</td>\n",
       "      <td>0.777503</td>\n",
       "      <td>0.973684</td>\n",
       "      <td>0.964326</td>\n",
       "      <td>0.000000</td>\n",
       "      <td>0.000000</td>\n",
       "      <td>0.000000</td>\n",
       "      <td>0.793103</td>\n",
       "      <td>0.851852</td>\n",
       "      <td>0.849432</td>\n",
       "      <td>1.000000</td>\n",
       "      <td>1.000000</td>\n",
       "      <td>1.000000</td>\n",
       "      <td>0.000000</td>\n",
       "      <td>0.000000</td>\n",
       "      <td>0.000000</td>\n",
       "    </tr>\n",
       "    <tr>\n",
       "      <td>750</td>\n",
       "      <td>0.051600</td>\n",
       "      <td>0.000972</td>\n",
       "      <td>0.849754</td>\n",
       "      <td>0.947802</td>\n",
       "      <td>0.943615</td>\n",
       "      <td>0.780488</td>\n",
       "      <td>0.969697</td>\n",
       "      <td>0.960739</td>\n",
       "      <td>1.000000</td>\n",
       "      <td>1.000000</td>\n",
       "      <td>1.000000</td>\n",
       "      <td>0.854167</td>\n",
       "      <td>0.952012</td>\n",
       "      <td>0.947836</td>\n",
       "      <td>0.000000</td>\n",
       "      <td>0.000000</td>\n",
       "      <td>0.000000</td>\n",
       "      <td>0.777778</td>\n",
       "      <td>0.777778</td>\n",
       "      <td>0.777778</td>\n",
       "      <td>1.000000</td>\n",
       "      <td>1.000000</td>\n",
       "      <td>1.000000</td>\n",
       "      <td>0.000000</td>\n",
       "      <td>0.000000</td>\n",
       "      <td>0.000000</td>\n",
       "    </tr>\n",
       "    <tr>\n",
       "      <td>800</td>\n",
       "      <td>0.056600</td>\n",
       "      <td>0.000987</td>\n",
       "      <td>0.841657</td>\n",
       "      <td>0.949176</td>\n",
       "      <td>0.944535</td>\n",
       "      <td>0.780488</td>\n",
       "      <td>0.969697</td>\n",
       "      <td>0.960739</td>\n",
       "      <td>1.000000</td>\n",
       "      <td>1.000000</td>\n",
       "      <td>1.000000</td>\n",
       "      <td>0.844993</td>\n",
       "      <td>0.953560</td>\n",
       "      <td>0.948871</td>\n",
       "      <td>0.000000</td>\n",
       "      <td>0.000000</td>\n",
       "      <td>0.000000</td>\n",
       "      <td>0.777778</td>\n",
       "      <td>0.777778</td>\n",
       "      <td>0.777778</td>\n",
       "      <td>1.000000</td>\n",
       "      <td>1.000000</td>\n",
       "      <td>1.000000</td>\n",
       "      <td>0.000000</td>\n",
       "      <td>0.000000</td>\n",
       "      <td>0.000000</td>\n",
       "    </tr>\n",
       "    <tr>\n",
       "      <td>850</td>\n",
       "      <td>0.062100</td>\n",
       "      <td>0.001014</td>\n",
       "      <td>0.841657</td>\n",
       "      <td>0.949176</td>\n",
       "      <td>0.944535</td>\n",
       "      <td>0.767442</td>\n",
       "      <td>1.000000</td>\n",
       "      <td>0.988479</td>\n",
       "      <td>1.000000</td>\n",
       "      <td>1.000000</td>\n",
       "      <td>1.000000</td>\n",
       "      <td>0.845942</td>\n",
       "      <td>0.952012</td>\n",
       "      <td>0.947443</td>\n",
       "      <td>0.000000</td>\n",
       "      <td>0.000000</td>\n",
       "      <td>0.000000</td>\n",
       "      <td>0.777778</td>\n",
       "      <td>0.777778</td>\n",
       "      <td>0.777778</td>\n",
       "      <td>1.000000</td>\n",
       "      <td>1.000000</td>\n",
       "      <td>1.000000</td>\n",
       "      <td>0.000000</td>\n",
       "      <td>0.000000</td>\n",
       "      <td>0.000000</td>\n",
       "    </tr>\n",
       "  </tbody>\n",
       "</table><p>"
      ],
      "text/plain": [
       "<IPython.core.display.HTML object>"
      ]
     },
     "metadata": {},
     "output_type": "display_data"
    },
    {
     "name": "stderr",
     "output_type": "stream",
     "text": [
      "Saving model checkpoint to output/fold_1/checkpoint-50\n",
      "Configuration saved in output/fold_1/checkpoint-50/config.json\n",
      "Model weights saved in output/fold_1/checkpoint-50/pytorch_model.bin\n",
      "tokenizer config file saved in output/fold_1/checkpoint-50/tokenizer_config.json\n",
      "Special tokens file saved in output/fold_1/checkpoint-50/special_tokens_map.json\n",
      "Deleting older checkpoint [output/fold_1/checkpoint-100] due to args.save_total_limit\n",
      "The following columns in the evaluation set don't have a corresponding argument in `DebertaV2ForTokenClassification.forward` and have been ignored: full_text, trailing_whitespace, token_map, document, provided_labels, tokens, length, offset_mapping. If full_text, trailing_whitespace, token_map, document, provided_labels, tokens, length, offset_mapping are not expected by `DebertaV2ForTokenClassification.forward`,  you can safely ignore this message.\n",
      "***** Running Evaluation *****\n",
      "  Num examples = 1714\n",
      "  Batch size = 8\n",
      "Saving model checkpoint to output/fold_1/checkpoint-100\n",
      "Configuration saved in output/fold_1/checkpoint-100/config.json\n",
      "Model weights saved in output/fold_1/checkpoint-100/pytorch_model.bin\n",
      "tokenizer config file saved in output/fold_1/checkpoint-100/tokenizer_config.json\n",
      "Special tokens file saved in output/fold_1/checkpoint-100/special_tokens_map.json\n",
      "Deleting older checkpoint [output/fold_1/checkpoint-50] due to args.save_total_limit\n",
      "The following columns in the evaluation set don't have a corresponding argument in `DebertaV2ForTokenClassification.forward` and have been ignored: full_text, trailing_whitespace, token_map, document, provided_labels, tokens, length, offset_mapping. If full_text, trailing_whitespace, token_map, document, provided_labels, tokens, length, offset_mapping are not expected by `DebertaV2ForTokenClassification.forward`,  you can safely ignore this message.\n",
      "***** Running Evaluation *****\n",
      "  Num examples = 1714\n",
      "  Batch size = 8\n",
      "Saving model checkpoint to output/fold_1/checkpoint-150\n",
      "Configuration saved in output/fold_1/checkpoint-150/config.json\n",
      "Model weights saved in output/fold_1/checkpoint-150/pytorch_model.bin\n",
      "tokenizer config file saved in output/fold_1/checkpoint-150/tokenizer_config.json\n",
      "Special tokens file saved in output/fold_1/checkpoint-150/special_tokens_map.json\n",
      "The following columns in the evaluation set don't have a corresponding argument in `DebertaV2ForTokenClassification.forward` and have been ignored: full_text, trailing_whitespace, token_map, document, provided_labels, tokens, length, offset_mapping. If full_text, trailing_whitespace, token_map, document, provided_labels, tokens, length, offset_mapping are not expected by `DebertaV2ForTokenClassification.forward`,  you can safely ignore this message.\n",
      "***** Running Evaluation *****\n",
      "  Num examples = 1714\n",
      "  Batch size = 8\n",
      "Saving model checkpoint to output/fold_1/checkpoint-200\n",
      "Configuration saved in output/fold_1/checkpoint-200/config.json\n",
      "Model weights saved in output/fold_1/checkpoint-200/pytorch_model.bin\n",
      "tokenizer config file saved in output/fold_1/checkpoint-200/tokenizer_config.json\n",
      "Special tokens file saved in output/fold_1/checkpoint-200/special_tokens_map.json\n",
      "Deleting older checkpoint [output/fold_1/checkpoint-150] due to args.save_total_limit\n",
      "The following columns in the evaluation set don't have a corresponding argument in `DebertaV2ForTokenClassification.forward` and have been ignored: full_text, trailing_whitespace, token_map, document, provided_labels, tokens, length, offset_mapping. If full_text, trailing_whitespace, token_map, document, provided_labels, tokens, length, offset_mapping are not expected by `DebertaV2ForTokenClassification.forward`,  you can safely ignore this message.\n",
      "***** Running Evaluation *****\n",
      "  Num examples = 1714\n",
      "  Batch size = 8\n",
      "Saving model checkpoint to output/fold_1/checkpoint-250\n",
      "Configuration saved in output/fold_1/checkpoint-250/config.json\n",
      "Model weights saved in output/fold_1/checkpoint-250/pytorch_model.bin\n",
      "tokenizer config file saved in output/fold_1/checkpoint-250/tokenizer_config.json\n",
      "Special tokens file saved in output/fold_1/checkpoint-250/special_tokens_map.json\n",
      "Deleting older checkpoint [output/fold_1/checkpoint-200] due to args.save_total_limit\n",
      "The following columns in the evaluation set don't have a corresponding argument in `DebertaV2ForTokenClassification.forward` and have been ignored: full_text, trailing_whitespace, token_map, document, provided_labels, tokens, length, offset_mapping. If full_text, trailing_whitespace, token_map, document, provided_labels, tokens, length, offset_mapping are not expected by `DebertaV2ForTokenClassification.forward`,  you can safely ignore this message.\n",
      "***** Running Evaluation *****\n",
      "  Num examples = 1714\n",
      "  Batch size = 8\n",
      "Saving model checkpoint to output/fold_1/checkpoint-300\n",
      "Configuration saved in output/fold_1/checkpoint-300/config.json\n",
      "Model weights saved in output/fold_1/checkpoint-300/pytorch_model.bin\n",
      "tokenizer config file saved in output/fold_1/checkpoint-300/tokenizer_config.json\n",
      "Special tokens file saved in output/fold_1/checkpoint-300/special_tokens_map.json\n",
      "Deleting older checkpoint [output/fold_1/checkpoint-250] due to args.save_total_limit\n",
      "The following columns in the evaluation set don't have a corresponding argument in `DebertaV2ForTokenClassification.forward` and have been ignored: full_text, trailing_whitespace, token_map, document, provided_labels, tokens, length, offset_mapping. If full_text, trailing_whitespace, token_map, document, provided_labels, tokens, length, offset_mapping are not expected by `DebertaV2ForTokenClassification.forward`,  you can safely ignore this message.\n",
      "***** Running Evaluation *****\n",
      "  Num examples = 1714\n",
      "  Batch size = 8\n",
      "Saving model checkpoint to output/fold_1/checkpoint-350\n",
      "Configuration saved in output/fold_1/checkpoint-350/config.json\n",
      "Model weights saved in output/fold_1/checkpoint-350/pytorch_model.bin\n",
      "tokenizer config file saved in output/fold_1/checkpoint-350/tokenizer_config.json\n",
      "Special tokens file saved in output/fold_1/checkpoint-350/special_tokens_map.json\n",
      "Deleting older checkpoint [output/fold_1/checkpoint-100] due to args.save_total_limit\n",
      "Deleting older checkpoint [output/fold_1/checkpoint-300] due to args.save_total_limit\n",
      "The following columns in the evaluation set don't have a corresponding argument in `DebertaV2ForTokenClassification.forward` and have been ignored: full_text, trailing_whitespace, token_map, document, provided_labels, tokens, length, offset_mapping. If full_text, trailing_whitespace, token_map, document, provided_labels, tokens, length, offset_mapping are not expected by `DebertaV2ForTokenClassification.forward`,  you can safely ignore this message.\n",
      "***** Running Evaluation *****\n",
      "  Num examples = 1714\n",
      "  Batch size = 8\n",
      "Saving model checkpoint to output/fold_1/checkpoint-400\n",
      "Configuration saved in output/fold_1/checkpoint-400/config.json\n",
      "Model weights saved in output/fold_1/checkpoint-400/pytorch_model.bin\n",
      "tokenizer config file saved in output/fold_1/checkpoint-400/tokenizer_config.json\n",
      "Special tokens file saved in output/fold_1/checkpoint-400/special_tokens_map.json\n",
      "Deleting older checkpoint [output/fold_1/checkpoint-350] due to args.save_total_limit\n",
      "The following columns in the evaluation set don't have a corresponding argument in `DebertaV2ForTokenClassification.forward` and have been ignored: full_text, trailing_whitespace, token_map, document, provided_labels, tokens, length, offset_mapping. If full_text, trailing_whitespace, token_map, document, provided_labels, tokens, length, offset_mapping are not expected by `DebertaV2ForTokenClassification.forward`,  you can safely ignore this message.\n",
      "***** Running Evaluation *****\n",
      "  Num examples = 1714\n",
      "  Batch size = 8\n",
      "Saving model checkpoint to output/fold_1/checkpoint-450\n",
      "Configuration saved in output/fold_1/checkpoint-450/config.json\n",
      "Model weights saved in output/fold_1/checkpoint-450/pytorch_model.bin\n",
      "tokenizer config file saved in output/fold_1/checkpoint-450/tokenizer_config.json\n",
      "Special tokens file saved in output/fold_1/checkpoint-450/special_tokens_map.json\n",
      "The following columns in the evaluation set don't have a corresponding argument in `DebertaV2ForTokenClassification.forward` and have been ignored: full_text, trailing_whitespace, token_map, document, provided_labels, tokens, length, offset_mapping. If full_text, trailing_whitespace, token_map, document, provided_labels, tokens, length, offset_mapping are not expected by `DebertaV2ForTokenClassification.forward`,  you can safely ignore this message.\n",
      "***** Running Evaluation *****\n",
      "  Num examples = 1714\n",
      "  Batch size = 8\n",
      "Saving model checkpoint to output/fold_1/checkpoint-500\n",
      "Configuration saved in output/fold_1/checkpoint-500/config.json\n",
      "Model weights saved in output/fold_1/checkpoint-500/pytorch_model.bin\n",
      "tokenizer config file saved in output/fold_1/checkpoint-500/tokenizer_config.json\n",
      "Special tokens file saved in output/fold_1/checkpoint-500/special_tokens_map.json\n",
      "Deleting older checkpoint [output/fold_1/checkpoint-450] due to args.save_total_limit\n",
      "The following columns in the evaluation set don't have a corresponding argument in `DebertaV2ForTokenClassification.forward` and have been ignored: full_text, trailing_whitespace, token_map, document, provided_labels, tokens, length, offset_mapping. If full_text, trailing_whitespace, token_map, document, provided_labels, tokens, length, offset_mapping are not expected by `DebertaV2ForTokenClassification.forward`,  you can safely ignore this message.\n",
      "***** Running Evaluation *****\n",
      "  Num examples = 1714\n",
      "  Batch size = 8\n",
      "Saving model checkpoint to output/fold_1/checkpoint-550\n",
      "Configuration saved in output/fold_1/checkpoint-550/config.json\n",
      "Model weights saved in output/fold_1/checkpoint-550/pytorch_model.bin\n",
      "tokenizer config file saved in output/fold_1/checkpoint-550/tokenizer_config.json\n",
      "Special tokens file saved in output/fold_1/checkpoint-550/special_tokens_map.json\n",
      "Deleting older checkpoint [output/fold_1/checkpoint-400] due to args.save_total_limit\n",
      "Deleting older checkpoint [output/fold_1/checkpoint-500] due to args.save_total_limit\n",
      "The following columns in the evaluation set don't have a corresponding argument in `DebertaV2ForTokenClassification.forward` and have been ignored: full_text, trailing_whitespace, token_map, document, provided_labels, tokens, length, offset_mapping. If full_text, trailing_whitespace, token_map, document, provided_labels, tokens, length, offset_mapping are not expected by `DebertaV2ForTokenClassification.forward`,  you can safely ignore this message.\n",
      "***** Running Evaluation *****\n",
      "  Num examples = 1714\n",
      "  Batch size = 8\n",
      "Saving model checkpoint to output/fold_1/checkpoint-600\n",
      "Configuration saved in output/fold_1/checkpoint-600/config.json\n",
      "Model weights saved in output/fold_1/checkpoint-600/pytorch_model.bin\n",
      "tokenizer config file saved in output/fold_1/checkpoint-600/tokenizer_config.json\n",
      "Special tokens file saved in output/fold_1/checkpoint-600/special_tokens_map.json\n",
      "The following columns in the evaluation set don't have a corresponding argument in `DebertaV2ForTokenClassification.forward` and have been ignored: full_text, trailing_whitespace, token_map, document, provided_labels, tokens, length, offset_mapping. If full_text, trailing_whitespace, token_map, document, provided_labels, tokens, length, offset_mapping are not expected by `DebertaV2ForTokenClassification.forward`,  you can safely ignore this message.\n",
      "***** Running Evaluation *****\n",
      "  Num examples = 1714\n",
      "  Batch size = 8\n",
      "Saving model checkpoint to output/fold_1/checkpoint-650\n",
      "Configuration saved in output/fold_1/checkpoint-650/config.json\n",
      "Model weights saved in output/fold_1/checkpoint-650/pytorch_model.bin\n",
      "tokenizer config file saved in output/fold_1/checkpoint-650/tokenizer_config.json\n",
      "Special tokens file saved in output/fold_1/checkpoint-650/special_tokens_map.json\n",
      "Deleting older checkpoint [output/fold_1/checkpoint-600] due to args.save_total_limit\n",
      "The following columns in the evaluation set don't have a corresponding argument in `DebertaV2ForTokenClassification.forward` and have been ignored: full_text, trailing_whitespace, token_map, document, provided_labels, tokens, length, offset_mapping. If full_text, trailing_whitespace, token_map, document, provided_labels, tokens, length, offset_mapping are not expected by `DebertaV2ForTokenClassification.forward`,  you can safely ignore this message.\n",
      "***** Running Evaluation *****\n",
      "  Num examples = 1714\n",
      "  Batch size = 8\n",
      "Saving model checkpoint to output/fold_1/checkpoint-700\n",
      "Configuration saved in output/fold_1/checkpoint-700/config.json\n",
      "Model weights saved in output/fold_1/checkpoint-700/pytorch_model.bin\n",
      "tokenizer config file saved in output/fold_1/checkpoint-700/tokenizer_config.json\n",
      "Special tokens file saved in output/fold_1/checkpoint-700/special_tokens_map.json\n",
      "Deleting older checkpoint [output/fold_1/checkpoint-550] due to args.save_total_limit\n",
      "Deleting older checkpoint [output/fold_1/checkpoint-650] due to args.save_total_limit\n",
      "The following columns in the evaluation set don't have a corresponding argument in `DebertaV2ForTokenClassification.forward` and have been ignored: full_text, trailing_whitespace, token_map, document, provided_labels, tokens, length, offset_mapping. If full_text, trailing_whitespace, token_map, document, provided_labels, tokens, length, offset_mapping are not expected by `DebertaV2ForTokenClassification.forward`,  you can safely ignore this message.\n",
      "***** Running Evaluation *****\n",
      "  Num examples = 1714\n",
      "  Batch size = 8\n",
      "Saving model checkpoint to output/fold_1/checkpoint-750\n",
      "Configuration saved in output/fold_1/checkpoint-750/config.json\n",
      "Model weights saved in output/fold_1/checkpoint-750/pytorch_model.bin\n",
      "tokenizer config file saved in output/fold_1/checkpoint-750/tokenizer_config.json\n",
      "Special tokens file saved in output/fold_1/checkpoint-750/special_tokens_map.json\n",
      "The following columns in the evaluation set don't have a corresponding argument in `DebertaV2ForTokenClassification.forward` and have been ignored: full_text, trailing_whitespace, token_map, document, provided_labels, tokens, length, offset_mapping. If full_text, trailing_whitespace, token_map, document, provided_labels, tokens, length, offset_mapping are not expected by `DebertaV2ForTokenClassification.forward`,  you can safely ignore this message.\n",
      "***** Running Evaluation *****\n",
      "  Num examples = 1714\n",
      "  Batch size = 8\n",
      "Saving model checkpoint to output/fold_1/checkpoint-800\n",
      "Configuration saved in output/fold_1/checkpoint-800/config.json\n",
      "Model weights saved in output/fold_1/checkpoint-800/pytorch_model.bin\n",
      "tokenizer config file saved in output/fold_1/checkpoint-800/tokenizer_config.json\n",
      "Special tokens file saved in output/fold_1/checkpoint-800/special_tokens_map.json\n",
      "Deleting older checkpoint [output/fold_1/checkpoint-750] due to args.save_total_limit\n",
      "The following columns in the evaluation set don't have a corresponding argument in `DebertaV2ForTokenClassification.forward` and have been ignored: full_text, trailing_whitespace, token_map, document, provided_labels, tokens, length, offset_mapping. If full_text, trailing_whitespace, token_map, document, provided_labels, tokens, length, offset_mapping are not expected by `DebertaV2ForTokenClassification.forward`,  you can safely ignore this message.\n",
      "***** Running Evaluation *****\n",
      "  Num examples = 1714\n",
      "  Batch size = 8\n",
      "Saving model checkpoint to output/fold_1/checkpoint-850\n",
      "Configuration saved in output/fold_1/checkpoint-850/config.json\n",
      "Model weights saved in output/fold_1/checkpoint-850/pytorch_model.bin\n",
      "tokenizer config file saved in output/fold_1/checkpoint-850/tokenizer_config.json\n",
      "Special tokens file saved in output/fold_1/checkpoint-850/special_tokens_map.json\n",
      "Deleting older checkpoint [output/fold_1/checkpoint-800] due to args.save_total_limit\n",
      "\n",
      "\n",
      "Training completed. Do not forget to share your model on huggingface.co/models =)\n",
      "\n",
      "\n",
      "Loading best model from output/fold_1/checkpoint-700 (score: 0.9621565035331064).\n",
      "The following columns in the evaluation set don't have a corresponding argument in `DebertaV2ForTokenClassification.forward` and have been ignored: full_text, trailing_whitespace, token_map, document, provided_labels, tokens, length, offset_mapping. If full_text, trailing_whitespace, token_map, document, provided_labels, tokens, length, offset_mapping are not expected by `DebertaV2ForTokenClassification.forward`,  you can safely ignore this message.\n",
      "***** Running Evaluation *****\n",
      "  Num examples = 1714\n",
      "  Batch size = 8\n"
     ]
    },
    {
     "data": {
      "text/html": [
       "\n",
       "    <div>\n",
       "      \n",
       "      <progress value='215' max='215' style='width:300px; height:20px; vertical-align: middle;'></progress>\n",
       "      [215/215 02:53]\n",
       "    </div>\n",
       "    "
      ],
      "text/plain": [
       "<IPython.core.display.HTML object>"
      ]
     },
     "metadata": {},
     "output_type": "display_data"
    },
    {
     "data": {
      "text/html": [
       "Waiting for W&B process to finish... <strong style=\"color:green\">(success).</strong>"
      ],
      "text/plain": [
       "<IPython.core.display.HTML object>"
      ]
     },
     "metadata": {},
     "output_type": "display_data"
    },
    {
     "data": {
      "application/vnd.jupyter.widget-view+json": {
       "model_id": "f561cf96946348dd8a1336e3efe86f61",
       "version_major": 2,
       "version_minor": 0
      },
      "text/plain": [
       "VBox(children=(Label(value='0.001 MB of 0.001 MB uploaded (0.000 MB deduped)\\r'), FloatProgress(value=1.0, max…"
      ]
     },
     "metadata": {},
     "output_type": "display_data"
    },
    {
     "data": {
      "text/html": [
       "<style>\n",
       "    table.wandb td:nth-child(1) { padding: 0 10px; text-align: left ; width: auto;} td:nth-child(2) {text-align: left ; width: 100%}\n",
       "    .wandb-row { display: flex; flex-direction: row; flex-wrap: wrap; justify-content: flex-start; width: 100% }\n",
       "    .wandb-col { display: flex; flex-direction: column; flex-basis: 100%; flex: 1; padding: 10px; }\n",
       "    </style>\n",
       "<div class=\"wandb-row\"><div class=\"wandb-col\"><h3>Run history:</h3><br/><table class=\"wandb\"><tr><td>eval/f5</td><td>▆▃▆▁▂▆▇▄▅█▆▇█▇▇▇█</td></tr><tr><td>eval/f5-EMAIL</td><td>▁▁▁▁▁▁▁▁▁▁▁▁▁▁▁▁▁</td></tr><tr><td>eval/f5-ID_NUM</td><td>█▄▄▇▆▆▅▁▇▆█▅▇▃▃▃▇</td></tr><tr><td>eval/f5-NAME_STUDENT</td><td>▆▃▆▁▁▆▇▄▅█▆▇█▇▇▇█</td></tr><tr><td>eval/f5-PHONE_NUM</td><td>▁▁▁▁▁▁▁▁▁▁▁▁▁▁▁▁▁</td></tr><tr><td>eval/f5-STREET_ADDRESS</td><td>▁▁▁▁▁▁▁▁▁▁▁▁▁▁▁▁▁</td></tr><tr><td>eval/f5-URL_PERSONAL</td><td>▆▇▁▄█▇██▇▃███▇▇██</td></tr><tr><td>eval/f5-USERNAME</td><td>▁▁▁▁▁▁▁▁▁▁▁▁▁▁▁▁▁</td></tr><tr><td>eval/loss</td><td>█▃▃▂▂▃▂▂▁▁▁▁▂▁▁▁▂</td></tr><tr><td>eval/p-EMAIL</td><td>▁▁▁▁▁▁▁▁▁▁▁▁▁▁▁▁▁</td></tr><tr><td>eval/p-ID_NUM</td><td>▁▄▃▇▃▄▅▆▇▂▄▇█████</td></tr><tr><td>eval/p-NAME_STUDENT</td><td>▁▆▅██▇▆▆▇▅▇▇▅▇▆▆▅</td></tr><tr><td>eval/p-PHONE_NUM</td><td>▁▁▁▁▁▁▁▁▁▁▁▁▁▁▁▁▁</td></tr><tr><td>eval/p-STREET_ADDRESS</td><td>▁▁▁▁▁▁▁▁▁▁▁▁▁▁▁▁▁</td></tr><tr><td>eval/p-URL_PERSONAL</td><td>▁▄█▆▅▃▅▅▆█▆▅▆▆▆▆▆</td></tr><tr><td>eval/p-USERNAME</td><td>▁▁▁▁▁▁▁▁▁▁▁▁▁▁▁▁▁</td></tr><tr><td>eval/precision</td><td>▁▆▅█▇▇▆▆▇▅▇▇▆▇▇▇▆</td></tr><tr><td>eval/r-EMAIL</td><td>▁▁▁▁▁▁▁▁▁▁▁▁▁▁▁▁▁</td></tr><tr><td>eval/r-ID_NUM</td><td>█▅▅▆▆▆▅▁▆▆█▅▆▃▃▃▆</td></tr><tr><td>eval/r-NAME_STUDENT</td><td>▇▃▆▁▁▆▇▄▅█▆▇█▇▇▇█</td></tr><tr><td>eval/r-PHONE_NUM</td><td>▁▁▁▁▁▁▁▁▁▁▁▁▁▁▁▁▁</td></tr><tr><td>eval/r-STREET_ADDRESS</td><td>▁▁▁▁▁▁▁▁▁▁▁▁▁▁▁▁▁</td></tr><tr><td>eval/r-URL_PERSONAL</td><td>██▁▄████▇▂███▇▇██</td></tr><tr><td>eval/r-USERNAME</td><td>▁▁▁▁▁▁▁▁▁▁▁▁▁▁▁▁▁</td></tr><tr><td>eval/recall</td><td>▇▃▆▁▂▆▇▄▅█▆▇█▆▇▇█</td></tr><tr><td>eval/runtime</td><td>█▃▃▁▅▅▃▂▅▃▄▄▄▄▃▄▃</td></tr><tr><td>eval/samples_per_second</td><td>▁▆▆█▄▄▆▇▄▆▅▅▅▅▆▅▆</td></tr><tr><td>eval/steps_per_second</td><td>▁▆▆█▄▄▆▇▄▅▅▅▅▅▆▅▇</td></tr><tr><td>train/epoch</td><td>▁▁▁▂▂▂▂▂▃▃▃▃▃▃▄▄▄▄▄▅▅▅▅▅▅▆▆▆▆▆▆▇▇▇▇▇████</td></tr><tr><td>train/global_step</td><td>▁▁▁▂▂▂▂▂▃▃▃▃▃▃▄▄▄▄▄▅▅▅▅▅▅▆▆▆▆▆▆▇▇▇▇▇████</td></tr><tr><td>train/learning_rate</td><td>▂▃▅▆███▇▇▇▇▇▆▆▆▆▆▅▅▅▅▅▄▄▄▄▄▃▃▃▃▃▂▂▂▂▂▁▁▁</td></tr><tr><td>train/loss</td><td>█▃▁▁▁▁▁▁▁▁▁▁▁▁▁▁▁▁▁▁▁▁▁▁▁▁▁▁▁▁▁▁▁▁▁▁▁▁▁▁</td></tr><tr><td>train/total_flos</td><td>▁</td></tr><tr><td>train/train_loss</td><td>▁</td></tr><tr><td>train/train_runtime</td><td>▁</td></tr><tr><td>train/train_samples_per_second</td><td>▁</td></tr><tr><td>train/train_steps_per_second</td><td>▁</td></tr></table><br/></div><div class=\"wandb-col\"><h3>Run summary:</h3><br/><table class=\"wandb\"><tr><td>eval/f5</td><td>0.96216</td></tr><tr><td>eval/f5-EMAIL</td><td>1.0</td></tr><tr><td>eval/f5-ID_NUM</td><td>0.84943</td></tr><tr><td>eval/f5-NAME_STUDENT</td><td>0.96433</td></tr><tr><td>eval/f5-PHONE_NUM</td><td>1.0</td></tr><tr><td>eval/f5-STREET_ADDRESS</td><td>0.0</td></tr><tr><td>eval/f5-URL_PERSONAL</td><td>0.98848</td></tr><tr><td>eval/f5-USERNAME</td><td>0.0</td></tr><tr><td>eval/loss</td><td>0.00118</td></tr><tr><td>eval/p-EMAIL</td><td>1.0</td></tr><tr><td>eval/p-ID_NUM</td><td>0.7931</td></tr><tr><td>eval/p-NAME_STUDENT</td><td>0.7775</td></tr><tr><td>eval/p-PHONE_NUM</td><td>1.0</td></tr><tr><td>eval/p-STREET_ADDRESS</td><td>0.0</td></tr><tr><td>eval/p-URL_PERSONAL</td><td>0.76744</td></tr><tr><td>eval/p-USERNAME</td><td>0.0</td></tr><tr><td>eval/precision</td><td>0.78122</td></tr><tr><td>eval/r-EMAIL</td><td>1.0</td></tr><tr><td>eval/r-ID_NUM</td><td>0.85185</td></tr><tr><td>eval/r-NAME_STUDENT</td><td>0.97368</td></tr><tr><td>eval/r-PHONE_NUM</td><td>1.0</td></tr><tr><td>eval/r-STREET_ADDRESS</td><td>0.0</td></tr><tr><td>eval/r-URL_PERSONAL</td><td>1.0</td></tr><tr><td>eval/r-USERNAME</td><td>0.0</td></tr><tr><td>eval/recall</td><td>0.97115</td></tr><tr><td>eval/runtime</td><td>182.2594</td></tr><tr><td>eval/samples_per_second</td><td>9.404</td></tr><tr><td>eval/steps_per_second</td><td>1.18</td></tr><tr><td>train/epoch</td><td>3.0</td></tr><tr><td>train/global_step</td><td>882</td></tr><tr><td>train/learning_rate</td><td>0.0</td></tr><tr><td>train/loss</td><td>0.0503</td></tr><tr><td>train/total_flos</td><td>2.0183811016137696e+16</td></tr><tr><td>train/train_loss</td><td>0.2738</td></tr><tr><td>train/train_runtime</td><td>10878.2138</td></tr><tr><td>train/train_samples_per_second</td><td>1.3</td></tr><tr><td>train/train_steps_per_second</td><td>0.081</td></tr></table><br/></div></div>"
      ],
      "text/plain": [
       "<IPython.core.display.HTML object>"
      ]
     },
     "metadata": {},
     "output_type": "display_data"
    },
    {
     "data": {
      "text/html": [
       "Synced <strong style=\"color:#cdcd00\">fold-1</strong>: <a href=\"https://wandb.ai/emiz6413/PII/runs/1c0zinne\" target=\"_blank\">https://wandb.ai/emiz6413/PII/runs/1c0zinne</a><br/>Synced 5 W&B file(s), 0 media file(s), 0 artifact file(s) and 0 other file(s)"
      ],
      "text/plain": [
       "<IPython.core.display.HTML object>"
      ]
     },
     "metadata": {},
     "output_type": "display_data"
    },
    {
     "data": {
      "text/html": [
       "Find logs at: <code>./wandb/run-20240318_060627-1c0zinne/logs</code>"
      ],
      "text/plain": [
       "<IPython.core.display.HTML object>"
      ]
     },
     "metadata": {},
     "output_type": "display_data"
    },
    {
     "name": "stdout",
     "output_type": "stream",
     "text": [
      "         "
     ]
    },
    {
     "data": {
      "application/vnd.jupyter.widget-view+json": {
       "model_id": "91f95ec9948e4d9c846476bfa836741c",
       "version_major": 2,
       "version_minor": 0
      },
      "text/plain": [
       "#0:   0%|          | 0/592 [00:00<?, ?ex/s]"
      ]
     },
     "metadata": {},
     "output_type": "display_data"
    },
    {
     "name": "stdout",
     "output_type": "stream",
     "text": [
      " "
     ]
    },
    {
     "data": {
      "application/vnd.jupyter.widget-view+json": {
       "model_id": "0c3b564b7b464a43be242b7d7c942edc",
       "version_major": 2,
       "version_minor": 0
      },
      "text/plain": [
       "#1:   0%|          | 0/592 [00:00<?, ?ex/s]"
      ]
     },
     "metadata": {},
     "output_type": "display_data"
    },
    {
     "name": "stdout",
     "output_type": "stream",
     "text": [
      " "
     ]
    },
    {
     "data": {
      "application/vnd.jupyter.widget-view+json": {
       "model_id": "c7340e31c6c742e2b83487ca6298a0d9",
       "version_major": 2,
       "version_minor": 0
      },
      "text/plain": [
       "#2:   0%|          | 0/592 [00:00<?, ?ex/s]"
      ]
     },
     "metadata": {},
     "output_type": "display_data"
    },
    {
     "name": "stdout",
     "output_type": "stream",
     "text": [
      " "
     ]
    },
    {
     "data": {
      "application/vnd.jupyter.widget-view+json": {
       "model_id": "13e1d761b42c4e69ae91e98fea7ac944",
       "version_major": 2,
       "version_minor": 0
      },
      "text/plain": [
       "#3:   0%|          | 0/592 [00:00<?, ?ex/s]"
      ]
     },
     "metadata": {},
     "output_type": "display_data"
    },
    {
     "name": "stdout",
     "output_type": "stream",
     "text": [
      " "
     ]
    },
    {
     "data": {
      "application/vnd.jupyter.widget-view+json": {
       "model_id": "a17637fe639b42cfb7f4d1e489aa4507",
       "version_major": 2,
       "version_minor": 0
      },
      "text/plain": [
       "#4:   0%|          | 0/592 [00:00<?, ?ex/s]"
      ]
     },
     "metadata": {},
     "output_type": "display_data"
    },
    {
     "name": "stderr",
     "output_type": "stream",
     "text": [
      "IOPub message rate exceeded.\n",
      "The Jupyter server will temporarily stop sending output\n",
      "to the client in order to avoid crashing it.\n",
      "To change this limit, set the config variable\n",
      "`--ServerApp.iopub_msg_rate_limit`.\n",
      "\n",
      "Current values:\n",
      "ServerApp.iopub_msg_rate_limit=1000.0 (msgs/sec)\n",
      "ServerApp.rate_limit_window=3.0 (secs)\n",
      "\n"
     ]
    }
   ],
   "source": [
    "for fold_idx, (train_idx, eval_idx) in enumerate(folds):\n",
    "    args.run_name = f\"fold-{fold_idx}\"\n",
    "    args.output_dir = os.path.join(OUTPUT_DIR, f\"fold_{fold_idx}\")\n",
    "    if Path(args.output_dir).joinpath(\"eval_result.json\").exists():\n",
    "        continue\n",
    "    original_ds = ds[\"original\"].select([i for i in train_idx if i not in exclude_indices])\n",
    "    train_ds = concatenate_datasets([original_ds, ds[\"extra\"]])\n",
    "    train_ds = train_ds.map(train_encoder, num_proc=os.cpu_count())\n",
    "    eval_ds = ds[\"original\"].select(eval_idx)\n",
    "    eval_ds = eval_ds.map(eval_encoder, num_proc=os.cpu_count())\n",
    "    trainer = CustomTrainer(\n",
    "        args=args,\n",
    "        model_init=model_init,\n",
    "        train_dataset=train_ds,\n",
    "        eval_dataset=eval_ds,\n",
    "        tokenizer=tokenizer,\n",
    "        compute_metrics=MetricsComputerV2(eval_ds=eval_ds, label2id=label2id),\n",
    "        data_collator=DataCollatorForTokenClassification(tokenizer, pad_to_multiple_of=16),\n",
    "    )\n",
    "    trainer.train()\n",
    "    eval_res = trainer.evaluate(eval_dataset=eval_ds)\n",
    "    with open(os.path.join(args.output_dir, \"eval_result.json\"), \"w\") as f:\n",
    "        json.dump(eval_res, f)\n",
    "    del trainer\n",
    "    gc.collect()\n",
    "    torch.cuda.empty_cache()\n",
    "    wandb.alert(title=\"Run finished\", text=f\"{wandb.run.group} {args.run_name} f5={eval_res['eval_f5']:.3f}\")\n",
    "    wandb.finish()"
   ]
  },
  {
   "cell_type": "markdown",
   "id": "9a63b7bc-9eb2-4757-a8f0-f1ca2eb919a9",
   "metadata": {},
   "source": [
    "#### Log CV"
   ]
  },
  {
   "cell_type": "code",
   "execution_count": null,
   "id": "745e728f-c54b-432d-aa83-c5b96c1dd634",
   "metadata": {},
   "outputs": [],
   "source": [
    "# log cv result\n",
    "wandb.init(name=\"cv\")\n",
    "results = dict()\n",
    "for res_json_path in Path(OUTPUT_DIR).glob(\"fold*/eval_result.json\"):\n",
    "    fold = res_json_path.parent.name.split(\"_\")[-1]\n",
    "    with open(res_json_path, \"r\") as f:\n",
    "        res = json.load(f)\n",
    "        results[fold] = {k.replace(\"eval_\", \"\"): v for k, v in res.items()}\n",
    "results[\"cv\"] = {key: np.mean([r[key] for r in results.values()]) for key in results[\"0\"].keys()}\n",
    "table = wandb.Table(columns=[\"fold\"] + list(results[\"0\"].keys()))\n",
    "for f, res in results.items():\n",
    "    table.add_data(f, *[res[c] for c in table.columns if c != \"fold\"])\n",
    "wandb.log({\"eval_result\": table})\n",
    "wandb.finish()"
   ]
  },
  {
   "cell_type": "markdown",
   "id": "3af79fbd-6091-43d8-8db6-a8c24fe94a3b",
   "metadata": {},
   "source": [
    "#### Train with full data"
   ]
  },
  {
   "cell_type": "code",
   "execution_count": null,
   "id": "1fbd36d3-579a-4965-982b-00c2e1887c50",
   "metadata": {
    "scrolled": true,
    "tags": []
   },
   "outputs": [],
   "source": [
    "original_ds = ds[\"original\"].select([i for i in range(len(ds[\"original\"])) if i not in exclude_indices])\n",
    "train_ds = concatenate_datasets([original_ds, ds[\"extra\"]])\n",
    "train_ds = train_ds.map(train_encoder, num_proc=os.cpu_count())\n",
    "train_ds.set_transform(train_augmentation)\n",
    "args.evaluation_strategy = \"no\"\n",
    "args.save_strategy = \"no\"\n",
    "args.run_name = f\"all_data\"\n",
    "trainer = FocalLossTrainer(\n",
    "    args=args,\n",
    "    model_init=model_init,\n",
    "    train_dataset=train_ds,\n",
    "    tokenizer=tokenizer,\n",
    "    data_collator=DataCollatorForTokenClassification(tokenizer, pad_to_multiple_of=16),\n",
    ")\n",
    "trainer.train()\n",
    "trainer.save_model(os.path.join(OUTPUT_DIR, \"all\"))\n",
    "wandb.finish()"
   ]
  },
  {
   "cell_type": "code",
   "execution_count": null,
   "id": "0159a3d2-c25b-4d54-b017-64993c6f1c6b",
   "metadata": {},
   "outputs": [],
   "source": []
  }
 ],
 "metadata": {
  "kernelspec": {
   "display_name": "Python 3 (ipykernel)",
   "language": "python",
   "name": "python3"
  },
  "language_info": {
   "codemirror_mode": {
    "name": "ipython",
    "version": 3
   },
   "file_extension": ".py",
   "mimetype": "text/x-python",
   "name": "python",
   "nbconvert_exporter": "python",
   "pygments_lexer": "ipython3",
   "version": "3.9.16"
  }
 },
 "nbformat": 4,
 "nbformat_minor": 5
}
