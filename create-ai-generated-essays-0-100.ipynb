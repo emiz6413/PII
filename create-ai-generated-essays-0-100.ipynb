{
 "cells": [
  {
   "cell_type": "code",
   "execution_count": 1,
   "id": "76b58fb3",
   "metadata": {
    "execution": {
     "iopub.execute_input": "2024-03-12T02:27:32.234814Z",
     "iopub.status.busy": "2024-03-12T02:27:32.234143Z",
     "iopub.status.idle": "2024-03-12T02:27:46.212972Z",
     "shell.execute_reply": "2024-03-12T02:27:46.211454Z"
    },
    "papermill": {
     "duration": 13.990101,
     "end_time": "2024-03-12T02:27:46.215339",
     "exception": false,
     "start_time": "2024-03-12T02:27:32.225238",
     "status": "completed"
    },
    "tags": []
   },
   "outputs": [],
   "source": [
    "!pip install -q faker openai"
   ]
  },
  {
   "cell_type": "code",
   "execution_count": 2,
   "id": "e8413f62",
   "metadata": {
    "execution": {
     "iopub.execute_input": "2024-03-12T02:27:46.229977Z",
     "iopub.status.busy": "2024-03-12T02:27:46.229629Z",
     "iopub.status.idle": "2024-03-12T02:28:10.597235Z",
     "shell.execute_reply": "2024-03-12T02:28:10.595966Z"
    },
    "papermill": {
     "duration": 24.378003,
     "end_time": "2024-03-12T02:28:10.599796",
     "exception": false,
     "start_time": "2024-03-12T02:27:46.221793",
     "status": "completed"
    },
    "tags": []
   },
   "outputs": [
    {
     "name": "stderr",
     "output_type": "stream",
     "text": [
      "2024-03-12 02:27:55.463086: E external/local_xla/xla/stream_executor/cuda/cuda_dnn.cc:9261] Unable to register cuDNN factory: Attempting to register factory for plugin cuDNN when one has already been registered\n",
      "2024-03-12 02:27:55.463234: E external/local_xla/xla/stream_executor/cuda/cuda_fft.cc:607] Unable to register cuFFT factory: Attempting to register factory for plugin cuFFT when one has already been registered\n",
      "2024-03-12 02:27:55.604993: E external/local_xla/xla/stream_executor/cuda/cuda_blas.cc:1515] Unable to register cuBLAS factory: Attempting to register factory for plugin cuBLAS when one has already been registered\n"
     ]
    }
   ],
   "source": [
    "import sys\n",
    "import random\n",
    "import string\n",
    "import re \n",
    "import time\n",
    "import asyncio\n",
    "from functools import reduce\n",
    "from pathlib import Path\n",
    "\n",
    "import torch\n",
    "import pandas as pd\n",
    "import numpy as np\n",
    "import textwrap\n",
    "from openai import OpenAI, AsyncOpenAI\n",
    "from IPython.display import Markdown\n",
    "import matplotlib.pyplot as plt\n",
    "from kaggle_secrets import UserSecretsClient\n",
    "from transformers import BitsAndBytesConfig, AutoModelForCausalLM, AutoTokenizer, pipeline\n",
    "from tqdm.auto import tqdm\n",
    "from faker import Faker  #generates fake data\n",
    "from faker.providers import BaseProvider\n",
    "from jinja2 import Template\n",
    "from spacy.lang.en import English"
   ]
  },
  {
   "cell_type": "code",
   "execution_count": 3,
   "id": "d42dc233",
   "metadata": {
    "execution": {
     "iopub.execute_input": "2024-03-12T02:28:10.614280Z",
     "iopub.status.busy": "2024-03-12T02:28:10.613682Z",
     "iopub.status.idle": "2024-03-12T02:28:10.617779Z",
     "shell.execute_reply": "2024-03-12T02:28:10.616963Z"
    },
    "papermill": {
     "duration": 0.013925,
     "end_time": "2024-03-12T02:28:10.620189",
     "exception": false,
     "start_time": "2024-03-12T02:28:10.606264",
     "status": "completed"
    },
    "tags": []
   },
   "outputs": [],
   "source": [
    "N_GENERATE_ESSAY = 100\n",
    "MODEL = \"gpt-4-turbo-preview\""
   ]
  },
  {
   "cell_type": "code",
   "execution_count": 4,
   "id": "e3705eb1",
   "metadata": {
    "execution": {
     "iopub.execute_input": "2024-03-12T02:28:10.634855Z",
     "iopub.status.busy": "2024-03-12T02:28:10.634444Z",
     "iopub.status.idle": "2024-03-12T02:28:13.097880Z",
     "shell.execute_reply": "2024-03-12T02:28:13.095038Z"
    },
    "papermill": {
     "duration": 2.473689,
     "end_time": "2024-03-12T02:28:13.100447",
     "exception": false,
     "start_time": "2024-03-12T02:28:10.626758",
     "status": "completed"
    },
    "tags": []
   },
   "outputs": [
    {
     "data": {
      "text/plain": [
       "{'B-EMAIL',\n",
       " 'B-ID_NUM',\n",
       " 'B-NAME_STUDENT',\n",
       " 'B-PHONE_NUM',\n",
       " 'B-STREET_ADDRESS',\n",
       " 'B-URL_PERSONAL',\n",
       " 'B-USERNAME',\n",
       " 'I-ID_NUM',\n",
       " 'I-NAME_STUDENT',\n",
       " 'I-PHONE_NUM',\n",
       " 'I-STREET_ADDRESS',\n",
       " 'I-URL_PERSONAL',\n",
       " 'O'}"
      ]
     },
     "execution_count": 4,
     "metadata": {},
     "output_type": "execute_result"
    }
   ],
   "source": [
    "train_df = pd.read_json(\"/kaggle/input/pii-detection-removal-from-educational-data/train.json\")\n",
    "reduce(lambda i, j: i | j, [set(row[\"labels\"]) for _, row in train_df.iterrows()])"
   ]
  },
  {
   "cell_type": "code",
   "execution_count": 5,
   "id": "8dc01b39",
   "metadata": {
    "_kg_hide-input": true,
    "execution": {
     "iopub.execute_input": "2024-03-12T02:28:13.120258Z",
     "iopub.status.busy": "2024-03-12T02:28:13.119881Z",
     "iopub.status.idle": "2024-03-12T02:28:13.127271Z",
     "shell.execute_reply": "2024-03-12T02:28:13.125837Z"
    },
    "papermill": {
     "duration": 0.017298,
     "end_time": "2024-03-12T02:28:13.129177",
     "exception": false,
     "start_time": "2024-03-12T02:28:13.111879",
     "status": "completed"
    },
    "scrolled": true,
    "tags": []
   },
   "outputs": [],
   "source": [
    "def extract_real_words(label_name):\n",
    "    real_words = set()\n",
    "    for _, row in train_df.iterrows():\n",
    "        s = \"\"\n",
    "        for token, label, space in zip(row[\"tokens\"], row[\"labels\"], row[\"trailing_whitespace\"]):\n",
    "            if label not in (f\"B-{label_name}\", f\"I-{label_name}\"):\n",
    "                if s:\n",
    "                    real_words.add(s.strip())\n",
    "                    s = \"\"\n",
    "                continue\n",
    "            space = \" \" if space else \"\"\n",
    "            if label == f\"B-{label_name}\":\n",
    "                if s:\n",
    "                    real_words.add(s.strip())\n",
    "                s = token + space\n",
    "            else:\n",
    "                s += token + space\n",
    "        if s:\n",
    "            real_words.add(s.strip())\n",
    "    return real_words"
   ]
  },
  {
   "cell_type": "markdown",
   "id": "9641edd4",
   "metadata": {
    "papermill": {
     "duration": 0.006088,
     "end_time": "2024-03-12T02:28:13.141972",
     "exception": false,
     "start_time": "2024-03-12T02:28:13.135884",
     "status": "completed"
    },
    "tags": []
   },
   "source": [
    "#### UserID"
   ]
  },
  {
   "cell_type": "code",
   "execution_count": 6,
   "id": "1f68c347",
   "metadata": {
    "execution": {
     "iopub.execute_input": "2024-03-12T02:28:13.157749Z",
     "iopub.status.busy": "2024-03-12T02:28:13.157379Z",
     "iopub.status.idle": "2024-03-12T02:28:13.165306Z",
     "shell.execute_reply": "2024-03-12T02:28:13.164395Z"
    },
    "papermill": {
     "duration": 0.018961,
     "end_time": "2024-03-12T02:28:13.168412",
     "exception": false,
     "start_time": "2024-03-12T02:28:13.149451",
     "status": "completed"
    },
    "tags": []
   },
   "outputs": [],
   "source": [
    "class UserIdMixIn:\n",
    "    num_low: int = int(1e2)\n",
    "    num_high: int = int(1e12)\n",
    "    beta_a: float = 1.0\n",
    "    beta_b: float = 5.0\n",
    "    \n",
    "    @property\n",
    "    def pii_userid(self) -> str:\n",
    "        try:\n",
    "            return self._pii_userid\n",
    "        except AttributeError:\n",
    "            self._pii_userid = self._generate_pii_userid()\n",
    "            return self._pii_userid\n",
    "    \n",
    "    def _generate_pii_userid(self) -> str:\n",
    "        userid = str(np.random.randint(low=self.num_low, high=self.num_high))\n",
    "        # 0~10 following beta distribution\n",
    "        prefix_length = int(np.round(np.random.beta(self.beta_a, self.beta_b) * 10))\n",
    "        prefix = \"\"\n",
    "        for i in range(prefix_length):\n",
    "            prefix += random.choice(string.ascii_letters)\n",
    "        if prefix:\n",
    "            prefix += random.choice(\".:-_\")\n",
    "        return prefix + userid"
   ]
  },
  {
   "cell_type": "code",
   "execution_count": 7,
   "id": "de020037",
   "metadata": {
    "execution": {
     "iopub.execute_input": "2024-03-12T02:28:13.184039Z",
     "iopub.status.busy": "2024-03-12T02:28:13.183681Z",
     "iopub.status.idle": "2024-03-12T02:28:13.218507Z",
     "shell.execute_reply": "2024-03-12T02:28:13.217249Z"
    },
    "papermill": {
     "duration": 0.044654,
     "end_time": "2024-03-12T02:28:13.220848",
     "exception": false,
     "start_time": "2024-03-12T02:28:13.176194",
     "status": "completed"
    },
    "tags": []
   },
   "outputs": [],
   "source": [
    "class CustomFaker(Faker, UserIdMixIn):\n",
    "    ...\n",
    "    \n",
    "fake = CustomFaker(\"en_US\")"
   ]
  },
  {
   "cell_type": "code",
   "execution_count": 8,
   "id": "dc05a896",
   "metadata": {
    "execution": {
     "iopub.execute_input": "2024-03-12T02:28:13.235575Z",
     "iopub.status.busy": "2024-03-12T02:28:13.235232Z",
     "iopub.status.idle": "2024-03-12T02:28:15.158300Z",
     "shell.execute_reply": "2024-03-12T02:28:15.156374Z"
    },
    "papermill": {
     "duration": 1.933151,
     "end_time": "2024-03-12T02:28:15.160764",
     "exception": false,
     "start_time": "2024-03-12T02:28:13.227613",
     "status": "completed"
    },
    "scrolled": true,
    "tags": []
   },
   "outputs": [
    {
     "data": {
      "text/plain": [
       "{'014674070485',\n",
       " '027693',\n",
       " '034626995785',\n",
       " '046922558887',\n",
       " '047378465',\n",
       " '054176622314',\n",
       " '06EYD876',\n",
       " '132305666219',\n",
       " '141774671173',\n",
       " '143860010348',\n",
       " '159531167997',\n",
       " '163133980712',\n",
       " '167695383458',\n",
       " '172801513686',\n",
       " '183169291463',\n",
       " '186941941714',\n",
       " '188408534931',\n",
       " '208798413907',\n",
       " '264945858442',\n",
       " '276795361801',\n",
       " '320622779078',\n",
       " '342998677810',\n",
       " '347376430553',\n",
       " '35615904922',\n",
       " '369615882777',\n",
       " '409046248321',\n",
       " '493950392533',\n",
       " '51,00,23,0',\n",
       " '522233062166',\n",
       " '530670102508',\n",
       " '534516353860',\n",
       " '557349702179',\n",
       " '674915248960',\n",
       " '696135165639',\n",
       " '723847538279',\n",
       " '747051878431',\n",
       " '762035863358',\n",
       " '779875708882',\n",
       " '784372734211',\n",
       " '789323889085',\n",
       " '792389774673',\n",
       " '800306846075',\n",
       " '836172426340',\n",
       " '843756944804',\n",
       " '860632713425',\n",
       " '871483046449',\n",
       " '875673967537',\n",
       " '932353568953',\n",
       " '943063077874',\n",
       " '943995368223',\n",
       " '955487471144',\n",
       " '982645662261',\n",
       " 'DM:705244534902',\n",
       " 'Ei:556799175487',\n",
       " 'IV-8322',\n",
       " 'Iz.:999893751750',\n",
       " 'Kh:217952887271',\n",
       " 'Kh:360595695159',\n",
       " 'Kl.:838901042770',\n",
       " 'Un:705491035775',\n",
       " 'V69230',\n",
       " 'VZ:775Y6A5764',\n",
       " 'Vw.:403489591437',\n",
       " 'Weyhacy_7000693584',\n",
       " 'Z.S. 30407059',\n",
       " 'nMFtUVxSUI|33529258',\n",
       " 'ras21'}"
      ]
     },
     "execution_count": 8,
     "metadata": {},
     "output_type": "execute_result"
    }
   ],
   "source": [
    "extract_real_words(\"ID_NUM\")"
   ]
  },
  {
   "cell_type": "code",
   "execution_count": 9,
   "id": "a02e9319",
   "metadata": {
    "execution": {
     "iopub.execute_input": "2024-03-12T02:28:15.176789Z",
     "iopub.status.busy": "2024-03-12T02:28:15.176436Z",
     "iopub.status.idle": "2024-03-12T02:28:16.138201Z",
     "shell.execute_reply": "2024-03-12T02:28:16.136776Z"
    },
    "papermill": {
     "duration": 0.972136,
     "end_time": "2024-03-12T02:28:16.140273",
     "exception": false,
     "start_time": "2024-03-12T02:28:15.168137",
     "status": "completed"
    },
    "scrolled": true,
    "tags": []
   },
   "outputs": [
    {
     "name": "stdout",
     "output_type": "stream",
     "text": [
      "Gh.822495924264\n",
      "ZTu.889952675897\n",
      "827206573138\n",
      "UIDj:612108100306\n",
      "mMteP_435620561000\n",
      "NvH_334401585291\n",
      "oC.947919481669\n",
      "QxRDSx:170824388057\n",
      "Cy.713700154341\n",
      "jgY.509886285261\n",
      "yuy_811586291603\n",
      "n_121560362278\n",
      "254706470495\n",
      "b.808853177757\n",
      "865910089644\n",
      "hlf.436417500340\n",
      "vz-667321274751\n",
      "BLx_772544722534\n",
      "Grm:275012911529\n",
      "k.932921693473\n",
      "Yt.259543347772\n",
      "gzn:573053885994\n",
      "N-994716908871\n",
      "C:173080696644\n",
      "538273168194\n",
      "GcOr_290269561191\n",
      "Yd.191519249687\n",
      "zAu:520498504792\n",
      "f-240254946100\n",
      "oU-198533293294\n",
      "592234527415\n",
      "825993558762\n",
      "q:606993855390\n",
      "i:659571443785\n",
      "OS_435004151148\n",
      "YEVes-425757717044\n",
      "628106628550\n",
      "637644337280\n",
      "f-600201147532\n",
      "Hl-294437722208\n",
      "475929908304\n",
      "HKr.685253776192\n",
      "Fx-270431197971\n",
      "871896257556\n",
      "C-298113318889\n",
      "863859825829\n",
      "B.484036763693\n",
      "pz:998964183123\n",
      "W.720231716471\n",
      "NAdM:623719471551\n"
     ]
    }
   ],
   "source": [
    "for _ in range(50):\n",
    "    print(CustomFaker(\"en_US\").pii_userid)"
   ]
  },
  {
   "cell_type": "markdown",
   "id": "eb4090e0",
   "metadata": {
    "papermill": {
     "duration": 0.007445,
     "end_time": "2024-03-12T02:28:16.155379",
     "exception": false,
     "start_time": "2024-03-12T02:28:16.147934",
     "status": "completed"
    },
    "tags": []
   },
   "source": [
    "#### Username"
   ]
  },
  {
   "cell_type": "code",
   "execution_count": 10,
   "id": "2a7ab5ce",
   "metadata": {
    "execution": {
     "iopub.execute_input": "2024-03-12T02:28:16.170726Z",
     "iopub.status.busy": "2024-03-12T02:28:16.170379Z",
     "iopub.status.idle": "2024-03-12T02:28:16.176857Z",
     "shell.execute_reply": "2024-03-12T02:28:16.176093Z"
    },
    "papermill": {
     "duration": 0.016652,
     "end_time": "2024-03-12T02:28:16.179088",
     "exception": false,
     "start_time": "2024-03-12T02:28:16.162436",
     "status": "completed"
    },
    "tags": []
   },
   "outputs": [],
   "source": [
    "class UserNameMixIn:\n",
    "    username_use_faker_p: float = 0.5\n",
    "    \n",
    "    @property\n",
    "    def pii_username(self) -> str:\n",
    "        try:\n",
    "            return self._pii_username\n",
    "        except AttributeError:\n",
    "            self._pii_username = self._generate_pii_username()\n",
    "            return self._pii_username\n",
    "        \n",
    "    def _generate_pii_username(self) -> str:\n",
    "        if random.random() < self.username_use_faker_p:\n",
    "            return self.user_name()\n",
    "        else:\n",
    "            return self.first_name().lower() + self.last_name().lower()"
   ]
  },
  {
   "cell_type": "code",
   "execution_count": 11,
   "id": "66dd0ed5",
   "metadata": {
    "execution": {
     "iopub.execute_input": "2024-03-12T02:28:16.194863Z",
     "iopub.status.busy": "2024-03-12T02:28:16.194501Z",
     "iopub.status.idle": "2024-03-12T02:28:16.220429Z",
     "shell.execute_reply": "2024-03-12T02:28:16.219109Z"
    },
    "papermill": {
     "duration": 0.036065,
     "end_time": "2024-03-12T02:28:16.222284",
     "exception": false,
     "start_time": "2024-03-12T02:28:16.186219",
     "status": "completed"
    },
    "tags": []
   },
   "outputs": [
    {
     "name": "stdout",
     "output_type": "stream",
     "text": [
      "jennifergreen\n",
      "jennifergreen\n"
     ]
    }
   ],
   "source": [
    "class CustomFaker(Faker, UserNameMixIn):\n",
    "    ...\n",
    "    \n",
    "fake = CustomFaker(\"en_US\")\n",
    "print(fake.pii_username)\n",
    "print(fake.pii_username)"
   ]
  },
  {
   "cell_type": "code",
   "execution_count": 12,
   "id": "f588a3ef",
   "metadata": {
    "execution": {
     "iopub.execute_input": "2024-03-12T02:28:16.237809Z",
     "iopub.status.busy": "2024-03-12T02:28:16.237462Z",
     "iopub.status.idle": "2024-03-12T02:28:18.183600Z",
     "shell.execute_reply": "2024-03-12T02:28:18.182402Z"
    },
    "papermill": {
     "duration": 1.956883,
     "end_time": "2024-03-12T02:28:18.186295",
     "exception": false,
     "start_time": "2024-03-12T02:28:16.229412",
     "status": "completed"
    },
    "tags": []
   },
   "outputs": [
    {
     "data": {
      "text/plain": [
       "{'castanedagabriel', 'fdixon', 'holmespatrick', 'jacob59', 'meyermichelle'}"
      ]
     },
     "execution_count": 12,
     "metadata": {},
     "output_type": "execute_result"
    }
   ],
   "source": [
    "extract_real_words(\"USERNAME\")"
   ]
  },
  {
   "cell_type": "code",
   "execution_count": 13,
   "id": "8b6f7ce8",
   "metadata": {
    "execution": {
     "iopub.execute_input": "2024-03-12T02:28:18.203123Z",
     "iopub.status.busy": "2024-03-12T02:28:18.202708Z",
     "iopub.status.idle": "2024-03-12T02:28:18.421867Z",
     "shell.execute_reply": "2024-03-12T02:28:18.420629Z"
    },
    "papermill": {
     "duration": 0.22976,
     "end_time": "2024-03-12T02:28:18.423976",
     "exception": false,
     "start_time": "2024-03-12T02:28:18.194216",
     "status": "completed"
    },
    "tags": []
   },
   "outputs": [
    {
     "name": "stdout",
     "output_type": "stream",
     "text": [
      "thomaswilliams\n",
      "cynthiacook\n",
      "hhunt\n",
      "ruth70\n",
      "aliciamarshall\n",
      "justin33\n",
      "melissachapman\n",
      "rbarajas\n",
      "williammoody\n",
      "alyssawashington\n"
     ]
    }
   ],
   "source": [
    "for _ in range(10):\n",
    "    print(CustomFaker(\"en_US\").pii_username)"
   ]
  },
  {
   "cell_type": "markdown",
   "id": "d69eb8af",
   "metadata": {
    "execution": {
     "iopub.execute_input": "2024-02-26T06:53:49.827592Z",
     "iopub.status.busy": "2024-02-26T06:53:49.827176Z",
     "iopub.status.idle": "2024-02-26T06:53:49.832404Z",
     "shell.execute_reply": "2024-02-26T06:53:49.830985Z",
     "shell.execute_reply.started": "2024-02-26T06:53:49.827562Z"
    },
    "papermill": {
     "duration": 0.006961,
     "end_time": "2024-03-12T02:28:18.438204",
     "exception": false,
     "start_time": "2024-03-12T02:28:18.431243",
     "status": "completed"
    },
    "tags": []
   },
   "source": [
    "#### URL"
   ]
  },
  {
   "cell_type": "code",
   "execution_count": 14,
   "id": "b015e7ab",
   "metadata": {
    "execution": {
     "iopub.execute_input": "2024-03-12T02:28:18.455961Z",
     "iopub.status.busy": "2024-03-12T02:28:18.454964Z",
     "iopub.status.idle": "2024-03-12T02:28:18.463119Z",
     "shell.execute_reply": "2024-03-12T02:28:18.462443Z"
    },
    "papermill": {
     "duration": 0.019786,
     "end_time": "2024-03-12T02:28:18.465078",
     "exception": false,
     "start_time": "2024-03-12T02:28:18.445292",
     "status": "completed"
    },
    "tags": []
   },
   "outputs": [],
   "source": [
    "class UrlMixIn:\n",
    "    url_use_fake_p: float = 0.5\n",
    "        \n",
    "    @property\n",
    "    def pii_url(self) -> str:\n",
    "        try:\n",
    "            return self._pii_url\n",
    "        except AttributeError:\n",
    "            self._pii_url = self._generate_pii_url()\n",
    "            return self._pii_url\n",
    "        \n",
    "    def _generate_pii_url(self) -> str:\n",
    "        if random.random() < self.url_use_fake_p:\n",
    "            return self.uri()\n",
    "        if random.random() < 0.5:\n",
    "            return self._generate_fake_youtube_url()\n",
    "        return self._generate_fake_sns_url(self)\n",
    "        \n",
    "    @staticmethod\n",
    "    def _generate_fake_youtube_url() -> str:\n",
    "        # youtube uses random 11 charactors using base64 encoding\n",
    "        domain = random.choice([\"youtube.com/watch?v=\", \"youtu.be/\"])\n",
    "        base64_chars = [*(string.digits + string.ascii_letters + \"_-\")]\n",
    "        random_base64_chars = \"\".join(random.choices(base64_chars, k=11))\n",
    "        return f\"https://www.{domain}{random_base64_chars}\"\n",
    "    \n",
    "    @staticmethod\n",
    "    def _generate_fake_sns_url(fake_person) -> str:\n",
    "        domain = random.choice(\n",
    "            [\"linkedin.com\", \"liknkedin.com/in\", \"facebook.com\", \"twitter.com\"]\n",
    "        )\n",
    "        username = fake_person.user_name()\n",
    "        return f\"https://www.{domain}/{username}\""
   ]
  },
  {
   "cell_type": "code",
   "execution_count": 15,
   "id": "0b34cf9f",
   "metadata": {
    "execution": {
     "iopub.execute_input": "2024-03-12T02:28:18.481823Z",
     "iopub.status.busy": "2024-03-12T02:28:18.480889Z",
     "iopub.status.idle": "2024-03-12T02:28:18.505300Z",
     "shell.execute_reply": "2024-03-12T02:28:18.504351Z"
    },
    "papermill": {
     "duration": 0.034701,
     "end_time": "2024-03-12T02:28:18.507146",
     "exception": false,
     "start_time": "2024-03-12T02:28:18.472445",
     "status": "completed"
    },
    "tags": []
   },
   "outputs": [
    {
     "name": "stdout",
     "output_type": "stream",
     "text": [
      "http://kim.net/categories/categorysearch.htm\n",
      "http://kim.net/categories/categorysearch.htm\n"
     ]
    }
   ],
   "source": [
    "class CustomFaker(Faker, UrlMixIn):\n",
    "    ...\n",
    "    \n",
    "fake = CustomFaker(\"en_US\")\n",
    "print(fake.pii_url)\n",
    "print(fake.pii_url)"
   ]
  },
  {
   "cell_type": "code",
   "execution_count": 16,
   "id": "77e602cd",
   "metadata": {
    "execution": {
     "iopub.execute_input": "2024-03-12T02:28:18.523129Z",
     "iopub.status.busy": "2024-03-12T02:28:18.522752Z",
     "iopub.status.idle": "2024-03-12T02:28:20.472131Z",
     "shell.execute_reply": "2024-03-12T02:28:20.470591Z"
    },
    "papermill": {
     "duration": 1.96009,
     "end_time": "2024-03-12T02:28:20.474461",
     "exception": false,
     "start_time": "2024-03-12T02:28:18.514371",
     "status": "completed"
    },
    "scrolled": true,
    "tags": []
   },
   "outputs": [
    {
     "data": {
      "text/plain": [
       "{'http://beck-calhoun.biz/bloghome.jsp',\n",
       " 'http://camacho.biz/blog/main/appfaq.jsp',\n",
       " 'http://chang.com/tagspost.asp',\n",
       " 'http://fisher.com/category/wp-contentregister.htm',\n",
       " 'http://hensley.info/exploreabout.jsp',\n",
       " 'http://hodge-ramsey.com/tagmain.html',\n",
       " 'http://hogan.com/app/categoriesindex.php',\n",
       " 'http://jacobs-fisher.com/listpost.html',\n",
       " 'http://jones-mendoza.com/blog/search/searchprivacy.php',\n",
       " 'http://martin.com/app/tags/searchregister.php',\n",
       " 'http://mcdonald-pope.com/categorycategory.jsp',\n",
       " 'http://mcneil.org/list/taghomepage.htm',\n",
       " 'http://moore.com/explore/tagterms.php',\n",
       " 'http://osborne.org/main/posts/tagprivacy.asp',\n",
       " 'http://owens-farley.com/blogprivacy.asp',\n",
       " 'http://perry-king.biz/main/exploreregister.jsp',\n",
       " 'http://thomas.biz/list/taghome.php',\n",
       " 'http://www.barry.com/main/list/postshomepage.html',\n",
       " 'http://www.bonilla.org/category/tags/wp-contentfaq.htm',\n",
       " 'http://www.burns-lopez.com/categories/appabout.asp',\n",
       " 'http://www.chambers.com/wp-content/app/categorieshomepage.jsp',\n",
       " 'http://www.chapman-robinson.com/explorelogin.htm',\n",
       " 'http://www.daniels.biz/tagssearch.php',\n",
       " 'http://www.frederick-curtis.net/posts/wp-content/categoryauthor.php',\n",
       " 'http://www.green.info/wp-content/wp-contentpost.html',\n",
       " 'http://www.jackson.com/appcategory.html',\n",
       " 'http://www.jackson.com/categories/search/tagsmain.html',\n",
       " 'http://www.johnson.com/categories/wp-content/tagabout.html',\n",
       " 'http://www.melendez.biz/postsabout.html',\n",
       " 'http://www.miller.org/search/tags/tagsearch.php',\n",
       " 'http://www.moore.com/',\n",
       " 'http://www.olsen.org/posts/blog/searchabout.html',\n",
       " 'http://www.stokes.com/wp-content/main/searchregister.htm',\n",
       " 'http://www.tate.com/',\n",
       " 'https://alvarado.com/categoriesindex.html',\n",
       " 'https://brown.info/posts/searchauthor.php',\n",
       " 'https://buck-flores.com/list/postshomepage.jsp',\n",
       " 'https://butler.com/search/wp-content/categorypost.jsp',\n",
       " 'https://diaz.com/tag/wp-contentlogin.htm',\n",
       " 'https://glenn.org/postsindex.jsp',\n",
       " 'https://hernandez.com/exploremain.html',\n",
       " 'https://howell-brooks.com/wp-content/mainprivacy.htm',\n",
       " 'https://ingram-castro.com/tagsmain.html',\n",
       " 'https://jones-hernandez.com/main/tag/listindex.htm',\n",
       " 'https://jones.com/tags/wp-contentpost.html',\n",
       " 'https://oconnell-townsend.com/wp-content/categorieshomepage.html',\n",
       " 'https://soto.com/listregister.asp',\n",
       " 'https://vargas.com/list/exploreauthor.html',\n",
       " 'https://www.bell-kelly.net/tag/tags/categoriesprivacy.htm',\n",
       " 'https://www.brooks.net/exploreprivacy.html',\n",
       " 'https://www.campbell-silva.org/app/tagsauthor.html',\n",
       " 'https://www.clark-winters.com/tag/searchauthor.html',\n",
       " 'https://www.cuevas.info/blogsearch.html',\n",
       " 'https://www.facebook.com/amanda37',\n",
       " 'https://www.facebook.com/pamela23',\n",
       " 'https://www.fitzgerald-nicholson.com/search/categories/wp-contentlogin.htm',\n",
       " 'https://www.hall.biz/wp-contenthome.html',\n",
       " 'https://www.hart.com/posts/tagspost.htm',\n",
       " 'https://www.jackson.com/list/explorehomepage.htm',\n",
       " 'https://www.johnson.biz/wp-content/appcategory.php',\n",
       " 'https://www.kramer.info/wp-content/category/bloghome.php',\n",
       " 'https://www.linkedin.com/feevanessacook',\n",
       " 'https://www.linkedin.com/in/michael16',\n",
       " 'https://www.linkedin.com/in/mmartinez',\n",
       " 'https://www.linkedin.com/pulmarkkelly',\n",
       " 'https://www.lopez.com/category/tagprivacy.php',\n",
       " 'https://www.park-baker.com/tags/explore/blogpost.php',\n",
       " 'https://www.peterson.net/tag/app/listmain.php',\n",
       " 'https://www.price.info/categories/search/tagprivacy.htm',\n",
       " 'https://www.rice-trevino.org/tag/blogindex.asp',\n",
       " 'https://www.roman.info/list/appindex.html',\n",
       " 'https://www.shaw-smith.net/tags/listfaq.html',\n",
       " 'https://www.smith-flores.com/mainlogin.htm',\n",
       " 'https://www.williamson.net/wp-contentcategory.php',\n",
       " 'https://www.youtube.com/channel/UC1ElAcppeuhfet nYZqnhEXw',\n",
       " 'https://www.youtube.com/user/vdrake',\n",
       " 'https://www.youtube.com/watch?v=2W2A1l98qVg',\n",
       " 'https://www.youtube.com/watch?v=2sOzgGAeiQV',\n",
       " 'https://www.youtube.com/watch?v=B131Tm9Iex1',\n",
       " 'https://www.youtube.com/watch?v=EnVUhYZvCFr',\n",
       " 'https://www.youtube.com/watch?v=HePCiQaZo2X',\n",
       " 'https://www.youtube.com/watch?v=e2D2mFcZzeW',\n",
       " 'https://www.youtube.com/watch?v=jhw3sb6ZCAZ',\n",
       " 'https://www.youtube.com/watch?v=n-ajTPJ1h-J',\n",
       " 'https://www.youtube.com/watch?v=tIBN9VJ0S4a',\n",
       " 'https://www.youtube.com/watch?v=tQSdE32O5KE',\n",
       " 'https://www.youtube.com/watch?v=x5Y6nYsYmtA',\n",
       " 'https://www.youtube.com/watch?v=y1ZQmZmkaDD',\n",
       " 'https://youtu.be/1pM3sb7AMPs',\n",
       " 'https://youtu.be/AsSLvOLkUYn',\n",
       " 'https://youtu.be/Kb-hqNGr5lJ',\n",
       " 'https://youtu.be/bDPejFHJSsT',\n",
       " 'https://youtu.be/h9YTxzr_HPS',\n",
       " 'https://youtu.be/rFD2lJuvace',\n",
       " 'tps://www.facebook.com/bclark'}"
      ]
     },
     "execution_count": 16,
     "metadata": {},
     "output_type": "execute_result"
    }
   ],
   "source": [
    "extract_real_words(\"URL_PERSONAL\")"
   ]
  },
  {
   "cell_type": "code",
   "execution_count": 17,
   "id": "4264cf73",
   "metadata": {
    "execution": {
     "iopub.execute_input": "2024-03-12T02:28:20.490973Z",
     "iopub.status.busy": "2024-03-12T02:28:20.490614Z",
     "iopub.status.idle": "2024-03-12T02:28:21.479283Z",
     "shell.execute_reply": "2024-03-12T02:28:21.477826Z"
    },
    "papermill": {
     "duration": 0.999045,
     "end_time": "2024-03-12T02:28:21.481210",
     "exception": false,
     "start_time": "2024-03-12T02:28:20.482165",
     "status": "completed"
    },
    "scrolled": true,
    "tags": []
   },
   "outputs": [
    {
     "name": "stdout",
     "output_type": "stream",
     "text": [
      "http://www.wolfe.net/explorepost.htm\n",
      "http://www.miller-aguilar.com/search/appauthor.html\n",
      "https://www.twitter.com/hebertlisa\n",
      "https://www.facebook.com/grogers\n",
      "https://dickerson-henry.com/tagsauthor.html\n",
      "https://www.liknkedin.com/in/gregorybrad\n",
      "https://www.liknkedin.com/in/cday\n",
      "https://www.twitter.com/jeffreymiddleton\n",
      "https://www.liknkedin.com/in/david23\n",
      "http://www.pratt.net/tagspost.php\n",
      "https://www.twitter.com/johnsonchristopher\n",
      "http://www.johnson.com/searchmain.jsp\n",
      "https://www.youtu.be/emjIgWxnAFf\n",
      "https://wilkins-sanchez.com/tagmain.htm\n",
      "http://www.perez-collier.com/appmain.php\n",
      "https://www.lee-hill.com/list/listmain.jsp\n",
      "http://www.moore-neal.com/postspost.html\n",
      "https://www.youtu.be/WNMCOOblFWY\n",
      "https://singh.com/explore/wp-content/categorieshomepage.html\n",
      "https://www.youtube.com/watch?v=HCNmPCoPHnO\n",
      "https://www.parrish.com/explore/list/exploreabout.jsp\n",
      "https://www.youtube.com/watch?v=MbY2RdFnyCa\n",
      "http://www.davis-morris.org/main/blog/wp-contentterms.php\n",
      "https://jones.com/tag/app/mainhomepage.html\n",
      "http://hernandez-williams.com/categoryindex.jsp\n",
      "http://www.byrd-simpson.com/searchregister.html\n",
      "https://torres-rivera.biz/blog/searchregister.php\n",
      "https://www.daniels-phillips.com/blogabout.asp\n",
      "https://www.linkedin.com/davidsaunders\n",
      "https://www.twitter.com/ebowman\n",
      "https://www.brown.com/exploreregister.html\n",
      "https://www.youtu.be/Yxj9bafb6VO\n",
      "https://www.stafford.com/main/tagfaq.htm\n",
      "http://www.roberts.com/categories/explore/exploreregister.php\n",
      "https://www.youtu.be/QBks77-PkN9\n",
      "https://www.twitter.com/nancysullivan\n",
      "https://www.youtube.com/watch?v=-P2lXzBNEFz\n",
      "https://www.alexander.info/postsfaq.htm\n",
      "https://www.youtu.be/-jBKeaBtmU6\n",
      "http://allen.com/categoriescategory.asp\n",
      "https://www.youtu.be/0BeZthH46ai\n",
      "https://jones.info/posts/wp-contentprivacy.htm\n",
      "https://www.smith.com/mainfaq.html\n",
      "https://www.youtu.be/AmSDKBmHST7\n",
      "https://bennett.com/tag/tags/tagshomepage.html\n",
      "https://www.youtube.com/watch?v=eXuAi1bN10G\n",
      "https://bishop-bird.com/search/explorehome.asp\n",
      "https://www.davis-lucas.info/wp-content/wp-contentcategory.asp\n",
      "https://hodges-nixon.com/listabout.html\n",
      "http://www.blankenship.com/tags/bloghome.html\n"
     ]
    }
   ],
   "source": [
    "for _ in range(50):\n",
    "    print(CustomFaker(\"en_US\").pii_url)"
   ]
  },
  {
   "cell_type": "code",
   "execution_count": 18,
   "id": "37a3e9e3",
   "metadata": {
    "execution": {
     "iopub.execute_input": "2024-03-12T02:28:21.500649Z",
     "iopub.status.busy": "2024-03-12T02:28:21.500314Z",
     "iopub.status.idle": "2024-03-12T02:28:21.505863Z",
     "shell.execute_reply": "2024-03-12T02:28:21.505292Z"
    },
    "papermill": {
     "duration": 0.017454,
     "end_time": "2024-03-12T02:28:21.507342",
     "exception": false,
     "start_time": "2024-03-12T02:28:21.489888",
     "status": "completed"
    },
    "tags": []
   },
   "outputs": [
    {
     "data": {
      "text/plain": [
       "'62161 Kathleen Meadow Suite 617'"
      ]
     },
     "execution_count": 18,
     "metadata": {},
     "output_type": "execute_result"
    }
   ],
   "source": [
    "fake.street_address()"
   ]
  },
  {
   "cell_type": "code",
   "execution_count": 19,
   "id": "1da47c52",
   "metadata": {
    "execution": {
     "iopub.execute_input": "2024-03-12T02:28:21.525063Z",
     "iopub.status.busy": "2024-03-12T02:28:21.524409Z",
     "iopub.status.idle": "2024-03-12T02:28:21.530018Z",
     "shell.execute_reply": "2024-03-12T02:28:21.529322Z"
    },
    "papermill": {
     "duration": 0.016892,
     "end_time": "2024-03-12T02:28:21.532149",
     "exception": false,
     "start_time": "2024-03-12T02:28:21.515257",
     "status": "completed"
    },
    "tags": []
   },
   "outputs": [],
   "source": [
    "class FixPiiMixIN:\n",
    "    @property\n",
    "    def pii_first_name(self):\n",
    "        try:\n",
    "            return self._pii_first_name\n",
    "        except AttributeError:\n",
    "            self._pii_first_name = self.first_name()\n",
    "            return self._pii_first_name\n",
    "    \n",
    "    @property\n",
    "    def pii_last_name(self):\n",
    "        try:\n",
    "            return self._pii_last_name\n",
    "        except AttributeError:\n",
    "            self._pii_last_name = self.last_name()\n",
    "            return self._pii_last_name\n",
    "        \n",
    "    @property\n",
    "    def pii_street_address(self):\n",
    "        try:\n",
    "            return self._pii_street_address\n",
    "        except AttributeError:\n",
    "            self._pii_street_address = self.street_address()\n",
    "            return self._pii_street_address"
   ]
  },
  {
   "cell_type": "code",
   "execution_count": 20,
   "id": "c7e1edde",
   "metadata": {
    "execution": {
     "iopub.execute_input": "2024-03-12T02:28:21.550340Z",
     "iopub.status.busy": "2024-03-12T02:28:21.549563Z",
     "iopub.status.idle": "2024-03-12T02:28:21.553927Z",
     "shell.execute_reply": "2024-03-12T02:28:21.553323Z"
    },
    "papermill": {
     "duration": 0.015528,
     "end_time": "2024-03-12T02:28:21.555675",
     "exception": false,
     "start_time": "2024-03-12T02:28:21.540147",
     "status": "completed"
    },
    "tags": []
   },
   "outputs": [],
   "source": [
    "class Student(Faker, UserIdMixIn, UserNameMixIn, UrlMixIn, FixPiiMixIN):\n",
    "    def __repr__(self) -> str:\n",
    "        return f\"<Student [{self.pii_first_name} {self.pii_last_name}]>\""
   ]
  },
  {
   "cell_type": "code",
   "execution_count": 21,
   "id": "6e5d8dc2",
   "metadata": {
    "execution": {
     "iopub.execute_input": "2024-03-12T02:28:21.573106Z",
     "iopub.status.busy": "2024-03-12T02:28:21.572644Z",
     "iopub.status.idle": "2024-03-12T02:28:21.578674Z",
     "shell.execute_reply": "2024-03-12T02:28:21.577235Z"
    },
    "papermill": {
     "duration": 0.016888,
     "end_time": "2024-03-12T02:28:21.580704",
     "exception": false,
     "start_time": "2024-03-12T02:28:21.563816",
     "status": "completed"
    },
    "tags": []
   },
   "outputs": [],
   "source": [
    "def generate_student(n: int = 1) -> list[Student]:\n",
    "    COUNTRIES = [\n",
    "        \"en_US\", \"en_US\", \"en_US\", \"en_US\", \"en_US\", \"en_US\",\n",
    "        \"de_DE\", \"it_IT\", \"es_ES\", \"da_DK\", \"fr_FR\", \"vi_VN\"\n",
    "    ]\n",
    "    countries = random.choices(COUNTRIES, k=n)\n",
    "    return [Student(country) for country in countries]"
   ]
  },
  {
   "cell_type": "code",
   "execution_count": 22,
   "id": "17a6ecb6",
   "metadata": {
    "execution": {
     "iopub.execute_input": "2024-03-12T02:28:21.599955Z",
     "iopub.status.busy": "2024-03-12T02:28:21.599590Z",
     "iopub.status.idle": "2024-03-12T02:28:21.816202Z",
     "shell.execute_reply": "2024-03-12T02:28:21.815214Z"
    },
    "papermill": {
     "duration": 0.22871,
     "end_time": "2024-03-12T02:28:21.818282",
     "exception": false,
     "start_time": "2024-03-12T02:28:21.589572",
     "status": "completed"
    },
    "tags": []
   },
   "outputs": [
    {
     "data": {
      "text/plain": [
       "[<Student [Armando Vilar]>,\n",
       " <Student [Michelle Täsche]>,\n",
       " <Student [Larry Cortez]>,\n",
       " <Student [Troy Hayes]>,\n",
       " <Student [Danny Henriksen]>,\n",
       " <Student [Tammy Reese]>,\n",
       " <Student [Helfried Gorlitz]>,\n",
       " <Student [Hector Brooks]>,\n",
       " <Student [Mary Hayes]>,\n",
       " <Student [Candace Moore]>]"
      ]
     },
     "execution_count": 22,
     "metadata": {},
     "output_type": "execute_result"
    }
   ],
   "source": [
    "generate_student(10)"
   ]
  },
  {
   "cell_type": "code",
   "execution_count": 23,
   "id": "172d58a3",
   "metadata": {
    "execution": {
     "iopub.execute_input": "2024-03-12T02:28:21.836072Z",
     "iopub.status.busy": "2024-03-12T02:28:21.835756Z",
     "iopub.status.idle": "2024-03-12T02:28:21.841203Z",
     "shell.execute_reply": "2024-03-12T02:28:21.839450Z"
    },
    "papermill": {
     "duration": 0.017382,
     "end_time": "2024-03-12T02:28:21.843754",
     "exception": false,
     "start_time": "2024-03-12T02:28:21.826372",
     "status": "completed"
    },
    "tags": []
   },
   "outputs": [],
   "source": [
    "def to_markdown(text):\n",
    "    text = text.replace('•', '  *')\n",
    "    return Markdown(textwrap.indent(text, '> ', predicate=lambda _: True))"
   ]
  },
  {
   "cell_type": "markdown",
   "id": "16544f52",
   "metadata": {
    "papermill": {
     "duration": 0.008251,
     "end_time": "2024-03-12T02:28:21.860393",
     "exception": false,
     "start_time": "2024-03-12T02:28:21.852142",
     "status": "completed"
    },
    "tags": []
   },
   "source": [
    "### Generate essays using GPT-4"
   ]
  },
  {
   "cell_type": "code",
   "execution_count": 24,
   "id": "b6aaae4c",
   "metadata": {
    "execution": {
     "iopub.execute_input": "2024-03-12T02:28:21.877843Z",
     "iopub.status.busy": "2024-03-12T02:28:21.877492Z",
     "iopub.status.idle": "2024-03-12T02:28:21.887161Z",
     "shell.execute_reply": "2024-03-12T02:28:21.885856Z"
    },
    "papermill": {
     "duration": 0.020894,
     "end_time": "2024-03-12T02:28:21.889280",
     "exception": false,
     "start_time": "2024-03-12T02:28:21.868386",
     "status": "completed"
    },
    "tags": []
   },
   "outputs": [],
   "source": [
    "prompt = Template(\n",
    "\"\"\"Write an essay with following instructions.\n",
    "Select one of the four design thinking tools presented in the course (listed below) that you are interested in applying to a challenge  of your choice. Your completed reflection should be written in English and be between five and ten paragraphs in length.\n",
    "Tools: Visualization (Module 1), Storytelling (Module 2), Mind Mapping (Module 3) or Learning Launch (Module 4).  \n",
    "Elements:\n",
    "- Challenge: Describe your challenge, including all relevant information.\n",
    "- Selection: In your own words, briefly describe the tool you selected (e.g., what it is and why you selected it for your  challenge -- including any appropriate video lecture references).\n",
    "- Application: Describe how you applied the tool you selected to your challenge (e.g., what you did and how the tool was  applied effectively or ineffectively).\n",
    "- Insight: Describe the insight you gained from applying the tool you selected to your challenge (e.g., how an insight  affected your thinking about the challenge and about design thinking more broadly).\n",
    "- Approach: Describe what you might do differently next time -- applying the same tool you selected or a different one - - and the reason(s) why.\n",
    "Reference:\n",
    "You should include reference(s) in the essay.\n",
    "\n",
    "Remember to include all the following information about yourself in the essay as naturally as possible.\n",
    "Name: {{first_name}} {{last_name}}\n",
    "User ID: {{userid}}\n",
    "URL: {{url}}\n",
    "Username: {{username}}\n",
    "Address: {{street_address}}\n",
    "\"\"\"\n",
    ")"
   ]
  },
  {
   "cell_type": "code",
   "execution_count": 25,
   "id": "04b20099",
   "metadata": {
    "execution": {
     "iopub.execute_input": "2024-03-12T02:28:21.907558Z",
     "iopub.status.busy": "2024-03-12T02:28:21.907229Z",
     "iopub.status.idle": "2024-03-12T02:29:59.044607Z",
     "shell.execute_reply": "2024-03-12T02:29:59.043313Z"
    },
    "papermill": {
     "duration": 97.149489,
     "end_time": "2024-03-12T02:29:59.046968",
     "exception": false,
     "start_time": "2024-03-12T02:28:21.897479",
     "status": "completed"
    },
    "tags": []
   },
   "outputs": [],
   "source": [
    "responses = []\n",
    "generated = []\n",
    "async_client = AsyncOpenAI(api_key=UserSecretsClient().get_secret(\"OPENAI_API_KEY\"))\n",
    "students = generate_student(n=N_GENERATE_ESSAY)\n",
    "\n",
    "for student in students:\n",
    "    piis = {\n",
    "        \"first_name\": student.pii_first_name, \n",
    "        \"last_name\": student.pii_last_name,\n",
    "        \"userid\": student.pii_userid,\n",
    "        \"url\": student.pii_url,\n",
    "        \"username\": student.pii_username,\n",
    "        \"street_address\": student.pii_street_address,\n",
    "    }\n",
    "    content = prompt.render(**piis)\n",
    "    response = async_client.chat.completions.create(\n",
    "        model=MODEL,\n",
    "        messages=[\n",
    "            {\"role\": \"system\", \"content\": \"You are a university student.\"},\n",
    "            {\"role\": \"user\", \"content\": content},\n",
    "        ]\n",
    "    )\n",
    "    generated.append(piis)\n",
    "    responses.append(response)\n",
    "\n",
    "responses = await asyncio.gather(*responses)\n",
    "\n",
    "for i, response in enumerate(responses):\n",
    "    generated[i].update({\"full_text\": response.choices[0].message.content})"
   ]
  },
  {
   "cell_type": "code",
   "execution_count": 26,
   "id": "523cb97c",
   "metadata": {
    "execution": {
     "iopub.execute_input": "2024-03-12T02:29:59.065606Z",
     "iopub.status.busy": "2024-03-12T02:29:59.065239Z",
     "iopub.status.idle": "2024-03-12T02:29:59.073584Z",
     "shell.execute_reply": "2024-03-12T02:29:59.072347Z"
    },
    "papermill": {
     "duration": 0.021218,
     "end_time": "2024-03-12T02:29:59.076315",
     "exception": false,
     "start_time": "2024-03-12T02:29:59.055097",
     "status": "completed"
    },
    "tags": []
   },
   "outputs": [],
   "source": [
    "generated_df = pd.DataFrame(generated)\n",
    "generated_df.to_json(\"generated_df.json\", index=False)"
   ]
  }
 ],
 "metadata": {
  "kaggle": {
   "accelerator": "none",
   "dataSources": [
    {
     "databundleVersionId": 7500999,
     "sourceId": 66653,
     "sourceType": "competition"
    },
    {
     "datasetId": 4459964,
     "sourceId": 7659420,
     "sourceType": "datasetVersion"
    },
    {
     "datasetId": 4460896,
     "sourceId": 7811354,
     "sourceType": "datasetVersion"
    }
   ],
   "dockerImageVersionId": 30646,
   "isGpuEnabled": false,
   "isInternetEnabled": true,
   "language": "python",
   "sourceType": "notebook"
  },
  "kernelspec": {
   "display_name": "Python 3",
   "language": "python",
   "name": "python3"
  },
  "language_info": {
   "codemirror_mode": {
    "name": "ipython",
    "version": 3
   },
   "file_extension": ".py",
   "mimetype": "text/x-python",
   "name": "python",
   "nbconvert_exporter": "python",
   "pygments_lexer": "ipython3",
   "version": "3.10.13"
  },
  "papermill": {
   "default_parameters": {},
   "duration": 152.016791,
   "end_time": "2024-03-12T02:30:01.764019",
   "environment_variables": {},
   "exception": null,
   "input_path": "__notebook__.ipynb",
   "output_path": "__notebook__.ipynb",
   "parameters": {},
   "start_time": "2024-03-12T02:27:29.747228",
   "version": "2.5.0"
  }
 },
 "nbformat": 4,
 "nbformat_minor": 5
}
